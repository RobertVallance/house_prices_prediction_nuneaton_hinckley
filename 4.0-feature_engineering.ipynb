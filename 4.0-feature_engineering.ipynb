{
 "cells": [
  {
   "cell_type": "markdown",
   "metadata": {},
   "source": [
    "# 4.0 Feature engineering\n",
    "Use our existing features to develop new features, convert categorical values to one-hot vectors, and drop others. We will \"fit\" to the training data and then transform to the test data"
   ]
  },
  {
   "cell_type": "code",
   "execution_count": 1,
   "metadata": {},
   "outputs": [],
   "source": [
    "import os\n",
    "import numpy as np\n",
    "import pandas as pd\n",
    "pd.set_option('display.max_columns', 100)\n",
    "\n",
    "from sklearn.base import BaseEstimator, TransformerMixin\n",
    "from sklearn.pipeline import Pipeline\n",
    "from sklearn.compose import ColumnTransformer\n",
    "from sklearn.impute import SimpleImputer\n",
    "from sklearn.preprocessing import StandardScaler, OneHotEncoder\n",
    "from sklearn.cluster import KMeans\n",
    "   \n",
    "import matplotlib.pyplot as plt\n",
    "%matplotlib inline\n",
    "import seaborn as sns"
   ]
  },
  {
   "cell_type": "code",
   "execution_count": 2,
   "metadata": {},
   "outputs": [],
   "source": [
    "DATA_FOLDER = os.path.join('data', 'processed_2')\n",
    "SAVE_FOLDER = os.path.join('data', 'final')"
   ]
  },
  {
   "cell_type": "markdown",
   "metadata": {},
   "source": [
    "### Read in our test and training data"
   ]
  },
  {
   "cell_type": "code",
   "execution_count": 3,
   "metadata": {},
   "outputs": [],
   "source": [
    "zoopla_df_train = pd.read_csv(os.path.join(DATA_FOLDER, 'zoopla_train.csv'), dtype=str)\n",
    "zoopla_df_test = pd.read_csv(os.path.join(DATA_FOLDER, 'zoopla_test.csv'), dtype=str)"
   ]
  },
  {
   "cell_type": "code",
   "execution_count": 4,
   "metadata": {},
   "outputs": [
    {
     "data": {
      "text/plain": [
       "Index(['listing_id', 'parish', 'post_town', 'postcode', 'latitude',\n",
       "       'longitude', 'num_bedrooms', 'num_bathrooms', 'price',\n",
       "       'property_type_general', 'CURRENT_ENERGY_RATING_mode',\n",
       "       'POTENTIAL_ENERGY_RATING_mode', 'TOTAL_FLOOR_AREA_median',\n",
       "       'NUMBER_HABITABLE_ROOMS_mode', 'CONSTRUCTION_AGE_BAND_mode',\n",
       "       'Index of Multiple Deprivation Decile', 'Income Decile',\n",
       "       'Employment Decile', 'Education and Skills Decile',\n",
       "       'Health and Disability Decile', 'Crime Decile',\n",
       "       'Barriers to Housing and Services Decile', 'Living Environment Decile',\n",
       "       'IDACI Decile', 'IDAOPI Decile', 'PROB_4BAND', 'diff_published_date',\n",
       "       'last_published_year', 'last_published_month', 'first_published_year',\n",
       "       'first_published_month'],\n",
       "      dtype='object')"
      ]
     },
     "execution_count": 4,
     "metadata": {},
     "output_type": "execute_result"
    }
   ],
   "source": [
    "zoopla_df_train.columns"
   ]
  },
  {
   "cell_type": "code",
   "execution_count": 5,
   "metadata": {},
   "outputs": [
    {
     "data": {
      "text/html": [
       "<div>\n",
       "<style scoped>\n",
       "    .dataframe tbody tr th:only-of-type {\n",
       "        vertical-align: middle;\n",
       "    }\n",
       "\n",
       "    .dataframe tbody tr th {\n",
       "        vertical-align: top;\n",
       "    }\n",
       "\n",
       "    .dataframe thead th {\n",
       "        text-align: right;\n",
       "    }\n",
       "</style>\n",
       "<table border=\"1\" class=\"dataframe\">\n",
       "  <thead>\n",
       "    <tr style=\"text-align: right;\">\n",
       "      <th></th>\n",
       "      <th>listing_id</th>\n",
       "      <th>parish</th>\n",
       "      <th>post_town</th>\n",
       "      <th>postcode</th>\n",
       "      <th>latitude</th>\n",
       "      <th>longitude</th>\n",
       "      <th>num_bedrooms</th>\n",
       "      <th>num_bathrooms</th>\n",
       "      <th>price</th>\n",
       "      <th>property_type_general</th>\n",
       "      <th>CURRENT_ENERGY_RATING_mode</th>\n",
       "      <th>POTENTIAL_ENERGY_RATING_mode</th>\n",
       "      <th>TOTAL_FLOOR_AREA_median</th>\n",
       "      <th>NUMBER_HABITABLE_ROOMS_mode</th>\n",
       "      <th>CONSTRUCTION_AGE_BAND_mode</th>\n",
       "      <th>Index of Multiple Deprivation Decile</th>\n",
       "      <th>Income Decile</th>\n",
       "      <th>Employment Decile</th>\n",
       "      <th>Education and Skills Decile</th>\n",
       "      <th>Health and Disability Decile</th>\n",
       "      <th>Crime Decile</th>\n",
       "      <th>Barriers to Housing and Services Decile</th>\n",
       "      <th>Living Environment Decile</th>\n",
       "      <th>IDACI Decile</th>\n",
       "      <th>IDAOPI Decile</th>\n",
       "      <th>PROB_4BAND</th>\n",
       "      <th>diff_published_date</th>\n",
       "      <th>last_published_year</th>\n",
       "      <th>last_published_month</th>\n",
       "      <th>first_published_year</th>\n",
       "      <th>first_published_month</th>\n",
       "    </tr>\n",
       "  </thead>\n",
       "  <tbody>\n",
       "    <tr>\n",
       "      <th>0</th>\n",
       "      <td>63843030</td>\n",
       "      <td>Nuneaton and Bedworth, unparished area</td>\n",
       "      <td>Nuneaton</td>\n",
       "      <td>CV11 6</td>\n",
       "      <td>52.52679</td>\n",
       "      <td>-1.435227</td>\n",
       "      <td>4</td>\n",
       "      <td>2</td>\n",
       "      <td>400000.0</td>\n",
       "      <td>Detached house</td>\n",
       "      <td>2.0</td>\n",
       "      <td>1.0</td>\n",
       "      <td>96.0</td>\n",
       "      <td>NaN</td>\n",
       "      <td>12.0</td>\n",
       "      <td>8</td>\n",
       "      <td>9</td>\n",
       "      <td>8</td>\n",
       "      <td>9</td>\n",
       "      <td>7</td>\n",
       "      <td>6</td>\n",
       "      <td>3</td>\n",
       "      <td>6</td>\n",
       "      <td>9</td>\n",
       "      <td>9</td>\n",
       "      <td>None</td>\n",
       "      <td>2</td>\n",
       "      <td>2023</td>\n",
       "      <td>4</td>\n",
       "      <td>2023</td>\n",
       "      <td>1</td>\n",
       "    </tr>\n",
       "    <tr>\n",
       "      <th>1</th>\n",
       "      <td>64031802</td>\n",
       "      <td>Nuneaton and Bedworth, unparished area</td>\n",
       "      <td>Nuneaton</td>\n",
       "      <td>CV11 6</td>\n",
       "      <td>52.531292</td>\n",
       "      <td>-1.441875</td>\n",
       "      <td>2</td>\n",
       "      <td>1</td>\n",
       "      <td>280000.0</td>\n",
       "      <td>Bungalow</td>\n",
       "      <td>4.0</td>\n",
       "      <td>3.0</td>\n",
       "      <td>78.0</td>\n",
       "      <td>4.0</td>\n",
       "      <td>4.0</td>\n",
       "      <td>9</td>\n",
       "      <td>9</td>\n",
       "      <td>8</td>\n",
       "      <td>9</td>\n",
       "      <td>5</td>\n",
       "      <td>9</td>\n",
       "      <td>9</td>\n",
       "      <td>9</td>\n",
       "      <td>9</td>\n",
       "      <td>10</td>\n",
       "      <td>None</td>\n",
       "      <td>1</td>\n",
       "      <td>2023</td>\n",
       "      <td>4</td>\n",
       "      <td>2023</td>\n",
       "      <td>2</td>\n",
       "    </tr>\n",
       "    <tr>\n",
       "      <th>2</th>\n",
       "      <td>62869062</td>\n",
       "      <td>Nuneaton and Bedworth, unparished area</td>\n",
       "      <td>Nuneaton</td>\n",
       "      <td>CV11 6</td>\n",
       "      <td>52.510036</td>\n",
       "      <td>-1.435902</td>\n",
       "      <td>3</td>\n",
       "      <td>2</td>\n",
       "      <td>300000.0</td>\n",
       "      <td>Detached house</td>\n",
       "      <td>4.0</td>\n",
       "      <td>2.0</td>\n",
       "      <td>107.0</td>\n",
       "      <td>6.0</td>\n",
       "      <td>5.0</td>\n",
       "      <td>10</td>\n",
       "      <td>10</td>\n",
       "      <td>9</td>\n",
       "      <td>9</td>\n",
       "      <td>8</td>\n",
       "      <td>9</td>\n",
       "      <td>6</td>\n",
       "      <td>10</td>\n",
       "      <td>9</td>\n",
       "      <td>9</td>\n",
       "      <td>None</td>\n",
       "      <td>3</td>\n",
       "      <td>2023</td>\n",
       "      <td>3</td>\n",
       "      <td>2022</td>\n",
       "      <td>11</td>\n",
       "    </tr>\n",
       "    <tr>\n",
       "      <th>3</th>\n",
       "      <td>64390832</td>\n",
       "      <td>Nuneaton and Bedworth, unparished area</td>\n",
       "      <td>Nuneaton</td>\n",
       "      <td>CV11 6</td>\n",
       "      <td>52.505596</td>\n",
       "      <td>-1.42432</td>\n",
       "      <td>3</td>\n",
       "      <td>1</td>\n",
       "      <td>329950.0</td>\n",
       "      <td>Detached house</td>\n",
       "      <td>4.0</td>\n",
       "      <td>2.0</td>\n",
       "      <td>107.0</td>\n",
       "      <td>5.0</td>\n",
       "      <td>6.0</td>\n",
       "      <td>10</td>\n",
       "      <td>10</td>\n",
       "      <td>9</td>\n",
       "      <td>9</td>\n",
       "      <td>7</td>\n",
       "      <td>9</td>\n",
       "      <td>5</td>\n",
       "      <td>10</td>\n",
       "      <td>9</td>\n",
       "      <td>10</td>\n",
       "      <td>None</td>\n",
       "      <td>0</td>\n",
       "      <td>2023</td>\n",
       "      <td>4</td>\n",
       "      <td>2023</td>\n",
       "      <td>4</td>\n",
       "    </tr>\n",
       "    <tr>\n",
       "      <th>4</th>\n",
       "      <td>62804722</td>\n",
       "      <td>Hinckley and Bosworth, unparished area</td>\n",
       "      <td>Hinckley</td>\n",
       "      <td>LE10 0</td>\n",
       "      <td>52.550716</td>\n",
       "      <td>-1.371109</td>\n",
       "      <td>4</td>\n",
       "      <td>3</td>\n",
       "      <td>500000.0</td>\n",
       "      <td>Detached house</td>\n",
       "      <td>4.0</td>\n",
       "      <td>3.0</td>\n",
       "      <td>137.0</td>\n",
       "      <td>6.0</td>\n",
       "      <td>3.0</td>\n",
       "      <td>5</td>\n",
       "      <td>5</td>\n",
       "      <td>4</td>\n",
       "      <td>3</td>\n",
       "      <td>5</td>\n",
       "      <td>4</td>\n",
       "      <td>7</td>\n",
       "      <td>7</td>\n",
       "      <td>5</td>\n",
       "      <td>5</td>\n",
       "      <td>None</td>\n",
       "      <td>2</td>\n",
       "      <td>2023</td>\n",
       "      <td>1</td>\n",
       "      <td>2022</td>\n",
       "      <td>11</td>\n",
       "    </tr>\n",
       "  </tbody>\n",
       "</table>\n",
       "</div>"
      ],
      "text/plain": [
       "  listing_id                                  parish post_town postcode  \\\n",
       "0   63843030  Nuneaton and Bedworth, unparished area  Nuneaton   CV11 6   \n",
       "1   64031802  Nuneaton and Bedworth, unparished area  Nuneaton   CV11 6   \n",
       "2   62869062  Nuneaton and Bedworth, unparished area  Nuneaton   CV11 6   \n",
       "3   64390832  Nuneaton and Bedworth, unparished area  Nuneaton   CV11 6   \n",
       "4   62804722  Hinckley and Bosworth, unparished area  Hinckley   LE10 0   \n",
       "\n",
       "    latitude  longitude num_bedrooms num_bathrooms     price  \\\n",
       "0   52.52679  -1.435227            4             2  400000.0   \n",
       "1  52.531292  -1.441875            2             1  280000.0   \n",
       "2  52.510036  -1.435902            3             2  300000.0   \n",
       "3  52.505596   -1.42432            3             1  329950.0   \n",
       "4  52.550716  -1.371109            4             3  500000.0   \n",
       "\n",
       "  property_type_general CURRENT_ENERGY_RATING_mode  \\\n",
       "0        Detached house                        2.0   \n",
       "1              Bungalow                        4.0   \n",
       "2        Detached house                        4.0   \n",
       "3        Detached house                        4.0   \n",
       "4        Detached house                        4.0   \n",
       "\n",
       "  POTENTIAL_ENERGY_RATING_mode TOTAL_FLOOR_AREA_median  \\\n",
       "0                          1.0                    96.0   \n",
       "1                          3.0                    78.0   \n",
       "2                          2.0                   107.0   \n",
       "3                          2.0                   107.0   \n",
       "4                          3.0                   137.0   \n",
       "\n",
       "  NUMBER_HABITABLE_ROOMS_mode CONSTRUCTION_AGE_BAND_mode  \\\n",
       "0                         NaN                       12.0   \n",
       "1                         4.0                        4.0   \n",
       "2                         6.0                        5.0   \n",
       "3                         5.0                        6.0   \n",
       "4                         6.0                        3.0   \n",
       "\n",
       "  Index of Multiple Deprivation Decile Income Decile Employment Decile  \\\n",
       "0                                    8             9                 8   \n",
       "1                                    9             9                 8   \n",
       "2                                   10            10                 9   \n",
       "3                                   10            10                 9   \n",
       "4                                    5             5                 4   \n",
       "\n",
       "  Education and Skills Decile Health and Disability Decile Crime Decile  \\\n",
       "0                           9                            7            6   \n",
       "1                           9                            5            9   \n",
       "2                           9                            8            9   \n",
       "3                           9                            7            9   \n",
       "4                           3                            5            4   \n",
       "\n",
       "  Barriers to Housing and Services Decile Living Environment Decile  \\\n",
       "0                                       3                         6   \n",
       "1                                       9                         9   \n",
       "2                                       6                        10   \n",
       "3                                       5                        10   \n",
       "4                                       7                         7   \n",
       "\n",
       "  IDACI Decile IDAOPI Decile PROB_4BAND diff_published_date  \\\n",
       "0            9             9       None                   2   \n",
       "1            9            10       None                   1   \n",
       "2            9             9       None                   3   \n",
       "3            9            10       None                   0   \n",
       "4            5             5       None                   2   \n",
       "\n",
       "  last_published_year last_published_month first_published_year  \\\n",
       "0                2023                    4                 2023   \n",
       "1                2023                    4                 2023   \n",
       "2                2023                    3                 2022   \n",
       "3                2023                    4                 2023   \n",
       "4                2023                    1                 2022   \n",
       "\n",
       "  first_published_month  \n",
       "0                     1  \n",
       "1                     2  \n",
       "2                    11  \n",
       "3                     4  \n",
       "4                    11  "
      ]
     },
     "execution_count": 5,
     "metadata": {},
     "output_type": "execute_result"
    }
   ],
   "source": [
    "zoopla_df_train.head()"
   ]
  },
  {
   "cell_type": "markdown",
   "metadata": {},
   "source": [
    "### Drop house prices greater than 1 million pounds and set target as log\n",
    "Also remove 0 or negative house prices to ensure log does not blow up"
   ]
  },
  {
   "cell_type": "code",
   "execution_count": 6,
   "metadata": {},
   "outputs": [],
   "source": [
    "zoopla_df_train = zoopla_df_train[(zoopla_df_train['price'].astype(float) <= 1000000) & (zoopla_df_train['price'].astype(float) >= 0)].reset_index()\n",
    "zoopla_df_test = zoopla_df_test[(zoopla_df_test['price'].astype(float) <= 1000000) & (zoopla_df_test['price'].astype(float) >= 0)].reset_index()"
   ]
  },
  {
   "cell_type": "code",
   "execution_count": 7,
   "metadata": {},
   "outputs": [],
   "source": [
    "y_train = np.log(zoopla_df_train['price'].astype(float)).rename('LOG_price')\n",
    "y_test = np.log(zoopla_df_test['price'].astype(float)).rename('LOG_price')"
   ]
  },
  {
   "cell_type": "markdown",
   "metadata": {},
   "source": [
    "### Separate out features into numeric (with a further separation for numeric vars we want converted to KMeans clusters), ordered discrete and categoric variables"
   ]
  },
  {
   "cell_type": "code",
   "execution_count": 8,
   "metadata": {},
   "outputs": [],
   "source": [
    "numeric_cols = ['TOTAL_FLOOR_AREA_median', 'diff_published_date']\n",
    "\n",
    "numeric_kmeans_cols = ['latitude', 'longitude']\n",
    "\n",
    "discrete_cols = ['num_bedrooms', 'num_bathrooms', 'CURRENT_ENERGY_RATING_mode',\n",
    "       'POTENTIAL_ENERGY_RATING_mode', 'CONSTRUCTION_AGE_BAND_mode',\n",
    "       'Index of Multiple Deprivation Decile', 'Income Decile',\n",
    "       'Employment Decile', 'Education and Skills Decile',\n",
    "       'Health and Disability Decile', 'Crime Decile',\n",
    "       'Barriers to Housing and Services Decile', 'Living Environment Decile',\n",
    "       'IDACI Decile', 'IDAOPI Decile', 'last_published_year', 'last_published_month', \n",
    "        'first_published_year', 'first_published_month']\n",
    "\n",
    "categoric_cols = ['post_town', 'parish', 'postcode', 'PROB_4BAND', 'property_type_general']"
   ]
  },
  {
   "cell_type": "markdown",
   "metadata": {},
   "source": [
    "### Transform the four types of variables separately in a pipeline\n",
    "Set up pipelines. For null values, we use the median in the training data for numeric fields and the mode for discrete and categoric fields."
   ]
  },
  {
   "cell_type": "code",
   "execution_count": 9,
   "metadata": {},
   "outputs": [],
   "source": [
    "class KMeansCluster(BaseEstimator, TransformerMixin):\n",
    "    \n",
    "    \"\"\"\n",
    "    Apply KMeans clustering to longitude and latitude. Want cluster centres fit to training\n",
    "    data and the test data to be transformed based on the fits\n",
    "    \"\"\"\n",
    "    \n",
    "    def __init__(self, n_clusters=8):\n",
    "        self.n_clusters = n_clusters        \n",
    "            \n",
    "    def fit(self, X, y=None):\n",
    "        self.kmeans = KMeans(n_clusters=self.n_clusters, n_init=10, random_state=40)\n",
    "        self.kmeans.fit(X)\n",
    "        return self\n",
    "    \n",
    "    def transform(self, X):\n",
    "        cluster_centres = self.kmeans.transform(X).argmin(axis=1)\n",
    "        X = cluster_centres.reshape(cluster_centres.shape[0], 1) # converts 1D array to 2D#\n",
    "        X = pd.DataFrame(X, columns=['cluster'])\n",
    "        self.X = X\n",
    "        return X\n",
    "        \n",
    "        # return original co-ordinates and cluster number\n",
    "        #print(np.c_[X, cluster_centres])\n",
    "        #return np.c_[X, cluster_centres]\n",
    "        \n",
    "    def get_feature_names_out(self, X):\n",
    "        return self.X.columns.tolist()\n"
   ]
  },
  {
   "cell_type": "code",
   "execution_count": 10,
   "metadata": {},
   "outputs": [],
   "source": [
    "numeric_pipeline = Pipeline([\n",
    "    ('num_imputer', SimpleImputer(strategy='median', add_indicator=False)),\n",
    "    ('num_std_scaler', StandardScaler()),\n",
    "])\n",
    "\n",
    "numeric_kmeans_pipeline = Pipeline([\n",
    "    ('num_kmeans_imputer', SimpleImputer(strategy='median', add_indicator=False)),\n",
    "    ('num_kmeans_cluster', KMeansCluster(8)),\n",
    "    ('num_kmeans_oh_encoder', OneHotEncoder(drop='first'))\n",
    "])\n",
    "\n",
    "discrete_pipeline = Pipeline([\n",
    "    ('dis_imputer', SimpleImputer(strategy='most_frequent', add_indicator=False)),\n",
    "    ('dis_std_scaler', StandardScaler()),\n",
    "])\n",
    "\n",
    "categoric_pipeline = Pipeline([\n",
    "    ('cat_imputer', SimpleImputer(strategy='most_frequent', add_indicator=False, )),\n",
    "    ('cat_oh_encoder', OneHotEncoder(drop='first', handle_unknown='infrequent_if_exist'))\n",
    "])"
   ]
  },
  {
   "cell_type": "markdown",
   "metadata": {},
   "source": [
    "Set up a column transformer to handle all four types of columns together"
   ]
  },
  {
   "cell_type": "code",
   "execution_count": 11,
   "metadata": {},
   "outputs": [],
   "source": [
    "full_pipeline = ColumnTransformer([\n",
    "    ('numeric', numeric_pipeline, numeric_cols),\n",
    "    ('numeric_kmeans', numeric_kmeans_pipeline, numeric_kmeans_cols),\n",
    "    ('discrete', discrete_pipeline, discrete_cols),\n",
    "    ('categoric', categoric_pipeline, categoric_cols),\n",
    "])"
   ]
  },
  {
   "cell_type": "code",
   "execution_count": 12,
   "metadata": {},
   "outputs": [
    {
     "data": {
      "text/html": [
       "<style>#sk-container-id-1 {color: black;background-color: white;}#sk-container-id-1 pre{padding: 0;}#sk-container-id-1 div.sk-toggleable {background-color: white;}#sk-container-id-1 label.sk-toggleable__label {cursor: pointer;display: block;width: 100%;margin-bottom: 0;padding: 0.3em;box-sizing: border-box;text-align: center;}#sk-container-id-1 label.sk-toggleable__label-arrow:before {content: \"▸\";float: left;margin-right: 0.25em;color: #696969;}#sk-container-id-1 label.sk-toggleable__label-arrow:hover:before {color: black;}#sk-container-id-1 div.sk-estimator:hover label.sk-toggleable__label-arrow:before {color: black;}#sk-container-id-1 div.sk-toggleable__content {max-height: 0;max-width: 0;overflow: hidden;text-align: left;background-color: #f0f8ff;}#sk-container-id-1 div.sk-toggleable__content pre {margin: 0.2em;color: black;border-radius: 0.25em;background-color: #f0f8ff;}#sk-container-id-1 input.sk-toggleable__control:checked~div.sk-toggleable__content {max-height: 200px;max-width: 100%;overflow: auto;}#sk-container-id-1 input.sk-toggleable__control:checked~label.sk-toggleable__label-arrow:before {content: \"▾\";}#sk-container-id-1 div.sk-estimator input.sk-toggleable__control:checked~label.sk-toggleable__label {background-color: #d4ebff;}#sk-container-id-1 div.sk-label input.sk-toggleable__control:checked~label.sk-toggleable__label {background-color: #d4ebff;}#sk-container-id-1 input.sk-hidden--visually {border: 0;clip: rect(1px 1px 1px 1px);clip: rect(1px, 1px, 1px, 1px);height: 1px;margin: -1px;overflow: hidden;padding: 0;position: absolute;width: 1px;}#sk-container-id-1 div.sk-estimator {font-family: monospace;background-color: #f0f8ff;border: 1px dotted black;border-radius: 0.25em;box-sizing: border-box;margin-bottom: 0.5em;}#sk-container-id-1 div.sk-estimator:hover {background-color: #d4ebff;}#sk-container-id-1 div.sk-parallel-item::after {content: \"\";width: 100%;border-bottom: 1px solid gray;flex-grow: 1;}#sk-container-id-1 div.sk-label:hover label.sk-toggleable__label {background-color: #d4ebff;}#sk-container-id-1 div.sk-serial::before {content: \"\";position: absolute;border-left: 1px solid gray;box-sizing: border-box;top: 0;bottom: 0;left: 50%;z-index: 0;}#sk-container-id-1 div.sk-serial {display: flex;flex-direction: column;align-items: center;background-color: white;padding-right: 0.2em;padding-left: 0.2em;position: relative;}#sk-container-id-1 div.sk-item {position: relative;z-index: 1;}#sk-container-id-1 div.sk-parallel {display: flex;align-items: stretch;justify-content: center;background-color: white;position: relative;}#sk-container-id-1 div.sk-item::before, #sk-container-id-1 div.sk-parallel-item::before {content: \"\";position: absolute;border-left: 1px solid gray;box-sizing: border-box;top: 0;bottom: 0;left: 50%;z-index: -1;}#sk-container-id-1 div.sk-parallel-item {display: flex;flex-direction: column;z-index: 1;position: relative;background-color: white;}#sk-container-id-1 div.sk-parallel-item:first-child::after {align-self: flex-end;width: 50%;}#sk-container-id-1 div.sk-parallel-item:last-child::after {align-self: flex-start;width: 50%;}#sk-container-id-1 div.sk-parallel-item:only-child::after {width: 0;}#sk-container-id-1 div.sk-dashed-wrapped {border: 1px dashed gray;margin: 0 0.4em 0.5em 0.4em;box-sizing: border-box;padding-bottom: 0.4em;background-color: white;}#sk-container-id-1 div.sk-label label {font-family: monospace;font-weight: bold;display: inline-block;line-height: 1.2em;}#sk-container-id-1 div.sk-label-container {text-align: center;}#sk-container-id-1 div.sk-container {/* jupyter's `normalize.less` sets `[hidden] { display: none; }` but bootstrap.min.css set `[hidden] { display: none !important; }` so we also need the `!important` here to be able to override the default hidden behavior on the sphinx rendered scikit-learn.org. See: https://github.com/scikit-learn/scikit-learn/issues/21755 */display: inline-block !important;position: relative;}#sk-container-id-1 div.sk-text-repr-fallback {display: none;}</style><div id=\"sk-container-id-1\" class=\"sk-top-container\"><div class=\"sk-text-repr-fallback\"><pre>ColumnTransformer(transformers=[(&#x27;numeric&#x27;,\n",
       "                                 Pipeline(steps=[(&#x27;num_imputer&#x27;,\n",
       "                                                  SimpleImputer(strategy=&#x27;median&#x27;)),\n",
       "                                                 (&#x27;num_std_scaler&#x27;,\n",
       "                                                  StandardScaler())]),\n",
       "                                 [&#x27;TOTAL_FLOOR_AREA_median&#x27;,\n",
       "                                  &#x27;diff_published_date&#x27;]),\n",
       "                                (&#x27;numeric_kmeans&#x27;,\n",
       "                                 Pipeline(steps=[(&#x27;num_kmeans_imputer&#x27;,\n",
       "                                                  SimpleImputer(strategy=&#x27;median&#x27;)),\n",
       "                                                 (&#x27;num_kmeans_cluster&#x27;,\n",
       "                                                  KMeansCluster()),\n",
       "                                                 (&#x27;num_kmeans_oh_encoder&#x27;...\n",
       "                                  &#x27;IDAOPI Decile&#x27;, &#x27;last_published_year&#x27;,\n",
       "                                  &#x27;last_published_month&#x27;,\n",
       "                                  &#x27;first_published_year&#x27;,\n",
       "                                  &#x27;first_published_month&#x27;]),\n",
       "                                (&#x27;categoric&#x27;,\n",
       "                                 Pipeline(steps=[(&#x27;cat_imputer&#x27;,\n",
       "                                                  SimpleImputer(strategy=&#x27;most_frequent&#x27;)),\n",
       "                                                 (&#x27;cat_oh_encoder&#x27;,\n",
       "                                                  OneHotEncoder(drop=&#x27;first&#x27;,\n",
       "                                                                handle_unknown=&#x27;infrequent_if_exist&#x27;))]),\n",
       "                                 [&#x27;post_town&#x27;, &#x27;parish&#x27;, &#x27;postcode&#x27;,\n",
       "                                  &#x27;PROB_4BAND&#x27;, &#x27;property_type_general&#x27;])])</pre><b>In a Jupyter environment, please rerun this cell to show the HTML representation or trust the notebook. <br />On GitHub, the HTML representation is unable to render, please try loading this page with nbviewer.org.</b></div><div class=\"sk-container\" hidden><div class=\"sk-item sk-dashed-wrapped\"><div class=\"sk-label-container\"><div class=\"sk-label sk-toggleable\"><input class=\"sk-toggleable__control sk-hidden--visually\" id=\"sk-estimator-id-1\" type=\"checkbox\" ><label for=\"sk-estimator-id-1\" class=\"sk-toggleable__label sk-toggleable__label-arrow\">ColumnTransformer</label><div class=\"sk-toggleable__content\"><pre>ColumnTransformer(transformers=[(&#x27;numeric&#x27;,\n",
       "                                 Pipeline(steps=[(&#x27;num_imputer&#x27;,\n",
       "                                                  SimpleImputer(strategy=&#x27;median&#x27;)),\n",
       "                                                 (&#x27;num_std_scaler&#x27;,\n",
       "                                                  StandardScaler())]),\n",
       "                                 [&#x27;TOTAL_FLOOR_AREA_median&#x27;,\n",
       "                                  &#x27;diff_published_date&#x27;]),\n",
       "                                (&#x27;numeric_kmeans&#x27;,\n",
       "                                 Pipeline(steps=[(&#x27;num_kmeans_imputer&#x27;,\n",
       "                                                  SimpleImputer(strategy=&#x27;median&#x27;)),\n",
       "                                                 (&#x27;num_kmeans_cluster&#x27;,\n",
       "                                                  KMeansCluster()),\n",
       "                                                 (&#x27;num_kmeans_oh_encoder&#x27;...\n",
       "                                  &#x27;IDAOPI Decile&#x27;, &#x27;last_published_year&#x27;,\n",
       "                                  &#x27;last_published_month&#x27;,\n",
       "                                  &#x27;first_published_year&#x27;,\n",
       "                                  &#x27;first_published_month&#x27;]),\n",
       "                                (&#x27;categoric&#x27;,\n",
       "                                 Pipeline(steps=[(&#x27;cat_imputer&#x27;,\n",
       "                                                  SimpleImputer(strategy=&#x27;most_frequent&#x27;)),\n",
       "                                                 (&#x27;cat_oh_encoder&#x27;,\n",
       "                                                  OneHotEncoder(drop=&#x27;first&#x27;,\n",
       "                                                                handle_unknown=&#x27;infrequent_if_exist&#x27;))]),\n",
       "                                 [&#x27;post_town&#x27;, &#x27;parish&#x27;, &#x27;postcode&#x27;,\n",
       "                                  &#x27;PROB_4BAND&#x27;, &#x27;property_type_general&#x27;])])</pre></div></div></div><div class=\"sk-parallel\"><div class=\"sk-parallel-item\"><div class=\"sk-item\"><div class=\"sk-label-container\"><div class=\"sk-label sk-toggleable\"><input class=\"sk-toggleable__control sk-hidden--visually\" id=\"sk-estimator-id-2\" type=\"checkbox\" ><label for=\"sk-estimator-id-2\" class=\"sk-toggleable__label sk-toggleable__label-arrow\">numeric</label><div class=\"sk-toggleable__content\"><pre>[&#x27;TOTAL_FLOOR_AREA_median&#x27;, &#x27;diff_published_date&#x27;]</pre></div></div></div><div class=\"sk-serial\"><div class=\"sk-item\"><div class=\"sk-serial\"><div class=\"sk-item\"><div class=\"sk-estimator sk-toggleable\"><input class=\"sk-toggleable__control sk-hidden--visually\" id=\"sk-estimator-id-3\" type=\"checkbox\" ><label for=\"sk-estimator-id-3\" class=\"sk-toggleable__label sk-toggleable__label-arrow\">SimpleImputer</label><div class=\"sk-toggleable__content\"><pre>SimpleImputer(strategy=&#x27;median&#x27;)</pre></div></div></div><div class=\"sk-item\"><div class=\"sk-estimator sk-toggleable\"><input class=\"sk-toggleable__control sk-hidden--visually\" id=\"sk-estimator-id-4\" type=\"checkbox\" ><label for=\"sk-estimator-id-4\" class=\"sk-toggleable__label sk-toggleable__label-arrow\">StandardScaler</label><div class=\"sk-toggleable__content\"><pre>StandardScaler()</pre></div></div></div></div></div></div></div></div><div class=\"sk-parallel-item\"><div class=\"sk-item\"><div class=\"sk-label-container\"><div class=\"sk-label sk-toggleable\"><input class=\"sk-toggleable__control sk-hidden--visually\" id=\"sk-estimator-id-5\" type=\"checkbox\" ><label for=\"sk-estimator-id-5\" class=\"sk-toggleable__label sk-toggleable__label-arrow\">numeric_kmeans</label><div class=\"sk-toggleable__content\"><pre>[&#x27;latitude&#x27;, &#x27;longitude&#x27;]</pre></div></div></div><div class=\"sk-serial\"><div class=\"sk-item\"><div class=\"sk-serial\"><div class=\"sk-item\"><div class=\"sk-estimator sk-toggleable\"><input class=\"sk-toggleable__control sk-hidden--visually\" id=\"sk-estimator-id-6\" type=\"checkbox\" ><label for=\"sk-estimator-id-6\" class=\"sk-toggleable__label sk-toggleable__label-arrow\">SimpleImputer</label><div class=\"sk-toggleable__content\"><pre>SimpleImputer(strategy=&#x27;median&#x27;)</pre></div></div></div><div class=\"sk-item\"><div class=\"sk-estimator sk-toggleable\"><input class=\"sk-toggleable__control sk-hidden--visually\" id=\"sk-estimator-id-7\" type=\"checkbox\" ><label for=\"sk-estimator-id-7\" class=\"sk-toggleable__label sk-toggleable__label-arrow\">KMeansCluster</label><div class=\"sk-toggleable__content\"><pre>KMeansCluster()</pre></div></div></div><div class=\"sk-item\"><div class=\"sk-estimator sk-toggleable\"><input class=\"sk-toggleable__control sk-hidden--visually\" id=\"sk-estimator-id-8\" type=\"checkbox\" ><label for=\"sk-estimator-id-8\" class=\"sk-toggleable__label sk-toggleable__label-arrow\">OneHotEncoder</label><div class=\"sk-toggleable__content\"><pre>OneHotEncoder(drop=&#x27;first&#x27;)</pre></div></div></div></div></div></div></div></div><div class=\"sk-parallel-item\"><div class=\"sk-item\"><div class=\"sk-label-container\"><div class=\"sk-label sk-toggleable\"><input class=\"sk-toggleable__control sk-hidden--visually\" id=\"sk-estimator-id-9\" type=\"checkbox\" ><label for=\"sk-estimator-id-9\" class=\"sk-toggleable__label sk-toggleable__label-arrow\">discrete</label><div class=\"sk-toggleable__content\"><pre>[&#x27;num_bedrooms&#x27;, &#x27;num_bathrooms&#x27;, &#x27;CURRENT_ENERGY_RATING_mode&#x27;, &#x27;POTENTIAL_ENERGY_RATING_mode&#x27;, &#x27;CONSTRUCTION_AGE_BAND_mode&#x27;, &#x27;Index of Multiple Deprivation Decile&#x27;, &#x27;Income Decile&#x27;, &#x27;Employment Decile&#x27;, &#x27;Education and Skills Decile&#x27;, &#x27;Health and Disability Decile&#x27;, &#x27;Crime Decile&#x27;, &#x27;Barriers to Housing and Services Decile&#x27;, &#x27;Living Environment Decile&#x27;, &#x27;IDACI Decile&#x27;, &#x27;IDAOPI Decile&#x27;, &#x27;last_published_year&#x27;, &#x27;last_published_month&#x27;, &#x27;first_published_year&#x27;, &#x27;first_published_month&#x27;]</pre></div></div></div><div class=\"sk-serial\"><div class=\"sk-item\"><div class=\"sk-serial\"><div class=\"sk-item\"><div class=\"sk-estimator sk-toggleable\"><input class=\"sk-toggleable__control sk-hidden--visually\" id=\"sk-estimator-id-10\" type=\"checkbox\" ><label for=\"sk-estimator-id-10\" class=\"sk-toggleable__label sk-toggleable__label-arrow\">SimpleImputer</label><div class=\"sk-toggleable__content\"><pre>SimpleImputer(strategy=&#x27;most_frequent&#x27;)</pre></div></div></div><div class=\"sk-item\"><div class=\"sk-estimator sk-toggleable\"><input class=\"sk-toggleable__control sk-hidden--visually\" id=\"sk-estimator-id-11\" type=\"checkbox\" ><label for=\"sk-estimator-id-11\" class=\"sk-toggleable__label sk-toggleable__label-arrow\">StandardScaler</label><div class=\"sk-toggleable__content\"><pre>StandardScaler()</pre></div></div></div></div></div></div></div></div><div class=\"sk-parallel-item\"><div class=\"sk-item\"><div class=\"sk-label-container\"><div class=\"sk-label sk-toggleable\"><input class=\"sk-toggleable__control sk-hidden--visually\" id=\"sk-estimator-id-12\" type=\"checkbox\" ><label for=\"sk-estimator-id-12\" class=\"sk-toggleable__label sk-toggleable__label-arrow\">categoric</label><div class=\"sk-toggleable__content\"><pre>[&#x27;post_town&#x27;, &#x27;parish&#x27;, &#x27;postcode&#x27;, &#x27;PROB_4BAND&#x27;, &#x27;property_type_general&#x27;]</pre></div></div></div><div class=\"sk-serial\"><div class=\"sk-item\"><div class=\"sk-serial\"><div class=\"sk-item\"><div class=\"sk-estimator sk-toggleable\"><input class=\"sk-toggleable__control sk-hidden--visually\" id=\"sk-estimator-id-13\" type=\"checkbox\" ><label for=\"sk-estimator-id-13\" class=\"sk-toggleable__label sk-toggleable__label-arrow\">SimpleImputer</label><div class=\"sk-toggleable__content\"><pre>SimpleImputer(strategy=&#x27;most_frequent&#x27;)</pre></div></div></div><div class=\"sk-item\"><div class=\"sk-estimator sk-toggleable\"><input class=\"sk-toggleable__control sk-hidden--visually\" id=\"sk-estimator-id-14\" type=\"checkbox\" ><label for=\"sk-estimator-id-14\" class=\"sk-toggleable__label sk-toggleable__label-arrow\">OneHotEncoder</label><div class=\"sk-toggleable__content\"><pre>OneHotEncoder(drop=&#x27;first&#x27;, handle_unknown=&#x27;infrequent_if_exist&#x27;)</pre></div></div></div></div></div></div></div></div></div></div></div></div>"
      ],
      "text/plain": [
       "ColumnTransformer(transformers=[('numeric',\n",
       "                                 Pipeline(steps=[('num_imputer',\n",
       "                                                  SimpleImputer(strategy='median')),\n",
       "                                                 ('num_std_scaler',\n",
       "                                                  StandardScaler())]),\n",
       "                                 ['TOTAL_FLOOR_AREA_median',\n",
       "                                  'diff_published_date']),\n",
       "                                ('numeric_kmeans',\n",
       "                                 Pipeline(steps=[('num_kmeans_imputer',\n",
       "                                                  SimpleImputer(strategy='median')),\n",
       "                                                 ('num_kmeans_cluster',\n",
       "                                                  KMeansCluster()),\n",
       "                                                 ('num_kmeans_oh_encoder'...\n",
       "                                  'IDAOPI Decile', 'last_published_year',\n",
       "                                  'last_published_month',\n",
       "                                  'first_published_year',\n",
       "                                  'first_published_month']),\n",
       "                                ('categoric',\n",
       "                                 Pipeline(steps=[('cat_imputer',\n",
       "                                                  SimpleImputer(strategy='most_frequent')),\n",
       "                                                 ('cat_oh_encoder',\n",
       "                                                  OneHotEncoder(drop='first',\n",
       "                                                                handle_unknown='infrequent_if_exist'))]),\n",
       "                                 ['post_town', 'parish', 'postcode',\n",
       "                                  'PROB_4BAND', 'property_type_general'])])"
      ]
     },
     "execution_count": 12,
     "metadata": {},
     "output_type": "execute_result"
    }
   ],
   "source": [
    "full_pipeline"
   ]
  },
  {
   "cell_type": "markdown",
   "metadata": {},
   "source": [
    "Fit to training data and transform it. Then apply those fitted values to the test data."
   ]
  },
  {
   "cell_type": "code",
   "execution_count": 13,
   "metadata": {},
   "outputs": [
    {
     "name": "stderr",
     "output_type": "stream",
     "text": [
      "/home/robertv/anaconda3/envs/datascience2/lib/python3.11/site-packages/sklearn/preprocessing/_encoders.py:202: UserWarning: Found unknown categories in columns [2] during transform. These unknown categories will be encoded as all zeros\n",
      "  warnings.warn(\n"
     ]
    }
   ],
   "source": [
    "X_train = full_pipeline.fit_transform(zoopla_df_train)\n",
    "X_test = full_pipeline.transform(zoopla_df_test, )"
   ]
  },
  {
   "cell_type": "markdown",
   "metadata": {},
   "source": [
    "Check outputs"
   ]
  },
  {
   "cell_type": "code",
   "execution_count": 14,
   "metadata": {},
   "outputs": [
    {
     "data": {
      "text/plain": [
       "array([ 0.66149868,  2.08416527,  1.        ,  0.        ,  0.        ,\n",
       "        0.        ,  0.        ,  0.        ,  0.        ,  2.20174554,\n",
       "        0.93059994,  1.64446487,  1.64628998, -0.55260864,  0.7718793 ,\n",
       "        0.3262387 ,  1.37290084,  0.12961152,  1.61452849,  1.1674399 ,\n",
       "       -1.06224429,  1.45224952,  0.06964659,  0.31241302, -2.56494588,\n",
       "        2.10854468, -1.15042685, -0.62894756,  0.        ,  1.        ,\n",
       "        0.        ,  0.        ,  0.        ,  0.        ,  0.        ,\n",
       "        0.        ,  0.        ,  0.        ,  0.        ,  0.        ,\n",
       "        0.        ,  0.        ,  0.        ,  1.        ,  0.        ,\n",
       "        0.        ,  0.        ,  0.        ,  0.        ,  0.        ,\n",
       "        0.        ,  1.        ,  1.        ,  0.        ,  0.        ,\n",
       "        0.        ,  0.        ,  0.        ,  0.        ])"
      ]
     },
     "execution_count": 14,
     "metadata": {},
     "output_type": "execute_result"
    }
   ],
   "source": [
    "X_train[200]"
   ]
  },
  {
   "cell_type": "code",
   "execution_count": 15,
   "metadata": {},
   "outputs": [
    {
     "data": {
      "text/plain": [
       "[('numeric',\n",
       "  Pipeline(steps=[('num_imputer', SimpleImputer(strategy='median')),\n",
       "                  ('num_std_scaler', StandardScaler())]),\n",
       "  ['TOTAL_FLOOR_AREA_median', 'diff_published_date']),\n",
       " ('numeric_kmeans',\n",
       "  Pipeline(steps=[('num_kmeans_imputer', SimpleImputer(strategy='median')),\n",
       "                  ('num_kmeans_cluster', KMeansCluster()),\n",
       "                  ('num_kmeans_oh_encoder', OneHotEncoder(drop='first'))]),\n",
       "  ['latitude', 'longitude']),\n",
       " ('discrete',\n",
       "  Pipeline(steps=[('dis_imputer', SimpleImputer(strategy='most_frequent')),\n",
       "                  ('dis_std_scaler', StandardScaler())]),\n",
       "  ['num_bedrooms',\n",
       "   'num_bathrooms',\n",
       "   'CURRENT_ENERGY_RATING_mode',\n",
       "   'POTENTIAL_ENERGY_RATING_mode',\n",
       "   'CONSTRUCTION_AGE_BAND_mode',\n",
       "   'Index of Multiple Deprivation Decile',\n",
       "   'Income Decile',\n",
       "   'Employment Decile',\n",
       "   'Education and Skills Decile',\n",
       "   'Health and Disability Decile',\n",
       "   'Crime Decile',\n",
       "   'Barriers to Housing and Services Decile',\n",
       "   'Living Environment Decile',\n",
       "   'IDACI Decile',\n",
       "   'IDAOPI Decile',\n",
       "   'last_published_year',\n",
       "   'last_published_month',\n",
       "   'first_published_year',\n",
       "   'first_published_month']),\n",
       " ('categoric',\n",
       "  Pipeline(steps=[('cat_imputer', SimpleImputer(strategy='most_frequent')),\n",
       "                  ('cat_oh_encoder',\n",
       "                   OneHotEncoder(drop='first',\n",
       "                                 handle_unknown='infrequent_if_exist'))]),\n",
       "  ['post_town', 'parish', 'postcode', 'PROB_4BAND', 'property_type_general']),\n",
       " ('remainder', 'drop', [0, 1, 9, 14])]"
      ]
     },
     "execution_count": 15,
     "metadata": {},
     "output_type": "execute_result"
    }
   ],
   "source": [
    "full_pipeline.transformers_"
   ]
  },
  {
   "cell_type": "markdown",
   "metadata": {},
   "source": [
    "Set the column names again"
   ]
  },
  {
   "cell_type": "code",
   "execution_count": 16,
   "metadata": {},
   "outputs": [
    {
     "name": "stdout",
     "output_type": "stream",
     "text": [
      "['TOTAL_FLOOR_AREA_median', 'diff_published_date', 'cluster_1', 'cluster_2', 'cluster_3', 'cluster_4', 'cluster_5', 'cluster_6', 'cluster_7', 'num_bedrooms', 'num_bathrooms', 'CURRENT_ENERGY_RATING_mode', 'POTENTIAL_ENERGY_RATING_mode', 'CONSTRUCTION_AGE_BAND_mode', 'Index of Multiple Deprivation Decile', 'Income Decile', 'Employment Decile', 'Education and Skills Decile', 'Health and Disability Decile', 'Crime Decile', 'Barriers to Housing and Services Decile', 'Living Environment Decile', 'IDACI Decile', 'IDAOPI Decile', 'last_published_year', 'last_published_month', 'first_published_year', 'first_published_month', 'post_town_Nuneaton', 'parish_Hinckley and Bosworth, unparished area', 'parish_Nuneaton and Bedworth, unparished area', 'parish_Other', 'parish_Stoke Golding', 'postcode_CV10 7', 'postcode_CV10 8', 'postcode_CV10 9', 'postcode_CV11 4', 'postcode_CV11 5', 'postcode_CV11 6', 'postcode_CV11 7', 'postcode_CV12 9', 'postcode_CV13 0', 'postcode_CV13 6', 'postcode_LE10 0', 'postcode_LE10 1', 'postcode_LE10 2', 'postcode_LE10 3', 'postcode_LE9 7', 'postcode_LE9 8', 'postcode_LE9 9', 'PROB_4BAND_Medium', 'PROB_4BAND_None', 'property_type_general_Detached house', 'property_type_general_End terrace house', 'property_type_general_Flat', 'property_type_general_Maisonette', 'property_type_general_Other/Unknown', 'property_type_general_Semi-detached house', 'property_type_general_Terraced house']\n"
     ]
    }
   ],
   "source": [
    "feature_names = full_pipeline.get_feature_names_out()\n",
    "\n",
    "feature_names_new = [name.split('__')[1] for name in feature_names]\n",
    "print(feature_names_new)"
   ]
  },
  {
   "cell_type": "code",
   "execution_count": 17,
   "metadata": {},
   "outputs": [],
   "source": [
    "X_train = pd.DataFrame(X_train, columns=feature_names_new)\n",
    "y_train = pd.DataFrame(y_train, columns=['LOG_price'])\n",
    "\n",
    "X_test = pd.DataFrame(X_test, columns=feature_names_new)\n",
    "y_test = pd.DataFrame(y_test, columns=['LOG_price'])"
   ]
  },
  {
   "cell_type": "markdown",
   "metadata": {},
   "source": [
    "### Save transformed train and test sets"
   ]
  },
  {
   "cell_type": "code",
   "execution_count": 18,
   "metadata": {},
   "outputs": [],
   "source": [
    "try:\n",
    "    os.mkdir(SAVE_FOLDER)\n",
    "except OSError:\n",
    "    pass\n",
    "\n",
    "save_file_train = os.path.join(SAVE_FOLDER, f'zoopla_train.csv')\n",
    "save_file_test = os.path.join(SAVE_FOLDER, f'zoopla_test.csv')\n",
    "\n",
    "zoopla_df_train = pd.concat([X_train, y_train], axis=1)\n",
    "zoopla_df_test = pd.concat([X_test, y_test], axis=1)\n",
    "\n",
    "zoopla_df_train.to_csv(save_file_train, index=False)\n",
    "zoopla_df_test.to_csv(save_file_test, index=False)"
   ]
  },
  {
   "cell_type": "code",
   "execution_count": 19,
   "metadata": {},
   "outputs": [
    {
     "data": {
      "text/plain": [
       "-0.208482    168\n",
       "-0.444409     25\n",
       "-0.237973     22\n",
       " 0.115918     19\n",
       "-0.650845     16\n",
       "            ... \n",
       "-0.606609      1\n",
       " 0.690990      1\n",
       "-0.817468      1\n",
       " 0.023464      1\n",
       "-0.865391      1\n",
       "Name: TOTAL_FLOOR_AREA_median, Length: 286, dtype: int64"
      ]
     },
     "metadata": {},
     "output_type": "display_data"
    },
    {
     "data": {
      "text/plain": [
       "-0.714820    442\n",
       "-0.314965    179\n",
       " 0.084890    120\n",
       " 0.484745     78\n",
       " 0.884600     50\n",
       " 1.284455     50\n",
       " 1.684310     31\n",
       " 2.084165     24\n",
       " 2.484020     13\n",
       " 2.883875      8\n",
       " 3.283731      4\n",
       " 4.883151      3\n",
       " 4.083441      3\n",
       " 3.683586      1\n",
       " 7.682136      1\n",
       " 6.882426      1\n",
       "Name: diff_published_date, dtype: int64"
      ]
     },
     "metadata": {},
     "output_type": "display_data"
    },
    {
     "data": {
      "text/plain": [
       "0.0    834\n",
       "1.0    174\n",
       "Name: cluster_1, dtype: int64"
      ]
     },
     "metadata": {},
     "output_type": "display_data"
    },
    {
     "data": {
      "text/plain": [
       "0.0    901\n",
       "1.0    107\n",
       "Name: cluster_2, dtype: int64"
      ]
     },
     "metadata": {},
     "output_type": "display_data"
    },
    {
     "data": {
      "text/plain": [
       "0.0    882\n",
       "1.0    126\n",
       "Name: cluster_3, dtype: int64"
      ]
     },
     "metadata": {},
     "output_type": "display_data"
    },
    {
     "data": {
      "text/plain": [
       "0.0    831\n",
       "1.0    177\n",
       "Name: cluster_4, dtype: int64"
      ]
     },
     "metadata": {},
     "output_type": "display_data"
    },
    {
     "data": {
      "text/plain": [
       "0.0    915\n",
       "1.0     93\n",
       "Name: cluster_5, dtype: int64"
      ]
     },
     "metadata": {},
     "output_type": "display_data"
    },
    {
     "data": {
      "text/plain": [
       "0.0    899\n",
       "1.0    109\n",
       "Name: cluster_6, dtype: int64"
      ]
     },
     "metadata": {},
     "output_type": "display_data"
    },
    {
     "data": {
      "text/plain": [
       "0.0    887\n",
       "1.0    121\n",
       "Name: cluster_7, dtype: int64"
      ]
     },
     "metadata": {},
     "output_type": "display_data"
    },
    {
     "data": {
      "text/plain": [
       " 0.028034    459\n",
       "-1.058822    260\n",
       " 1.114890    216\n",
       " 2.201746     36\n",
       "-2.145678     24\n",
       "-3.232533      8\n",
       " 4.375457      3\n",
       " 3.288601      2\n",
       "Name: num_bedrooms, dtype: int64"
      ]
     },
     "metadata": {},
     "output_type": "display_data"
    },
    {
     "data": {
      "text/plain": [
       "-0.475764    593\n",
       " 0.930600    285\n",
       "-1.882128     70\n",
       " 2.336964     54\n",
       " 3.743328      6\n",
       "Name: num_bathrooms, dtype: int64"
      ]
     },
     "metadata": {},
     "output_type": "display_data"
    },
    {
     "data": {
      "text/plain": [
       " 0.467178    581\n",
       "-0.710110    192\n",
       "-1.887397    149\n",
       " 1.644465     82\n",
       " 2.821752      4\n",
       "Name: CURRENT_ENERGY_RATING_mode, dtype: int64"
      ]
     },
     "metadata": {},
     "output_type": "display_data"
    },
    {
     "data": {
      "text/plain": [
       "-0.159434    715\n",
       " 1.646290    179\n",
       "-1.965158    106\n",
       " 3.452014      8\n",
       "Name: POTENTIAL_ENERGY_RATING_mode, dtype: int64"
      ]
     },
     "metadata": {},
     "output_type": "display_data"
    },
    {
     "data": {
      "text/plain": [
       "-0.855178    363\n",
       "-0.552609    102\n",
       " 0.052529     93\n",
       "-0.250040     80\n",
       " 1.565374     65\n",
       " 0.657667     59\n",
       " 1.262805     53\n",
       " 2.170512     51\n",
       " 0.355098     37\n",
       "-1.157747     37\n",
       " 0.960236     37\n",
       " 1.867943     31\n",
       "Name: CONSTRUCTION_AGE_BAND_mode, dtype: int64"
      ]
     },
     "metadata": {},
     "output_type": "display_data"
    },
    {
     "data": {
      "text/plain": [
       " 0.771879    243\n",
       "-0.739640    119\n",
       " 0.016120    112\n",
       "-0.361760    108\n",
       "-1.117519     99\n",
       " 1.149759     93\n",
       " 1.527639     81\n",
       "-1.873279     67\n",
       "-1.495399     48\n",
       " 0.394000     38\n",
       "Name: Index of Multiple Deprivation Decile, dtype: int64"
      ]
     },
     "metadata": {},
     "output_type": "display_data"
    },
    {
     "data": {
      "text/plain": [
       " 1.078753    221\n",
       " 0.326239    155\n",
       "-0.426275    140\n",
       "-0.802532    110\n",
       "-1.178789     90\n",
       " 1.455010     83\n",
       "-0.050018     63\n",
       "-1.555046     57\n",
       "-1.931303     48\n",
       " 0.702496     41\n",
       "Name: Income Decile, dtype: int64"
      ]
     },
     "metadata": {},
     "output_type": "display_data"
    },
    {
     "data": {
      "text/plain": [
       " 0.142052    217\n",
       " 0.962618    168\n",
       " 1.372901    129\n",
       "-0.678513    125\n",
       "-1.088796    106\n",
       "-1.499079     75\n",
       "-0.268231     64\n",
       " 0.552335     59\n",
       "-1.909362     51\n",
       " 1.783184     14\n",
       "Name: Employment Decile, dtype: int64"
      ]
     },
     "metadata": {},
     "output_type": "display_data"
    },
    {
     "data": {
      "text/plain": [
       " 0.129612    206\n",
       "-0.697277    163\n",
       "-0.283833    153\n",
       " 1.369945    127\n",
       "-1.524166     98\n",
       "-1.110721     97\n",
       " 1.783389     68\n",
       " 0.956500     53\n",
       " 0.543056     32\n",
       " 2.196833     11\n",
       "Name: Education and Skills Decile, dtype: int64"
      ]
     },
     "metadata": {},
     "output_type": "display_data"
    },
    {
     "data": {
      "text/plain": [
       "-0.617906    185\n",
       "-0.171419    150\n",
       " 0.275068    139\n",
       " 0.721555    132\n",
       "-1.064393    102\n",
       " 1.614528     98\n",
       "-1.510880     83\n",
       " 1.168042     70\n",
       "-1.957367     25\n",
       " 2.061015     24\n",
       "Name: Health and Disability Decile, dtype: int64"
      ]
     },
     "metadata": {},
     "output_type": "display_data"
    },
    {
     "data": {
      "text/plain": [
       "-0.483022    228\n",
       " 0.754824    141\n",
       " 0.342209    131\n",
       "-0.895638    109\n",
       " 1.167440     81\n",
       "-1.720869     79\n",
       "-0.070407     73\n",
       " 1.580055     64\n",
       "-1.308253     61\n",
       " 1.992671     41\n",
       "Name: Crime Decile, dtype: int64"
      ]
     },
     "metadata": {},
     "output_type": "display_data"
    },
    {
     "data": {
      "text/plain": [
       " 0.560092    204\n",
       " 0.965677    166\n",
       "-1.062244    163\n",
       " 0.154508    133\n",
       " 1.371261    107\n",
       "-1.467828    103\n",
       "-0.656660     64\n",
       "-0.251076     39\n",
       "-2.278997     28\n",
       "-1.873413      1\n",
       "Name: Barriers to Housing and Services Decile, dtype: int64"
      ]
     },
     "metadata": {},
     "output_type": "display_data"
    },
    {
     "data": {
      "text/plain": [
       "-0.121802    226\n",
       " 1.058737    161\n",
       "-0.908827    144\n",
       " 1.452250    127\n",
       "-1.695853     84\n",
       " 0.665224     81\n",
       "-0.515314     66\n",
       " 0.271711     58\n",
       "-1.302340     48\n",
       "-2.089365     13\n",
       "Name: Living Environment Decile, dtype: int64"
      ]
     },
     "metadata": {},
     "output_type": "display_data"
    },
    {
     "data": {
      "text/plain": [
       "-0.329238    189\n",
       " 0.867417    155\n",
       " 1.266302    136\n",
       "-0.728123    116\n",
       " 0.069647    105\n",
       " 0.468532     85\n",
       "-1.924778     67\n",
       "-1.525893     59\n",
       "-1.127008     53\n",
       " 1.665187     43\n",
       "Name: IDACI Decile, dtype: int64"
      ]
     },
     "metadata": {},
     "output_type": "display_data"
    },
    {
     "data": {
      "text/plain": [
       "-0.494021    195\n",
       " 1.118847    153\n",
       " 0.715630    134\n",
       "-0.090804    110\n",
       "-0.897237    106\n",
       " 1.522063     89\n",
       " 0.312413     87\n",
       "-1.703671     70\n",
       "-2.106888     32\n",
       "-1.300454     32\n",
       "Name: IDAOPI Decile, dtype: int64"
      ]
     },
     "metadata": {},
     "output_type": "display_data"
    },
    {
     "data": {
      "text/plain": [
       " 0.389872    875\n",
       "-2.564946    133\n",
       "Name: last_published_year, dtype: int64"
      ]
     },
     "metadata": {},
     "output_type": "display_data"
    },
    {
     "data": {
      "text/plain": [
       "-0.020772    432\n",
       "-0.375658    183\n",
       "-0.730544    131\n",
       "-1.085430    129\n",
       " 2.463431     40\n",
       " 2.818317     39\n",
       " 2.108545     36\n",
       " 1.753659     11\n",
       " 1.398772      7\n",
       "Name: last_published_month, dtype: int64"
      ]
     },
     "metadata": {},
     "output_type": "display_data"
    },
    {
     "data": {
      "text/plain": [
       " 0.835241    589\n",
       "-1.150427    414\n",
       "-3.136095      5\n",
       "Name: first_published_year, dtype: int64"
      ]
     },
     "metadata": {},
     "output_type": "display_data"
    },
    {
     "data": {
      "text/plain": [
       "-0.628948    170\n",
       "-1.165536    162\n",
       "-0.360653    154\n",
       "-0.897242    119\n",
       " 1.249112    103\n",
       " 1.517406     88\n",
       " 0.980817     67\n",
       " 0.712523     49\n",
       " 1.785700     46\n",
       " 0.444229     25\n",
       " 0.175935     16\n",
       "-0.092359      9\n",
       "Name: first_published_month, dtype: int64"
      ]
     },
     "metadata": {},
     "output_type": "display_data"
    },
    {
     "data": {
      "text/plain": [
       "1.0    675\n",
       "0.0    333\n",
       "Name: post_town_Nuneaton, dtype: int64"
      ]
     },
     "metadata": {},
     "output_type": "display_data"
    },
    {
     "data": {
      "text/plain": [
       "0.0    688\n",
       "1.0    320\n",
       "Name: parish_Hinckley and Bosworth, unparished area, dtype: int64"
      ]
     },
     "metadata": {},
     "output_type": "display_data"
    },
    {
     "data": {
      "text/plain": [
       "1.0    642\n",
       "0.0    366\n",
       "Name: parish_Nuneaton and Bedworth, unparished area, dtype: int64"
      ]
     },
     "metadata": {},
     "output_type": "display_data"
    },
    {
     "data": {
      "text/plain": [
       "0.0    993\n",
       "1.0     15\n",
       "Name: parish_Other, dtype: int64"
      ]
     },
     "metadata": {},
     "output_type": "display_data"
    },
    {
     "data": {
      "text/plain": [
       "0.0    991\n",
       "1.0     17\n",
       "Name: parish_Stoke Golding, dtype: int64"
      ]
     },
     "metadata": {},
     "output_type": "display_data"
    },
    {
     "data": {
      "text/plain": [
       "0.0    941\n",
       "1.0     67\n",
       "Name: postcode_CV10 7, dtype: int64"
      ]
     },
     "metadata": {},
     "output_type": "display_data"
    },
    {
     "data": {
      "text/plain": [
       "0.0    941\n",
       "1.0     67\n",
       "Name: postcode_CV10 8, dtype: int64"
      ]
     },
     "metadata": {},
     "output_type": "display_data"
    },
    {
     "data": {
      "text/plain": [
       "0.0    897\n",
       "1.0    111\n",
       "Name: postcode_CV10 9, dtype: int64"
      ]
     },
     "metadata": {},
     "output_type": "display_data"
    },
    {
     "data": {
      "text/plain": [
       "0.0    924\n",
       "1.0     84\n",
       "Name: postcode_CV11 4, dtype: int64"
      ]
     },
     "metadata": {},
     "output_type": "display_data"
    },
    {
     "data": {
      "text/plain": [
       "0.0    954\n",
       "1.0     54\n",
       "Name: postcode_CV11 5, dtype: int64"
      ]
     },
     "metadata": {},
     "output_type": "display_data"
    },
    {
     "data": {
      "text/plain": [
       "0.0    869\n",
       "1.0    139\n",
       "Name: postcode_CV11 6, dtype: int64"
      ]
     },
     "metadata": {},
     "output_type": "display_data"
    },
    {
     "data": {
      "text/plain": [
       "0.0    988\n",
       "1.0     20\n",
       "Name: postcode_CV11 7, dtype: int64"
      ]
     },
     "metadata": {},
     "output_type": "display_data"
    },
    {
     "data": {
      "text/plain": [
       "0.0    1006\n",
       "1.0       2\n",
       "Name: postcode_CV12 9, dtype: int64"
      ]
     },
     "metadata": {},
     "output_type": "display_data"
    },
    {
     "data": {
      "text/plain": [
       "0.0    1005\n",
       "1.0       3\n",
       "Name: postcode_CV13 0, dtype: int64"
      ]
     },
     "metadata": {},
     "output_type": "display_data"
    },
    {
     "data": {
      "text/plain": [
       "0.0    982\n",
       "1.0     26\n",
       "Name: postcode_CV13 6, dtype: int64"
      ]
     },
     "metadata": {},
     "output_type": "display_data"
    },
    {
     "data": {
      "text/plain": [
       "0.0    807\n",
       "1.0    201\n",
       "Name: postcode_LE10 0, dtype: int64"
      ]
     },
     "metadata": {},
     "output_type": "display_data"
    },
    {
     "data": {
      "text/plain": [
       "0.0    894\n",
       "1.0    114\n",
       "Name: postcode_LE10 1, dtype: int64"
      ]
     },
     "metadata": {},
     "output_type": "display_data"
    },
    {
     "data": {
      "text/plain": [
       "0.0    1000\n",
       "1.0       8\n",
       "Name: postcode_LE10 2, dtype: int64"
      ]
     },
     "metadata": {},
     "output_type": "display_data"
    },
    {
     "data": {
      "text/plain": [
       "0.0    997\n",
       "1.0     11\n",
       "Name: postcode_LE10 3, dtype: int64"
      ]
     },
     "metadata": {},
     "output_type": "display_data"
    },
    {
     "data": {
      "text/plain": [
       "0.0    1007\n",
       "1.0       1\n",
       "Name: postcode_LE9 7, dtype: int64"
      ]
     },
     "metadata": {},
     "output_type": "display_data"
    },
    {
     "data": {
      "text/plain": [
       "0.0    1007\n",
       "1.0       1\n",
       "Name: postcode_LE9 8, dtype: int64"
      ]
     },
     "metadata": {},
     "output_type": "display_data"
    },
    {
     "data": {
      "text/plain": [
       "0.0    1007\n",
       "1.0       1\n",
       "Name: postcode_LE9 9, dtype: int64"
      ]
     },
     "metadata": {},
     "output_type": "display_data"
    },
    {
     "data": {
      "text/plain": [
       "0.0    996\n",
       "1.0     12\n",
       "Name: PROB_4BAND_Medium, dtype: int64"
      ]
     },
     "metadata": {},
     "output_type": "display_data"
    },
    {
     "data": {
      "text/plain": [
       "1.0    994\n",
       "0.0     14\n",
       "Name: PROB_4BAND_None, dtype: int64"
      ]
     },
     "metadata": {},
     "output_type": "display_data"
    },
    {
     "data": {
      "text/plain": [
       "0.0    691\n",
       "1.0    317\n",
       "Name: property_type_general_Detached house, dtype: int64"
      ]
     },
     "metadata": {},
     "output_type": "display_data"
    },
    {
     "data": {
      "text/plain": [
       "0.0    957\n",
       "1.0     51\n",
       "Name: property_type_general_End terrace house, dtype: int64"
      ]
     },
     "metadata": {},
     "output_type": "display_data"
    },
    {
     "data": {
      "text/plain": [
       "0.0    923\n",
       "1.0     85\n",
       "Name: property_type_general_Flat, dtype: int64"
      ]
     },
     "metadata": {},
     "output_type": "display_data"
    },
    {
     "data": {
      "text/plain": [
       "0.0    1000\n",
       "1.0       8\n",
       "Name: property_type_general_Maisonette, dtype: int64"
      ]
     },
     "metadata": {},
     "output_type": "display_data"
    },
    {
     "data": {
      "text/plain": [
       "0.0    979\n",
       "1.0     29\n",
       "Name: property_type_general_Other/Unknown, dtype: int64"
      ]
     },
     "metadata": {},
     "output_type": "display_data"
    },
    {
     "data": {
      "text/plain": [
       "0.0    730\n",
       "1.0    278\n",
       "Name: property_type_general_Semi-detached house, dtype: int64"
      ]
     },
     "metadata": {},
     "output_type": "display_data"
    },
    {
     "data": {
      "text/plain": [
       "0.0    834\n",
       "1.0    174\n",
       "Name: property_type_general_Terraced house, dtype: int64"
      ]
     },
     "metadata": {},
     "output_type": "display_data"
    },
    {
     "data": {
      "text/plain": [
       "12.429216    51\n",
       "12.468437    34\n",
       "12.691580    26\n",
       "12.301383    26\n",
       "12.254863    26\n",
       "             ..\n",
       "11.362103     1\n",
       "13.764217     1\n",
       "11.849040     1\n",
       "13.592367     1\n",
       "11.674194     1\n",
       "Name: LOG_price, Length: 236, dtype: int64"
      ]
     },
     "metadata": {},
     "output_type": "display_data"
    }
   ],
   "source": [
    "for colname in zoopla_df_train.columns:\n",
    "    display(zoopla_df_train[colname].value_counts(dropna=False))"
   ]
  },
  {
   "cell_type": "code",
   "execution_count": 20,
   "metadata": {},
   "outputs": [
    {
     "data": {
      "text/html": [
       "<div>\n",
       "<style scoped>\n",
       "    .dataframe tbody tr th:only-of-type {\n",
       "        vertical-align: middle;\n",
       "    }\n",
       "\n",
       "    .dataframe tbody tr th {\n",
       "        vertical-align: top;\n",
       "    }\n",
       "\n",
       "    .dataframe thead th {\n",
       "        text-align: right;\n",
       "    }\n",
       "</style>\n",
       "<table border=\"1\" class=\"dataframe\">\n",
       "  <thead>\n",
       "    <tr style=\"text-align: right;\">\n",
       "      <th></th>\n",
       "      <th>TOTAL_FLOOR_AREA_median</th>\n",
       "      <th>diff_published_date</th>\n",
       "      <th>cluster_1</th>\n",
       "      <th>cluster_2</th>\n",
       "      <th>cluster_3</th>\n",
       "      <th>cluster_4</th>\n",
       "      <th>cluster_5</th>\n",
       "      <th>cluster_6</th>\n",
       "      <th>cluster_7</th>\n",
       "      <th>num_bedrooms</th>\n",
       "      <th>num_bathrooms</th>\n",
       "      <th>CURRENT_ENERGY_RATING_mode</th>\n",
       "      <th>POTENTIAL_ENERGY_RATING_mode</th>\n",
       "      <th>CONSTRUCTION_AGE_BAND_mode</th>\n",
       "      <th>Index of Multiple Deprivation Decile</th>\n",
       "      <th>Income Decile</th>\n",
       "      <th>Employment Decile</th>\n",
       "      <th>Education and Skills Decile</th>\n",
       "      <th>Health and Disability Decile</th>\n",
       "      <th>Crime Decile</th>\n",
       "      <th>Barriers to Housing and Services Decile</th>\n",
       "      <th>Living Environment Decile</th>\n",
       "      <th>IDACI Decile</th>\n",
       "      <th>IDAOPI Decile</th>\n",
       "      <th>last_published_year</th>\n",
       "      <th>last_published_month</th>\n",
       "      <th>first_published_year</th>\n",
       "      <th>first_published_month</th>\n",
       "      <th>post_town_Nuneaton</th>\n",
       "      <th>parish_Hinckley and Bosworth, unparished area</th>\n",
       "      <th>parish_Nuneaton and Bedworth, unparished area</th>\n",
       "      <th>parish_Other</th>\n",
       "      <th>parish_Stoke Golding</th>\n",
       "      <th>postcode_CV10 7</th>\n",
       "      <th>postcode_CV10 8</th>\n",
       "      <th>postcode_CV10 9</th>\n",
       "      <th>postcode_CV11 4</th>\n",
       "      <th>postcode_CV11 5</th>\n",
       "      <th>postcode_CV11 6</th>\n",
       "      <th>postcode_CV11 7</th>\n",
       "      <th>postcode_CV12 9</th>\n",
       "      <th>postcode_CV13 0</th>\n",
       "      <th>postcode_CV13 6</th>\n",
       "      <th>postcode_LE10 0</th>\n",
       "      <th>postcode_LE10 1</th>\n",
       "      <th>postcode_LE10 2</th>\n",
       "      <th>postcode_LE10 3</th>\n",
       "      <th>postcode_LE9 7</th>\n",
       "      <th>postcode_LE9 8</th>\n",
       "      <th>postcode_LE9 9</th>\n",
       "      <th>PROB_4BAND_Medium</th>\n",
       "      <th>PROB_4BAND_None</th>\n",
       "      <th>property_type_general_Detached house</th>\n",
       "      <th>property_type_general_End terrace house</th>\n",
       "      <th>property_type_general_Flat</th>\n",
       "      <th>property_type_general_Maisonette</th>\n",
       "      <th>property_type_general_Other/Unknown</th>\n",
       "      <th>property_type_general_Semi-detached house</th>\n",
       "      <th>property_type_general_Terraced house</th>\n",
       "      <th>LOG_price</th>\n",
       "    </tr>\n",
       "  </thead>\n",
       "  <tbody>\n",
       "    <tr>\n",
       "      <th>0</th>\n",
       "      <td>0.115918</td>\n",
       "      <td>0.084890</td>\n",
       "      <td>0.0</td>\n",
       "      <td>0.0</td>\n",
       "      <td>0.0</td>\n",
       "      <td>0.0</td>\n",
       "      <td>0.0</td>\n",
       "      <td>1.0</td>\n",
       "      <td>0.0</td>\n",
       "      <td>1.114890</td>\n",
       "      <td>0.930600</td>\n",
       "      <td>-1.887397</td>\n",
       "      <td>-1.965158</td>\n",
       "      <td>2.170512</td>\n",
       "      <td>0.771879</td>\n",
       "      <td>1.078753</td>\n",
       "      <td>0.962618</td>\n",
       "      <td>1.783389</td>\n",
       "      <td>0.721555</td>\n",
       "      <td>0.342209</td>\n",
       "      <td>-1.467828</td>\n",
       "      <td>-0.121802</td>\n",
       "      <td>1.266302</td>\n",
       "      <td>1.118847</td>\n",
       "      <td>0.389872</td>\n",
       "      <td>-0.020772</td>\n",
       "      <td>0.835241</td>\n",
       "      <td>-1.165536</td>\n",
       "      <td>1.0</td>\n",
       "      <td>0.0</td>\n",
       "      <td>1.0</td>\n",
       "      <td>0.0</td>\n",
       "      <td>0.0</td>\n",
       "      <td>0.0</td>\n",
       "      <td>0.0</td>\n",
       "      <td>0.0</td>\n",
       "      <td>0.0</td>\n",
       "      <td>0.0</td>\n",
       "      <td>1.0</td>\n",
       "      <td>0.0</td>\n",
       "      <td>0.0</td>\n",
       "      <td>0.0</td>\n",
       "      <td>0.0</td>\n",
       "      <td>0.0</td>\n",
       "      <td>0.0</td>\n",
       "      <td>0.0</td>\n",
       "      <td>0.0</td>\n",
       "      <td>0.0</td>\n",
       "      <td>0.0</td>\n",
       "      <td>0.0</td>\n",
       "      <td>0.0</td>\n",
       "      <td>1.0</td>\n",
       "      <td>1.0</td>\n",
       "      <td>0.0</td>\n",
       "      <td>0.0</td>\n",
       "      <td>0.0</td>\n",
       "      <td>0.0</td>\n",
       "      <td>0.0</td>\n",
       "      <td>0.0</td>\n",
       "      <td>12.899220</td>\n",
       "    </tr>\n",
       "    <tr>\n",
       "      <th>1</th>\n",
       "      <td>-0.414918</td>\n",
       "      <td>-0.314965</td>\n",
       "      <td>0.0</td>\n",
       "      <td>0.0</td>\n",
       "      <td>0.0</td>\n",
       "      <td>0.0</td>\n",
       "      <td>0.0</td>\n",
       "      <td>1.0</td>\n",
       "      <td>0.0</td>\n",
       "      <td>-1.058822</td>\n",
       "      <td>-0.475764</td>\n",
       "      <td>0.467178</td>\n",
       "      <td>1.646290</td>\n",
       "      <td>-0.250040</td>\n",
       "      <td>1.149759</td>\n",
       "      <td>1.078753</td>\n",
       "      <td>0.962618</td>\n",
       "      <td>1.783389</td>\n",
       "      <td>-0.171419</td>\n",
       "      <td>1.580055</td>\n",
       "      <td>0.965677</td>\n",
       "      <td>1.058737</td>\n",
       "      <td>1.266302</td>\n",
       "      <td>1.522063</td>\n",
       "      <td>0.389872</td>\n",
       "      <td>-0.020772</td>\n",
       "      <td>0.835241</td>\n",
       "      <td>-0.897242</td>\n",
       "      <td>1.0</td>\n",
       "      <td>0.0</td>\n",
       "      <td>1.0</td>\n",
       "      <td>0.0</td>\n",
       "      <td>0.0</td>\n",
       "      <td>0.0</td>\n",
       "      <td>0.0</td>\n",
       "      <td>0.0</td>\n",
       "      <td>0.0</td>\n",
       "      <td>0.0</td>\n",
       "      <td>1.0</td>\n",
       "      <td>0.0</td>\n",
       "      <td>0.0</td>\n",
       "      <td>0.0</td>\n",
       "      <td>0.0</td>\n",
       "      <td>0.0</td>\n",
       "      <td>0.0</td>\n",
       "      <td>0.0</td>\n",
       "      <td>0.0</td>\n",
       "      <td>0.0</td>\n",
       "      <td>0.0</td>\n",
       "      <td>0.0</td>\n",
       "      <td>0.0</td>\n",
       "      <td>1.0</td>\n",
       "      <td>0.0</td>\n",
       "      <td>0.0</td>\n",
       "      <td>0.0</td>\n",
       "      <td>0.0</td>\n",
       "      <td>0.0</td>\n",
       "      <td>0.0</td>\n",
       "      <td>0.0</td>\n",
       "      <td>12.542545</td>\n",
       "    </tr>\n",
       "    <tr>\n",
       "      <th>2</th>\n",
       "      <td>0.440317</td>\n",
       "      <td>0.484745</td>\n",
       "      <td>0.0</td>\n",
       "      <td>0.0</td>\n",
       "      <td>0.0</td>\n",
       "      <td>0.0</td>\n",
       "      <td>1.0</td>\n",
       "      <td>0.0</td>\n",
       "      <td>0.0</td>\n",
       "      <td>0.028034</td>\n",
       "      <td>0.930600</td>\n",
       "      <td>0.467178</td>\n",
       "      <td>-0.159434</td>\n",
       "      <td>0.052529</td>\n",
       "      <td>1.527639</td>\n",
       "      <td>1.455010</td>\n",
       "      <td>1.372901</td>\n",
       "      <td>1.783389</td>\n",
       "      <td>1.168042</td>\n",
       "      <td>1.580055</td>\n",
       "      <td>-0.251076</td>\n",
       "      <td>1.452250</td>\n",
       "      <td>1.266302</td>\n",
       "      <td>1.118847</td>\n",
       "      <td>0.389872</td>\n",
       "      <td>-0.375658</td>\n",
       "      <td>-1.150427</td>\n",
       "      <td>1.517406</td>\n",
       "      <td>1.0</td>\n",
       "      <td>0.0</td>\n",
       "      <td>1.0</td>\n",
       "      <td>0.0</td>\n",
       "      <td>0.0</td>\n",
       "      <td>0.0</td>\n",
       "      <td>0.0</td>\n",
       "      <td>0.0</td>\n",
       "      <td>0.0</td>\n",
       "      <td>0.0</td>\n",
       "      <td>1.0</td>\n",
       "      <td>0.0</td>\n",
       "      <td>0.0</td>\n",
       "      <td>0.0</td>\n",
       "      <td>0.0</td>\n",
       "      <td>0.0</td>\n",
       "      <td>0.0</td>\n",
       "      <td>0.0</td>\n",
       "      <td>0.0</td>\n",
       "      <td>0.0</td>\n",
       "      <td>0.0</td>\n",
       "      <td>0.0</td>\n",
       "      <td>0.0</td>\n",
       "      <td>1.0</td>\n",
       "      <td>1.0</td>\n",
       "      <td>0.0</td>\n",
       "      <td>0.0</td>\n",
       "      <td>0.0</td>\n",
       "      <td>0.0</td>\n",
       "      <td>0.0</td>\n",
       "      <td>0.0</td>\n",
       "      <td>12.611538</td>\n",
       "    </tr>\n",
       "    <tr>\n",
       "      <th>3</th>\n",
       "      <td>0.440317</td>\n",
       "      <td>-0.714820</td>\n",
       "      <td>0.0</td>\n",
       "      <td>0.0</td>\n",
       "      <td>0.0</td>\n",
       "      <td>0.0</td>\n",
       "      <td>1.0</td>\n",
       "      <td>0.0</td>\n",
       "      <td>0.0</td>\n",
       "      <td>0.028034</td>\n",
       "      <td>-0.475764</td>\n",
       "      <td>0.467178</td>\n",
       "      <td>-0.159434</td>\n",
       "      <td>0.355098</td>\n",
       "      <td>1.527639</td>\n",
       "      <td>1.455010</td>\n",
       "      <td>1.372901</td>\n",
       "      <td>1.783389</td>\n",
       "      <td>0.721555</td>\n",
       "      <td>1.580055</td>\n",
       "      <td>-0.656660</td>\n",
       "      <td>1.452250</td>\n",
       "      <td>1.266302</td>\n",
       "      <td>1.522063</td>\n",
       "      <td>0.389872</td>\n",
       "      <td>-0.020772</td>\n",
       "      <td>0.835241</td>\n",
       "      <td>-0.360653</td>\n",
       "      <td>1.0</td>\n",
       "      <td>0.0</td>\n",
       "      <td>1.0</td>\n",
       "      <td>0.0</td>\n",
       "      <td>0.0</td>\n",
       "      <td>0.0</td>\n",
       "      <td>0.0</td>\n",
       "      <td>0.0</td>\n",
       "      <td>0.0</td>\n",
       "      <td>0.0</td>\n",
       "      <td>1.0</td>\n",
       "      <td>0.0</td>\n",
       "      <td>0.0</td>\n",
       "      <td>0.0</td>\n",
       "      <td>0.0</td>\n",
       "      <td>0.0</td>\n",
       "      <td>0.0</td>\n",
       "      <td>0.0</td>\n",
       "      <td>0.0</td>\n",
       "      <td>0.0</td>\n",
       "      <td>0.0</td>\n",
       "      <td>0.0</td>\n",
       "      <td>0.0</td>\n",
       "      <td>1.0</td>\n",
       "      <td>1.0</td>\n",
       "      <td>0.0</td>\n",
       "      <td>0.0</td>\n",
       "      <td>0.0</td>\n",
       "      <td>0.0</td>\n",
       "      <td>0.0</td>\n",
       "      <td>0.0</td>\n",
       "      <td>12.706696</td>\n",
       "    </tr>\n",
       "    <tr>\n",
       "      <th>4</th>\n",
       "      <td>1.325043</td>\n",
       "      <td>0.084890</td>\n",
       "      <td>0.0</td>\n",
       "      <td>0.0</td>\n",
       "      <td>0.0</td>\n",
       "      <td>1.0</td>\n",
       "      <td>0.0</td>\n",
       "      <td>0.0</td>\n",
       "      <td>0.0</td>\n",
       "      <td>1.114890</td>\n",
       "      <td>2.336964</td>\n",
       "      <td>0.467178</td>\n",
       "      <td>1.646290</td>\n",
       "      <td>-0.552609</td>\n",
       "      <td>-0.361760</td>\n",
       "      <td>-0.426275</td>\n",
       "      <td>-0.678513</td>\n",
       "      <td>-0.697277</td>\n",
       "      <td>-0.171419</td>\n",
       "      <td>-0.483022</td>\n",
       "      <td>0.154508</td>\n",
       "      <td>0.271711</td>\n",
       "      <td>-0.329238</td>\n",
       "      <td>-0.494021</td>\n",
       "      <td>0.389872</td>\n",
       "      <td>-1.085430</td>\n",
       "      <td>-1.150427</td>\n",
       "      <td>1.517406</td>\n",
       "      <td>0.0</td>\n",
       "      <td>1.0</td>\n",
       "      <td>0.0</td>\n",
       "      <td>0.0</td>\n",
       "      <td>0.0</td>\n",
       "      <td>0.0</td>\n",
       "      <td>0.0</td>\n",
       "      <td>0.0</td>\n",
       "      <td>0.0</td>\n",
       "      <td>0.0</td>\n",
       "      <td>0.0</td>\n",
       "      <td>0.0</td>\n",
       "      <td>0.0</td>\n",
       "      <td>0.0</td>\n",
       "      <td>0.0</td>\n",
       "      <td>1.0</td>\n",
       "      <td>0.0</td>\n",
       "      <td>0.0</td>\n",
       "      <td>0.0</td>\n",
       "      <td>0.0</td>\n",
       "      <td>0.0</td>\n",
       "      <td>0.0</td>\n",
       "      <td>0.0</td>\n",
       "      <td>1.0</td>\n",
       "      <td>1.0</td>\n",
       "      <td>0.0</td>\n",
       "      <td>0.0</td>\n",
       "      <td>0.0</td>\n",
       "      <td>0.0</td>\n",
       "      <td>0.0</td>\n",
       "      <td>0.0</td>\n",
       "      <td>13.122363</td>\n",
       "    </tr>\n",
       "    <tr>\n",
       "      <th>...</th>\n",
       "      <td>...</td>\n",
       "      <td>...</td>\n",
       "      <td>...</td>\n",
       "      <td>...</td>\n",
       "      <td>...</td>\n",
       "      <td>...</td>\n",
       "      <td>...</td>\n",
       "      <td>...</td>\n",
       "      <td>...</td>\n",
       "      <td>...</td>\n",
       "      <td>...</td>\n",
       "      <td>...</td>\n",
       "      <td>...</td>\n",
       "      <td>...</td>\n",
       "      <td>...</td>\n",
       "      <td>...</td>\n",
       "      <td>...</td>\n",
       "      <td>...</td>\n",
       "      <td>...</td>\n",
       "      <td>...</td>\n",
       "      <td>...</td>\n",
       "      <td>...</td>\n",
       "      <td>...</td>\n",
       "      <td>...</td>\n",
       "      <td>...</td>\n",
       "      <td>...</td>\n",
       "      <td>...</td>\n",
       "      <td>...</td>\n",
       "      <td>...</td>\n",
       "      <td>...</td>\n",
       "      <td>...</td>\n",
       "      <td>...</td>\n",
       "      <td>...</td>\n",
       "      <td>...</td>\n",
       "      <td>...</td>\n",
       "      <td>...</td>\n",
       "      <td>...</td>\n",
       "      <td>...</td>\n",
       "      <td>...</td>\n",
       "      <td>...</td>\n",
       "      <td>...</td>\n",
       "      <td>...</td>\n",
       "      <td>...</td>\n",
       "      <td>...</td>\n",
       "      <td>...</td>\n",
       "      <td>...</td>\n",
       "      <td>...</td>\n",
       "      <td>...</td>\n",
       "      <td>...</td>\n",
       "      <td>...</td>\n",
       "      <td>...</td>\n",
       "      <td>...</td>\n",
       "      <td>...</td>\n",
       "      <td>...</td>\n",
       "      <td>...</td>\n",
       "      <td>...</td>\n",
       "      <td>...</td>\n",
       "      <td>...</td>\n",
       "      <td>...</td>\n",
       "      <td>...</td>\n",
       "    </tr>\n",
       "    <tr>\n",
       "      <th>1003</th>\n",
       "      <td>-0.326445</td>\n",
       "      <td>-0.714820</td>\n",
       "      <td>1.0</td>\n",
       "      <td>0.0</td>\n",
       "      <td>0.0</td>\n",
       "      <td>0.0</td>\n",
       "      <td>0.0</td>\n",
       "      <td>0.0</td>\n",
       "      <td>0.0</td>\n",
       "      <td>1.114890</td>\n",
       "      <td>0.930600</td>\n",
       "      <td>-0.710110</td>\n",
       "      <td>-0.159434</td>\n",
       "      <td>1.565374</td>\n",
       "      <td>0.771879</td>\n",
       "      <td>0.326239</td>\n",
       "      <td>1.372901</td>\n",
       "      <td>0.129612</td>\n",
       "      <td>1.614528</td>\n",
       "      <td>1.167440</td>\n",
       "      <td>-1.062244</td>\n",
       "      <td>1.452250</td>\n",
       "      <td>0.069647</td>\n",
       "      <td>0.312413</td>\n",
       "      <td>-2.564946</td>\n",
       "      <td>2.108545</td>\n",
       "      <td>-1.150427</td>\n",
       "      <td>1.249112</td>\n",
       "      <td>0.0</td>\n",
       "      <td>1.0</td>\n",
       "      <td>0.0</td>\n",
       "      <td>0.0</td>\n",
       "      <td>0.0</td>\n",
       "      <td>0.0</td>\n",
       "      <td>0.0</td>\n",
       "      <td>0.0</td>\n",
       "      <td>0.0</td>\n",
       "      <td>0.0</td>\n",
       "      <td>0.0</td>\n",
       "      <td>0.0</td>\n",
       "      <td>0.0</td>\n",
       "      <td>0.0</td>\n",
       "      <td>0.0</td>\n",
       "      <td>1.0</td>\n",
       "      <td>0.0</td>\n",
       "      <td>0.0</td>\n",
       "      <td>0.0</td>\n",
       "      <td>0.0</td>\n",
       "      <td>0.0</td>\n",
       "      <td>0.0</td>\n",
       "      <td>0.0</td>\n",
       "      <td>1.0</td>\n",
       "      <td>0.0</td>\n",
       "      <td>0.0</td>\n",
       "      <td>0.0</td>\n",
       "      <td>0.0</td>\n",
       "      <td>0.0</td>\n",
       "      <td>0.0</td>\n",
       "      <td>1.0</td>\n",
       "      <td>12.506177</td>\n",
       "    </tr>\n",
       "    <tr>\n",
       "      <th>1004</th>\n",
       "      <td>-0.813045</td>\n",
       "      <td>-0.314965</td>\n",
       "      <td>0.0</td>\n",
       "      <td>0.0</td>\n",
       "      <td>0.0</td>\n",
       "      <td>0.0</td>\n",
       "      <td>1.0</td>\n",
       "      <td>0.0</td>\n",
       "      <td>0.0</td>\n",
       "      <td>-1.058822</td>\n",
       "      <td>-0.475764</td>\n",
       "      <td>0.467178</td>\n",
       "      <td>-0.159434</td>\n",
       "      <td>-0.250040</td>\n",
       "      <td>1.527639</td>\n",
       "      <td>1.455010</td>\n",
       "      <td>0.962618</td>\n",
       "      <td>1.369945</td>\n",
       "      <td>0.721555</td>\n",
       "      <td>1.167440</td>\n",
       "      <td>0.965677</td>\n",
       "      <td>1.058737</td>\n",
       "      <td>1.266302</td>\n",
       "      <td>1.522063</td>\n",
       "      <td>0.389872</td>\n",
       "      <td>-0.730544</td>\n",
       "      <td>-1.150427</td>\n",
       "      <td>1.785700</td>\n",
       "      <td>1.0</td>\n",
       "      <td>0.0</td>\n",
       "      <td>1.0</td>\n",
       "      <td>0.0</td>\n",
       "      <td>0.0</td>\n",
       "      <td>0.0</td>\n",
       "      <td>0.0</td>\n",
       "      <td>0.0</td>\n",
       "      <td>0.0</td>\n",
       "      <td>0.0</td>\n",
       "      <td>1.0</td>\n",
       "      <td>0.0</td>\n",
       "      <td>0.0</td>\n",
       "      <td>0.0</td>\n",
       "      <td>0.0</td>\n",
       "      <td>0.0</td>\n",
       "      <td>0.0</td>\n",
       "      <td>0.0</td>\n",
       "      <td>0.0</td>\n",
       "      <td>0.0</td>\n",
       "      <td>0.0</td>\n",
       "      <td>0.0</td>\n",
       "      <td>0.0</td>\n",
       "      <td>1.0</td>\n",
       "      <td>0.0</td>\n",
       "      <td>0.0</td>\n",
       "      <td>0.0</td>\n",
       "      <td>0.0</td>\n",
       "      <td>0.0</td>\n",
       "      <td>0.0</td>\n",
       "      <td>0.0</td>\n",
       "      <td>12.751300</td>\n",
       "    </tr>\n",
       "    <tr>\n",
       "      <th>1005</th>\n",
       "      <td>-0.636099</td>\n",
       "      <td>-0.314965</td>\n",
       "      <td>0.0</td>\n",
       "      <td>0.0</td>\n",
       "      <td>1.0</td>\n",
       "      <td>0.0</td>\n",
       "      <td>0.0</td>\n",
       "      <td>0.0</td>\n",
       "      <td>0.0</td>\n",
       "      <td>0.028034</td>\n",
       "      <td>-0.475764</td>\n",
       "      <td>0.467178</td>\n",
       "      <td>-0.159434</td>\n",
       "      <td>0.052529</td>\n",
       "      <td>0.394000</td>\n",
       "      <td>0.326239</td>\n",
       "      <td>0.142052</td>\n",
       "      <td>-0.283833</td>\n",
       "      <td>-0.171419</td>\n",
       "      <td>0.342209</td>\n",
       "      <td>1.371261</td>\n",
       "      <td>-0.515314</td>\n",
       "      <td>0.468532</td>\n",
       "      <td>0.715630</td>\n",
       "      <td>0.389872</td>\n",
       "      <td>-1.085430</td>\n",
       "      <td>-1.150427</td>\n",
       "      <td>1.785700</td>\n",
       "      <td>1.0</td>\n",
       "      <td>0.0</td>\n",
       "      <td>1.0</td>\n",
       "      <td>0.0</td>\n",
       "      <td>0.0</td>\n",
       "      <td>1.0</td>\n",
       "      <td>0.0</td>\n",
       "      <td>0.0</td>\n",
       "      <td>0.0</td>\n",
       "      <td>0.0</td>\n",
       "      <td>0.0</td>\n",
       "      <td>0.0</td>\n",
       "      <td>0.0</td>\n",
       "      <td>0.0</td>\n",
       "      <td>0.0</td>\n",
       "      <td>0.0</td>\n",
       "      <td>0.0</td>\n",
       "      <td>0.0</td>\n",
       "      <td>0.0</td>\n",
       "      <td>0.0</td>\n",
       "      <td>0.0</td>\n",
       "      <td>0.0</td>\n",
       "      <td>0.0</td>\n",
       "      <td>1.0</td>\n",
       "      <td>0.0</td>\n",
       "      <td>0.0</td>\n",
       "      <td>0.0</td>\n",
       "      <td>0.0</td>\n",
       "      <td>0.0</td>\n",
       "      <td>0.0</td>\n",
       "      <td>1.0</td>\n",
       "      <td>11.775290</td>\n",
       "    </tr>\n",
       "    <tr>\n",
       "      <th>1006</th>\n",
       "      <td>-0.700389</td>\n",
       "      <td>-0.714820</td>\n",
       "      <td>0.0</td>\n",
       "      <td>1.0</td>\n",
       "      <td>0.0</td>\n",
       "      <td>0.0</td>\n",
       "      <td>0.0</td>\n",
       "      <td>0.0</td>\n",
       "      <td>0.0</td>\n",
       "      <td>-1.058822</td>\n",
       "      <td>-1.882128</td>\n",
       "      <td>0.467178</td>\n",
       "      <td>-0.159434</td>\n",
       "      <td>0.960236</td>\n",
       "      <td>-0.739640</td>\n",
       "      <td>-0.802532</td>\n",
       "      <td>-1.088796</td>\n",
       "      <td>-0.283833</td>\n",
       "      <td>-0.617906</td>\n",
       "      <td>-0.483022</td>\n",
       "      <td>0.154508</td>\n",
       "      <td>-1.695853</td>\n",
       "      <td>-0.728123</td>\n",
       "      <td>-0.897237</td>\n",
       "      <td>0.389872</td>\n",
       "      <td>-0.020772</td>\n",
       "      <td>0.835241</td>\n",
       "      <td>-0.360653</td>\n",
       "      <td>1.0</td>\n",
       "      <td>0.0</td>\n",
       "      <td>1.0</td>\n",
       "      <td>0.0</td>\n",
       "      <td>0.0</td>\n",
       "      <td>0.0</td>\n",
       "      <td>0.0</td>\n",
       "      <td>0.0</td>\n",
       "      <td>1.0</td>\n",
       "      <td>0.0</td>\n",
       "      <td>0.0</td>\n",
       "      <td>0.0</td>\n",
       "      <td>0.0</td>\n",
       "      <td>0.0</td>\n",
       "      <td>0.0</td>\n",
       "      <td>0.0</td>\n",
       "      <td>0.0</td>\n",
       "      <td>0.0</td>\n",
       "      <td>0.0</td>\n",
       "      <td>0.0</td>\n",
       "      <td>0.0</td>\n",
       "      <td>0.0</td>\n",
       "      <td>0.0</td>\n",
       "      <td>1.0</td>\n",
       "      <td>0.0</td>\n",
       "      <td>0.0</td>\n",
       "      <td>0.0</td>\n",
       "      <td>0.0</td>\n",
       "      <td>0.0</td>\n",
       "      <td>1.0</td>\n",
       "      <td>0.0</td>\n",
       "      <td>12.345835</td>\n",
       "    </tr>\n",
       "    <tr>\n",
       "      <th>1007</th>\n",
       "      <td>-1.152190</td>\n",
       "      <td>0.084890</td>\n",
       "      <td>0.0</td>\n",
       "      <td>0.0</td>\n",
       "      <td>1.0</td>\n",
       "      <td>0.0</td>\n",
       "      <td>0.0</td>\n",
       "      <td>0.0</td>\n",
       "      <td>0.0</td>\n",
       "      <td>-1.058822</td>\n",
       "      <td>-0.475764</td>\n",
       "      <td>-0.710110</td>\n",
       "      <td>-0.159434</td>\n",
       "      <td>1.565374</td>\n",
       "      <td>-0.739640</td>\n",
       "      <td>-0.426275</td>\n",
       "      <td>-0.268231</td>\n",
       "      <td>-0.283833</td>\n",
       "      <td>-0.171419</td>\n",
       "      <td>0.342209</td>\n",
       "      <td>-2.278997</td>\n",
       "      <td>-0.121802</td>\n",
       "      <td>-1.127008</td>\n",
       "      <td>0.312413</td>\n",
       "      <td>0.389872</td>\n",
       "      <td>-0.020772</td>\n",
       "      <td>0.835241</td>\n",
       "      <td>-0.897242</td>\n",
       "      <td>1.0</td>\n",
       "      <td>0.0</td>\n",
       "      <td>1.0</td>\n",
       "      <td>0.0</td>\n",
       "      <td>0.0</td>\n",
       "      <td>1.0</td>\n",
       "      <td>0.0</td>\n",
       "      <td>0.0</td>\n",
       "      <td>0.0</td>\n",
       "      <td>0.0</td>\n",
       "      <td>0.0</td>\n",
       "      <td>0.0</td>\n",
       "      <td>0.0</td>\n",
       "      <td>0.0</td>\n",
       "      <td>0.0</td>\n",
       "      <td>0.0</td>\n",
       "      <td>0.0</td>\n",
       "      <td>0.0</td>\n",
       "      <td>0.0</td>\n",
       "      <td>0.0</td>\n",
       "      <td>0.0</td>\n",
       "      <td>0.0</td>\n",
       "      <td>0.0</td>\n",
       "      <td>1.0</td>\n",
       "      <td>0.0</td>\n",
       "      <td>0.0</td>\n",
       "      <td>1.0</td>\n",
       "      <td>0.0</td>\n",
       "      <td>0.0</td>\n",
       "      <td>0.0</td>\n",
       "      <td>0.0</td>\n",
       "      <td>11.674194</td>\n",
       "    </tr>\n",
       "  </tbody>\n",
       "</table>\n",
       "<p>1008 rows × 60 columns</p>\n",
       "</div>"
      ],
      "text/plain": [
       "      TOTAL_FLOOR_AREA_median  diff_published_date  cluster_1  cluster_2  \\\n",
       "0                    0.115918             0.084890        0.0        0.0   \n",
       "1                   -0.414918            -0.314965        0.0        0.0   \n",
       "2                    0.440317             0.484745        0.0        0.0   \n",
       "3                    0.440317            -0.714820        0.0        0.0   \n",
       "4                    1.325043             0.084890        0.0        0.0   \n",
       "...                       ...                  ...        ...        ...   \n",
       "1003                -0.326445            -0.714820        1.0        0.0   \n",
       "1004                -0.813045            -0.314965        0.0        0.0   \n",
       "1005                -0.636099            -0.314965        0.0        0.0   \n",
       "1006                -0.700389            -0.714820        0.0        1.0   \n",
       "1007                -1.152190             0.084890        0.0        0.0   \n",
       "\n",
       "      cluster_3  cluster_4  cluster_5  cluster_6  cluster_7  num_bedrooms  \\\n",
       "0           0.0        0.0        0.0        1.0        0.0      1.114890   \n",
       "1           0.0        0.0        0.0        1.0        0.0     -1.058822   \n",
       "2           0.0        0.0        1.0        0.0        0.0      0.028034   \n",
       "3           0.0        0.0        1.0        0.0        0.0      0.028034   \n",
       "4           0.0        1.0        0.0        0.0        0.0      1.114890   \n",
       "...         ...        ...        ...        ...        ...           ...   \n",
       "1003        0.0        0.0        0.0        0.0        0.0      1.114890   \n",
       "1004        0.0        0.0        1.0        0.0        0.0     -1.058822   \n",
       "1005        1.0        0.0        0.0        0.0        0.0      0.028034   \n",
       "1006        0.0        0.0        0.0        0.0        0.0     -1.058822   \n",
       "1007        1.0        0.0        0.0        0.0        0.0     -1.058822   \n",
       "\n",
       "      num_bathrooms  CURRENT_ENERGY_RATING_mode  POTENTIAL_ENERGY_RATING_mode  \\\n",
       "0          0.930600                   -1.887397                     -1.965158   \n",
       "1         -0.475764                    0.467178                      1.646290   \n",
       "2          0.930600                    0.467178                     -0.159434   \n",
       "3         -0.475764                    0.467178                     -0.159434   \n",
       "4          2.336964                    0.467178                      1.646290   \n",
       "...             ...                         ...                           ...   \n",
       "1003       0.930600                   -0.710110                     -0.159434   \n",
       "1004      -0.475764                    0.467178                     -0.159434   \n",
       "1005      -0.475764                    0.467178                     -0.159434   \n",
       "1006      -1.882128                    0.467178                     -0.159434   \n",
       "1007      -0.475764                   -0.710110                     -0.159434   \n",
       "\n",
       "      CONSTRUCTION_AGE_BAND_mode  Index of Multiple Deprivation Decile  \\\n",
       "0                       2.170512                              0.771879   \n",
       "1                      -0.250040                              1.149759   \n",
       "2                       0.052529                              1.527639   \n",
       "3                       0.355098                              1.527639   \n",
       "4                      -0.552609                             -0.361760   \n",
       "...                          ...                                   ...   \n",
       "1003                    1.565374                              0.771879   \n",
       "1004                   -0.250040                              1.527639   \n",
       "1005                    0.052529                              0.394000   \n",
       "1006                    0.960236                             -0.739640   \n",
       "1007                    1.565374                             -0.739640   \n",
       "\n",
       "      Income Decile  Employment Decile  Education and Skills Decile  \\\n",
       "0          1.078753           0.962618                     1.783389   \n",
       "1          1.078753           0.962618                     1.783389   \n",
       "2          1.455010           1.372901                     1.783389   \n",
       "3          1.455010           1.372901                     1.783389   \n",
       "4         -0.426275          -0.678513                    -0.697277   \n",
       "...             ...                ...                          ...   \n",
       "1003       0.326239           1.372901                     0.129612   \n",
       "1004       1.455010           0.962618                     1.369945   \n",
       "1005       0.326239           0.142052                    -0.283833   \n",
       "1006      -0.802532          -1.088796                    -0.283833   \n",
       "1007      -0.426275          -0.268231                    -0.283833   \n",
       "\n",
       "      Health and Disability Decile  Crime Decile  \\\n",
       "0                         0.721555      0.342209   \n",
       "1                        -0.171419      1.580055   \n",
       "2                         1.168042      1.580055   \n",
       "3                         0.721555      1.580055   \n",
       "4                        -0.171419     -0.483022   \n",
       "...                            ...           ...   \n",
       "1003                      1.614528      1.167440   \n",
       "1004                      0.721555      1.167440   \n",
       "1005                     -0.171419      0.342209   \n",
       "1006                     -0.617906     -0.483022   \n",
       "1007                     -0.171419      0.342209   \n",
       "\n",
       "      Barriers to Housing and Services Decile  Living Environment Decile  \\\n",
       "0                                   -1.467828                  -0.121802   \n",
       "1                                    0.965677                   1.058737   \n",
       "2                                   -0.251076                   1.452250   \n",
       "3                                   -0.656660                   1.452250   \n",
       "4                                    0.154508                   0.271711   \n",
       "...                                       ...                        ...   \n",
       "1003                                -1.062244                   1.452250   \n",
       "1004                                 0.965677                   1.058737   \n",
       "1005                                 1.371261                  -0.515314   \n",
       "1006                                 0.154508                  -1.695853   \n",
       "1007                                -2.278997                  -0.121802   \n",
       "\n",
       "      IDACI Decile  IDAOPI Decile  last_published_year  last_published_month  \\\n",
       "0         1.266302       1.118847             0.389872             -0.020772   \n",
       "1         1.266302       1.522063             0.389872             -0.020772   \n",
       "2         1.266302       1.118847             0.389872             -0.375658   \n",
       "3         1.266302       1.522063             0.389872             -0.020772   \n",
       "4        -0.329238      -0.494021             0.389872             -1.085430   \n",
       "...            ...            ...                  ...                   ...   \n",
       "1003      0.069647       0.312413            -2.564946              2.108545   \n",
       "1004      1.266302       1.522063             0.389872             -0.730544   \n",
       "1005      0.468532       0.715630             0.389872             -1.085430   \n",
       "1006     -0.728123      -0.897237             0.389872             -0.020772   \n",
       "1007     -1.127008       0.312413             0.389872             -0.020772   \n",
       "\n",
       "      first_published_year  first_published_month  post_town_Nuneaton  \\\n",
       "0                 0.835241              -1.165536                 1.0   \n",
       "1                 0.835241              -0.897242                 1.0   \n",
       "2                -1.150427               1.517406                 1.0   \n",
       "3                 0.835241              -0.360653                 1.0   \n",
       "4                -1.150427               1.517406                 0.0   \n",
       "...                    ...                    ...                 ...   \n",
       "1003             -1.150427               1.249112                 0.0   \n",
       "1004             -1.150427               1.785700                 1.0   \n",
       "1005             -1.150427               1.785700                 1.0   \n",
       "1006              0.835241              -0.360653                 1.0   \n",
       "1007              0.835241              -0.897242                 1.0   \n",
       "\n",
       "      parish_Hinckley and Bosworth, unparished area  \\\n",
       "0                                               0.0   \n",
       "1                                               0.0   \n",
       "2                                               0.0   \n",
       "3                                               0.0   \n",
       "4                                               1.0   \n",
       "...                                             ...   \n",
       "1003                                            1.0   \n",
       "1004                                            0.0   \n",
       "1005                                            0.0   \n",
       "1006                                            0.0   \n",
       "1007                                            0.0   \n",
       "\n",
       "      parish_Nuneaton and Bedworth, unparished area  parish_Other  \\\n",
       "0                                               1.0           0.0   \n",
       "1                                               1.0           0.0   \n",
       "2                                               1.0           0.0   \n",
       "3                                               1.0           0.0   \n",
       "4                                               0.0           0.0   \n",
       "...                                             ...           ...   \n",
       "1003                                            0.0           0.0   \n",
       "1004                                            1.0           0.0   \n",
       "1005                                            1.0           0.0   \n",
       "1006                                            1.0           0.0   \n",
       "1007                                            1.0           0.0   \n",
       "\n",
       "      parish_Stoke Golding  postcode_CV10 7  postcode_CV10 8  postcode_CV10 9  \\\n",
       "0                      0.0              0.0              0.0              0.0   \n",
       "1                      0.0              0.0              0.0              0.0   \n",
       "2                      0.0              0.0              0.0              0.0   \n",
       "3                      0.0              0.0              0.0              0.0   \n",
       "4                      0.0              0.0              0.0              0.0   \n",
       "...                    ...              ...              ...              ...   \n",
       "1003                   0.0              0.0              0.0              0.0   \n",
       "1004                   0.0              0.0              0.0              0.0   \n",
       "1005                   0.0              1.0              0.0              0.0   \n",
       "1006                   0.0              0.0              0.0              0.0   \n",
       "1007                   0.0              1.0              0.0              0.0   \n",
       "\n",
       "      postcode_CV11 4  postcode_CV11 5  postcode_CV11 6  postcode_CV11 7  \\\n",
       "0                 0.0              0.0              1.0              0.0   \n",
       "1                 0.0              0.0              1.0              0.0   \n",
       "2                 0.0              0.0              1.0              0.0   \n",
       "3                 0.0              0.0              1.0              0.0   \n",
       "4                 0.0              0.0              0.0              0.0   \n",
       "...               ...              ...              ...              ...   \n",
       "1003              0.0              0.0              0.0              0.0   \n",
       "1004              0.0              0.0              1.0              0.0   \n",
       "1005              0.0              0.0              0.0              0.0   \n",
       "1006              1.0              0.0              0.0              0.0   \n",
       "1007              0.0              0.0              0.0              0.0   \n",
       "\n",
       "      postcode_CV12 9  postcode_CV13 0  postcode_CV13 6  postcode_LE10 0  \\\n",
       "0                 0.0              0.0              0.0              0.0   \n",
       "1                 0.0              0.0              0.0              0.0   \n",
       "2                 0.0              0.0              0.0              0.0   \n",
       "3                 0.0              0.0              0.0              0.0   \n",
       "4                 0.0              0.0              0.0              1.0   \n",
       "...               ...              ...              ...              ...   \n",
       "1003              0.0              0.0              0.0              1.0   \n",
       "1004              0.0              0.0              0.0              0.0   \n",
       "1005              0.0              0.0              0.0              0.0   \n",
       "1006              0.0              0.0              0.0              0.0   \n",
       "1007              0.0              0.0              0.0              0.0   \n",
       "\n",
       "      postcode_LE10 1  postcode_LE10 2  postcode_LE10 3  postcode_LE9 7  \\\n",
       "0                 0.0              0.0              0.0             0.0   \n",
       "1                 0.0              0.0              0.0             0.0   \n",
       "2                 0.0              0.0              0.0             0.0   \n",
       "3                 0.0              0.0              0.0             0.0   \n",
       "4                 0.0              0.0              0.0             0.0   \n",
       "...               ...              ...              ...             ...   \n",
       "1003              0.0              0.0              0.0             0.0   \n",
       "1004              0.0              0.0              0.0             0.0   \n",
       "1005              0.0              0.0              0.0             0.0   \n",
       "1006              0.0              0.0              0.0             0.0   \n",
       "1007              0.0              0.0              0.0             0.0   \n",
       "\n",
       "      postcode_LE9 8  postcode_LE9 9  PROB_4BAND_Medium  PROB_4BAND_None  \\\n",
       "0                0.0             0.0                0.0              1.0   \n",
       "1                0.0             0.0                0.0              1.0   \n",
       "2                0.0             0.0                0.0              1.0   \n",
       "3                0.0             0.0                0.0              1.0   \n",
       "4                0.0             0.0                0.0              1.0   \n",
       "...              ...             ...                ...              ...   \n",
       "1003             0.0             0.0                0.0              1.0   \n",
       "1004             0.0             0.0                0.0              1.0   \n",
       "1005             0.0             0.0                0.0              1.0   \n",
       "1006             0.0             0.0                0.0              1.0   \n",
       "1007             0.0             0.0                0.0              1.0   \n",
       "\n",
       "      property_type_general_Detached house  \\\n",
       "0                                      1.0   \n",
       "1                                      0.0   \n",
       "2                                      1.0   \n",
       "3                                      1.0   \n",
       "4                                      1.0   \n",
       "...                                    ...   \n",
       "1003                                   0.0   \n",
       "1004                                   0.0   \n",
       "1005                                   0.0   \n",
       "1006                                   0.0   \n",
       "1007                                   0.0   \n",
       "\n",
       "      property_type_general_End terrace house  property_type_general_Flat  \\\n",
       "0                                         0.0                         0.0   \n",
       "1                                         0.0                         0.0   \n",
       "2                                         0.0                         0.0   \n",
       "3                                         0.0                         0.0   \n",
       "4                                         0.0                         0.0   \n",
       "...                                       ...                         ...   \n",
       "1003                                      0.0                         0.0   \n",
       "1004                                      0.0                         0.0   \n",
       "1005                                      0.0                         0.0   \n",
       "1006                                      0.0                         0.0   \n",
       "1007                                      0.0                         1.0   \n",
       "\n",
       "      property_type_general_Maisonette  property_type_general_Other/Unknown  \\\n",
       "0                                  0.0                                  0.0   \n",
       "1                                  0.0                                  0.0   \n",
       "2                                  0.0                                  0.0   \n",
       "3                                  0.0                                  0.0   \n",
       "4                                  0.0                                  0.0   \n",
       "...                                ...                                  ...   \n",
       "1003                               0.0                                  0.0   \n",
       "1004                               0.0                                  0.0   \n",
       "1005                               0.0                                  0.0   \n",
       "1006                               0.0                                  0.0   \n",
       "1007                               0.0                                  0.0   \n",
       "\n",
       "      property_type_general_Semi-detached house  \\\n",
       "0                                           0.0   \n",
       "1                                           0.0   \n",
       "2                                           0.0   \n",
       "3                                           0.0   \n",
       "4                                           0.0   \n",
       "...                                         ...   \n",
       "1003                                        0.0   \n",
       "1004                                        0.0   \n",
       "1005                                        0.0   \n",
       "1006                                        1.0   \n",
       "1007                                        0.0   \n",
       "\n",
       "      property_type_general_Terraced house  LOG_price  \n",
       "0                                      0.0  12.899220  \n",
       "1                                      0.0  12.542545  \n",
       "2                                      0.0  12.611538  \n",
       "3                                      0.0  12.706696  \n",
       "4                                      0.0  13.122363  \n",
       "...                                    ...        ...  \n",
       "1003                                   1.0  12.506177  \n",
       "1004                                   0.0  12.751300  \n",
       "1005                                   1.0  11.775290  \n",
       "1006                                   0.0  12.345835  \n",
       "1007                                   0.0  11.674194  \n",
       "\n",
       "[1008 rows x 60 columns]"
      ]
     },
     "execution_count": 20,
     "metadata": {},
     "output_type": "execute_result"
    }
   ],
   "source": [
    "zoopla_df_train"
   ]
  },
  {
   "cell_type": "code",
   "execution_count": null,
   "metadata": {},
   "outputs": [],
   "source": []
  }
 ],
 "metadata": {
  "kernelspec": {
   "display_name": "Python 3 (ipykernel)",
   "language": "python",
   "name": "python3"
  },
  "language_info": {
   "codemirror_mode": {
    "name": "ipython",
    "version": 3
   },
   "file_extension": ".py",
   "mimetype": "text/x-python",
   "name": "python",
   "nbconvert_exporter": "python",
   "pygments_lexer": "ipython3",
   "version": "3.11.0"
  }
 },
 "nbformat": 4,
 "nbformat_minor": 4
}
