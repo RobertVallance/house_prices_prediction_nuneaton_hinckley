{
 "cells": [
  {
   "cell_type": "markdown",
   "metadata": {},
   "source": [
    "# 4.0 Feature engineering\n",
    "Use our existing features to develop new features, convert categorical values to one-hot vectors, and drop others. We will \"fit\" to the training data and then transform to the test data"
   ]
  },
  {
   "cell_type": "code",
   "execution_count": 1,
   "metadata": {},
   "outputs": [],
   "source": [
    "import os\n",
    "import numpy as np\n",
    "import pandas as pd\n",
    "pd.set_option('display.max_columns', 100)\n",
    "\n",
    "from sklearn.base import BaseEstimator, TransformerMixin\n",
    "from sklearn.pipeline import Pipeline\n",
    "from sklearn.compose import ColumnTransformer\n",
    "from sklearn.impute import SimpleImputer\n",
    "from sklearn.preprocessing import StandardScaler, OneHotEncoder\n",
    "from sklearn.decomposition import PCA\n",
    "from sklearn.cluster import KMeans\n",
    "   \n",
    "import matplotlib.pyplot as plt\n",
    "%matplotlib inline\n",
    "import seaborn as sns"
   ]
  },
  {
   "cell_type": "code",
   "execution_count": 2,
   "metadata": {},
   "outputs": [],
   "source": [
    "DATA_FOLDER = os.path.join('data', 'processed_2')\n",
    "SAVE_FOLDER = os.path.join('data', 'final')"
   ]
  },
  {
   "cell_type": "markdown",
   "metadata": {},
   "source": [
    "### Read in our test and training data"
   ]
  },
  {
   "cell_type": "code",
   "execution_count": 3,
   "metadata": {},
   "outputs": [],
   "source": [
    "zoopla_df_train = pd.read_csv(os.path.join(DATA_FOLDER, 'zoopla_train.csv'), dtype=str)\n",
    "zoopla_df_test = pd.read_csv(os.path.join(DATA_FOLDER, 'zoopla_test.csv'), dtype=str)"
   ]
  },
  {
   "cell_type": "code",
   "execution_count": 4,
   "metadata": {},
   "outputs": [
    {
     "data": {
      "text/plain": [
       "Index(['listing_id', 'parish', 'post_town', 'postcode', 'latitude',\n",
       "       'longitude', 'num_bedrooms', 'num_bathrooms', 'price',\n",
       "       'property_type_general', 'CURRENT_ENERGY_RATING_mode',\n",
       "       'POTENTIAL_ENERGY_RATING_mode', 'TOTAL_FLOOR_AREA_median',\n",
       "       'NUMBER_HABITABLE_ROOMS_mode', 'CONSTRUCTION_AGE_BAND_mode',\n",
       "       'Index of Multiple Deprivation Decile', 'Income Decile',\n",
       "       'Employment Decile', 'Education and Skills Decile',\n",
       "       'Health and Disability Decile', 'Crime Decile',\n",
       "       'Barriers to Housing and Services Decile', 'Living Environment Decile',\n",
       "       'IDACI Decile', 'IDAOPI Decile', 'PROB_4BAND', 'diff_published_date',\n",
       "       'last_published_year', 'last_published_month', 'first_published_year',\n",
       "       'first_published_month'],\n",
       "      dtype='object')"
      ]
     },
     "execution_count": 4,
     "metadata": {},
     "output_type": "execute_result"
    }
   ],
   "source": [
    "zoopla_df_train.columns"
   ]
  },
  {
   "cell_type": "code",
   "execution_count": 5,
   "metadata": {},
   "outputs": [
    {
     "data": {
      "text/html": [
       "<div>\n",
       "<style scoped>\n",
       "    .dataframe tbody tr th:only-of-type {\n",
       "        vertical-align: middle;\n",
       "    }\n",
       "\n",
       "    .dataframe tbody tr th {\n",
       "        vertical-align: top;\n",
       "    }\n",
       "\n",
       "    .dataframe thead th {\n",
       "        text-align: right;\n",
       "    }\n",
       "</style>\n",
       "<table border=\"1\" class=\"dataframe\">\n",
       "  <thead>\n",
       "    <tr style=\"text-align: right;\">\n",
       "      <th></th>\n",
       "      <th>listing_id</th>\n",
       "      <th>parish</th>\n",
       "      <th>post_town</th>\n",
       "      <th>postcode</th>\n",
       "      <th>latitude</th>\n",
       "      <th>longitude</th>\n",
       "      <th>num_bedrooms</th>\n",
       "      <th>num_bathrooms</th>\n",
       "      <th>price</th>\n",
       "      <th>property_type_general</th>\n",
       "      <th>CURRENT_ENERGY_RATING_mode</th>\n",
       "      <th>POTENTIAL_ENERGY_RATING_mode</th>\n",
       "      <th>TOTAL_FLOOR_AREA_median</th>\n",
       "      <th>NUMBER_HABITABLE_ROOMS_mode</th>\n",
       "      <th>CONSTRUCTION_AGE_BAND_mode</th>\n",
       "      <th>Index of Multiple Deprivation Decile</th>\n",
       "      <th>Income Decile</th>\n",
       "      <th>Employment Decile</th>\n",
       "      <th>Education and Skills Decile</th>\n",
       "      <th>Health and Disability Decile</th>\n",
       "      <th>Crime Decile</th>\n",
       "      <th>Barriers to Housing and Services Decile</th>\n",
       "      <th>Living Environment Decile</th>\n",
       "      <th>IDACI Decile</th>\n",
       "      <th>IDAOPI Decile</th>\n",
       "      <th>PROB_4BAND</th>\n",
       "      <th>diff_published_date</th>\n",
       "      <th>last_published_year</th>\n",
       "      <th>last_published_month</th>\n",
       "      <th>first_published_year</th>\n",
       "      <th>first_published_month</th>\n",
       "    </tr>\n",
       "  </thead>\n",
       "  <tbody>\n",
       "    <tr>\n",
       "      <th>0</th>\n",
       "      <td>62385013</td>\n",
       "      <td>Hinckley and Bosworth, unparished area</td>\n",
       "      <td>Hinckley</td>\n",
       "      <td>LE10 0</td>\n",
       "      <td>52.5503</td>\n",
       "      <td>-1.386379</td>\n",
       "      <td>4</td>\n",
       "      <td>2</td>\n",
       "      <td>400000.0</td>\n",
       "      <td>Detached house</td>\n",
       "      <td>5.0</td>\n",
       "      <td>3.0</td>\n",
       "      <td>116.0</td>\n",
       "      <td>5.0</td>\n",
       "      <td>3.0</td>\n",
       "      <td>3</td>\n",
       "      <td>3</td>\n",
       "      <td>2</td>\n",
       "      <td>1</td>\n",
       "      <td>5</td>\n",
       "      <td>5</td>\n",
       "      <td>9</td>\n",
       "      <td>9</td>\n",
       "      <td>4</td>\n",
       "      <td>5</td>\n",
       "      <td>None</td>\n",
       "      <td>0</td>\n",
       "      <td>2022</td>\n",
       "      <td>9</td>\n",
       "      <td>2022</td>\n",
       "      <td>9</td>\n",
       "    </tr>\n",
       "    <tr>\n",
       "      <th>1</th>\n",
       "      <td>62716145</td>\n",
       "      <td>Nuneaton and Bedworth, unparished area</td>\n",
       "      <td>Nuneaton</td>\n",
       "      <td>CV10 9</td>\n",
       "      <td>52.525043000000004</td>\n",
       "      <td>-1.5155049999999999</td>\n",
       "      <td>3</td>\n",
       "      <td>1</td>\n",
       "      <td>250000.0</td>\n",
       "      <td>Semi-detached house</td>\n",
       "      <td>4.0</td>\n",
       "      <td>2.0</td>\n",
       "      <td>97.051</td>\n",
       "      <td>4.0</td>\n",
       "      <td>5.0</td>\n",
       "      <td>6</td>\n",
       "      <td>6</td>\n",
       "      <td>6</td>\n",
       "      <td>4</td>\n",
       "      <td>4</td>\n",
       "      <td>7</td>\n",
       "      <td>6</td>\n",
       "      <td>8</td>\n",
       "      <td>5</td>\n",
       "      <td>9</td>\n",
       "      <td>None</td>\n",
       "      <td>1</td>\n",
       "      <td>2022</td>\n",
       "      <td>11</td>\n",
       "      <td>2022</td>\n",
       "      <td>10</td>\n",
       "    </tr>\n",
       "    <tr>\n",
       "      <th>2</th>\n",
       "      <td>62579010</td>\n",
       "      <td>Nuneaton and Bedworth, unparished area</td>\n",
       "      <td>Nuneaton</td>\n",
       "      <td>CV10 0</td>\n",
       "      <td>52.534293999999996</td>\n",
       "      <td>-1.454733</td>\n",
       "      <td>3</td>\n",
       "      <td>1</td>\n",
       "      <td>290000.0</td>\n",
       "      <td>Semi-detached house</td>\n",
       "      <td>4.0</td>\n",
       "      <td>2.0</td>\n",
       "      <td>75.25</td>\n",
       "      <td>4.0</td>\n",
       "      <td>3.0</td>\n",
       "      <td>9</td>\n",
       "      <td>9</td>\n",
       "      <td>8</td>\n",
       "      <td>8</td>\n",
       "      <td>6</td>\n",
       "      <td>7</td>\n",
       "      <td>8</td>\n",
       "      <td>6</td>\n",
       "      <td>10</td>\n",
       "      <td>8</td>\n",
       "      <td>None</td>\n",
       "      <td>2</td>\n",
       "      <td>2023</td>\n",
       "      <td>1</td>\n",
       "      <td>2022</td>\n",
       "      <td>10</td>\n",
       "    </tr>\n",
       "    <tr>\n",
       "      <th>3</th>\n",
       "      <td>62485357</td>\n",
       "      <td>Hinckley and Bosworth, unparished area</td>\n",
       "      <td>Hinckley</td>\n",
       "      <td>LE10 1</td>\n",
       "      <td>52.544140000000006</td>\n",
       "      <td>-1.364725</td>\n",
       "      <td>4</td>\n",
       "      <td>2</td>\n",
       "      <td>550000.0</td>\n",
       "      <td>Detached house</td>\n",
       "      <td>5.0</td>\n",
       "      <td>3.0</td>\n",
       "      <td>179.0</td>\n",
       "      <td>8.0</td>\n",
       "      <td>1.0</td>\n",
       "      <td>5</td>\n",
       "      <td>5</td>\n",
       "      <td>6</td>\n",
       "      <td>3</td>\n",
       "      <td>3</td>\n",
       "      <td>4</td>\n",
       "      <td>10</td>\n",
       "      <td>4</td>\n",
       "      <td>5</td>\n",
       "      <td>5</td>\n",
       "      <td>None</td>\n",
       "      <td>2</td>\n",
       "      <td>2022</td>\n",
       "      <td>12</td>\n",
       "      <td>2022</td>\n",
       "      <td>9</td>\n",
       "    </tr>\n",
       "    <tr>\n",
       "      <th>4</th>\n",
       "      <td>62478555</td>\n",
       "      <td>Nuneaton and Bedworth, unparished area</td>\n",
       "      <td>Nuneaton</td>\n",
       "      <td>CV10 8</td>\n",
       "      <td>52.519397999999995</td>\n",
       "      <td>-1.493818</td>\n",
       "      <td>3</td>\n",
       "      <td>0</td>\n",
       "      <td>235000.0</td>\n",
       "      <td>Semi-detached house</td>\n",
       "      <td>3.0</td>\n",
       "      <td>2.0</td>\n",
       "      <td>71.0</td>\n",
       "      <td>5.0</td>\n",
       "      <td>5.0</td>\n",
       "      <td>4</td>\n",
       "      <td>4</td>\n",
       "      <td>4</td>\n",
       "      <td>3</td>\n",
       "      <td>4</td>\n",
       "      <td>2</td>\n",
       "      <td>9</td>\n",
       "      <td>5</td>\n",
       "      <td>5</td>\n",
       "      <td>5</td>\n",
       "      <td>None</td>\n",
       "      <td>4</td>\n",
       "      <td>2023</td>\n",
       "      <td>2</td>\n",
       "      <td>2022</td>\n",
       "      <td>9</td>\n",
       "    </tr>\n",
       "  </tbody>\n",
       "</table>\n",
       "</div>"
      ],
      "text/plain": [
       "  listing_id                                  parish post_town postcode  \\\n",
       "0   62385013  Hinckley and Bosworth, unparished area  Hinckley   LE10 0   \n",
       "1   62716145  Nuneaton and Bedworth, unparished area  Nuneaton   CV10 9   \n",
       "2   62579010  Nuneaton and Bedworth, unparished area  Nuneaton   CV10 0   \n",
       "3   62485357  Hinckley and Bosworth, unparished area  Hinckley   LE10 1   \n",
       "4   62478555  Nuneaton and Bedworth, unparished area  Nuneaton   CV10 8   \n",
       "\n",
       "             latitude            longitude num_bedrooms num_bathrooms  \\\n",
       "0             52.5503            -1.386379            4             2   \n",
       "1  52.525043000000004  -1.5155049999999999            3             1   \n",
       "2  52.534293999999996            -1.454733            3             1   \n",
       "3  52.544140000000006            -1.364725            4             2   \n",
       "4  52.519397999999995            -1.493818            3             0   \n",
       "\n",
       "      price property_type_general CURRENT_ENERGY_RATING_mode  \\\n",
       "0  400000.0        Detached house                        5.0   \n",
       "1  250000.0   Semi-detached house                        4.0   \n",
       "2  290000.0   Semi-detached house                        4.0   \n",
       "3  550000.0        Detached house                        5.0   \n",
       "4  235000.0   Semi-detached house                        3.0   \n",
       "\n",
       "  POTENTIAL_ENERGY_RATING_mode TOTAL_FLOOR_AREA_median  \\\n",
       "0                          3.0                   116.0   \n",
       "1                          2.0                  97.051   \n",
       "2                          2.0                   75.25   \n",
       "3                          3.0                   179.0   \n",
       "4                          2.0                    71.0   \n",
       "\n",
       "  NUMBER_HABITABLE_ROOMS_mode CONSTRUCTION_AGE_BAND_mode  \\\n",
       "0                         5.0                        3.0   \n",
       "1                         4.0                        5.0   \n",
       "2                         4.0                        3.0   \n",
       "3                         8.0                        1.0   \n",
       "4                         5.0                        5.0   \n",
       "\n",
       "  Index of Multiple Deprivation Decile Income Decile Employment Decile  \\\n",
       "0                                    3             3                 2   \n",
       "1                                    6             6                 6   \n",
       "2                                    9             9                 8   \n",
       "3                                    5             5                 6   \n",
       "4                                    4             4                 4   \n",
       "\n",
       "  Education and Skills Decile Health and Disability Decile Crime Decile  \\\n",
       "0                           1                            5            5   \n",
       "1                           4                            4            7   \n",
       "2                           8                            6            7   \n",
       "3                           3                            3            4   \n",
       "4                           3                            4            2   \n",
       "\n",
       "  Barriers to Housing and Services Decile Living Environment Decile  \\\n",
       "0                                       9                         9   \n",
       "1                                       6                         8   \n",
       "2                                       8                         6   \n",
       "3                                      10                         4   \n",
       "4                                       9                         5   \n",
       "\n",
       "  IDACI Decile IDAOPI Decile PROB_4BAND diff_published_date  \\\n",
       "0            4             5       None                   0   \n",
       "1            5             9       None                   1   \n",
       "2           10             8       None                   2   \n",
       "3            5             5       None                   2   \n",
       "4            5             5       None                   4   \n",
       "\n",
       "  last_published_year last_published_month first_published_year  \\\n",
       "0                2022                    9                 2022   \n",
       "1                2022                   11                 2022   \n",
       "2                2023                    1                 2022   \n",
       "3                2022                   12                 2022   \n",
       "4                2023                    2                 2022   \n",
       "\n",
       "  first_published_month  \n",
       "0                     9  \n",
       "1                    10  \n",
       "2                    10  \n",
       "3                     9  \n",
       "4                     9  "
      ]
     },
     "execution_count": 5,
     "metadata": {},
     "output_type": "execute_result"
    }
   ],
   "source": [
    "zoopla_df_train.head()"
   ]
  },
  {
   "cell_type": "markdown",
   "metadata": {},
   "source": [
    "### Drop house prices greater than 1 million pounds and set target as log\n",
    "Also remove 0 or negative house prices to ensure log does not blow up"
   ]
  },
  {
   "cell_type": "code",
   "execution_count": 6,
   "metadata": {},
   "outputs": [],
   "source": [
    "zoopla_df_train = zoopla_df_train[(zoopla_df_train['price'].astype(float) <= 1000000) & (zoopla_df_train['price'].astype(float) >= 0)].reset_index()\n",
    "zoopla_df_test = zoopla_df_test[(zoopla_df_test['price'].astype(float) <= 1000000) & (zoopla_df_test['price'].astype(float) >= 0)].reset_index()"
   ]
  },
  {
   "cell_type": "code",
   "execution_count": 7,
   "metadata": {},
   "outputs": [],
   "source": [
    "y_train = np.log(zoopla_df_train['price'].astype(float)).rename('LOG_price')\n",
    "y_test = np.log(zoopla_df_test['price'].astype(float)).rename('LOG_price')"
   ]
  },
  {
   "cell_type": "markdown",
   "metadata": {},
   "source": [
    "### Separate out features into numeric (with a further separation for numeric vars we want converted to KMeans clusters), ordered discrete and categoric variables"
   ]
  },
  {
   "cell_type": "code",
   "execution_count": 8,
   "metadata": {},
   "outputs": [],
   "source": [
    "numeric_cols = ['TOTAL_FLOOR_AREA_median', 'diff_published_date']\n",
    "\n",
    "numeric_kmeans_cols = ['latitude', 'longitude']\n",
    "\n",
    "discrete_cols = ['num_bedrooms', 'num_bathrooms', 'CURRENT_ENERGY_RATING_mode',\n",
    "       'POTENTIAL_ENERGY_RATING_mode', 'CONSTRUCTION_AGE_BAND_mode',\n",
    "       'Index of Multiple Deprivation Decile', 'Income Decile',\n",
    "       'Employment Decile', 'Education and Skills Decile',\n",
    "       'Health and Disability Decile', 'Crime Decile',\n",
    "       'Barriers to Housing and Services Decile', 'Living Environment Decile',\n",
    "       'IDACI Decile', 'IDAOPI Decile', 'last_published_year', 'last_published_month', \n",
    "        'first_published_year', 'first_published_month']\n",
    "\n",
    "categoric_cols = ['post_town', 'parish', 'postcode', 'PROB_4BAND', 'property_type_general']"
   ]
  },
  {
   "cell_type": "markdown",
   "metadata": {},
   "source": [
    "### Transform the four types of variables separately in a pipeline\n",
    "Set up pipelines. For null values, we use the median in the training data for numeric fields and the mode for discrete and categoric fields."
   ]
  },
  {
   "cell_type": "code",
   "execution_count": 9,
   "metadata": {},
   "outputs": [],
   "source": [
    "class KMeansCluster(BaseEstimator, TransformerMixin):\n",
    "    \n",
    "    \"\"\"\n",
    "    Apply KMeans clustering to longitude and latitude. Want cluster centres fit to training\n",
    "    data and the test data to be transformed based on the fits\n",
    "    \"\"\"\n",
    "    \n",
    "    def __init__(self, n_clusters=8):\n",
    "        self.n_clusters = n_clusters        \n",
    "            \n",
    "    def fit(self, X, y=None):\n",
    "        self.kmeans = KMeans(n_clusters=self.n_clusters, n_init=10, random_state=40)\n",
    "        self.kmeans.fit(X)\n",
    "        return self\n",
    "    \n",
    "    def transform(self, X):\n",
    "        cluster_centres = self.kmeans.transform(X).argmin(axis=1)\n",
    "        X = cluster_centres.reshape(cluster_centres.shape[0], 1) # converts 1D array to 2D#\n",
    "        X = pd.DataFrame(X, columns=['cluster'])\n",
    "        self.X = X\n",
    "        return X\n",
    "        \n",
    "        # return original co-ordinates and cluster number\n",
    "        #print(np.c_[X, cluster_centres])\n",
    "        #return np.c_[X, cluster_centres]\n",
    "        \n",
    "    def get_feature_names_out(self, X):\n",
    "        return self.X.columns.tolist()\n"
   ]
  },
  {
   "cell_type": "code",
   "execution_count": 10,
   "metadata": {},
   "outputs": [],
   "source": [
    "numeric_pipeline = Pipeline([\n",
    "    ('num_imputer', SimpleImputer(strategy='median', add_indicator=False)),\n",
    "    ('num_std_scaler', StandardScaler()),\n",
    "])\n",
    "\n",
    "numeric_kmeans_pipeline = Pipeline([\n",
    "    ('num_kmeans_imputer', SimpleImputer(strategy='median', add_indicator=False)),\n",
    "    ('num_kmeans_cluster', KMeansCluster(8)),\n",
    "    ('num_kmeans_oh_encoder', OneHotEncoder(drop='first'))\n",
    "])\n",
    "\n",
    "discrete_pipeline = Pipeline([\n",
    "    ('dis_imputer', SimpleImputer(strategy='most_frequent', add_indicator=False)),\n",
    "    ('dis_std_scaler', StandardScaler()),\n",
    "])\n",
    "\n",
    "categoric_pipeline = Pipeline([\n",
    "    ('cat_imputer', SimpleImputer(strategy='most_frequent', add_indicator=False)),\n",
    "    ('cat_oh_encoder', OneHotEncoder(drop='first'))\n",
    "])"
   ]
  },
  {
   "cell_type": "markdown",
   "metadata": {},
   "source": [
    "Set up a column transformer to handle all four types of columns together"
   ]
  },
  {
   "cell_type": "code",
   "execution_count": 11,
   "metadata": {},
   "outputs": [],
   "source": [
    "full_pipeline = ColumnTransformer([\n",
    "    ('numeric', numeric_pipeline, numeric_cols),\n",
    "    ('numeric_kmeans', numeric_kmeans_pipeline, numeric_kmeans_cols),\n",
    "    ('discrete', discrete_pipeline, discrete_cols),\n",
    "    ('categoric', categoric_pipeline, categoric_cols),\n",
    "])"
   ]
  },
  {
   "cell_type": "code",
   "execution_count": 12,
   "metadata": {},
   "outputs": [
    {
     "data": {
      "text/html": [
       "<style>#sk-container-id-1 {color: black;background-color: white;}#sk-container-id-1 pre{padding: 0;}#sk-container-id-1 div.sk-toggleable {background-color: white;}#sk-container-id-1 label.sk-toggleable__label {cursor: pointer;display: block;width: 100%;margin-bottom: 0;padding: 0.3em;box-sizing: border-box;text-align: center;}#sk-container-id-1 label.sk-toggleable__label-arrow:before {content: \"▸\";float: left;margin-right: 0.25em;color: #696969;}#sk-container-id-1 label.sk-toggleable__label-arrow:hover:before {color: black;}#sk-container-id-1 div.sk-estimator:hover label.sk-toggleable__label-arrow:before {color: black;}#sk-container-id-1 div.sk-toggleable__content {max-height: 0;max-width: 0;overflow: hidden;text-align: left;background-color: #f0f8ff;}#sk-container-id-1 div.sk-toggleable__content pre {margin: 0.2em;color: black;border-radius: 0.25em;background-color: #f0f8ff;}#sk-container-id-1 input.sk-toggleable__control:checked~div.sk-toggleable__content {max-height: 200px;max-width: 100%;overflow: auto;}#sk-container-id-1 input.sk-toggleable__control:checked~label.sk-toggleable__label-arrow:before {content: \"▾\";}#sk-container-id-1 div.sk-estimator input.sk-toggleable__control:checked~label.sk-toggleable__label {background-color: #d4ebff;}#sk-container-id-1 div.sk-label input.sk-toggleable__control:checked~label.sk-toggleable__label {background-color: #d4ebff;}#sk-container-id-1 input.sk-hidden--visually {border: 0;clip: rect(1px 1px 1px 1px);clip: rect(1px, 1px, 1px, 1px);height: 1px;margin: -1px;overflow: hidden;padding: 0;position: absolute;width: 1px;}#sk-container-id-1 div.sk-estimator {font-family: monospace;background-color: #f0f8ff;border: 1px dotted black;border-radius: 0.25em;box-sizing: border-box;margin-bottom: 0.5em;}#sk-container-id-1 div.sk-estimator:hover {background-color: #d4ebff;}#sk-container-id-1 div.sk-parallel-item::after {content: \"\";width: 100%;border-bottom: 1px solid gray;flex-grow: 1;}#sk-container-id-1 div.sk-label:hover label.sk-toggleable__label {background-color: #d4ebff;}#sk-container-id-1 div.sk-serial::before {content: \"\";position: absolute;border-left: 1px solid gray;box-sizing: border-box;top: 0;bottom: 0;left: 50%;z-index: 0;}#sk-container-id-1 div.sk-serial {display: flex;flex-direction: column;align-items: center;background-color: white;padding-right: 0.2em;padding-left: 0.2em;position: relative;}#sk-container-id-1 div.sk-item {position: relative;z-index: 1;}#sk-container-id-1 div.sk-parallel {display: flex;align-items: stretch;justify-content: center;background-color: white;position: relative;}#sk-container-id-1 div.sk-item::before, #sk-container-id-1 div.sk-parallel-item::before {content: \"\";position: absolute;border-left: 1px solid gray;box-sizing: border-box;top: 0;bottom: 0;left: 50%;z-index: -1;}#sk-container-id-1 div.sk-parallel-item {display: flex;flex-direction: column;z-index: 1;position: relative;background-color: white;}#sk-container-id-1 div.sk-parallel-item:first-child::after {align-self: flex-end;width: 50%;}#sk-container-id-1 div.sk-parallel-item:last-child::after {align-self: flex-start;width: 50%;}#sk-container-id-1 div.sk-parallel-item:only-child::after {width: 0;}#sk-container-id-1 div.sk-dashed-wrapped {border: 1px dashed gray;margin: 0 0.4em 0.5em 0.4em;box-sizing: border-box;padding-bottom: 0.4em;background-color: white;}#sk-container-id-1 div.sk-label label {font-family: monospace;font-weight: bold;display: inline-block;line-height: 1.2em;}#sk-container-id-1 div.sk-label-container {text-align: center;}#sk-container-id-1 div.sk-container {/* jupyter's `normalize.less` sets `[hidden] { display: none; }` but bootstrap.min.css set `[hidden] { display: none !important; }` so we also need the `!important` here to be able to override the default hidden behavior on the sphinx rendered scikit-learn.org. See: https://github.com/scikit-learn/scikit-learn/issues/21755 */display: inline-block !important;position: relative;}#sk-container-id-1 div.sk-text-repr-fallback {display: none;}</style><div id=\"sk-container-id-1\" class=\"sk-top-container\"><div class=\"sk-text-repr-fallback\"><pre>ColumnTransformer(transformers=[(&#x27;numeric&#x27;,\n",
       "                                 Pipeline(steps=[(&#x27;num_imputer&#x27;,\n",
       "                                                  SimpleImputer(strategy=&#x27;median&#x27;)),\n",
       "                                                 (&#x27;num_std_scaler&#x27;,\n",
       "                                                  StandardScaler())]),\n",
       "                                 [&#x27;TOTAL_FLOOR_AREA_median&#x27;,\n",
       "                                  &#x27;diff_published_date&#x27;]),\n",
       "                                (&#x27;numeric_kmeans&#x27;,\n",
       "                                 Pipeline(steps=[(&#x27;num_kmeans_imputer&#x27;,\n",
       "                                                  SimpleImputer(strategy=&#x27;median&#x27;)),\n",
       "                                                 (&#x27;num_kmeans_cluster&#x27;,\n",
       "                                                  KMeansCluster()),\n",
       "                                                 (&#x27;num_kmeans_oh_encoder&#x27;...\n",
       "                                  &#x27;Living Environment Decile&#x27;, &#x27;IDACI Decile&#x27;,\n",
       "                                  &#x27;IDAOPI Decile&#x27;, &#x27;last_published_year&#x27;,\n",
       "                                  &#x27;last_published_month&#x27;,\n",
       "                                  &#x27;first_published_year&#x27;,\n",
       "                                  &#x27;first_published_month&#x27;]),\n",
       "                                (&#x27;categoric&#x27;,\n",
       "                                 Pipeline(steps=[(&#x27;cat_imputer&#x27;,\n",
       "                                                  SimpleImputer(strategy=&#x27;most_frequent&#x27;)),\n",
       "                                                 (&#x27;cat_oh_encoder&#x27;,\n",
       "                                                  OneHotEncoder(drop=&#x27;first&#x27;))]),\n",
       "                                 [&#x27;post_town&#x27;, &#x27;parish&#x27;, &#x27;postcode&#x27;,\n",
       "                                  &#x27;PROB_4BAND&#x27;, &#x27;property_type_general&#x27;])])</pre><b>In a Jupyter environment, please rerun this cell to show the HTML representation or trust the notebook. <br />On GitHub, the HTML representation is unable to render, please try loading this page with nbviewer.org.</b></div><div class=\"sk-container\" hidden><div class=\"sk-item sk-dashed-wrapped\"><div class=\"sk-label-container\"><div class=\"sk-label sk-toggleable\"><input class=\"sk-toggleable__control sk-hidden--visually\" id=\"sk-estimator-id-1\" type=\"checkbox\" ><label for=\"sk-estimator-id-1\" class=\"sk-toggleable__label sk-toggleable__label-arrow\">ColumnTransformer</label><div class=\"sk-toggleable__content\"><pre>ColumnTransformer(transformers=[(&#x27;numeric&#x27;,\n",
       "                                 Pipeline(steps=[(&#x27;num_imputer&#x27;,\n",
       "                                                  SimpleImputer(strategy=&#x27;median&#x27;)),\n",
       "                                                 (&#x27;num_std_scaler&#x27;,\n",
       "                                                  StandardScaler())]),\n",
       "                                 [&#x27;TOTAL_FLOOR_AREA_median&#x27;,\n",
       "                                  &#x27;diff_published_date&#x27;]),\n",
       "                                (&#x27;numeric_kmeans&#x27;,\n",
       "                                 Pipeline(steps=[(&#x27;num_kmeans_imputer&#x27;,\n",
       "                                                  SimpleImputer(strategy=&#x27;median&#x27;)),\n",
       "                                                 (&#x27;num_kmeans_cluster&#x27;,\n",
       "                                                  KMeansCluster()),\n",
       "                                                 (&#x27;num_kmeans_oh_encoder&#x27;...\n",
       "                                  &#x27;Living Environment Decile&#x27;, &#x27;IDACI Decile&#x27;,\n",
       "                                  &#x27;IDAOPI Decile&#x27;, &#x27;last_published_year&#x27;,\n",
       "                                  &#x27;last_published_month&#x27;,\n",
       "                                  &#x27;first_published_year&#x27;,\n",
       "                                  &#x27;first_published_month&#x27;]),\n",
       "                                (&#x27;categoric&#x27;,\n",
       "                                 Pipeline(steps=[(&#x27;cat_imputer&#x27;,\n",
       "                                                  SimpleImputer(strategy=&#x27;most_frequent&#x27;)),\n",
       "                                                 (&#x27;cat_oh_encoder&#x27;,\n",
       "                                                  OneHotEncoder(drop=&#x27;first&#x27;))]),\n",
       "                                 [&#x27;post_town&#x27;, &#x27;parish&#x27;, &#x27;postcode&#x27;,\n",
       "                                  &#x27;PROB_4BAND&#x27;, &#x27;property_type_general&#x27;])])</pre></div></div></div><div class=\"sk-parallel\"><div class=\"sk-parallel-item\"><div class=\"sk-item\"><div class=\"sk-label-container\"><div class=\"sk-label sk-toggleable\"><input class=\"sk-toggleable__control sk-hidden--visually\" id=\"sk-estimator-id-2\" type=\"checkbox\" ><label for=\"sk-estimator-id-2\" class=\"sk-toggleable__label sk-toggleable__label-arrow\">numeric</label><div class=\"sk-toggleable__content\"><pre>[&#x27;TOTAL_FLOOR_AREA_median&#x27;, &#x27;diff_published_date&#x27;]</pre></div></div></div><div class=\"sk-serial\"><div class=\"sk-item\"><div class=\"sk-serial\"><div class=\"sk-item\"><div class=\"sk-estimator sk-toggleable\"><input class=\"sk-toggleable__control sk-hidden--visually\" id=\"sk-estimator-id-3\" type=\"checkbox\" ><label for=\"sk-estimator-id-3\" class=\"sk-toggleable__label sk-toggleable__label-arrow\">SimpleImputer</label><div class=\"sk-toggleable__content\"><pre>SimpleImputer(strategy=&#x27;median&#x27;)</pre></div></div></div><div class=\"sk-item\"><div class=\"sk-estimator sk-toggleable\"><input class=\"sk-toggleable__control sk-hidden--visually\" id=\"sk-estimator-id-4\" type=\"checkbox\" ><label for=\"sk-estimator-id-4\" class=\"sk-toggleable__label sk-toggleable__label-arrow\">StandardScaler</label><div class=\"sk-toggleable__content\"><pre>StandardScaler()</pre></div></div></div></div></div></div></div></div><div class=\"sk-parallel-item\"><div class=\"sk-item\"><div class=\"sk-label-container\"><div class=\"sk-label sk-toggleable\"><input class=\"sk-toggleable__control sk-hidden--visually\" id=\"sk-estimator-id-5\" type=\"checkbox\" ><label for=\"sk-estimator-id-5\" class=\"sk-toggleable__label sk-toggleable__label-arrow\">numeric_kmeans</label><div class=\"sk-toggleable__content\"><pre>[&#x27;latitude&#x27;, &#x27;longitude&#x27;]</pre></div></div></div><div class=\"sk-serial\"><div class=\"sk-item\"><div class=\"sk-serial\"><div class=\"sk-item\"><div class=\"sk-estimator sk-toggleable\"><input class=\"sk-toggleable__control sk-hidden--visually\" id=\"sk-estimator-id-6\" type=\"checkbox\" ><label for=\"sk-estimator-id-6\" class=\"sk-toggleable__label sk-toggleable__label-arrow\">SimpleImputer</label><div class=\"sk-toggleable__content\"><pre>SimpleImputer(strategy=&#x27;median&#x27;)</pre></div></div></div><div class=\"sk-item\"><div class=\"sk-estimator sk-toggleable\"><input class=\"sk-toggleable__control sk-hidden--visually\" id=\"sk-estimator-id-7\" type=\"checkbox\" ><label for=\"sk-estimator-id-7\" class=\"sk-toggleable__label sk-toggleable__label-arrow\">KMeansCluster</label><div class=\"sk-toggleable__content\"><pre>KMeansCluster()</pre></div></div></div><div class=\"sk-item\"><div class=\"sk-estimator sk-toggleable\"><input class=\"sk-toggleable__control sk-hidden--visually\" id=\"sk-estimator-id-8\" type=\"checkbox\" ><label for=\"sk-estimator-id-8\" class=\"sk-toggleable__label sk-toggleable__label-arrow\">OneHotEncoder</label><div class=\"sk-toggleable__content\"><pre>OneHotEncoder(drop=&#x27;first&#x27;)</pre></div></div></div></div></div></div></div></div><div class=\"sk-parallel-item\"><div class=\"sk-item\"><div class=\"sk-label-container\"><div class=\"sk-label sk-toggleable\"><input class=\"sk-toggleable__control sk-hidden--visually\" id=\"sk-estimator-id-9\" type=\"checkbox\" ><label for=\"sk-estimator-id-9\" class=\"sk-toggleable__label sk-toggleable__label-arrow\">discrete</label><div class=\"sk-toggleable__content\"><pre>[&#x27;num_bedrooms&#x27;, &#x27;num_bathrooms&#x27;, &#x27;CURRENT_ENERGY_RATING_mode&#x27;, &#x27;POTENTIAL_ENERGY_RATING_mode&#x27;, &#x27;CONSTRUCTION_AGE_BAND_mode&#x27;, &#x27;Index of Multiple Deprivation Decile&#x27;, &#x27;Income Decile&#x27;, &#x27;Employment Decile&#x27;, &#x27;Education and Skills Decile&#x27;, &#x27;Health and Disability Decile&#x27;, &#x27;Crime Decile&#x27;, &#x27;Barriers to Housing and Services Decile&#x27;, &#x27;Living Environment Decile&#x27;, &#x27;IDACI Decile&#x27;, &#x27;IDAOPI Decile&#x27;, &#x27;last_published_year&#x27;, &#x27;last_published_month&#x27;, &#x27;first_published_year&#x27;, &#x27;first_published_month&#x27;]</pre></div></div></div><div class=\"sk-serial\"><div class=\"sk-item\"><div class=\"sk-serial\"><div class=\"sk-item\"><div class=\"sk-estimator sk-toggleable\"><input class=\"sk-toggleable__control sk-hidden--visually\" id=\"sk-estimator-id-10\" type=\"checkbox\" ><label for=\"sk-estimator-id-10\" class=\"sk-toggleable__label sk-toggleable__label-arrow\">SimpleImputer</label><div class=\"sk-toggleable__content\"><pre>SimpleImputer(strategy=&#x27;most_frequent&#x27;)</pre></div></div></div><div class=\"sk-item\"><div class=\"sk-estimator sk-toggleable\"><input class=\"sk-toggleable__control sk-hidden--visually\" id=\"sk-estimator-id-11\" type=\"checkbox\" ><label for=\"sk-estimator-id-11\" class=\"sk-toggleable__label sk-toggleable__label-arrow\">StandardScaler</label><div class=\"sk-toggleable__content\"><pre>StandardScaler()</pre></div></div></div></div></div></div></div></div><div class=\"sk-parallel-item\"><div class=\"sk-item\"><div class=\"sk-label-container\"><div class=\"sk-label sk-toggleable\"><input class=\"sk-toggleable__control sk-hidden--visually\" id=\"sk-estimator-id-12\" type=\"checkbox\" ><label for=\"sk-estimator-id-12\" class=\"sk-toggleable__label sk-toggleable__label-arrow\">categoric</label><div class=\"sk-toggleable__content\"><pre>[&#x27;post_town&#x27;, &#x27;parish&#x27;, &#x27;postcode&#x27;, &#x27;PROB_4BAND&#x27;, &#x27;property_type_general&#x27;]</pre></div></div></div><div class=\"sk-serial\"><div class=\"sk-item\"><div class=\"sk-serial\"><div class=\"sk-item\"><div class=\"sk-estimator sk-toggleable\"><input class=\"sk-toggleable__control sk-hidden--visually\" id=\"sk-estimator-id-13\" type=\"checkbox\" ><label for=\"sk-estimator-id-13\" class=\"sk-toggleable__label sk-toggleable__label-arrow\">SimpleImputer</label><div class=\"sk-toggleable__content\"><pre>SimpleImputer(strategy=&#x27;most_frequent&#x27;)</pre></div></div></div><div class=\"sk-item\"><div class=\"sk-estimator sk-toggleable\"><input class=\"sk-toggleable__control sk-hidden--visually\" id=\"sk-estimator-id-14\" type=\"checkbox\" ><label for=\"sk-estimator-id-14\" class=\"sk-toggleable__label sk-toggleable__label-arrow\">OneHotEncoder</label><div class=\"sk-toggleable__content\"><pre>OneHotEncoder(drop=&#x27;first&#x27;)</pre></div></div></div></div></div></div></div></div></div></div></div></div>"
      ],
      "text/plain": [
       "ColumnTransformer(transformers=[('numeric',\n",
       "                                 Pipeline(steps=[('num_imputer',\n",
       "                                                  SimpleImputer(strategy='median')),\n",
       "                                                 ('num_std_scaler',\n",
       "                                                  StandardScaler())]),\n",
       "                                 ['TOTAL_FLOOR_AREA_median',\n",
       "                                  'diff_published_date']),\n",
       "                                ('numeric_kmeans',\n",
       "                                 Pipeline(steps=[('num_kmeans_imputer',\n",
       "                                                  SimpleImputer(strategy='median')),\n",
       "                                                 ('num_kmeans_cluster',\n",
       "                                                  KMeansCluster()),\n",
       "                                                 ('num_kmeans_oh_encoder'...\n",
       "                                  'Living Environment Decile', 'IDACI Decile',\n",
       "                                  'IDAOPI Decile', 'last_published_year',\n",
       "                                  'last_published_month',\n",
       "                                  'first_published_year',\n",
       "                                  'first_published_month']),\n",
       "                                ('categoric',\n",
       "                                 Pipeline(steps=[('cat_imputer',\n",
       "                                                  SimpleImputer(strategy='most_frequent')),\n",
       "                                                 ('cat_oh_encoder',\n",
       "                                                  OneHotEncoder(drop='first'))]),\n",
       "                                 ['post_town', 'parish', 'postcode',\n",
       "                                  'PROB_4BAND', 'property_type_general'])])"
      ]
     },
     "execution_count": 12,
     "metadata": {},
     "output_type": "execute_result"
    }
   ],
   "source": [
    "full_pipeline"
   ]
  },
  {
   "cell_type": "markdown",
   "metadata": {},
   "source": [
    "Fit to training data and transform it. Then apply those fitted values to the test data."
   ]
  },
  {
   "cell_type": "code",
   "execution_count": 13,
   "metadata": {},
   "outputs": [],
   "source": [
    "X_train = full_pipeline.fit_transform(zoopla_df_train)\n",
    "X_test = full_pipeline.transform(zoopla_df_test)"
   ]
  },
  {
   "cell_type": "markdown",
   "metadata": {},
   "source": [
    "Check outputs"
   ]
  },
  {
   "cell_type": "code",
   "execution_count": 14,
   "metadata": {},
   "outputs": [
    {
     "data": {
      "text/plain": [
       "array([ 0.56766955, -0.69912374,  0.        ,  0.        ,  0.        ,\n",
       "        0.        ,  0.        ,  0.        ,  1.        , -0.01075124,\n",
       "       -1.78748083,  0.47383716, -0.14959827,  1.02406085, -0.78568427,\n",
       "       -0.85595421, -1.13108125, -0.28235114, -0.68932755, -0.52118875,\n",
       "        0.16193018, -1.72755914, -0.77737134, -0.99055356,  0.64745946,\n",
       "       -0.48232303,  1.49039161, -1.19696784,  1.        ,  0.        ,\n",
       "        1.        ,  0.        ,  0.        ,  0.        ,  0.        ,\n",
       "        0.        ,  1.        ,  0.        ,  0.        ,  0.        ,\n",
       "        0.        ,  0.        ,  0.        ,  0.        ,  0.        ,\n",
       "        0.        ,  0.        ,  0.        ,  0.        ,  0.        ,\n",
       "        1.        ,  1.        ,  0.        ,  0.        ,  0.        ,\n",
       "        0.        ,  0.        ,  0.        ])"
      ]
     },
     "execution_count": 14,
     "metadata": {},
     "output_type": "execute_result"
    }
   ],
   "source": [
    "X_train[200]"
   ]
  },
  {
   "cell_type": "code",
   "execution_count": 15,
   "metadata": {},
   "outputs": [
    {
     "data": {
      "text/plain": [
       "[('numeric',\n",
       "  Pipeline(steps=[('num_imputer', SimpleImputer(strategy='median')),\n",
       "                  ('num_std_scaler', StandardScaler())]),\n",
       "  ['TOTAL_FLOOR_AREA_median', 'diff_published_date']),\n",
       " ('numeric_kmeans',\n",
       "  Pipeline(steps=[('num_kmeans_imputer', SimpleImputer(strategy='median')),\n",
       "                  ('num_kmeans_cluster', KMeansCluster()),\n",
       "                  ('num_kmeans_oh_encoder', OneHotEncoder(drop='first'))]),\n",
       "  ['latitude', 'longitude']),\n",
       " ('discrete',\n",
       "  Pipeline(steps=[('dis_imputer', SimpleImputer(strategy='most_frequent')),\n",
       "                  ('dis_std_scaler', StandardScaler())]),\n",
       "  ['num_bedrooms',\n",
       "   'num_bathrooms',\n",
       "   'CURRENT_ENERGY_RATING_mode',\n",
       "   'POTENTIAL_ENERGY_RATING_mode',\n",
       "   'CONSTRUCTION_AGE_BAND_mode',\n",
       "   'Index of Multiple Deprivation Decile',\n",
       "   'Income Decile',\n",
       "   'Employment Decile',\n",
       "   'Education and Skills Decile',\n",
       "   'Health and Disability Decile',\n",
       "   'Crime Decile',\n",
       "   'Barriers to Housing and Services Decile',\n",
       "   'Living Environment Decile',\n",
       "   'IDACI Decile',\n",
       "   'IDAOPI Decile',\n",
       "   'last_published_year',\n",
       "   'last_published_month',\n",
       "   'first_published_year',\n",
       "   'first_published_month']),\n",
       " ('categoric',\n",
       "  Pipeline(steps=[('cat_imputer', SimpleImputer(strategy='most_frequent')),\n",
       "                  ('cat_oh_encoder', OneHotEncoder(drop='first'))]),\n",
       "  ['post_town', 'parish', 'postcode', 'PROB_4BAND', 'property_type_general']),\n",
       " ('remainder', 'drop', [0, 1, 9, 14])]"
      ]
     },
     "execution_count": 15,
     "metadata": {},
     "output_type": "execute_result"
    }
   ],
   "source": [
    "full_pipeline.transformers_"
   ]
  },
  {
   "cell_type": "markdown",
   "metadata": {},
   "source": [
    "Set the column names again"
   ]
  },
  {
   "cell_type": "code",
   "execution_count": 16,
   "metadata": {},
   "outputs": [
    {
     "name": "stdout",
     "output_type": "stream",
     "text": [
      "['TOTAL_FLOOR_AREA_median', 'diff_published_date', 'cluster_1', 'cluster_2', 'cluster_3', 'cluster_4', 'cluster_5', 'cluster_6', 'cluster_7', 'num_bedrooms', 'num_bathrooms', 'CURRENT_ENERGY_RATING_mode', 'POTENTIAL_ENERGY_RATING_mode', 'CONSTRUCTION_AGE_BAND_mode', 'Index of Multiple Deprivation Decile', 'Income Decile', 'Employment Decile', 'Education and Skills Decile', 'Health and Disability Decile', 'Crime Decile', 'Barriers to Housing and Services Decile', 'Living Environment Decile', 'IDACI Decile', 'IDAOPI Decile', 'last_published_year', 'last_published_month', 'first_published_year', 'first_published_month', 'post_town_Nuneaton', 'parish_Hinckley and Bosworth, unparished area', 'parish_Nuneaton and Bedworth, unparished area', 'parish_Other', 'parish_Stoke Golding', 'postcode_CV10 7', 'postcode_CV10 8', 'postcode_CV10 9', 'postcode_CV11 4', 'postcode_CV11 5', 'postcode_CV11 6', 'postcode_CV11 7', 'postcode_CV12 9', 'postcode_CV13 0', 'postcode_CV13 6', 'postcode_CV9 3', 'postcode_LE10 0', 'postcode_LE10 1', 'postcode_LE10 2', 'postcode_LE10 3', 'postcode_LE9 7', 'PROB_4BAND_Medium', 'PROB_4BAND_None', 'property_type_general_Detached house', 'property_type_general_End terrace house', 'property_type_general_Flat', 'property_type_general_Maisonette', 'property_type_general_Other/Unknown', 'property_type_general_Semi-detached house', 'property_type_general_Terraced house']\n"
     ]
    }
   ],
   "source": [
    "feature_names = full_pipeline.get_feature_names_out()\n",
    "\n",
    "feature_names_new = [name.split('__')[1] for name in feature_names]\n",
    "print(feature_names_new)"
   ]
  },
  {
   "cell_type": "code",
   "execution_count": 17,
   "metadata": {},
   "outputs": [],
   "source": [
    "X_train = pd.DataFrame(X_train, columns=feature_names_new)\n",
    "y_train = pd.DataFrame(y_train, columns=['LOG_price'])\n",
    "\n",
    "X_test = pd.DataFrame(X_test, columns=feature_names_new)\n",
    "y_test = pd.DataFrame(y_test, columns=['LOG_price'])"
   ]
  },
  {
   "cell_type": "markdown",
   "metadata": {},
   "source": [
    "### Save transformed train and test sets"
   ]
  },
  {
   "cell_type": "code",
   "execution_count": 18,
   "metadata": {},
   "outputs": [],
   "source": [
    "try:\n",
    "    os.mkdir(SAVE_FOLDER)\n",
    "except OSError:\n",
    "    pass\n",
    "\n",
    "save_file_train = os.path.join(SAVE_FOLDER, f'zoopla_train.csv')\n",
    "save_file_test = os.path.join(SAVE_FOLDER, f'zoopla_test.csv')\n",
    "\n",
    "zoopla_df_train = pd.concat([X_train, y_train], axis=1)\n",
    "zoopla_df_test = pd.concat([X_test, y_test], axis=1)\n",
    "\n",
    "zoopla_df_train.to_csv(save_file_train, index=False)\n",
    "zoopla_df_test.to_csv(save_file_test, index=False)"
   ]
  },
  {
   "cell_type": "code",
   "execution_count": 19,
   "metadata": {},
   "outputs": [
    {
     "data": {
      "text/plain": [
       "-0.200393    100\n",
       " 0.138953     13\n",
       "-0.385490     13\n",
       "-0.231242     12\n",
       "-0.447189     12\n",
       "            ... \n",
       "-0.432983      1\n",
       " 0.345337      1\n",
       "-0.458763      1\n",
       " 2.282999      1\n",
       " 0.773529      1\n",
       "Name: TOTAL_FLOOR_AREA_median, Length: 207, dtype: int64"
      ]
     },
     "metadata": {},
     "output_type": "display_data"
    },
    {
     "data": {
      "text/plain": [
       "-0.699124    259\n",
       "-0.325847     96\n",
       " 0.047430     79\n",
       " 0.420706     56\n",
       " 0.793983     39\n",
       " 1.167259     28\n",
       " 1.913813     18\n",
       " 1.540536     13\n",
       " 2.660366      6\n",
       " 3.033643      3\n",
       " 3.406919      2\n",
       " 3.780196      2\n",
       " 5.273303      1\n",
       " 4.526749      1\n",
       " 9.379346      1\n",
       " 6.019856      1\n",
       " 2.287089      1\n",
       "Name: diff_published_date, dtype: int64"
      ]
     },
     "metadata": {},
     "output_type": "display_data"
    },
    {
     "data": {
      "text/plain": [
       "0.0    526\n",
       "1.0     80\n",
       "Name: cluster_1, dtype: int64"
      ]
     },
     "metadata": {},
     "output_type": "display_data"
    },
    {
     "data": {
      "text/plain": [
       "0.0    536\n",
       "1.0     70\n",
       "Name: cluster_2, dtype: int64"
      ]
     },
     "metadata": {},
     "output_type": "display_data"
    },
    {
     "data": {
      "text/plain": [
       "0.0    480\n",
       "1.0    126\n",
       "Name: cluster_3, dtype: int64"
      ]
     },
     "metadata": {},
     "output_type": "display_data"
    },
    {
     "data": {
      "text/plain": [
       "0.0    500\n",
       "1.0    106\n",
       "Name: cluster_4, dtype: int64"
      ]
     },
     "metadata": {},
     "output_type": "display_data"
    },
    {
     "data": {
      "text/plain": [
       "0.0    554\n",
       "1.0     52\n",
       "Name: cluster_5, dtype: int64"
      ]
     },
     "metadata": {},
     "output_type": "display_data"
    },
    {
     "data": {
      "text/plain": [
       "0.0    603\n",
       "1.0      3\n",
       "Name: cluster_6, dtype: int64"
      ]
     },
     "metadata": {},
     "output_type": "display_data"
    },
    {
     "data": {
      "text/plain": [
       "0.0    533\n",
       "1.0     73\n",
       "Name: cluster_7, dtype: int64"
      ]
     },
     "metadata": {},
     "output_type": "display_data"
    },
    {
     "data": {
      "text/plain": [
       "-0.010751    277\n",
       " 1.075124    147\n",
       "-1.096626    140\n",
       " 2.160999     18\n",
       "-2.182501     15\n",
       "-3.268376      6\n",
       " 4.332749      2\n",
       " 3.246874      1\n",
       "Name: num_bedrooms, dtype: int64"
      ]
     },
     "metadata": {},
     "output_type": "display_data"
    },
    {
     "data": {
      "text/plain": [
       "-0.480830    335\n",
       " 0.825820    174\n",
       "-1.787481     50\n",
       " 2.132471     42\n",
       " 3.439122      5\n",
       "Name: num_bathrooms, dtype: int64"
      ]
     },
     "metadata": {},
     "output_type": "display_data"
    },
    {
     "data": {
      "text/plain": [
       " 0.473837    348\n",
       "-0.670168    110\n",
       "-1.814173     98\n",
       " 1.617842     45\n",
       " 2.761848      5\n",
       "Name: CURRENT_ENERGY_RATING_mode, dtype: int64"
      ]
     },
     "metadata": {},
     "output_type": "display_data"
    },
    {
     "data": {
      "text/plain": [
       "-0.149598    431\n",
       " 1.700535    109\n",
       "-1.999732     64\n",
       " 3.550669      2\n",
       "Name: POTENTIAL_ENERGY_RATING_mode, dtype: int64"
      ]
     },
     "metadata": {},
     "output_type": "display_data"
    },
    {
     "data": {
      "text/plain": [
       "-0.846097    228\n",
       " 0.088982     61\n",
       "-0.222711     54\n",
       "-0.534404     47\n",
       " 0.712368     41\n",
       " 1.335754     32\n",
       " 2.270833     32\n",
       " 1.647447     29\n",
       " 0.400675     24\n",
       " 1.024061     24\n",
       "-1.157791     22\n",
       " 1.959140     12\n",
       "Name: CONSTRUCTION_AGE_BAND_mode, dtype: int64"
      ]
     },
     "metadata": {},
     "output_type": "display_data"
    },
    {
     "data": {
      "text/plain": [
       " 0.728226    158\n",
       "-0.028729     68\n",
       "-0.785684     65\n",
       "-1.164162     58\n",
       "-0.407207     56\n",
       " 1.106703     53\n",
       " 1.485181     53\n",
       "-1.921117     36\n",
       "-1.542639     32\n",
       " 0.349748     27\n",
       "Name: Index of Multiple Deprivation Decile, dtype: int64"
      ]
     },
     "metadata": {},
     "output_type": "display_data"
    },
    {
     "data": {
      "text/plain": [
       " 1.051061    135\n",
       " 0.288255    102\n",
       "-0.474551     80\n",
       "-0.855954     66\n",
       " 1.432465     53\n",
       "-1.237357     47\n",
       "-1.618760     39\n",
       "-0.093148     38\n",
       " 0.669658     24\n",
       "-2.000164     22\n",
       "Name: Income Decile, dtype: int64"
      ]
     },
     "metadata": {},
     "output_type": "display_data"
    },
    {
     "data": {
      "text/plain": [
       " 0.109151    144\n",
       " 0.935973     97\n",
       " 1.349384     88\n",
       "-0.717670     67\n",
       "-1.131081     62\n",
       "-1.544492     41\n",
       " 0.522562     36\n",
       "-0.304259     35\n",
       "-1.957903     31\n",
       " 1.762795      5\n",
       "Name: Employment Decile, dtype: int64"
      ]
     },
     "metadata": {},
     "output_type": "display_data"
    },
    {
     "data": {
      "text/plain": [
       "-0.682129    119\n",
       " 0.117426     94\n",
       "-0.282351     85\n",
       " 1.316759     82\n",
       "-1.481684     62\n",
       "-1.081906     54\n",
       " 1.716537     48\n",
       " 0.916982     31\n",
       " 0.517204     25\n",
       " 2.116314      6\n",
       "Name: Education and Skills Decile, dtype: int64"
      ]
     },
     "metadata": {},
     "output_type": "display_data"
    },
    {
     "data": {
      "text/plain": [
       " 0.645281    116\n",
       "-0.244458     87\n",
       "-0.689328     83\n",
       " 0.200412     78\n",
       "-1.134197     65\n",
       " 1.535020     56\n",
       " 1.090151     44\n",
       "-1.579067     44\n",
       "-2.023936     17\n",
       " 1.979890     16\n",
       "Name: Health and Disability Decile, dtype: int64"
      ]
     },
     "metadata": {},
     "output_type": "display_data"
    },
    {
     "data": {
      "text/plain": [
       "-0.521189    132\n",
       " 0.297051     87\n",
       " 0.706170     86\n",
       "-0.930308     62\n",
       " 1.115290     48\n",
       "-1.748548     45\n",
       " 1.524410     45\n",
       "-0.112069     38\n",
       "-1.339428     37\n",
       " 1.933529     26\n",
       "Name: Crime Decile, dtype: int64"
      ]
     },
     "metadata": {},
     "output_type": "display_data"
    },
    {
     "data": {
      "text/plain": [
       " 0.572515    120\n",
       "-1.069823     96\n",
       " 0.983099     91\n",
       " 0.161930     87\n",
       "-1.480408     69\n",
       " 1.393684     67\n",
       "-0.659239     38\n",
       "-0.248654     25\n",
       "-2.301577     12\n",
       "-1.890992      1\n",
       "Name: Barriers to Housing and Services Decile, dtype: int64"
      ]
     },
     "metadata": {},
     "output_type": "display_data"
    },
    {
     "data": {
      "text/plain": [
       "-0.151495    122\n",
       " 1.030554     95\n",
       "-0.939527     86\n",
       " 1.424570     84\n",
       " 0.636538     53\n",
       "-0.545511     51\n",
       "-1.727559     48\n",
       " 0.242521     33\n",
       "-1.333543     29\n",
       "-2.121575      5\n",
       "Name: Living Environment Decile, dtype: int64"
      ]
     },
     "metadata": {},
     "output_type": "display_data"
    },
    {
     "data": {
      "text/plain": [
       "-0.373352    115\n",
       " 1.242727     96\n",
       " 0.838708     90\n",
       "-0.777371     64\n",
       " 0.030668     64\n",
       " 0.434688     55\n",
       "-1.989431     36\n",
       "-1.585411     35\n",
       "-1.181391     30\n",
       " 1.646747     21\n",
       "Name: IDACI Decile, dtype: int64"
      ]
     },
     "metadata": {},
     "output_type": "display_data"
    },
    {
     "data": {
      "text/plain": [
       " 1.017057    120\n",
       "-0.589032     95\n",
       " 0.615535     92\n",
       "-0.187509     77\n",
       "-0.990554     54\n",
       " 1.418579     51\n",
       " 0.214013     42\n",
       "-1.793598     33\n",
       "-2.195120     23\n",
       "-1.392076     19\n",
       "Name: IDAOPI Decile, dtype: int64"
      ]
     },
     "metadata": {},
     "output_type": "display_data"
    },
    {
     "data": {
      "text/plain": [
       " 0.647459    427\n",
       "-1.544498    179\n",
       "Name: last_published_year, dtype: int64"
      ]
     },
     "metadata": {},
     "output_type": "display_data"
    },
    {
     "data": {
      "text/plain": [
       "-0.710851    290\n",
       "-0.482323    137\n",
       " 1.574432     77\n",
       " 1.802960     47\n",
       " 1.345904     36\n",
       " 1.117375     11\n",
       " 0.888847      6\n",
       " 0.431790      1\n",
       "-0.253795      1\n",
       "Name: last_published_month, dtype: int64"
      ]
     },
     "metadata": {},
     "output_type": "display_data"
    },
    {
     "data": {
      "text/plain": [
       "-0.576376    420\n",
       " 1.490392    178\n",
       "-2.643143      7\n",
       "-4.709910      1\n",
       "Name: first_published_year, dtype: int64"
      ]
     },
     "metadata": {},
     "output_type": "display_data"
    },
    {
     "data": {
      "text/plain": [
       "-1.439726    154\n",
       " 0.745100     97\n",
       " 0.987859     87\n",
       " 0.502342     77\n",
       " 1.230618     50\n",
       " 0.259583     45\n",
       " 0.016825     33\n",
       "-1.196968     28\n",
       "-0.225934     21\n",
       "-0.954209      6\n",
       "-0.711451      5\n",
       "-0.468692      3\n",
       "Name: first_published_month, dtype: int64"
      ]
     },
     "metadata": {},
     "output_type": "display_data"
    },
    {
     "data": {
      "text/plain": [
       "1.0    408\n",
       "0.0    198\n",
       "Name: post_town_Nuneaton, dtype: int64"
      ]
     },
     "metadata": {},
     "output_type": "display_data"
    },
    {
     "data": {
      "text/plain": [
       "0.0    417\n",
       "1.0    189\n",
       "Name: parish_Hinckley and Bosworth, unparished area, dtype: int64"
      ]
     },
     "metadata": {},
     "output_type": "display_data"
    },
    {
     "data": {
      "text/plain": [
       "1.0    394\n",
       "0.0    212\n",
       "Name: parish_Nuneaton and Bedworth, unparished area, dtype: int64"
      ]
     },
     "metadata": {},
     "output_type": "display_data"
    },
    {
     "data": {
      "text/plain": [
       "0.0    598\n",
       "1.0      8\n",
       "Name: parish_Other, dtype: int64"
      ]
     },
     "metadata": {},
     "output_type": "display_data"
    },
    {
     "data": {
      "text/plain": [
       "0.0    600\n",
       "1.0      6\n",
       "Name: parish_Stoke Golding, dtype: int64"
      ]
     },
     "metadata": {},
     "output_type": "display_data"
    },
    {
     "data": {
      "text/plain": [
       "0.0    564\n",
       "1.0     42\n",
       "Name: postcode_CV10 7, dtype: int64"
      ]
     },
     "metadata": {},
     "output_type": "display_data"
    },
    {
     "data": {
      "text/plain": [
       "0.0    561\n",
       "1.0     45\n",
       "Name: postcode_CV10 8, dtype: int64"
      ]
     },
     "metadata": {},
     "output_type": "display_data"
    },
    {
     "data": {
      "text/plain": [
       "0.0    534\n",
       "1.0     72\n",
       "Name: postcode_CV10 9, dtype: int64"
      ]
     },
     "metadata": {},
     "output_type": "display_data"
    },
    {
     "data": {
      "text/plain": [
       "0.0    561\n",
       "1.0     45\n",
       "Name: postcode_CV11 4, dtype: int64"
      ]
     },
     "metadata": {},
     "output_type": "display_data"
    },
    {
     "data": {
      "text/plain": [
       "0.0    582\n",
       "1.0     24\n",
       "Name: postcode_CV11 5, dtype: int64"
      ]
     },
     "metadata": {},
     "output_type": "display_data"
    },
    {
     "data": {
      "text/plain": [
       "0.0    514\n",
       "1.0     92\n",
       "Name: postcode_CV11 6, dtype: int64"
      ]
     },
     "metadata": {},
     "output_type": "display_data"
    },
    {
     "data": {
      "text/plain": [
       "0.0    592\n",
       "1.0     14\n",
       "Name: postcode_CV11 7, dtype: int64"
      ]
     },
     "metadata": {},
     "output_type": "display_data"
    },
    {
     "data": {
      "text/plain": [
       "0.0    605\n",
       "1.0      1\n",
       "Name: postcode_CV12 9, dtype: int64"
      ]
     },
     "metadata": {},
     "output_type": "display_data"
    },
    {
     "data": {
      "text/plain": [
       "0.0    603\n",
       "1.0      3\n",
       "Name: postcode_CV13 0, dtype: int64"
      ]
     },
     "metadata": {},
     "output_type": "display_data"
    },
    {
     "data": {
      "text/plain": [
       "0.0    597\n",
       "1.0      9\n",
       "Name: postcode_CV13 6, dtype: int64"
      ]
     },
     "metadata": {},
     "output_type": "display_data"
    },
    {
     "data": {
      "text/plain": [
       "0.0    605\n",
       "1.0      1\n",
       "Name: postcode_CV9 3, dtype: int64"
      ]
     },
     "metadata": {},
     "output_type": "display_data"
    },
    {
     "data": {
      "text/plain": [
       "0.0    485\n",
       "1.0    121\n",
       "Name: postcode_LE10 0, dtype: int64"
      ]
     },
     "metadata": {},
     "output_type": "display_data"
    },
    {
     "data": {
      "text/plain": [
       "0.0    542\n",
       "1.0     64\n",
       "Name: postcode_LE10 1, dtype: int64"
      ]
     },
     "metadata": {},
     "output_type": "display_data"
    },
    {
     "data": {
      "text/plain": [
       "0.0    599\n",
       "1.0      7\n",
       "Name: postcode_LE10 2, dtype: int64"
      ]
     },
     "metadata": {},
     "output_type": "display_data"
    },
    {
     "data": {
      "text/plain": [
       "0.0    600\n",
       "1.0      6\n",
       "Name: postcode_LE10 3, dtype: int64"
      ]
     },
     "metadata": {},
     "output_type": "display_data"
    },
    {
     "data": {
      "text/plain": [
       "0.0    605\n",
       "1.0      1\n",
       "Name: postcode_LE9 7, dtype: int64"
      ]
     },
     "metadata": {},
     "output_type": "display_data"
    },
    {
     "data": {
      "text/plain": [
       "0.0    601\n",
       "1.0      5\n",
       "Name: PROB_4BAND_Medium, dtype: int64"
      ]
     },
     "metadata": {},
     "output_type": "display_data"
    },
    {
     "data": {
      "text/plain": [
       "1.0    597\n",
       "0.0      9\n",
       "Name: PROB_4BAND_None, dtype: int64"
      ]
     },
     "metadata": {},
     "output_type": "display_data"
    },
    {
     "data": {
      "text/plain": [
       "0.0    406\n",
       "1.0    200\n",
       "Name: property_type_general_Detached house, dtype: int64"
      ]
     },
     "metadata": {},
     "output_type": "display_data"
    },
    {
     "data": {
      "text/plain": [
       "0.0    577\n",
       "1.0     29\n",
       "Name: property_type_general_End terrace house, dtype: int64"
      ]
     },
     "metadata": {},
     "output_type": "display_data"
    },
    {
     "data": {
      "text/plain": [
       "0.0    555\n",
       "1.0     51\n",
       "Name: property_type_general_Flat, dtype: int64"
      ]
     },
     "metadata": {},
     "output_type": "display_data"
    },
    {
     "data": {
      "text/plain": [
       "0.0    602\n",
       "1.0      4\n",
       "Name: property_type_general_Maisonette, dtype: int64"
      ]
     },
     "metadata": {},
     "output_type": "display_data"
    },
    {
     "data": {
      "text/plain": [
       "0.0    586\n",
       "1.0     20\n",
       "Name: property_type_general_Other/Unknown, dtype: int64"
      ]
     },
     "metadata": {},
     "output_type": "display_data"
    },
    {
     "data": {
      "text/plain": [
       "0.0    418\n",
       "1.0    188\n",
       "Name: property_type_general_Semi-detached house, dtype: int64"
      ]
     },
     "metadata": {},
     "output_type": "display_data"
    },
    {
     "data": {
      "text/plain": [
       "0.0    526\n",
       "1.0     80\n",
       "Name: property_type_general_Terraced house, dtype: int64"
      ]
     },
     "metadata": {},
     "output_type": "display_data"
    },
    {
     "data": {
      "text/plain": [
       "12.429216    28\n",
       "12.388394    23\n",
       "12.468437    23\n",
       "12.611538    20\n",
       "12.691580    19\n",
       "             ..\n",
       "12.671378     1\n",
       "12.821245     1\n",
       "12.936034     1\n",
       "12.060758     1\n",
       "13.091904     1\n",
       "Name: LOG_price, Length: 182, dtype: int64"
      ]
     },
     "metadata": {},
     "output_type": "display_data"
    }
   ],
   "source": [
    "for colname in zoopla_df_train.columns:\n",
    "    display(zoopla_df_train[colname].value_counts(dropna=False))"
   ]
  },
  {
   "cell_type": "code",
   "execution_count": 20,
   "metadata": {},
   "outputs": [
    {
     "data": {
      "text/html": [
       "<div>\n",
       "<style scoped>\n",
       "    .dataframe tbody tr th:only-of-type {\n",
       "        vertical-align: middle;\n",
       "    }\n",
       "\n",
       "    .dataframe tbody tr th {\n",
       "        vertical-align: top;\n",
       "    }\n",
       "\n",
       "    .dataframe thead th {\n",
       "        text-align: right;\n",
       "    }\n",
       "</style>\n",
       "<table border=\"1\" class=\"dataframe\">\n",
       "  <thead>\n",
       "    <tr style=\"text-align: right;\">\n",
       "      <th></th>\n",
       "      <th>TOTAL_FLOOR_AREA_median</th>\n",
       "      <th>diff_published_date</th>\n",
       "      <th>cluster_1</th>\n",
       "      <th>cluster_2</th>\n",
       "      <th>cluster_3</th>\n",
       "      <th>cluster_4</th>\n",
       "      <th>cluster_5</th>\n",
       "      <th>cluster_6</th>\n",
       "      <th>cluster_7</th>\n",
       "      <th>num_bedrooms</th>\n",
       "      <th>num_bathrooms</th>\n",
       "      <th>CURRENT_ENERGY_RATING_mode</th>\n",
       "      <th>POTENTIAL_ENERGY_RATING_mode</th>\n",
       "      <th>CONSTRUCTION_AGE_BAND_mode</th>\n",
       "      <th>Index of Multiple Deprivation Decile</th>\n",
       "      <th>Income Decile</th>\n",
       "      <th>Employment Decile</th>\n",
       "      <th>Education and Skills Decile</th>\n",
       "      <th>Health and Disability Decile</th>\n",
       "      <th>Crime Decile</th>\n",
       "      <th>Barriers to Housing and Services Decile</th>\n",
       "      <th>Living Environment Decile</th>\n",
       "      <th>IDACI Decile</th>\n",
       "      <th>IDAOPI Decile</th>\n",
       "      <th>last_published_year</th>\n",
       "      <th>last_published_month</th>\n",
       "      <th>first_published_year</th>\n",
       "      <th>first_published_month</th>\n",
       "      <th>post_town_Nuneaton</th>\n",
       "      <th>parish_Hinckley and Bosworth, unparished area</th>\n",
       "      <th>parish_Nuneaton and Bedworth, unparished area</th>\n",
       "      <th>parish_Other</th>\n",
       "      <th>parish_Stoke Golding</th>\n",
       "      <th>postcode_CV10 7</th>\n",
       "      <th>postcode_CV10 8</th>\n",
       "      <th>postcode_CV10 9</th>\n",
       "      <th>postcode_CV11 4</th>\n",
       "      <th>postcode_CV11 5</th>\n",
       "      <th>postcode_CV11 6</th>\n",
       "      <th>postcode_CV11 7</th>\n",
       "      <th>postcode_CV12 9</th>\n",
       "      <th>postcode_CV13 0</th>\n",
       "      <th>postcode_CV13 6</th>\n",
       "      <th>postcode_CV9 3</th>\n",
       "      <th>postcode_LE10 0</th>\n",
       "      <th>postcode_LE10 1</th>\n",
       "      <th>postcode_LE10 2</th>\n",
       "      <th>postcode_LE10 3</th>\n",
       "      <th>postcode_LE9 7</th>\n",
       "      <th>PROB_4BAND_Medium</th>\n",
       "      <th>PROB_4BAND_None</th>\n",
       "      <th>property_type_general_Detached house</th>\n",
       "      <th>property_type_general_End terrace house</th>\n",
       "      <th>property_type_general_Flat</th>\n",
       "      <th>property_type_general_Maisonette</th>\n",
       "      <th>property_type_general_Other/Unknown</th>\n",
       "      <th>property_type_general_Semi-detached house</th>\n",
       "      <th>property_type_general_Terraced house</th>\n",
       "      <th>LOG_price</th>\n",
       "    </tr>\n",
       "  </thead>\n",
       "  <tbody>\n",
       "    <tr>\n",
       "      <th>0</th>\n",
       "      <td>0.755945</td>\n",
       "      <td>-0.699124</td>\n",
       "      <td>0.0</td>\n",
       "      <td>0.0</td>\n",
       "      <td>0.0</td>\n",
       "      <td>0.0</td>\n",
       "      <td>0.0</td>\n",
       "      <td>0.0</td>\n",
       "      <td>0.0</td>\n",
       "      <td>1.075124</td>\n",
       "      <td>0.825820</td>\n",
       "      <td>1.617842</td>\n",
       "      <td>1.700535</td>\n",
       "      <td>-0.534404</td>\n",
       "      <td>-1.164162</td>\n",
       "      <td>-1.237357</td>\n",
       "      <td>-1.544492</td>\n",
       "      <td>-1.481684</td>\n",
       "      <td>-0.244458</td>\n",
       "      <td>-0.112069</td>\n",
       "      <td>0.983099</td>\n",
       "      <td>1.030554</td>\n",
       "      <td>-0.777371</td>\n",
       "      <td>-0.589032</td>\n",
       "      <td>-1.544498</td>\n",
       "      <td>1.117375</td>\n",
       "      <td>-0.576376</td>\n",
       "      <td>0.502342</td>\n",
       "      <td>0.0</td>\n",
       "      <td>1.0</td>\n",
       "      <td>0.0</td>\n",
       "      <td>0.0</td>\n",
       "      <td>0.0</td>\n",
       "      <td>0.0</td>\n",
       "      <td>0.0</td>\n",
       "      <td>0.0</td>\n",
       "      <td>0.0</td>\n",
       "      <td>0.0</td>\n",
       "      <td>0.0</td>\n",
       "      <td>0.0</td>\n",
       "      <td>0.0</td>\n",
       "      <td>0.0</td>\n",
       "      <td>0.0</td>\n",
       "      <td>0.0</td>\n",
       "      <td>1.0</td>\n",
       "      <td>0.0</td>\n",
       "      <td>0.0</td>\n",
       "      <td>0.0</td>\n",
       "      <td>0.0</td>\n",
       "      <td>0.0</td>\n",
       "      <td>1.0</td>\n",
       "      <td>1.0</td>\n",
       "      <td>0.0</td>\n",
       "      <td>0.0</td>\n",
       "      <td>0.0</td>\n",
       "      <td>0.0</td>\n",
       "      <td>0.0</td>\n",
       "      <td>0.0</td>\n",
       "      <td>12.899220</td>\n",
       "    </tr>\n",
       "    <tr>\n",
       "      <th>1</th>\n",
       "      <td>0.171376</td>\n",
       "      <td>-0.325847</td>\n",
       "      <td>0.0</td>\n",
       "      <td>0.0</td>\n",
       "      <td>1.0</td>\n",
       "      <td>0.0</td>\n",
       "      <td>0.0</td>\n",
       "      <td>0.0</td>\n",
       "      <td>0.0</td>\n",
       "      <td>-0.010751</td>\n",
       "      <td>-0.480830</td>\n",
       "      <td>0.473837</td>\n",
       "      <td>-0.149598</td>\n",
       "      <td>0.088982</td>\n",
       "      <td>-0.028729</td>\n",
       "      <td>-0.093148</td>\n",
       "      <td>0.109151</td>\n",
       "      <td>-0.282351</td>\n",
       "      <td>-0.689328</td>\n",
       "      <td>0.706170</td>\n",
       "      <td>-0.248654</td>\n",
       "      <td>0.636538</td>\n",
       "      <td>-0.373352</td>\n",
       "      <td>1.017057</td>\n",
       "      <td>-1.544498</td>\n",
       "      <td>1.574432</td>\n",
       "      <td>-0.576376</td>\n",
       "      <td>0.745100</td>\n",
       "      <td>1.0</td>\n",
       "      <td>0.0</td>\n",
       "      <td>1.0</td>\n",
       "      <td>0.0</td>\n",
       "      <td>0.0</td>\n",
       "      <td>0.0</td>\n",
       "      <td>0.0</td>\n",
       "      <td>1.0</td>\n",
       "      <td>0.0</td>\n",
       "      <td>0.0</td>\n",
       "      <td>0.0</td>\n",
       "      <td>0.0</td>\n",
       "      <td>0.0</td>\n",
       "      <td>0.0</td>\n",
       "      <td>0.0</td>\n",
       "      <td>0.0</td>\n",
       "      <td>0.0</td>\n",
       "      <td>0.0</td>\n",
       "      <td>0.0</td>\n",
       "      <td>0.0</td>\n",
       "      <td>0.0</td>\n",
       "      <td>0.0</td>\n",
       "      <td>1.0</td>\n",
       "      <td>0.0</td>\n",
       "      <td>0.0</td>\n",
       "      <td>0.0</td>\n",
       "      <td>0.0</td>\n",
       "      <td>0.0</td>\n",
       "      <td>1.0</td>\n",
       "      <td>0.0</td>\n",
       "      <td>12.429216</td>\n",
       "    </tr>\n",
       "    <tr>\n",
       "      <th>2</th>\n",
       "      <td>-0.501176</td>\n",
       "      <td>0.047430</td>\n",
       "      <td>0.0</td>\n",
       "      <td>0.0</td>\n",
       "      <td>0.0</td>\n",
       "      <td>0.0</td>\n",
       "      <td>0.0</td>\n",
       "      <td>0.0</td>\n",
       "      <td>1.0</td>\n",
       "      <td>-0.010751</td>\n",
       "      <td>-0.480830</td>\n",
       "      <td>0.473837</td>\n",
       "      <td>-0.149598</td>\n",
       "      <td>-0.534404</td>\n",
       "      <td>1.106703</td>\n",
       "      <td>1.051061</td>\n",
       "      <td>0.935973</td>\n",
       "      <td>1.316759</td>\n",
       "      <td>0.200412</td>\n",
       "      <td>0.706170</td>\n",
       "      <td>0.572515</td>\n",
       "      <td>-0.151495</td>\n",
       "      <td>1.646747</td>\n",
       "      <td>0.615535</td>\n",
       "      <td>0.647459</td>\n",
       "      <td>-0.710851</td>\n",
       "      <td>-0.576376</td>\n",
       "      <td>0.745100</td>\n",
       "      <td>1.0</td>\n",
       "      <td>0.0</td>\n",
       "      <td>1.0</td>\n",
       "      <td>0.0</td>\n",
       "      <td>0.0</td>\n",
       "      <td>0.0</td>\n",
       "      <td>0.0</td>\n",
       "      <td>0.0</td>\n",
       "      <td>0.0</td>\n",
       "      <td>0.0</td>\n",
       "      <td>0.0</td>\n",
       "      <td>0.0</td>\n",
       "      <td>0.0</td>\n",
       "      <td>0.0</td>\n",
       "      <td>0.0</td>\n",
       "      <td>0.0</td>\n",
       "      <td>0.0</td>\n",
       "      <td>0.0</td>\n",
       "      <td>0.0</td>\n",
       "      <td>0.0</td>\n",
       "      <td>0.0</td>\n",
       "      <td>0.0</td>\n",
       "      <td>1.0</td>\n",
       "      <td>0.0</td>\n",
       "      <td>0.0</td>\n",
       "      <td>0.0</td>\n",
       "      <td>0.0</td>\n",
       "      <td>0.0</td>\n",
       "      <td>1.0</td>\n",
       "      <td>0.0</td>\n",
       "      <td>12.577636</td>\n",
       "    </tr>\n",
       "    <tr>\n",
       "      <th>3</th>\n",
       "      <td>2.699468</td>\n",
       "      <td>0.047430</td>\n",
       "      <td>0.0</td>\n",
       "      <td>0.0</td>\n",
       "      <td>0.0</td>\n",
       "      <td>1.0</td>\n",
       "      <td>0.0</td>\n",
       "      <td>0.0</td>\n",
       "      <td>0.0</td>\n",
       "      <td>1.075124</td>\n",
       "      <td>0.825820</td>\n",
       "      <td>1.617842</td>\n",
       "      <td>1.700535</td>\n",
       "      <td>-1.157791</td>\n",
       "      <td>-0.407207</td>\n",
       "      <td>-0.474551</td>\n",
       "      <td>0.109151</td>\n",
       "      <td>-0.682129</td>\n",
       "      <td>-1.134197</td>\n",
       "      <td>-0.521189</td>\n",
       "      <td>1.393684</td>\n",
       "      <td>-0.939527</td>\n",
       "      <td>-0.373352</td>\n",
       "      <td>-0.589032</td>\n",
       "      <td>-1.544498</td>\n",
       "      <td>1.802960</td>\n",
       "      <td>-0.576376</td>\n",
       "      <td>0.502342</td>\n",
       "      <td>0.0</td>\n",
       "      <td>1.0</td>\n",
       "      <td>0.0</td>\n",
       "      <td>0.0</td>\n",
       "      <td>0.0</td>\n",
       "      <td>0.0</td>\n",
       "      <td>0.0</td>\n",
       "      <td>0.0</td>\n",
       "      <td>0.0</td>\n",
       "      <td>0.0</td>\n",
       "      <td>0.0</td>\n",
       "      <td>0.0</td>\n",
       "      <td>0.0</td>\n",
       "      <td>0.0</td>\n",
       "      <td>0.0</td>\n",
       "      <td>0.0</td>\n",
       "      <td>0.0</td>\n",
       "      <td>1.0</td>\n",
       "      <td>0.0</td>\n",
       "      <td>0.0</td>\n",
       "      <td>0.0</td>\n",
       "      <td>0.0</td>\n",
       "      <td>1.0</td>\n",
       "      <td>1.0</td>\n",
       "      <td>0.0</td>\n",
       "      <td>0.0</td>\n",
       "      <td>0.0</td>\n",
       "      <td>0.0</td>\n",
       "      <td>0.0</td>\n",
       "      <td>0.0</td>\n",
       "      <td>13.217674</td>\n",
       "    </tr>\n",
       "    <tr>\n",
       "      <th>4</th>\n",
       "      <td>-0.632287</td>\n",
       "      <td>0.793983</td>\n",
       "      <td>1.0</td>\n",
       "      <td>0.0</td>\n",
       "      <td>0.0</td>\n",
       "      <td>0.0</td>\n",
       "      <td>0.0</td>\n",
       "      <td>0.0</td>\n",
       "      <td>0.0</td>\n",
       "      <td>-0.010751</td>\n",
       "      <td>-1.787481</td>\n",
       "      <td>-0.670168</td>\n",
       "      <td>-0.149598</td>\n",
       "      <td>0.088982</td>\n",
       "      <td>-0.785684</td>\n",
       "      <td>-0.855954</td>\n",
       "      <td>-0.717670</td>\n",
       "      <td>-0.682129</td>\n",
       "      <td>-0.689328</td>\n",
       "      <td>-1.339428</td>\n",
       "      <td>0.983099</td>\n",
       "      <td>-0.545511</td>\n",
       "      <td>-0.373352</td>\n",
       "      <td>-0.589032</td>\n",
       "      <td>0.647459</td>\n",
       "      <td>-0.482323</td>\n",
       "      <td>-0.576376</td>\n",
       "      <td>0.502342</td>\n",
       "      <td>1.0</td>\n",
       "      <td>0.0</td>\n",
       "      <td>1.0</td>\n",
       "      <td>0.0</td>\n",
       "      <td>0.0</td>\n",
       "      <td>0.0</td>\n",
       "      <td>1.0</td>\n",
       "      <td>0.0</td>\n",
       "      <td>0.0</td>\n",
       "      <td>0.0</td>\n",
       "      <td>0.0</td>\n",
       "      <td>0.0</td>\n",
       "      <td>0.0</td>\n",
       "      <td>0.0</td>\n",
       "      <td>0.0</td>\n",
       "      <td>0.0</td>\n",
       "      <td>0.0</td>\n",
       "      <td>0.0</td>\n",
       "      <td>0.0</td>\n",
       "      <td>0.0</td>\n",
       "      <td>0.0</td>\n",
       "      <td>0.0</td>\n",
       "      <td>1.0</td>\n",
       "      <td>0.0</td>\n",
       "      <td>0.0</td>\n",
       "      <td>0.0</td>\n",
       "      <td>0.0</td>\n",
       "      <td>0.0</td>\n",
       "      <td>1.0</td>\n",
       "      <td>0.0</td>\n",
       "      <td>12.367341</td>\n",
       "    </tr>\n",
       "    <tr>\n",
       "      <th>...</th>\n",
       "      <td>...</td>\n",
       "      <td>...</td>\n",
       "      <td>...</td>\n",
       "      <td>...</td>\n",
       "      <td>...</td>\n",
       "      <td>...</td>\n",
       "      <td>...</td>\n",
       "      <td>...</td>\n",
       "      <td>...</td>\n",
       "      <td>...</td>\n",
       "      <td>...</td>\n",
       "      <td>...</td>\n",
       "      <td>...</td>\n",
       "      <td>...</td>\n",
       "      <td>...</td>\n",
       "      <td>...</td>\n",
       "      <td>...</td>\n",
       "      <td>...</td>\n",
       "      <td>...</td>\n",
       "      <td>...</td>\n",
       "      <td>...</td>\n",
       "      <td>...</td>\n",
       "      <td>...</td>\n",
       "      <td>...</td>\n",
       "      <td>...</td>\n",
       "      <td>...</td>\n",
       "      <td>...</td>\n",
       "      <td>...</td>\n",
       "      <td>...</td>\n",
       "      <td>...</td>\n",
       "      <td>...</td>\n",
       "      <td>...</td>\n",
       "      <td>...</td>\n",
       "      <td>...</td>\n",
       "      <td>...</td>\n",
       "      <td>...</td>\n",
       "      <td>...</td>\n",
       "      <td>...</td>\n",
       "      <td>...</td>\n",
       "      <td>...</td>\n",
       "      <td>...</td>\n",
       "      <td>...</td>\n",
       "      <td>...</td>\n",
       "      <td>...</td>\n",
       "      <td>...</td>\n",
       "      <td>...</td>\n",
       "      <td>...</td>\n",
       "      <td>...</td>\n",
       "      <td>...</td>\n",
       "      <td>...</td>\n",
       "      <td>...</td>\n",
       "      <td>...</td>\n",
       "      <td>...</td>\n",
       "      <td>...</td>\n",
       "      <td>...</td>\n",
       "      <td>...</td>\n",
       "      <td>...</td>\n",
       "      <td>...</td>\n",
       "      <td>...</td>\n",
       "    </tr>\n",
       "    <tr>\n",
       "      <th>601</th>\n",
       "      <td>0.246926</td>\n",
       "      <td>0.047430</td>\n",
       "      <td>0.0</td>\n",
       "      <td>1.0</td>\n",
       "      <td>0.0</td>\n",
       "      <td>0.0</td>\n",
       "      <td>0.0</td>\n",
       "      <td>0.0</td>\n",
       "      <td>0.0</td>\n",
       "      <td>-0.010751</td>\n",
       "      <td>0.825820</td>\n",
       "      <td>-1.814173</td>\n",
       "      <td>-1.999732</td>\n",
       "      <td>2.270833</td>\n",
       "      <td>-1.921117</td>\n",
       "      <td>-1.618760</td>\n",
       "      <td>-1.957903</td>\n",
       "      <td>-0.682129</td>\n",
       "      <td>-2.023936</td>\n",
       "      <td>-1.748548</td>\n",
       "      <td>-0.659239</td>\n",
       "      <td>-1.333543</td>\n",
       "      <td>-1.585411</td>\n",
       "      <td>-2.195120</td>\n",
       "      <td>0.647459</td>\n",
       "      <td>-0.710851</td>\n",
       "      <td>-0.576376</td>\n",
       "      <td>0.987859</td>\n",
       "      <td>1.0</td>\n",
       "      <td>0.0</td>\n",
       "      <td>1.0</td>\n",
       "      <td>0.0</td>\n",
       "      <td>0.0</td>\n",
       "      <td>0.0</td>\n",
       "      <td>0.0</td>\n",
       "      <td>0.0</td>\n",
       "      <td>0.0</td>\n",
       "      <td>0.0</td>\n",
       "      <td>1.0</td>\n",
       "      <td>0.0</td>\n",
       "      <td>0.0</td>\n",
       "      <td>0.0</td>\n",
       "      <td>0.0</td>\n",
       "      <td>0.0</td>\n",
       "      <td>0.0</td>\n",
       "      <td>0.0</td>\n",
       "      <td>0.0</td>\n",
       "      <td>0.0</td>\n",
       "      <td>0.0</td>\n",
       "      <td>0.0</td>\n",
       "      <td>1.0</td>\n",
       "      <td>1.0</td>\n",
       "      <td>0.0</td>\n",
       "      <td>0.0</td>\n",
       "      <td>0.0</td>\n",
       "      <td>0.0</td>\n",
       "      <td>0.0</td>\n",
       "      <td>0.0</td>\n",
       "      <td>12.542545</td>\n",
       "    </tr>\n",
       "    <tr>\n",
       "      <th>602</th>\n",
       "      <td>0.773529</td>\n",
       "      <td>-0.699124</td>\n",
       "      <td>1.0</td>\n",
       "      <td>0.0</td>\n",
       "      <td>0.0</td>\n",
       "      <td>0.0</td>\n",
       "      <td>0.0</td>\n",
       "      <td>0.0</td>\n",
       "      <td>0.0</td>\n",
       "      <td>1.075124</td>\n",
       "      <td>2.132471</td>\n",
       "      <td>-0.670168</td>\n",
       "      <td>-0.149598</td>\n",
       "      <td>1.335754</td>\n",
       "      <td>-0.028729</td>\n",
       "      <td>-0.474551</td>\n",
       "      <td>0.109151</td>\n",
       "      <td>0.117426</td>\n",
       "      <td>-0.244458</td>\n",
       "      <td>0.706170</td>\n",
       "      <td>-1.069823</td>\n",
       "      <td>-0.545511</td>\n",
       "      <td>0.030668</td>\n",
       "      <td>-0.187509</td>\n",
       "      <td>-1.544498</td>\n",
       "      <td>1.574432</td>\n",
       "      <td>-0.576376</td>\n",
       "      <td>0.745100</td>\n",
       "      <td>1.0</td>\n",
       "      <td>0.0</td>\n",
       "      <td>1.0</td>\n",
       "      <td>0.0</td>\n",
       "      <td>0.0</td>\n",
       "      <td>1.0</td>\n",
       "      <td>0.0</td>\n",
       "      <td>0.0</td>\n",
       "      <td>0.0</td>\n",
       "      <td>0.0</td>\n",
       "      <td>0.0</td>\n",
       "      <td>0.0</td>\n",
       "      <td>0.0</td>\n",
       "      <td>0.0</td>\n",
       "      <td>0.0</td>\n",
       "      <td>0.0</td>\n",
       "      <td>0.0</td>\n",
       "      <td>0.0</td>\n",
       "      <td>0.0</td>\n",
       "      <td>0.0</td>\n",
       "      <td>0.0</td>\n",
       "      <td>0.0</td>\n",
       "      <td>1.0</td>\n",
       "      <td>1.0</td>\n",
       "      <td>0.0</td>\n",
       "      <td>0.0</td>\n",
       "      <td>0.0</td>\n",
       "      <td>0.0</td>\n",
       "      <td>0.0</td>\n",
       "      <td>0.0</td>\n",
       "      <td>12.886641</td>\n",
       "    </tr>\n",
       "    <tr>\n",
       "      <th>603</th>\n",
       "      <td>-1.372677</td>\n",
       "      <td>-0.325847</td>\n",
       "      <td>0.0</td>\n",
       "      <td>0.0</td>\n",
       "      <td>0.0</td>\n",
       "      <td>0.0</td>\n",
       "      <td>0.0</td>\n",
       "      <td>0.0</td>\n",
       "      <td>0.0</td>\n",
       "      <td>-2.182501</td>\n",
       "      <td>-0.480830</td>\n",
       "      <td>-0.670168</td>\n",
       "      <td>1.700535</td>\n",
       "      <td>0.400675</td>\n",
       "      <td>-0.407207</td>\n",
       "      <td>-0.093148</td>\n",
       "      <td>-0.717670</td>\n",
       "      <td>-0.282351</td>\n",
       "      <td>-1.134197</td>\n",
       "      <td>0.297051</td>\n",
       "      <td>-1.069823</td>\n",
       "      <td>-0.151495</td>\n",
       "      <td>0.030668</td>\n",
       "      <td>-0.187509</td>\n",
       "      <td>0.647459</td>\n",
       "      <td>-0.710851</td>\n",
       "      <td>-0.576376</td>\n",
       "      <td>0.987859</td>\n",
       "      <td>0.0</td>\n",
       "      <td>1.0</td>\n",
       "      <td>0.0</td>\n",
       "      <td>0.0</td>\n",
       "      <td>0.0</td>\n",
       "      <td>0.0</td>\n",
       "      <td>0.0</td>\n",
       "      <td>0.0</td>\n",
       "      <td>0.0</td>\n",
       "      <td>0.0</td>\n",
       "      <td>0.0</td>\n",
       "      <td>0.0</td>\n",
       "      <td>0.0</td>\n",
       "      <td>0.0</td>\n",
       "      <td>0.0</td>\n",
       "      <td>0.0</td>\n",
       "      <td>1.0</td>\n",
       "      <td>0.0</td>\n",
       "      <td>0.0</td>\n",
       "      <td>0.0</td>\n",
       "      <td>0.0</td>\n",
       "      <td>0.0</td>\n",
       "      <td>1.0</td>\n",
       "      <td>0.0</td>\n",
       "      <td>0.0</td>\n",
       "      <td>1.0</td>\n",
       "      <td>0.0</td>\n",
       "      <td>0.0</td>\n",
       "      <td>0.0</td>\n",
       "      <td>0.0</td>\n",
       "      <td>11.407565</td>\n",
       "    </tr>\n",
       "    <tr>\n",
       "      <th>604</th>\n",
       "      <td>0.786794</td>\n",
       "      <td>2.287089</td>\n",
       "      <td>0.0</td>\n",
       "      <td>0.0</td>\n",
       "      <td>0.0</td>\n",
       "      <td>0.0</td>\n",
       "      <td>1.0</td>\n",
       "      <td>0.0</td>\n",
       "      <td>0.0</td>\n",
       "      <td>1.075124</td>\n",
       "      <td>0.825820</td>\n",
       "      <td>0.473837</td>\n",
       "      <td>1.700535</td>\n",
       "      <td>0.712368</td>\n",
       "      <td>1.485181</td>\n",
       "      <td>1.432465</td>\n",
       "      <td>1.349384</td>\n",
       "      <td>1.716537</td>\n",
       "      <td>0.645281</td>\n",
       "      <td>1.524410</td>\n",
       "      <td>-0.659239</td>\n",
       "      <td>1.424570</td>\n",
       "      <td>1.242727</td>\n",
       "      <td>1.418579</td>\n",
       "      <td>-1.544498</td>\n",
       "      <td>1.802960</td>\n",
       "      <td>-0.576376</td>\n",
       "      <td>-0.954209</td>\n",
       "      <td>1.0</td>\n",
       "      <td>0.0</td>\n",
       "      <td>1.0</td>\n",
       "      <td>0.0</td>\n",
       "      <td>0.0</td>\n",
       "      <td>0.0</td>\n",
       "      <td>0.0</td>\n",
       "      <td>0.0</td>\n",
       "      <td>0.0</td>\n",
       "      <td>0.0</td>\n",
       "      <td>1.0</td>\n",
       "      <td>0.0</td>\n",
       "      <td>0.0</td>\n",
       "      <td>0.0</td>\n",
       "      <td>0.0</td>\n",
       "      <td>0.0</td>\n",
       "      <td>0.0</td>\n",
       "      <td>0.0</td>\n",
       "      <td>0.0</td>\n",
       "      <td>0.0</td>\n",
       "      <td>0.0</td>\n",
       "      <td>0.0</td>\n",
       "      <td>1.0</td>\n",
       "      <td>1.0</td>\n",
       "      <td>0.0</td>\n",
       "      <td>0.0</td>\n",
       "      <td>0.0</td>\n",
       "      <td>0.0</td>\n",
       "      <td>0.0</td>\n",
       "      <td>0.0</td>\n",
       "      <td>13.091904</td>\n",
       "    </tr>\n",
       "    <tr>\n",
       "      <th>605</th>\n",
       "      <td>-1.249278</td>\n",
       "      <td>-0.699124</td>\n",
       "      <td>0.0</td>\n",
       "      <td>0.0</td>\n",
       "      <td>0.0</td>\n",
       "      <td>1.0</td>\n",
       "      <td>0.0</td>\n",
       "      <td>0.0</td>\n",
       "      <td>0.0</td>\n",
       "      <td>-1.096626</td>\n",
       "      <td>-0.480830</td>\n",
       "      <td>-0.670168</td>\n",
       "      <td>1.700535</td>\n",
       "      <td>-0.846097</td>\n",
       "      <td>-1.164162</td>\n",
       "      <td>-0.855954</td>\n",
       "      <td>-1.131081</td>\n",
       "      <td>-0.682129</td>\n",
       "      <td>-0.689328</td>\n",
       "      <td>-0.930308</td>\n",
       "      <td>0.983099</td>\n",
       "      <td>-1.727559</td>\n",
       "      <td>-0.777371</td>\n",
       "      <td>-0.990554</td>\n",
       "      <td>0.647459</td>\n",
       "      <td>-0.710851</td>\n",
       "      <td>1.490392</td>\n",
       "      <td>-1.439726</td>\n",
       "      <td>0.0</td>\n",
       "      <td>1.0</td>\n",
       "      <td>0.0</td>\n",
       "      <td>0.0</td>\n",
       "      <td>0.0</td>\n",
       "      <td>0.0</td>\n",
       "      <td>0.0</td>\n",
       "      <td>0.0</td>\n",
       "      <td>0.0</td>\n",
       "      <td>0.0</td>\n",
       "      <td>0.0</td>\n",
       "      <td>0.0</td>\n",
       "      <td>0.0</td>\n",
       "      <td>0.0</td>\n",
       "      <td>0.0</td>\n",
       "      <td>0.0</td>\n",
       "      <td>1.0</td>\n",
       "      <td>0.0</td>\n",
       "      <td>0.0</td>\n",
       "      <td>0.0</td>\n",
       "      <td>0.0</td>\n",
       "      <td>0.0</td>\n",
       "      <td>1.0</td>\n",
       "      <td>0.0</td>\n",
       "      <td>0.0</td>\n",
       "      <td>1.0</td>\n",
       "      <td>0.0</td>\n",
       "      <td>0.0</td>\n",
       "      <td>0.0</td>\n",
       "      <td>0.0</td>\n",
       "      <td>11.775290</td>\n",
       "    </tr>\n",
       "  </tbody>\n",
       "</table>\n",
       "<p>606 rows × 59 columns</p>\n",
       "</div>"
      ],
      "text/plain": [
       "     TOTAL_FLOOR_AREA_median  diff_published_date  cluster_1  cluster_2  \\\n",
       "0                   0.755945            -0.699124        0.0        0.0   \n",
       "1                   0.171376            -0.325847        0.0        0.0   \n",
       "2                  -0.501176             0.047430        0.0        0.0   \n",
       "3                   2.699468             0.047430        0.0        0.0   \n",
       "4                  -0.632287             0.793983        1.0        0.0   \n",
       "..                       ...                  ...        ...        ...   \n",
       "601                 0.246926             0.047430        0.0        1.0   \n",
       "602                 0.773529            -0.699124        1.0        0.0   \n",
       "603                -1.372677            -0.325847        0.0        0.0   \n",
       "604                 0.786794             2.287089        0.0        0.0   \n",
       "605                -1.249278            -0.699124        0.0        0.0   \n",
       "\n",
       "     cluster_3  cluster_4  cluster_5  cluster_6  cluster_7  num_bedrooms  \\\n",
       "0          0.0        0.0        0.0        0.0        0.0      1.075124   \n",
       "1          1.0        0.0        0.0        0.0        0.0     -0.010751   \n",
       "2          0.0        0.0        0.0        0.0        1.0     -0.010751   \n",
       "3          0.0        1.0        0.0        0.0        0.0      1.075124   \n",
       "4          0.0        0.0        0.0        0.0        0.0     -0.010751   \n",
       "..         ...        ...        ...        ...        ...           ...   \n",
       "601        0.0        0.0        0.0        0.0        0.0     -0.010751   \n",
       "602        0.0        0.0        0.0        0.0        0.0      1.075124   \n",
       "603        0.0        0.0        0.0        0.0        0.0     -2.182501   \n",
       "604        0.0        0.0        1.0        0.0        0.0      1.075124   \n",
       "605        0.0        1.0        0.0        0.0        0.0     -1.096626   \n",
       "\n",
       "     num_bathrooms  CURRENT_ENERGY_RATING_mode  POTENTIAL_ENERGY_RATING_mode  \\\n",
       "0         0.825820                    1.617842                      1.700535   \n",
       "1        -0.480830                    0.473837                     -0.149598   \n",
       "2        -0.480830                    0.473837                     -0.149598   \n",
       "3         0.825820                    1.617842                      1.700535   \n",
       "4        -1.787481                   -0.670168                     -0.149598   \n",
       "..             ...                         ...                           ...   \n",
       "601       0.825820                   -1.814173                     -1.999732   \n",
       "602       2.132471                   -0.670168                     -0.149598   \n",
       "603      -0.480830                   -0.670168                      1.700535   \n",
       "604       0.825820                    0.473837                      1.700535   \n",
       "605      -0.480830                   -0.670168                      1.700535   \n",
       "\n",
       "     CONSTRUCTION_AGE_BAND_mode  Index of Multiple Deprivation Decile  \\\n",
       "0                     -0.534404                             -1.164162   \n",
       "1                      0.088982                             -0.028729   \n",
       "2                     -0.534404                              1.106703   \n",
       "3                     -1.157791                             -0.407207   \n",
       "4                      0.088982                             -0.785684   \n",
       "..                          ...                                   ...   \n",
       "601                    2.270833                             -1.921117   \n",
       "602                    1.335754                             -0.028729   \n",
       "603                    0.400675                             -0.407207   \n",
       "604                    0.712368                              1.485181   \n",
       "605                   -0.846097                             -1.164162   \n",
       "\n",
       "     Income Decile  Employment Decile  Education and Skills Decile  \\\n",
       "0        -1.237357          -1.544492                    -1.481684   \n",
       "1        -0.093148           0.109151                    -0.282351   \n",
       "2         1.051061           0.935973                     1.316759   \n",
       "3        -0.474551           0.109151                    -0.682129   \n",
       "4        -0.855954          -0.717670                    -0.682129   \n",
       "..             ...                ...                          ...   \n",
       "601      -1.618760          -1.957903                    -0.682129   \n",
       "602      -0.474551           0.109151                     0.117426   \n",
       "603      -0.093148          -0.717670                    -0.282351   \n",
       "604       1.432465           1.349384                     1.716537   \n",
       "605      -0.855954          -1.131081                    -0.682129   \n",
       "\n",
       "     Health and Disability Decile  Crime Decile  \\\n",
       "0                       -0.244458     -0.112069   \n",
       "1                       -0.689328      0.706170   \n",
       "2                        0.200412      0.706170   \n",
       "3                       -1.134197     -0.521189   \n",
       "4                       -0.689328     -1.339428   \n",
       "..                            ...           ...   \n",
       "601                     -2.023936     -1.748548   \n",
       "602                     -0.244458      0.706170   \n",
       "603                     -1.134197      0.297051   \n",
       "604                      0.645281      1.524410   \n",
       "605                     -0.689328     -0.930308   \n",
       "\n",
       "     Barriers to Housing and Services Decile  Living Environment Decile  \\\n",
       "0                                   0.983099                   1.030554   \n",
       "1                                  -0.248654                   0.636538   \n",
       "2                                   0.572515                  -0.151495   \n",
       "3                                   1.393684                  -0.939527   \n",
       "4                                   0.983099                  -0.545511   \n",
       "..                                       ...                        ...   \n",
       "601                                -0.659239                  -1.333543   \n",
       "602                                -1.069823                  -0.545511   \n",
       "603                                -1.069823                  -0.151495   \n",
       "604                                -0.659239                   1.424570   \n",
       "605                                 0.983099                  -1.727559   \n",
       "\n",
       "     IDACI Decile  IDAOPI Decile  last_published_year  last_published_month  \\\n",
       "0       -0.777371      -0.589032            -1.544498              1.117375   \n",
       "1       -0.373352       1.017057            -1.544498              1.574432   \n",
       "2        1.646747       0.615535             0.647459             -0.710851   \n",
       "3       -0.373352      -0.589032            -1.544498              1.802960   \n",
       "4       -0.373352      -0.589032             0.647459             -0.482323   \n",
       "..            ...            ...                  ...                   ...   \n",
       "601     -1.585411      -2.195120             0.647459             -0.710851   \n",
       "602      0.030668      -0.187509            -1.544498              1.574432   \n",
       "603      0.030668      -0.187509             0.647459             -0.710851   \n",
       "604      1.242727       1.418579            -1.544498              1.802960   \n",
       "605     -0.777371      -0.990554             0.647459             -0.710851   \n",
       "\n",
       "     first_published_year  first_published_month  post_town_Nuneaton  \\\n",
       "0               -0.576376               0.502342                 0.0   \n",
       "1               -0.576376               0.745100                 1.0   \n",
       "2               -0.576376               0.745100                 1.0   \n",
       "3               -0.576376               0.502342                 0.0   \n",
       "4               -0.576376               0.502342                 1.0   \n",
       "..                    ...                    ...                 ...   \n",
       "601             -0.576376               0.987859                 1.0   \n",
       "602             -0.576376               0.745100                 1.0   \n",
       "603             -0.576376               0.987859                 0.0   \n",
       "604             -0.576376              -0.954209                 1.0   \n",
       "605              1.490392              -1.439726                 0.0   \n",
       "\n",
       "     parish_Hinckley and Bosworth, unparished area  \\\n",
       "0                                              1.0   \n",
       "1                                              0.0   \n",
       "2                                              0.0   \n",
       "3                                              1.0   \n",
       "4                                              0.0   \n",
       "..                                             ...   \n",
       "601                                            0.0   \n",
       "602                                            0.0   \n",
       "603                                            1.0   \n",
       "604                                            0.0   \n",
       "605                                            1.0   \n",
       "\n",
       "     parish_Nuneaton and Bedworth, unparished area  parish_Other  \\\n",
       "0                                              0.0           0.0   \n",
       "1                                              1.0           0.0   \n",
       "2                                              1.0           0.0   \n",
       "3                                              0.0           0.0   \n",
       "4                                              1.0           0.0   \n",
       "..                                             ...           ...   \n",
       "601                                            1.0           0.0   \n",
       "602                                            1.0           0.0   \n",
       "603                                            0.0           0.0   \n",
       "604                                            1.0           0.0   \n",
       "605                                            0.0           0.0   \n",
       "\n",
       "     parish_Stoke Golding  postcode_CV10 7  postcode_CV10 8  postcode_CV10 9  \\\n",
       "0                     0.0              0.0              0.0              0.0   \n",
       "1                     0.0              0.0              0.0              1.0   \n",
       "2                     0.0              0.0              0.0              0.0   \n",
       "3                     0.0              0.0              0.0              0.0   \n",
       "4                     0.0              0.0              1.0              0.0   \n",
       "..                    ...              ...              ...              ...   \n",
       "601                   0.0              0.0              0.0              0.0   \n",
       "602                   0.0              1.0              0.0              0.0   \n",
       "603                   0.0              0.0              0.0              0.0   \n",
       "604                   0.0              0.0              0.0              0.0   \n",
       "605                   0.0              0.0              0.0              0.0   \n",
       "\n",
       "     postcode_CV11 4  postcode_CV11 5  postcode_CV11 6  postcode_CV11 7  \\\n",
       "0                0.0              0.0              0.0              0.0   \n",
       "1                0.0              0.0              0.0              0.0   \n",
       "2                0.0              0.0              0.0              0.0   \n",
       "3                0.0              0.0              0.0              0.0   \n",
       "4                0.0              0.0              0.0              0.0   \n",
       "..               ...              ...              ...              ...   \n",
       "601              0.0              0.0              1.0              0.0   \n",
       "602              0.0              0.0              0.0              0.0   \n",
       "603              0.0              0.0              0.0              0.0   \n",
       "604              0.0              0.0              1.0              0.0   \n",
       "605              0.0              0.0              0.0              0.0   \n",
       "\n",
       "     postcode_CV12 9  postcode_CV13 0  postcode_CV13 6  postcode_CV9 3  \\\n",
       "0                0.0              0.0              0.0             0.0   \n",
       "1                0.0              0.0              0.0             0.0   \n",
       "2                0.0              0.0              0.0             0.0   \n",
       "3                0.0              0.0              0.0             0.0   \n",
       "4                0.0              0.0              0.0             0.0   \n",
       "..               ...              ...              ...             ...   \n",
       "601              0.0              0.0              0.0             0.0   \n",
       "602              0.0              0.0              0.0             0.0   \n",
       "603              0.0              0.0              0.0             0.0   \n",
       "604              0.0              0.0              0.0             0.0   \n",
       "605              0.0              0.0              0.0             0.0   \n",
       "\n",
       "     postcode_LE10 0  postcode_LE10 1  postcode_LE10 2  postcode_LE10 3  \\\n",
       "0                1.0              0.0              0.0              0.0   \n",
       "1                0.0              0.0              0.0              0.0   \n",
       "2                0.0              0.0              0.0              0.0   \n",
       "3                0.0              1.0              0.0              0.0   \n",
       "4                0.0              0.0              0.0              0.0   \n",
       "..               ...              ...              ...              ...   \n",
       "601              0.0              0.0              0.0              0.0   \n",
       "602              0.0              0.0              0.0              0.0   \n",
       "603              1.0              0.0              0.0              0.0   \n",
       "604              0.0              0.0              0.0              0.0   \n",
       "605              1.0              0.0              0.0              0.0   \n",
       "\n",
       "     postcode_LE9 7  PROB_4BAND_Medium  PROB_4BAND_None  \\\n",
       "0               0.0                0.0              1.0   \n",
       "1               0.0                0.0              1.0   \n",
       "2               0.0                0.0              1.0   \n",
       "3               0.0                0.0              1.0   \n",
       "4               0.0                0.0              1.0   \n",
       "..              ...                ...              ...   \n",
       "601             0.0                0.0              1.0   \n",
       "602             0.0                0.0              1.0   \n",
       "603             0.0                0.0              1.0   \n",
       "604             0.0                0.0              1.0   \n",
       "605             0.0                0.0              1.0   \n",
       "\n",
       "     property_type_general_Detached house  \\\n",
       "0                                     1.0   \n",
       "1                                     0.0   \n",
       "2                                     0.0   \n",
       "3                                     1.0   \n",
       "4                                     0.0   \n",
       "..                                    ...   \n",
       "601                                   1.0   \n",
       "602                                   1.0   \n",
       "603                                   0.0   \n",
       "604                                   1.0   \n",
       "605                                   0.0   \n",
       "\n",
       "     property_type_general_End terrace house  property_type_general_Flat  \\\n",
       "0                                        0.0                         0.0   \n",
       "1                                        0.0                         0.0   \n",
       "2                                        0.0                         0.0   \n",
       "3                                        0.0                         0.0   \n",
       "4                                        0.0                         0.0   \n",
       "..                                       ...                         ...   \n",
       "601                                      0.0                         0.0   \n",
       "602                                      0.0                         0.0   \n",
       "603                                      0.0                         1.0   \n",
       "604                                      0.0                         0.0   \n",
       "605                                      0.0                         1.0   \n",
       "\n",
       "     property_type_general_Maisonette  property_type_general_Other/Unknown  \\\n",
       "0                                 0.0                                  0.0   \n",
       "1                                 0.0                                  0.0   \n",
       "2                                 0.0                                  0.0   \n",
       "3                                 0.0                                  0.0   \n",
       "4                                 0.0                                  0.0   \n",
       "..                                ...                                  ...   \n",
       "601                               0.0                                  0.0   \n",
       "602                               0.0                                  0.0   \n",
       "603                               0.0                                  0.0   \n",
       "604                               0.0                                  0.0   \n",
       "605                               0.0                                  0.0   \n",
       "\n",
       "     property_type_general_Semi-detached house  \\\n",
       "0                                          0.0   \n",
       "1                                          1.0   \n",
       "2                                          1.0   \n",
       "3                                          0.0   \n",
       "4                                          1.0   \n",
       "..                                         ...   \n",
       "601                                        0.0   \n",
       "602                                        0.0   \n",
       "603                                        0.0   \n",
       "604                                        0.0   \n",
       "605                                        0.0   \n",
       "\n",
       "     property_type_general_Terraced house  LOG_price  \n",
       "0                                     0.0  12.899220  \n",
       "1                                     0.0  12.429216  \n",
       "2                                     0.0  12.577636  \n",
       "3                                     0.0  13.217674  \n",
       "4                                     0.0  12.367341  \n",
       "..                                    ...        ...  \n",
       "601                                   0.0  12.542545  \n",
       "602                                   0.0  12.886641  \n",
       "603                                   0.0  11.407565  \n",
       "604                                   0.0  13.091904  \n",
       "605                                   0.0  11.775290  \n",
       "\n",
       "[606 rows x 59 columns]"
      ]
     },
     "execution_count": 20,
     "metadata": {},
     "output_type": "execute_result"
    }
   ],
   "source": [
    "zoopla_df_train"
   ]
  },
  {
   "cell_type": "code",
   "execution_count": null,
   "metadata": {},
   "outputs": [],
   "source": []
  }
 ],
 "metadata": {
  "kernelspec": {
   "display_name": "Python 3 (ipykernel)",
   "language": "python",
   "name": "python3"
  },
  "language_info": {
   "codemirror_mode": {
    "name": "ipython",
    "version": 3
   },
   "file_extension": ".py",
   "mimetype": "text/x-python",
   "name": "python",
   "nbconvert_exporter": "python",
   "pygments_lexer": "ipython3",
   "version": "3.11.0"
  }
 },
 "nbformat": 4,
 "nbformat_minor": 4
}
