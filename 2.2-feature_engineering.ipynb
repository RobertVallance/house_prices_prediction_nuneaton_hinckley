{
 "cells": [
  {
   "cell_type": "markdown",
   "metadata": {},
   "source": [
    "# Feature engineering\n",
    "Use our existing features to develop new features, convert categorical values to one-hot vectors, and drop others. We will \"fit\" to the training data and then transform to the test data"
   ]
  },
  {
   "cell_type": "code",
   "execution_count": 1,
   "metadata": {},
   "outputs": [],
   "source": [
    "import os\n",
    "import numpy as np\n",
    "import pandas as pd\n",
    "pd.set_option('display.max_columns', 100)\n",
    "\n",
    "from sklearn.base import BaseEstimator, TransformerMixin\n",
    "from sklearn.pipeline import Pipeline\n",
    "from sklearn.compose import ColumnTransformer\n",
    "from sklearn.impute import SimpleImputer\n",
    "from sklearn.preprocessing import StandardScaler, OneHotEncoder\n",
    "from sklearn.cluster import KMeans\n",
    "   \n",
    "import matplotlib.pyplot as plt\n",
    "%matplotlib inline\n",
    "import seaborn as sns"
   ]
  },
  {
   "cell_type": "markdown",
   "metadata": {},
   "source": [
    "Read in our test and training data"
   ]
  },
  {
   "cell_type": "code",
   "execution_count": 2,
   "metadata": {},
   "outputs": [],
   "source": [
    "DATA_FOLDER = os.path.join('data', 'final')"
   ]
  },
  {
   "cell_type": "code",
   "execution_count": 3,
   "metadata": {},
   "outputs": [],
   "source": [
    "zoopla_df_train = pd.read_csv(os.path.join(DATA_FOLDER, 'zoopla_train.csv'), dtype=str)\n",
    "zoopla_df_test = pd.read_csv(os.path.join(DATA_FOLDER, 'zoopla_test.csv'), dtype=str)"
   ]
  },
  {
   "cell_type": "code",
   "execution_count": 4,
   "metadata": {},
   "outputs": [
    {
     "data": {
      "text/plain": [
       "Index(['listing_id', 'parish', 'post_town', 'postcode', 'latitude',\n",
       "       'longitude', 'num_bedrooms', 'num_bathrooms', 'price',\n",
       "       'property_type_general', 'CURRENT_ENERGY_RATING_mode',\n",
       "       'POTENTIAL_ENERGY_RATING_mode', 'TOTAL_FLOOR_AREA_median',\n",
       "       'NUMBER_HABITABLE_ROOMS_mode', 'CONSTRUCTION_AGE_BAND_mode',\n",
       "       'Index of Multiple Deprivation Decile', 'Income Decile',\n",
       "       'Employment Decile', 'Education and Skills Decile',\n",
       "       'Health and Disability Decile', 'Crime Decile',\n",
       "       'Barriers to Housing and Services Decile', 'Living Environment Decile',\n",
       "       'IDACI Decile', 'IDAOPI Decile', 'PROB_4BAND', 'diff_published_date',\n",
       "       'last_published_year', 'last_published_month', 'first_published_year',\n",
       "       'first_published_month'],\n",
       "      dtype='object')"
      ]
     },
     "execution_count": 4,
     "metadata": {},
     "output_type": "execute_result"
    }
   ],
   "source": [
    "zoopla_df_train.columns"
   ]
  },
  {
   "cell_type": "code",
   "execution_count": 5,
   "metadata": {},
   "outputs": [
    {
     "data": {
      "text/html": [
       "<div>\n",
       "<style scoped>\n",
       "    .dataframe tbody tr th:only-of-type {\n",
       "        vertical-align: middle;\n",
       "    }\n",
       "\n",
       "    .dataframe tbody tr th {\n",
       "        vertical-align: top;\n",
       "    }\n",
       "\n",
       "    .dataframe thead th {\n",
       "        text-align: right;\n",
       "    }\n",
       "</style>\n",
       "<table border=\"1\" class=\"dataframe\">\n",
       "  <thead>\n",
       "    <tr style=\"text-align: right;\">\n",
       "      <th></th>\n",
       "      <th>listing_id</th>\n",
       "      <th>parish</th>\n",
       "      <th>post_town</th>\n",
       "      <th>postcode</th>\n",
       "      <th>latitude</th>\n",
       "      <th>longitude</th>\n",
       "      <th>num_bedrooms</th>\n",
       "      <th>num_bathrooms</th>\n",
       "      <th>price</th>\n",
       "      <th>property_type_general</th>\n",
       "      <th>CURRENT_ENERGY_RATING_mode</th>\n",
       "      <th>POTENTIAL_ENERGY_RATING_mode</th>\n",
       "      <th>TOTAL_FLOOR_AREA_median</th>\n",
       "      <th>NUMBER_HABITABLE_ROOMS_mode</th>\n",
       "      <th>CONSTRUCTION_AGE_BAND_mode</th>\n",
       "      <th>Index of Multiple Deprivation Decile</th>\n",
       "      <th>Income Decile</th>\n",
       "      <th>Employment Decile</th>\n",
       "      <th>Education and Skills Decile</th>\n",
       "      <th>Health and Disability Decile</th>\n",
       "      <th>Crime Decile</th>\n",
       "      <th>Barriers to Housing and Services Decile</th>\n",
       "      <th>Living Environment Decile</th>\n",
       "      <th>IDACI Decile</th>\n",
       "      <th>IDAOPI Decile</th>\n",
       "      <th>PROB_4BAND</th>\n",
       "      <th>diff_published_date</th>\n",
       "      <th>last_published_year</th>\n",
       "      <th>last_published_month</th>\n",
       "      <th>first_published_year</th>\n",
       "      <th>first_published_month</th>\n",
       "    </tr>\n",
       "  </thead>\n",
       "  <tbody>\n",
       "    <tr>\n",
       "      <th>0</th>\n",
       "      <td>62385013</td>\n",
       "      <td>Hinckley and Bosworth, unparished area</td>\n",
       "      <td>Hinckley</td>\n",
       "      <td>LE10 0</td>\n",
       "      <td>52.5503</td>\n",
       "      <td>-1.386379</td>\n",
       "      <td>4</td>\n",
       "      <td>2</td>\n",
       "      <td>400000.0</td>\n",
       "      <td>Detached house</td>\n",
       "      <td>5.0</td>\n",
       "      <td>3.0</td>\n",
       "      <td>116.0</td>\n",
       "      <td>5.0</td>\n",
       "      <td>3.0</td>\n",
       "      <td>3</td>\n",
       "      <td>3</td>\n",
       "      <td>2</td>\n",
       "      <td>1</td>\n",
       "      <td>5</td>\n",
       "      <td>5</td>\n",
       "      <td>9</td>\n",
       "      <td>9</td>\n",
       "      <td>4</td>\n",
       "      <td>5</td>\n",
       "      <td>None</td>\n",
       "      <td>0</td>\n",
       "      <td>2022</td>\n",
       "      <td>9</td>\n",
       "      <td>2022</td>\n",
       "      <td>9</td>\n",
       "    </tr>\n",
       "    <tr>\n",
       "      <th>1</th>\n",
       "      <td>62716145</td>\n",
       "      <td>Nuneaton and Bedworth, unparished area</td>\n",
       "      <td>Nuneaton</td>\n",
       "      <td>CV10 9</td>\n",
       "      <td>52.525043000000004</td>\n",
       "      <td>-1.5155049999999999</td>\n",
       "      <td>3</td>\n",
       "      <td>1</td>\n",
       "      <td>250000.0</td>\n",
       "      <td>Semi-detached house</td>\n",
       "      <td>4.0</td>\n",
       "      <td>2.0</td>\n",
       "      <td>97.051</td>\n",
       "      <td>4.0</td>\n",
       "      <td>5.0</td>\n",
       "      <td>6</td>\n",
       "      <td>6</td>\n",
       "      <td>6</td>\n",
       "      <td>4</td>\n",
       "      <td>4</td>\n",
       "      <td>7</td>\n",
       "      <td>6</td>\n",
       "      <td>8</td>\n",
       "      <td>5</td>\n",
       "      <td>9</td>\n",
       "      <td>None</td>\n",
       "      <td>1</td>\n",
       "      <td>2022</td>\n",
       "      <td>11</td>\n",
       "      <td>2022</td>\n",
       "      <td>10</td>\n",
       "    </tr>\n",
       "    <tr>\n",
       "      <th>2</th>\n",
       "      <td>62579010</td>\n",
       "      <td>Nuneaton and Bedworth, unparished area</td>\n",
       "      <td>Nuneaton</td>\n",
       "      <td>CV10 0</td>\n",
       "      <td>52.534293999999996</td>\n",
       "      <td>-1.454733</td>\n",
       "      <td>3</td>\n",
       "      <td>1</td>\n",
       "      <td>290000.0</td>\n",
       "      <td>Semi-detached house</td>\n",
       "      <td>4.0</td>\n",
       "      <td>2.0</td>\n",
       "      <td>75.25</td>\n",
       "      <td>4.0</td>\n",
       "      <td>3.0</td>\n",
       "      <td>9</td>\n",
       "      <td>9</td>\n",
       "      <td>8</td>\n",
       "      <td>8</td>\n",
       "      <td>6</td>\n",
       "      <td>7</td>\n",
       "      <td>8</td>\n",
       "      <td>6</td>\n",
       "      <td>10</td>\n",
       "      <td>8</td>\n",
       "      <td>None</td>\n",
       "      <td>2</td>\n",
       "      <td>2023</td>\n",
       "      <td>1</td>\n",
       "      <td>2022</td>\n",
       "      <td>10</td>\n",
       "    </tr>\n",
       "    <tr>\n",
       "      <th>3</th>\n",
       "      <td>62485357</td>\n",
       "      <td>Hinckley and Bosworth, unparished area</td>\n",
       "      <td>Hinckley</td>\n",
       "      <td>LE10 1</td>\n",
       "      <td>52.544140000000006</td>\n",
       "      <td>-1.364725</td>\n",
       "      <td>4</td>\n",
       "      <td>2</td>\n",
       "      <td>550000.0</td>\n",
       "      <td>Detached house</td>\n",
       "      <td>5.0</td>\n",
       "      <td>3.0</td>\n",
       "      <td>179.0</td>\n",
       "      <td>8.0</td>\n",
       "      <td>1.0</td>\n",
       "      <td>5</td>\n",
       "      <td>5</td>\n",
       "      <td>6</td>\n",
       "      <td>3</td>\n",
       "      <td>3</td>\n",
       "      <td>4</td>\n",
       "      <td>10</td>\n",
       "      <td>4</td>\n",
       "      <td>5</td>\n",
       "      <td>5</td>\n",
       "      <td>None</td>\n",
       "      <td>2</td>\n",
       "      <td>2022</td>\n",
       "      <td>12</td>\n",
       "      <td>2022</td>\n",
       "      <td>9</td>\n",
       "    </tr>\n",
       "    <tr>\n",
       "      <th>4</th>\n",
       "      <td>62478555</td>\n",
       "      <td>Nuneaton and Bedworth, unparished area</td>\n",
       "      <td>Nuneaton</td>\n",
       "      <td>CV10 8</td>\n",
       "      <td>52.519397999999995</td>\n",
       "      <td>-1.493818</td>\n",
       "      <td>3</td>\n",
       "      <td>0</td>\n",
       "      <td>235000.0</td>\n",
       "      <td>Semi-detached house</td>\n",
       "      <td>3.0</td>\n",
       "      <td>2.0</td>\n",
       "      <td>71.0</td>\n",
       "      <td>5.0</td>\n",
       "      <td>5.0</td>\n",
       "      <td>4</td>\n",
       "      <td>4</td>\n",
       "      <td>4</td>\n",
       "      <td>3</td>\n",
       "      <td>4</td>\n",
       "      <td>2</td>\n",
       "      <td>9</td>\n",
       "      <td>5</td>\n",
       "      <td>5</td>\n",
       "      <td>5</td>\n",
       "      <td>None</td>\n",
       "      <td>4</td>\n",
       "      <td>2023</td>\n",
       "      <td>2</td>\n",
       "      <td>2022</td>\n",
       "      <td>9</td>\n",
       "    </tr>\n",
       "  </tbody>\n",
       "</table>\n",
       "</div>"
      ],
      "text/plain": [
       "  listing_id                                  parish post_town postcode  \\\n",
       "0   62385013  Hinckley and Bosworth, unparished area  Hinckley   LE10 0   \n",
       "1   62716145  Nuneaton and Bedworth, unparished area  Nuneaton   CV10 9   \n",
       "2   62579010  Nuneaton and Bedworth, unparished area  Nuneaton   CV10 0   \n",
       "3   62485357  Hinckley and Bosworth, unparished area  Hinckley   LE10 1   \n",
       "4   62478555  Nuneaton and Bedworth, unparished area  Nuneaton   CV10 8   \n",
       "\n",
       "             latitude            longitude num_bedrooms num_bathrooms  \\\n",
       "0             52.5503            -1.386379            4             2   \n",
       "1  52.525043000000004  -1.5155049999999999            3             1   \n",
       "2  52.534293999999996            -1.454733            3             1   \n",
       "3  52.544140000000006            -1.364725            4             2   \n",
       "4  52.519397999999995            -1.493818            3             0   \n",
       "\n",
       "      price property_type_general CURRENT_ENERGY_RATING_mode  \\\n",
       "0  400000.0        Detached house                        5.0   \n",
       "1  250000.0   Semi-detached house                        4.0   \n",
       "2  290000.0   Semi-detached house                        4.0   \n",
       "3  550000.0        Detached house                        5.0   \n",
       "4  235000.0   Semi-detached house                        3.0   \n",
       "\n",
       "  POTENTIAL_ENERGY_RATING_mode TOTAL_FLOOR_AREA_median  \\\n",
       "0                          3.0                   116.0   \n",
       "1                          2.0                  97.051   \n",
       "2                          2.0                   75.25   \n",
       "3                          3.0                   179.0   \n",
       "4                          2.0                    71.0   \n",
       "\n",
       "  NUMBER_HABITABLE_ROOMS_mode CONSTRUCTION_AGE_BAND_mode  \\\n",
       "0                         5.0                        3.0   \n",
       "1                         4.0                        5.0   \n",
       "2                         4.0                        3.0   \n",
       "3                         8.0                        1.0   \n",
       "4                         5.0                        5.0   \n",
       "\n",
       "  Index of Multiple Deprivation Decile Income Decile Employment Decile  \\\n",
       "0                                    3             3                 2   \n",
       "1                                    6             6                 6   \n",
       "2                                    9             9                 8   \n",
       "3                                    5             5                 6   \n",
       "4                                    4             4                 4   \n",
       "\n",
       "  Education and Skills Decile Health and Disability Decile Crime Decile  \\\n",
       "0                           1                            5            5   \n",
       "1                           4                            4            7   \n",
       "2                           8                            6            7   \n",
       "3                           3                            3            4   \n",
       "4                           3                            4            2   \n",
       "\n",
       "  Barriers to Housing and Services Decile Living Environment Decile  \\\n",
       "0                                       9                         9   \n",
       "1                                       6                         8   \n",
       "2                                       8                         6   \n",
       "3                                      10                         4   \n",
       "4                                       9                         5   \n",
       "\n",
       "  IDACI Decile IDAOPI Decile PROB_4BAND diff_published_date  \\\n",
       "0            4             5       None                   0   \n",
       "1            5             9       None                   1   \n",
       "2           10             8       None                   2   \n",
       "3            5             5       None                   2   \n",
       "4            5             5       None                   4   \n",
       "\n",
       "  last_published_year last_published_month first_published_year  \\\n",
       "0                2022                    9                 2022   \n",
       "1                2022                   11                 2022   \n",
       "2                2023                    1                 2022   \n",
       "3                2022                   12                 2022   \n",
       "4                2023                    2                 2022   \n",
       "\n",
       "  first_published_month  \n",
       "0                     9  \n",
       "1                    10  \n",
       "2                    10  \n",
       "3                     9  \n",
       "4                     9  "
      ]
     },
     "execution_count": 5,
     "metadata": {},
     "output_type": "execute_result"
    }
   ],
   "source": [
    "zoopla_df_train.head()"
   ]
  },
  {
   "cell_type": "markdown",
   "metadata": {},
   "source": [
    "Separate out numeric (with a further separation for numeric vars we want converted to KMeans clusters), ordered discrete and categoric variables"
   ]
  },
  {
   "cell_type": "code",
   "execution_count": 6,
   "metadata": {},
   "outputs": [],
   "source": [
    "numeric_cols = ['TOTAL_FLOOR_AREA_median', 'diff_published_date']\n",
    "\n",
    "numeric_kmeans_cols = ['latitude', 'longitude']\n",
    "\n",
    "discrete_cols = ['num_bedrooms', 'num_bathrooms', 'CURRENT_ENERGY_RATING_mode',\n",
    "       'POTENTIAL_ENERGY_RATING_mode', 'CONSTRUCTION_AGE_BAND_mode',\n",
    "       'Index of Multiple Deprivation Decile', 'Income Decile',\n",
    "       'Employment Decile', 'Education and Skills Decile',\n",
    "       'Health and Disability Decile', 'Crime Decile',\n",
    "       'Barriers to Housing and Services Decile', 'Living Environment Decile',\n",
    "       'IDACI Decile', 'IDAOPI Decile', 'last_published_year', 'last_published_month', \n",
    "        'first_published_year', 'first_published_month']\n",
    "\n",
    "categoric_cols = ['post_town', 'parish', 'postcode', 'PROB_4BAND', 'property_type_general']"
   ]
  },
  {
   "cell_type": "markdown",
   "metadata": {},
   "source": [
    "### Transform the four types of variables separately in a pipeline\n",
    "Set up pipelines. For null values, we use the median in the training data for numeric fields and the mode for discrete and categoric fields."
   ]
  },
  {
   "cell_type": "code",
   "execution_count": 7,
   "metadata": {},
   "outputs": [],
   "source": [
    "class KMeansCluster(BaseEstimator, TransformerMixin):\n",
    "    \n",
    "    \"\"\"\n",
    "    Apply KMeans clustering to longitude and latitude. Want cluster centres fit to training\n",
    "    data and the test data to be transformed based on the fits\n",
    "    \"\"\"\n",
    "    \n",
    "    def __init__(self, n_clusters=8):\n",
    "        self.n_clusters = n_clusters        \n",
    "            \n",
    "    def fit(self, X, y=None):\n",
    "        self.kmeans = KMeans(n_clusters=self.n_clusters, random_state=40)\n",
    "        self.kmeans.fit(X)\n",
    "        return self\n",
    "    \n",
    "    def transform(self, X):\n",
    "        cluster_centres = self.kmeans.transform(X).argmin(axis=1)\n",
    "        return cluster_centres.reshape(cluster_centres.shape[0], 1) # converts 1D array to 2D\n",
    "        \n",
    "        # return original co-ordinates and cluster number\n",
    "        #print(np.c_[X, cluster_centres])\n",
    "        #return np.c_[X, cluster_centres]"
   ]
  },
  {
   "cell_type": "code",
   "execution_count": 8,
   "metadata": {},
   "outputs": [],
   "source": [
    "numeric_pipeline = Pipeline([\n",
    "    ('num_imputer', SimpleImputer(strategy='median', add_indicator=False)),\n",
    "    ('num_std_scaler', StandardScaler())\n",
    "])\n",
    "\n",
    "numeric_kmeans_pipeline = Pipeline([\n",
    "    ('num_kmeans_imputer', SimpleImputer(strategy='median', add_indicator=False)),\n",
    "    ('num_kmeans_cluster', KMeansCluster(8)),\n",
    "    ('num_kmeans_oh_encoder', OneHotEncoder(drop='first'))\n",
    "])\n",
    "\n",
    "discrete_pipeline = Pipeline([\n",
    "    ('dis_imputer', SimpleImputer(strategy='most_frequent', add_indicator=False)),\n",
    "    ('dis_std_scaler', StandardScaler())\n",
    "])\n",
    "\n",
    "categoric_pipeline = Pipeline([\n",
    "    ('cat_imputer', SimpleImputer(strategy='most_frequent', add_indicator=False)),\n",
    "    ('cat_oh_encoder', OneHotEncoder(drop='first'))\n",
    "])"
   ]
  },
  {
   "cell_type": "markdown",
   "metadata": {},
   "source": [
    "Set up a column transformer to handle all four types of columns together"
   ]
  },
  {
   "cell_type": "code",
   "execution_count": 9,
   "metadata": {},
   "outputs": [],
   "source": [
    "full_pipeline = ColumnTransformer([\n",
    "    ('numeric', numeric_pipeline, numeric_cols),\n",
    "    ('numeric_kmeans', numeric_kmeans_pipeline, numeric_kmeans_cols),\n",
    "    ('discrete', discrete_pipeline, discrete_cols),\n",
    "    ('categoric', categoric_pipeline, categoric_cols)\n",
    "])"
   ]
  },
  {
   "cell_type": "markdown",
   "metadata": {},
   "source": [
    "Fit to training data and transform it. Then apply those fitted values to the test data."
   ]
  },
  {
   "cell_type": "code",
   "execution_count": 10,
   "metadata": {},
   "outputs": [],
   "source": [
    "X_train = full_pipeline.fit_transform(zoopla_df_train)\n",
    "X_test = full_pipeline.transform(zoopla_df_test)"
   ]
  },
  {
   "cell_type": "code",
   "execution_count": 11,
   "metadata": {},
   "outputs": [
    {
     "data": {
      "text/plain": [
       "array([-0.39082098, -0.6995524 ,  0.        ,  0.        ,  0.        ,\n",
       "        1.        ,  0.        ,  0.        ,  0.        , -0.01901166,\n",
       "       -0.4819992 ,  1.60041207, -0.1517802 , -0.53041424, -0.78841033,\n",
       "       -0.4761415 , -0.72076054,  1.31552378, -1.13654453, -1.34230752,\n",
       "       -1.06366227, -0.15211694,  0.43378577, -0.18976236, -1.53953426,\n",
       "        1.79859224, -0.57635398,  0.98786238,  1.        ,  0.        ,\n",
       "        1.        ,  0.        ,  0.        ,  0.        ,  0.        ,\n",
       "        0.        ,  0.        ,  0.        ,  1.        ,  0.        ,\n",
       "        0.        ,  0.        ,  0.        ,  0.        ,  0.        ,\n",
       "        0.        ,  0.        ,  0.        ,  0.        ,  0.        ,\n",
       "        1.        ,  0.        ,  0.        ,  0.        ,  0.        ,\n",
       "        0.        ,  1.        ,  0.        ])"
      ]
     },
     "execution_count": 11,
     "metadata": {},
     "output_type": "execute_result"
    }
   ],
   "source": [
    "X_train[200]"
   ]
  },
  {
   "cell_type": "code",
   "execution_count": 12,
   "metadata": {},
   "outputs": [
    {
     "data": {
      "text/plain": [
       "array(['x0_Nuneaton', 'x1_Hinckley and Bosworth, unparished area',\n",
       "       'x1_Nuneaton and Bedworth, unparished area', 'x1_Other',\n",
       "       'x1_Stoke Golding', 'x2_CV10 7', 'x2_CV10 8', 'x2_CV10 9',\n",
       "       'x2_CV11 4', 'x2_CV11 5', 'x2_CV11 6', 'x2_CV11 7', 'x2_CV12 9',\n",
       "       'x2_CV13 0', 'x2_CV13 6', 'x2_CV9 3', 'x2_LE10 0', 'x2_LE10 1',\n",
       "       'x2_LE10 2', 'x2_LE10 3', 'x2_LE9 7', 'x3_Medium', 'x3_None',\n",
       "       'x4_Detached house', 'x4_End terrace house', 'x4_Flat',\n",
       "       'x4_Maisonette', 'x4_Other/Unknown', 'x4_Semi-detached house',\n",
       "       'x4_Terraced house'], dtype=object)"
      ]
     },
     "execution_count": 12,
     "metadata": {},
     "output_type": "execute_result"
    }
   ],
   "source": [
    "full_pipeline.named_transformers_['categoric'][1].get_feature_names()"
   ]
  },
  {
   "cell_type": "code",
   "execution_count": 13,
   "metadata": {},
   "outputs": [
    {
     "data": {
      "text/plain": [
       "[('numeric',\n",
       "  Pipeline(steps=[('num_imputer', SimpleImputer(strategy='median')),\n",
       "                  ('num_std_scaler', StandardScaler())]),\n",
       "  ['TOTAL_FLOOR_AREA_median', 'diff_published_date']),\n",
       " ('numeric_kmeans',\n",
       "  Pipeline(steps=[('num_kmeans_imputer', SimpleImputer(strategy='median')),\n",
       "                  ('num_kmeans_cluster', KMeansCluster()),\n",
       "                  ('num_kmeans_oh_encoder', OneHotEncoder(drop='first'))]),\n",
       "  ['latitude', 'longitude']),\n",
       " ('discrete',\n",
       "  Pipeline(steps=[('dis_imputer', SimpleImputer(strategy='most_frequent')),\n",
       "                  ('dis_std_scaler', StandardScaler())]),\n",
       "  ['num_bedrooms',\n",
       "   'num_bathrooms',\n",
       "   'CURRENT_ENERGY_RATING_mode',\n",
       "   'POTENTIAL_ENERGY_RATING_mode',\n",
       "   'CONSTRUCTION_AGE_BAND_mode',\n",
       "   'Index of Multiple Deprivation Decile',\n",
       "   'Income Decile',\n",
       "   'Employment Decile',\n",
       "   'Education and Skills Decile',\n",
       "   'Health and Disability Decile',\n",
       "   'Crime Decile',\n",
       "   'Barriers to Housing and Services Decile',\n",
       "   'Living Environment Decile',\n",
       "   'IDACI Decile',\n",
       "   'IDAOPI Decile',\n",
       "   'last_published_year',\n",
       "   'last_published_month',\n",
       "   'first_published_year',\n",
       "   'first_published_month']),\n",
       " ('categoric',\n",
       "  Pipeline(steps=[('cat_imputer', SimpleImputer(strategy='most_frequent')),\n",
       "                  ('cat_oh_encoder', OneHotEncoder(drop='first'))]),\n",
       "  ['post_town', 'parish', 'postcode', 'PROB_4BAND', 'property_type_general']),\n",
       " ('remainder', 'drop', [0, 8, 13])]"
      ]
     },
     "execution_count": 13,
     "metadata": {},
     "output_type": "execute_result"
    }
   ],
   "source": [
    "full_pipeline.transformers_"
   ]
  },
  {
   "cell_type": "code",
   "execution_count": 14,
   "metadata": {},
   "outputs": [
    {
     "data": {
      "text/plain": [
       "array(['x0_Nuneaton', 'x1_Hinckley and Bosworth, unparished area',\n",
       "       'x1_Nuneaton and Bedworth, unparished area', 'x1_Other',\n",
       "       'x1_Stoke Golding', 'x2_CV10 7', 'x2_CV10 8', 'x2_CV10 9',\n",
       "       'x2_CV11 4', 'x2_CV11 5', 'x2_CV11 6', 'x2_CV11 7', 'x2_CV12 9',\n",
       "       'x2_CV13 0', 'x2_CV13 6', 'x2_CV9 3', 'x2_LE10 0', 'x2_LE10 1',\n",
       "       'x2_LE10 2', 'x2_LE10 3', 'x2_LE9 7', 'x3_Medium', 'x3_None',\n",
       "       'x4_Detached house', 'x4_End terrace house', 'x4_Flat',\n",
       "       'x4_Maisonette', 'x4_Other/Unknown', 'x4_Semi-detached house',\n",
       "       'x4_Terraced house'], dtype=object)"
      ]
     },
     "execution_count": 14,
     "metadata": {},
     "output_type": "execute_result"
    }
   ],
   "source": [
    "full_pipeline.transformers_[3][1][1].get_feature_names()"
   ]
  },
  {
   "cell_type": "code",
   "execution_count": null,
   "metadata": {},
   "outputs": [],
   "source": []
  }
 ],
 "metadata": {
  "kernelspec": {
   "display_name": "Python 3",
   "language": "python",
   "name": "python3"
  },
  "language_info": {
   "codemirror_mode": {
    "name": "ipython",
    "version": 3
   },
   "file_extension": ".py",
   "mimetype": "text/x-python",
   "name": "python",
   "nbconvert_exporter": "python",
   "pygments_lexer": "ipython3",
   "version": "3.8.6"
  }
 },
 "nbformat": 4,
 "nbformat_minor": 4
}
