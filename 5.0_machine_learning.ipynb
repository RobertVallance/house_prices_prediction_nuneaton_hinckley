{
 "cells": [
  {
   "cell_type": "markdown",
   "metadata": {},
   "source": [
    "# 5.0 Machine Learning\n",
    "We will train several models on the data, using cross-validation to pick the best hyperparameters, and select the most promising model. The model will finally be evaulated on the test set."
   ]
  },
  {
   "cell_type": "code",
   "execution_count": 34,
   "metadata": {},
   "outputs": [],
   "source": [
    "import numpy as np\n",
    "import os\n",
    "import pandas as pd\n",
    "pd.set_option('display.max_columns', 200)\n",
    "\n",
    "from sklearn.pipeline import Pipeline\n",
    "from sklearn.linear_model import LinearRegression, Ridge, Lasso\n",
    "from sklearn.neighbors import KNeighborsRegressor\n",
    "from sklearn.svm import SVR\n",
    "from sklearn.tree import DecisionTreeRegressor\n",
    "from sklearn.ensemble import RandomForestRegressor\n",
    "\n",
    "from sklearn.model_selection import GridSearchCV, RandomizedSearchCV\n",
    "\n",
    "from sklearn.metrics import mean_squared_error, make_scorer\n",
    "   \n",
    "import matplotlib.pyplot as plt\n",
    "%matplotlib inline\n",
    "import seaborn as sns"
   ]
  },
  {
   "cell_type": "code",
   "execution_count": 35,
   "metadata": {},
   "outputs": [],
   "source": [
    "np.random.seed(101)"
   ]
  },
  {
   "cell_type": "markdown",
   "metadata": {},
   "source": [
    "### Read in the data"
   ]
  },
  {
   "cell_type": "code",
   "execution_count": 36,
   "metadata": {},
   "outputs": [],
   "source": [
    "DATA_FOLDER = os.path.join('data', 'final')"
   ]
  },
  {
   "cell_type": "code",
   "execution_count": 37,
   "metadata": {},
   "outputs": [],
   "source": [
    "zoopla_df_train = pd.read_csv(os.path.join(DATA_FOLDER, 'zoopla_train.csv'), dtype=str)\n",
    "zoopla_df_test = pd.read_csv(os.path.join(DATA_FOLDER, 'zoopla_test.csv'), dtype=str)"
   ]
  },
  {
   "cell_type": "code",
   "execution_count": 38,
   "metadata": {},
   "outputs": [
    {
     "data": {
      "text/plain": [
       "Index(['TOTAL_FLOOR_AREA_median', 'diff_published_date', 'cluster_1',\n",
       "       'cluster_2', 'cluster_3', 'cluster_4', 'cluster_5', 'cluster_6',\n",
       "       'cluster_7', 'num_bedrooms', 'num_bathrooms',\n",
       "       'CURRENT_ENERGY_RATING_mode', 'POTENTIAL_ENERGY_RATING_mode',\n",
       "       'CONSTRUCTION_AGE_BAND_mode', 'Index of Multiple Deprivation Decile',\n",
       "       'Income Decile', 'Employment Decile', 'Education and Skills Decile',\n",
       "       'Health and Disability Decile', 'Crime Decile',\n",
       "       'Barriers to Housing and Services Decile', 'Living Environment Decile',\n",
       "       'IDACI Decile', 'IDAOPI Decile', 'last_published_year',\n",
       "       'last_published_month', 'first_published_year', 'first_published_month',\n",
       "       'post_town_Nuneaton', 'parish_Hinckley and Bosworth, unparished area',\n",
       "       'parish_Nuneaton and Bedworth, unparished area', 'parish_Other',\n",
       "       'parish_Stoke Golding', 'postcode_CV10 7', 'postcode_CV10 8',\n",
       "       'postcode_CV10 9', 'postcode_CV11 4', 'postcode_CV11 5',\n",
       "       'postcode_CV11 6', 'postcode_CV11 7', 'postcode_CV12 9',\n",
       "       'postcode_CV13 0', 'postcode_CV13 6', 'postcode_CV9 3',\n",
       "       'postcode_LE10 0', 'postcode_LE10 1', 'postcode_LE10 2',\n",
       "       'postcode_LE10 3', 'postcode_LE9 7', 'PROB_4BAND_Medium',\n",
       "       'PROB_4BAND_None', 'property_type_general_Detached house',\n",
       "       'property_type_general_End terrace house', 'property_type_general_Flat',\n",
       "       'property_type_general_Maisonette',\n",
       "       'property_type_general_Other/Unknown',\n",
       "       'property_type_general_Semi-detached house',\n",
       "       'property_type_general_Terraced house', 'LOG_price'],\n",
       "      dtype='object')"
      ]
     },
     "execution_count": 38,
     "metadata": {},
     "output_type": "execute_result"
    }
   ],
   "source": [
    "zoopla_df_train.columns"
   ]
  },
  {
   "cell_type": "code",
   "execution_count": 39,
   "metadata": {},
   "outputs": [],
   "source": [
    "X_train = zoopla_df_train.drop('LOG_price', axis=1).astype(float)\n",
    "y_train = zoopla_df_train['LOG_price'].astype(float)\n",
    "\n",
    "X_test = zoopla_df_test.drop('LOG_price', axis=1).astype(float)\n",
    "y_test = zoopla_df_test['LOG_price'].astype(float)"
   ]
  },
  {
   "cell_type": "code",
   "execution_count": 40,
   "metadata": {},
   "outputs": [
    {
     "data": {
      "text/plain": [
       "0      12.899220\n",
       "1      12.429216\n",
       "2      12.577636\n",
       "3      13.217674\n",
       "4      12.367341\n",
       "         ...    \n",
       "601    12.542545\n",
       "602    12.886641\n",
       "603    11.407565\n",
       "604    13.091904\n",
       "605    11.775290\n",
       "Name: LOG_price, Length: 606, dtype: float64"
      ]
     },
     "execution_count": 40,
     "metadata": {},
     "output_type": "execute_result"
    }
   ],
   "source": [
    "y_train"
   ]
  },
  {
   "cell_type": "code",
   "execution_count": 41,
   "metadata": {},
   "outputs": [
    {
     "data": {
      "text/html": [
       "<div>\n",
       "<style scoped>\n",
       "    .dataframe tbody tr th:only-of-type {\n",
       "        vertical-align: middle;\n",
       "    }\n",
       "\n",
       "    .dataframe tbody tr th {\n",
       "        vertical-align: top;\n",
       "    }\n",
       "\n",
       "    .dataframe thead th {\n",
       "        text-align: right;\n",
       "    }\n",
       "</style>\n",
       "<table border=\"1\" class=\"dataframe\">\n",
       "  <thead>\n",
       "    <tr style=\"text-align: right;\">\n",
       "      <th></th>\n",
       "      <th>TOTAL_FLOOR_AREA_median</th>\n",
       "      <th>diff_published_date</th>\n",
       "      <th>cluster_1</th>\n",
       "      <th>cluster_2</th>\n",
       "      <th>cluster_3</th>\n",
       "      <th>cluster_4</th>\n",
       "      <th>cluster_5</th>\n",
       "      <th>cluster_6</th>\n",
       "      <th>cluster_7</th>\n",
       "      <th>num_bedrooms</th>\n",
       "      <th>num_bathrooms</th>\n",
       "      <th>CURRENT_ENERGY_RATING_mode</th>\n",
       "      <th>POTENTIAL_ENERGY_RATING_mode</th>\n",
       "      <th>CONSTRUCTION_AGE_BAND_mode</th>\n",
       "      <th>Index of Multiple Deprivation Decile</th>\n",
       "      <th>Income Decile</th>\n",
       "      <th>Employment Decile</th>\n",
       "      <th>Education and Skills Decile</th>\n",
       "      <th>Health and Disability Decile</th>\n",
       "      <th>Crime Decile</th>\n",
       "      <th>Barriers to Housing and Services Decile</th>\n",
       "      <th>Living Environment Decile</th>\n",
       "      <th>IDACI Decile</th>\n",
       "      <th>IDAOPI Decile</th>\n",
       "      <th>last_published_year</th>\n",
       "      <th>last_published_month</th>\n",
       "      <th>first_published_year</th>\n",
       "      <th>first_published_month</th>\n",
       "      <th>post_town_Nuneaton</th>\n",
       "      <th>parish_Hinckley and Bosworth, unparished area</th>\n",
       "      <th>parish_Nuneaton and Bedworth, unparished area</th>\n",
       "      <th>parish_Other</th>\n",
       "      <th>parish_Stoke Golding</th>\n",
       "      <th>postcode_CV10 7</th>\n",
       "      <th>postcode_CV10 8</th>\n",
       "      <th>postcode_CV10 9</th>\n",
       "      <th>postcode_CV11 4</th>\n",
       "      <th>postcode_CV11 5</th>\n",
       "      <th>postcode_CV11 6</th>\n",
       "      <th>postcode_CV11 7</th>\n",
       "      <th>postcode_CV12 9</th>\n",
       "      <th>postcode_CV13 0</th>\n",
       "      <th>postcode_CV13 6</th>\n",
       "      <th>postcode_CV9 3</th>\n",
       "      <th>postcode_LE10 0</th>\n",
       "      <th>postcode_LE10 1</th>\n",
       "      <th>postcode_LE10 2</th>\n",
       "      <th>postcode_LE10 3</th>\n",
       "      <th>postcode_LE9 7</th>\n",
       "      <th>PROB_4BAND_Medium</th>\n",
       "      <th>PROB_4BAND_None</th>\n",
       "      <th>property_type_general_Detached house</th>\n",
       "      <th>property_type_general_End terrace house</th>\n",
       "      <th>property_type_general_Flat</th>\n",
       "      <th>property_type_general_Maisonette</th>\n",
       "      <th>property_type_general_Other/Unknown</th>\n",
       "      <th>property_type_general_Semi-detached house</th>\n",
       "      <th>property_type_general_Terraced house</th>\n",
       "    </tr>\n",
       "  </thead>\n",
       "  <tbody>\n",
       "    <tr>\n",
       "      <th>0</th>\n",
       "      <td>0.755945</td>\n",
       "      <td>-0.699124</td>\n",
       "      <td>0.0</td>\n",
       "      <td>0.0</td>\n",
       "      <td>0.0</td>\n",
       "      <td>0.0</td>\n",
       "      <td>0.0</td>\n",
       "      <td>0.0</td>\n",
       "      <td>0.0</td>\n",
       "      <td>1.075124</td>\n",
       "      <td>0.825820</td>\n",
       "      <td>1.617842</td>\n",
       "      <td>1.700535</td>\n",
       "      <td>-0.534404</td>\n",
       "      <td>-1.164162</td>\n",
       "      <td>-1.237357</td>\n",
       "      <td>-1.544492</td>\n",
       "      <td>-1.481684</td>\n",
       "      <td>-0.244458</td>\n",
       "      <td>-0.112069</td>\n",
       "      <td>0.983099</td>\n",
       "      <td>1.030554</td>\n",
       "      <td>-0.777371</td>\n",
       "      <td>-0.589032</td>\n",
       "      <td>-1.544498</td>\n",
       "      <td>1.117375</td>\n",
       "      <td>-0.576376</td>\n",
       "      <td>0.502342</td>\n",
       "      <td>0.0</td>\n",
       "      <td>1.0</td>\n",
       "      <td>0.0</td>\n",
       "      <td>0.0</td>\n",
       "      <td>0.0</td>\n",
       "      <td>0.0</td>\n",
       "      <td>0.0</td>\n",
       "      <td>0.0</td>\n",
       "      <td>0.0</td>\n",
       "      <td>0.0</td>\n",
       "      <td>0.0</td>\n",
       "      <td>0.0</td>\n",
       "      <td>0.0</td>\n",
       "      <td>0.0</td>\n",
       "      <td>0.0</td>\n",
       "      <td>0.0</td>\n",
       "      <td>1.0</td>\n",
       "      <td>0.0</td>\n",
       "      <td>0.0</td>\n",
       "      <td>0.0</td>\n",
       "      <td>0.0</td>\n",
       "      <td>0.0</td>\n",
       "      <td>1.0</td>\n",
       "      <td>1.0</td>\n",
       "      <td>0.0</td>\n",
       "      <td>0.0</td>\n",
       "      <td>0.0</td>\n",
       "      <td>0.0</td>\n",
       "      <td>0.0</td>\n",
       "      <td>0.0</td>\n",
       "    </tr>\n",
       "    <tr>\n",
       "      <th>1</th>\n",
       "      <td>0.171376</td>\n",
       "      <td>-0.325847</td>\n",
       "      <td>0.0</td>\n",
       "      <td>0.0</td>\n",
       "      <td>1.0</td>\n",
       "      <td>0.0</td>\n",
       "      <td>0.0</td>\n",
       "      <td>0.0</td>\n",
       "      <td>0.0</td>\n",
       "      <td>-0.010751</td>\n",
       "      <td>-0.480830</td>\n",
       "      <td>0.473837</td>\n",
       "      <td>-0.149598</td>\n",
       "      <td>0.088982</td>\n",
       "      <td>-0.028729</td>\n",
       "      <td>-0.093148</td>\n",
       "      <td>0.109151</td>\n",
       "      <td>-0.282351</td>\n",
       "      <td>-0.689328</td>\n",
       "      <td>0.706170</td>\n",
       "      <td>-0.248654</td>\n",
       "      <td>0.636538</td>\n",
       "      <td>-0.373352</td>\n",
       "      <td>1.017057</td>\n",
       "      <td>-1.544498</td>\n",
       "      <td>1.574432</td>\n",
       "      <td>-0.576376</td>\n",
       "      <td>0.745100</td>\n",
       "      <td>1.0</td>\n",
       "      <td>0.0</td>\n",
       "      <td>1.0</td>\n",
       "      <td>0.0</td>\n",
       "      <td>0.0</td>\n",
       "      <td>0.0</td>\n",
       "      <td>0.0</td>\n",
       "      <td>1.0</td>\n",
       "      <td>0.0</td>\n",
       "      <td>0.0</td>\n",
       "      <td>0.0</td>\n",
       "      <td>0.0</td>\n",
       "      <td>0.0</td>\n",
       "      <td>0.0</td>\n",
       "      <td>0.0</td>\n",
       "      <td>0.0</td>\n",
       "      <td>0.0</td>\n",
       "      <td>0.0</td>\n",
       "      <td>0.0</td>\n",
       "      <td>0.0</td>\n",
       "      <td>0.0</td>\n",
       "      <td>0.0</td>\n",
       "      <td>1.0</td>\n",
       "      <td>0.0</td>\n",
       "      <td>0.0</td>\n",
       "      <td>0.0</td>\n",
       "      <td>0.0</td>\n",
       "      <td>0.0</td>\n",
       "      <td>1.0</td>\n",
       "      <td>0.0</td>\n",
       "    </tr>\n",
       "    <tr>\n",
       "      <th>2</th>\n",
       "      <td>-0.501176</td>\n",
       "      <td>0.047430</td>\n",
       "      <td>0.0</td>\n",
       "      <td>0.0</td>\n",
       "      <td>0.0</td>\n",
       "      <td>0.0</td>\n",
       "      <td>0.0</td>\n",
       "      <td>0.0</td>\n",
       "      <td>1.0</td>\n",
       "      <td>-0.010751</td>\n",
       "      <td>-0.480830</td>\n",
       "      <td>0.473837</td>\n",
       "      <td>-0.149598</td>\n",
       "      <td>-0.534404</td>\n",
       "      <td>1.106703</td>\n",
       "      <td>1.051061</td>\n",
       "      <td>0.935973</td>\n",
       "      <td>1.316759</td>\n",
       "      <td>0.200412</td>\n",
       "      <td>0.706170</td>\n",
       "      <td>0.572515</td>\n",
       "      <td>-0.151495</td>\n",
       "      <td>1.646747</td>\n",
       "      <td>0.615535</td>\n",
       "      <td>0.647459</td>\n",
       "      <td>-0.710851</td>\n",
       "      <td>-0.576376</td>\n",
       "      <td>0.745100</td>\n",
       "      <td>1.0</td>\n",
       "      <td>0.0</td>\n",
       "      <td>1.0</td>\n",
       "      <td>0.0</td>\n",
       "      <td>0.0</td>\n",
       "      <td>0.0</td>\n",
       "      <td>0.0</td>\n",
       "      <td>0.0</td>\n",
       "      <td>0.0</td>\n",
       "      <td>0.0</td>\n",
       "      <td>0.0</td>\n",
       "      <td>0.0</td>\n",
       "      <td>0.0</td>\n",
       "      <td>0.0</td>\n",
       "      <td>0.0</td>\n",
       "      <td>0.0</td>\n",
       "      <td>0.0</td>\n",
       "      <td>0.0</td>\n",
       "      <td>0.0</td>\n",
       "      <td>0.0</td>\n",
       "      <td>0.0</td>\n",
       "      <td>0.0</td>\n",
       "      <td>1.0</td>\n",
       "      <td>0.0</td>\n",
       "      <td>0.0</td>\n",
       "      <td>0.0</td>\n",
       "      <td>0.0</td>\n",
       "      <td>0.0</td>\n",
       "      <td>1.0</td>\n",
       "      <td>0.0</td>\n",
       "    </tr>\n",
       "    <tr>\n",
       "      <th>3</th>\n",
       "      <td>2.699468</td>\n",
       "      <td>0.047430</td>\n",
       "      <td>0.0</td>\n",
       "      <td>0.0</td>\n",
       "      <td>0.0</td>\n",
       "      <td>1.0</td>\n",
       "      <td>0.0</td>\n",
       "      <td>0.0</td>\n",
       "      <td>0.0</td>\n",
       "      <td>1.075124</td>\n",
       "      <td>0.825820</td>\n",
       "      <td>1.617842</td>\n",
       "      <td>1.700535</td>\n",
       "      <td>-1.157791</td>\n",
       "      <td>-0.407207</td>\n",
       "      <td>-0.474551</td>\n",
       "      <td>0.109151</td>\n",
       "      <td>-0.682129</td>\n",
       "      <td>-1.134197</td>\n",
       "      <td>-0.521189</td>\n",
       "      <td>1.393684</td>\n",
       "      <td>-0.939527</td>\n",
       "      <td>-0.373352</td>\n",
       "      <td>-0.589032</td>\n",
       "      <td>-1.544498</td>\n",
       "      <td>1.802960</td>\n",
       "      <td>-0.576376</td>\n",
       "      <td>0.502342</td>\n",
       "      <td>0.0</td>\n",
       "      <td>1.0</td>\n",
       "      <td>0.0</td>\n",
       "      <td>0.0</td>\n",
       "      <td>0.0</td>\n",
       "      <td>0.0</td>\n",
       "      <td>0.0</td>\n",
       "      <td>0.0</td>\n",
       "      <td>0.0</td>\n",
       "      <td>0.0</td>\n",
       "      <td>0.0</td>\n",
       "      <td>0.0</td>\n",
       "      <td>0.0</td>\n",
       "      <td>0.0</td>\n",
       "      <td>0.0</td>\n",
       "      <td>0.0</td>\n",
       "      <td>0.0</td>\n",
       "      <td>1.0</td>\n",
       "      <td>0.0</td>\n",
       "      <td>0.0</td>\n",
       "      <td>0.0</td>\n",
       "      <td>0.0</td>\n",
       "      <td>1.0</td>\n",
       "      <td>1.0</td>\n",
       "      <td>0.0</td>\n",
       "      <td>0.0</td>\n",
       "      <td>0.0</td>\n",
       "      <td>0.0</td>\n",
       "      <td>0.0</td>\n",
       "      <td>0.0</td>\n",
       "    </tr>\n",
       "    <tr>\n",
       "      <th>4</th>\n",
       "      <td>-0.632287</td>\n",
       "      <td>0.793983</td>\n",
       "      <td>1.0</td>\n",
       "      <td>0.0</td>\n",
       "      <td>0.0</td>\n",
       "      <td>0.0</td>\n",
       "      <td>0.0</td>\n",
       "      <td>0.0</td>\n",
       "      <td>0.0</td>\n",
       "      <td>-0.010751</td>\n",
       "      <td>-1.787481</td>\n",
       "      <td>-0.670168</td>\n",
       "      <td>-0.149598</td>\n",
       "      <td>0.088982</td>\n",
       "      <td>-0.785684</td>\n",
       "      <td>-0.855954</td>\n",
       "      <td>-0.717670</td>\n",
       "      <td>-0.682129</td>\n",
       "      <td>-0.689328</td>\n",
       "      <td>-1.339428</td>\n",
       "      <td>0.983099</td>\n",
       "      <td>-0.545511</td>\n",
       "      <td>-0.373352</td>\n",
       "      <td>-0.589032</td>\n",
       "      <td>0.647459</td>\n",
       "      <td>-0.482323</td>\n",
       "      <td>-0.576376</td>\n",
       "      <td>0.502342</td>\n",
       "      <td>1.0</td>\n",
       "      <td>0.0</td>\n",
       "      <td>1.0</td>\n",
       "      <td>0.0</td>\n",
       "      <td>0.0</td>\n",
       "      <td>0.0</td>\n",
       "      <td>1.0</td>\n",
       "      <td>0.0</td>\n",
       "      <td>0.0</td>\n",
       "      <td>0.0</td>\n",
       "      <td>0.0</td>\n",
       "      <td>0.0</td>\n",
       "      <td>0.0</td>\n",
       "      <td>0.0</td>\n",
       "      <td>0.0</td>\n",
       "      <td>0.0</td>\n",
       "      <td>0.0</td>\n",
       "      <td>0.0</td>\n",
       "      <td>0.0</td>\n",
       "      <td>0.0</td>\n",
       "      <td>0.0</td>\n",
       "      <td>0.0</td>\n",
       "      <td>1.0</td>\n",
       "      <td>0.0</td>\n",
       "      <td>0.0</td>\n",
       "      <td>0.0</td>\n",
       "      <td>0.0</td>\n",
       "      <td>0.0</td>\n",
       "      <td>1.0</td>\n",
       "      <td>0.0</td>\n",
       "    </tr>\n",
       "  </tbody>\n",
       "</table>\n",
       "</div>"
      ],
      "text/plain": [
       "   TOTAL_FLOOR_AREA_median  diff_published_date  cluster_1  cluster_2  \\\n",
       "0                 0.755945            -0.699124        0.0        0.0   \n",
       "1                 0.171376            -0.325847        0.0        0.0   \n",
       "2                -0.501176             0.047430        0.0        0.0   \n",
       "3                 2.699468             0.047430        0.0        0.0   \n",
       "4                -0.632287             0.793983        1.0        0.0   \n",
       "\n",
       "   cluster_3  cluster_4  cluster_5  cluster_6  cluster_7  num_bedrooms  \\\n",
       "0        0.0        0.0        0.0        0.0        0.0      1.075124   \n",
       "1        1.0        0.0        0.0        0.0        0.0     -0.010751   \n",
       "2        0.0        0.0        0.0        0.0        1.0     -0.010751   \n",
       "3        0.0        1.0        0.0        0.0        0.0      1.075124   \n",
       "4        0.0        0.0        0.0        0.0        0.0     -0.010751   \n",
       "\n",
       "   num_bathrooms  CURRENT_ENERGY_RATING_mode  POTENTIAL_ENERGY_RATING_mode  \\\n",
       "0       0.825820                    1.617842                      1.700535   \n",
       "1      -0.480830                    0.473837                     -0.149598   \n",
       "2      -0.480830                    0.473837                     -0.149598   \n",
       "3       0.825820                    1.617842                      1.700535   \n",
       "4      -1.787481                   -0.670168                     -0.149598   \n",
       "\n",
       "   CONSTRUCTION_AGE_BAND_mode  Index of Multiple Deprivation Decile  \\\n",
       "0                   -0.534404                             -1.164162   \n",
       "1                    0.088982                             -0.028729   \n",
       "2                   -0.534404                              1.106703   \n",
       "3                   -1.157791                             -0.407207   \n",
       "4                    0.088982                             -0.785684   \n",
       "\n",
       "   Income Decile  Employment Decile  Education and Skills Decile  \\\n",
       "0      -1.237357          -1.544492                    -1.481684   \n",
       "1      -0.093148           0.109151                    -0.282351   \n",
       "2       1.051061           0.935973                     1.316759   \n",
       "3      -0.474551           0.109151                    -0.682129   \n",
       "4      -0.855954          -0.717670                    -0.682129   \n",
       "\n",
       "   Health and Disability Decile  Crime Decile  \\\n",
       "0                     -0.244458     -0.112069   \n",
       "1                     -0.689328      0.706170   \n",
       "2                      0.200412      0.706170   \n",
       "3                     -1.134197     -0.521189   \n",
       "4                     -0.689328     -1.339428   \n",
       "\n",
       "   Barriers to Housing and Services Decile  Living Environment Decile  \\\n",
       "0                                 0.983099                   1.030554   \n",
       "1                                -0.248654                   0.636538   \n",
       "2                                 0.572515                  -0.151495   \n",
       "3                                 1.393684                  -0.939527   \n",
       "4                                 0.983099                  -0.545511   \n",
       "\n",
       "   IDACI Decile  IDAOPI Decile  last_published_year  last_published_month  \\\n",
       "0     -0.777371      -0.589032            -1.544498              1.117375   \n",
       "1     -0.373352       1.017057            -1.544498              1.574432   \n",
       "2      1.646747       0.615535             0.647459             -0.710851   \n",
       "3     -0.373352      -0.589032            -1.544498              1.802960   \n",
       "4     -0.373352      -0.589032             0.647459             -0.482323   \n",
       "\n",
       "   first_published_year  first_published_month  post_town_Nuneaton  \\\n",
       "0             -0.576376               0.502342                 0.0   \n",
       "1             -0.576376               0.745100                 1.0   \n",
       "2             -0.576376               0.745100                 1.0   \n",
       "3             -0.576376               0.502342                 0.0   \n",
       "4             -0.576376               0.502342                 1.0   \n",
       "\n",
       "   parish_Hinckley and Bosworth, unparished area  \\\n",
       "0                                            1.0   \n",
       "1                                            0.0   \n",
       "2                                            0.0   \n",
       "3                                            1.0   \n",
       "4                                            0.0   \n",
       "\n",
       "   parish_Nuneaton and Bedworth, unparished area  parish_Other  \\\n",
       "0                                            0.0           0.0   \n",
       "1                                            1.0           0.0   \n",
       "2                                            1.0           0.0   \n",
       "3                                            0.0           0.0   \n",
       "4                                            1.0           0.0   \n",
       "\n",
       "   parish_Stoke Golding  postcode_CV10 7  postcode_CV10 8  postcode_CV10 9  \\\n",
       "0                   0.0              0.0              0.0              0.0   \n",
       "1                   0.0              0.0              0.0              1.0   \n",
       "2                   0.0              0.0              0.0              0.0   \n",
       "3                   0.0              0.0              0.0              0.0   \n",
       "4                   0.0              0.0              1.0              0.0   \n",
       "\n",
       "   postcode_CV11 4  postcode_CV11 5  postcode_CV11 6  postcode_CV11 7  \\\n",
       "0              0.0              0.0              0.0              0.0   \n",
       "1              0.0              0.0              0.0              0.0   \n",
       "2              0.0              0.0              0.0              0.0   \n",
       "3              0.0              0.0              0.0              0.0   \n",
       "4              0.0              0.0              0.0              0.0   \n",
       "\n",
       "   postcode_CV12 9  postcode_CV13 0  postcode_CV13 6  postcode_CV9 3  \\\n",
       "0              0.0              0.0              0.0             0.0   \n",
       "1              0.0              0.0              0.0             0.0   \n",
       "2              0.0              0.0              0.0             0.0   \n",
       "3              0.0              0.0              0.0             0.0   \n",
       "4              0.0              0.0              0.0             0.0   \n",
       "\n",
       "   postcode_LE10 0  postcode_LE10 1  postcode_LE10 2  postcode_LE10 3  \\\n",
       "0              1.0              0.0              0.0              0.0   \n",
       "1              0.0              0.0              0.0              0.0   \n",
       "2              0.0              0.0              0.0              0.0   \n",
       "3              0.0              1.0              0.0              0.0   \n",
       "4              0.0              0.0              0.0              0.0   \n",
       "\n",
       "   postcode_LE9 7  PROB_4BAND_Medium  PROB_4BAND_None  \\\n",
       "0             0.0                0.0              1.0   \n",
       "1             0.0                0.0              1.0   \n",
       "2             0.0                0.0              1.0   \n",
       "3             0.0                0.0              1.0   \n",
       "4             0.0                0.0              1.0   \n",
       "\n",
       "   property_type_general_Detached house  \\\n",
       "0                                   1.0   \n",
       "1                                   0.0   \n",
       "2                                   0.0   \n",
       "3                                   1.0   \n",
       "4                                   0.0   \n",
       "\n",
       "   property_type_general_End terrace house  property_type_general_Flat  \\\n",
       "0                                      0.0                         0.0   \n",
       "1                                      0.0                         0.0   \n",
       "2                                      0.0                         0.0   \n",
       "3                                      0.0                         0.0   \n",
       "4                                      0.0                         0.0   \n",
       "\n",
       "   property_type_general_Maisonette  property_type_general_Other/Unknown  \\\n",
       "0                               0.0                                  0.0   \n",
       "1                               0.0                                  0.0   \n",
       "2                               0.0                                  0.0   \n",
       "3                               0.0                                  0.0   \n",
       "4                               0.0                                  0.0   \n",
       "\n",
       "   property_type_general_Semi-detached house  \\\n",
       "0                                        0.0   \n",
       "1                                        1.0   \n",
       "2                                        1.0   \n",
       "3                                        0.0   \n",
       "4                                        1.0   \n",
       "\n",
       "   property_type_general_Terraced house  \n",
       "0                                   0.0  \n",
       "1                                   0.0  \n",
       "2                                   0.0  \n",
       "3                                   0.0  \n",
       "4                                   0.0  "
      ]
     },
     "execution_count": 41,
     "metadata": {},
     "output_type": "execute_result"
    }
   ],
   "source": [
    "X_train.head()"
   ]
  },
  {
   "cell_type": "code",
   "execution_count": 42,
   "metadata": {},
   "outputs": [
    {
     "data": {
      "text/plain": [
       "-0.200393    100\n",
       " 0.138953     13\n",
       "-0.385490     13\n",
       "-0.231242     12\n",
       "-0.447189     12\n",
       "            ... \n",
       "-0.432983      1\n",
       " 0.345337      1\n",
       "-0.458763      1\n",
       " 2.282999      1\n",
       " 0.773529      1\n",
       "Name: TOTAL_FLOOR_AREA_median, Length: 207, dtype: int64"
      ]
     },
     "metadata": {},
     "output_type": "display_data"
    },
    {
     "data": {
      "text/plain": [
       "-0.699124    259\n",
       "-0.325847     96\n",
       " 0.047430     79\n",
       " 0.420706     56\n",
       " 0.793983     39\n",
       " 1.167259     28\n",
       " 1.913813     18\n",
       " 1.540536     13\n",
       " 2.660366      6\n",
       " 3.033643      3\n",
       " 3.406919      2\n",
       " 3.780196      2\n",
       " 5.273303      1\n",
       " 4.526749      1\n",
       " 9.379346      1\n",
       " 6.019856      1\n",
       " 2.287089      1\n",
       "Name: diff_published_date, dtype: int64"
      ]
     },
     "metadata": {},
     "output_type": "display_data"
    },
    {
     "data": {
      "text/plain": [
       "0.0    526\n",
       "1.0     80\n",
       "Name: cluster_1, dtype: int64"
      ]
     },
     "metadata": {},
     "output_type": "display_data"
    },
    {
     "data": {
      "text/plain": [
       "0.0    536\n",
       "1.0     70\n",
       "Name: cluster_2, dtype: int64"
      ]
     },
     "metadata": {},
     "output_type": "display_data"
    },
    {
     "data": {
      "text/plain": [
       "0.0    480\n",
       "1.0    126\n",
       "Name: cluster_3, dtype: int64"
      ]
     },
     "metadata": {},
     "output_type": "display_data"
    },
    {
     "data": {
      "text/plain": [
       "0.0    500\n",
       "1.0    106\n",
       "Name: cluster_4, dtype: int64"
      ]
     },
     "metadata": {},
     "output_type": "display_data"
    },
    {
     "data": {
      "text/plain": [
       "0.0    554\n",
       "1.0     52\n",
       "Name: cluster_5, dtype: int64"
      ]
     },
     "metadata": {},
     "output_type": "display_data"
    },
    {
     "data": {
      "text/plain": [
       "0.0    603\n",
       "1.0      3\n",
       "Name: cluster_6, dtype: int64"
      ]
     },
     "metadata": {},
     "output_type": "display_data"
    },
    {
     "data": {
      "text/plain": [
       "0.0    533\n",
       "1.0     73\n",
       "Name: cluster_7, dtype: int64"
      ]
     },
     "metadata": {},
     "output_type": "display_data"
    },
    {
     "data": {
      "text/plain": [
       "-0.010751    277\n",
       " 1.075124    147\n",
       "-1.096626    140\n",
       " 2.160999     18\n",
       "-2.182501     15\n",
       "-3.268376      6\n",
       " 4.332749      2\n",
       " 3.246874      1\n",
       "Name: num_bedrooms, dtype: int64"
      ]
     },
     "metadata": {},
     "output_type": "display_data"
    },
    {
     "data": {
      "text/plain": [
       "-0.480830    335\n",
       " 0.825820    174\n",
       "-1.787481     50\n",
       " 2.132471     42\n",
       " 3.439122      5\n",
       "Name: num_bathrooms, dtype: int64"
      ]
     },
     "metadata": {},
     "output_type": "display_data"
    },
    {
     "data": {
      "text/plain": [
       " 0.473837    348\n",
       "-0.670168    110\n",
       "-1.814173     98\n",
       " 1.617842     45\n",
       " 2.761848      5\n",
       "Name: CURRENT_ENERGY_RATING_mode, dtype: int64"
      ]
     },
     "metadata": {},
     "output_type": "display_data"
    },
    {
     "data": {
      "text/plain": [
       "-0.149598    431\n",
       " 1.700535    109\n",
       "-1.999732     64\n",
       " 3.550669      2\n",
       "Name: POTENTIAL_ENERGY_RATING_mode, dtype: int64"
      ]
     },
     "metadata": {},
     "output_type": "display_data"
    },
    {
     "data": {
      "text/plain": [
       "-0.846097    228\n",
       " 0.088982     61\n",
       "-0.222711     54\n",
       "-0.534404     47\n",
       " 0.712368     41\n",
       " 1.335754     32\n",
       " 2.270833     32\n",
       " 1.647447     29\n",
       " 0.400675     24\n",
       " 1.024061     24\n",
       "-1.157791     22\n",
       " 1.959140     12\n",
       "Name: CONSTRUCTION_AGE_BAND_mode, dtype: int64"
      ]
     },
     "metadata": {},
     "output_type": "display_data"
    },
    {
     "data": {
      "text/plain": [
       " 0.728226    158\n",
       "-0.028729     68\n",
       "-0.785684     65\n",
       "-1.164162     58\n",
       "-0.407207     56\n",
       " 1.106703     53\n",
       " 1.485181     53\n",
       "-1.921117     36\n",
       "-1.542639     32\n",
       " 0.349748     27\n",
       "Name: Index of Multiple Deprivation Decile, dtype: int64"
      ]
     },
     "metadata": {},
     "output_type": "display_data"
    },
    {
     "data": {
      "text/plain": [
       " 1.051061    135\n",
       " 0.288255    102\n",
       "-0.474551     80\n",
       "-0.855954     66\n",
       " 1.432465     53\n",
       "-1.237357     47\n",
       "-1.618760     39\n",
       "-0.093148     38\n",
       " 0.669658     24\n",
       "-2.000164     22\n",
       "Name: Income Decile, dtype: int64"
      ]
     },
     "metadata": {},
     "output_type": "display_data"
    },
    {
     "data": {
      "text/plain": [
       " 0.109151    144\n",
       " 0.935973     97\n",
       " 1.349384     88\n",
       "-0.717670     67\n",
       "-1.131081     62\n",
       "-1.544492     41\n",
       " 0.522562     36\n",
       "-0.304259     35\n",
       "-1.957903     31\n",
       " 1.762795      5\n",
       "Name: Employment Decile, dtype: int64"
      ]
     },
     "metadata": {},
     "output_type": "display_data"
    },
    {
     "data": {
      "text/plain": [
       "-0.682129    119\n",
       " 0.117426     94\n",
       "-0.282351     85\n",
       " 1.316759     82\n",
       "-1.481684     62\n",
       "-1.081906     54\n",
       " 1.716537     48\n",
       " 0.916982     31\n",
       " 0.517204     25\n",
       " 2.116314      6\n",
       "Name: Education and Skills Decile, dtype: int64"
      ]
     },
     "metadata": {},
     "output_type": "display_data"
    },
    {
     "data": {
      "text/plain": [
       " 0.645281    116\n",
       "-0.244458     87\n",
       "-0.689328     83\n",
       " 0.200412     78\n",
       "-1.134197     65\n",
       " 1.535020     56\n",
       " 1.090151     44\n",
       "-1.579067     44\n",
       "-2.023936     17\n",
       " 1.979890     16\n",
       "Name: Health and Disability Decile, dtype: int64"
      ]
     },
     "metadata": {},
     "output_type": "display_data"
    },
    {
     "data": {
      "text/plain": [
       "-0.521189    132\n",
       " 0.297051     87\n",
       " 0.706170     86\n",
       "-0.930308     62\n",
       " 1.115290     48\n",
       "-1.748548     45\n",
       " 1.524410     45\n",
       "-0.112069     38\n",
       "-1.339428     37\n",
       " 1.933529     26\n",
       "Name: Crime Decile, dtype: int64"
      ]
     },
     "metadata": {},
     "output_type": "display_data"
    },
    {
     "data": {
      "text/plain": [
       " 0.572515    120\n",
       "-1.069823     96\n",
       " 0.983099     91\n",
       " 0.161930     87\n",
       "-1.480408     69\n",
       " 1.393684     67\n",
       "-0.659239     38\n",
       "-0.248654     25\n",
       "-2.301577     12\n",
       "-1.890992      1\n",
       "Name: Barriers to Housing and Services Decile, dtype: int64"
      ]
     },
     "metadata": {},
     "output_type": "display_data"
    },
    {
     "data": {
      "text/plain": [
       "-0.151495    122\n",
       " 1.030554     95\n",
       "-0.939527     86\n",
       " 1.424570     84\n",
       " 0.636538     53\n",
       "-0.545511     51\n",
       "-1.727559     48\n",
       " 0.242521     33\n",
       "-1.333543     29\n",
       "-2.121575      5\n",
       "Name: Living Environment Decile, dtype: int64"
      ]
     },
     "metadata": {},
     "output_type": "display_data"
    },
    {
     "data": {
      "text/plain": [
       "-0.373352    115\n",
       " 1.242727     96\n",
       " 0.838708     90\n",
       "-0.777371     64\n",
       " 0.030668     64\n",
       " 0.434688     55\n",
       "-1.989431     36\n",
       "-1.585411     35\n",
       "-1.181391     30\n",
       " 1.646747     21\n",
       "Name: IDACI Decile, dtype: int64"
      ]
     },
     "metadata": {},
     "output_type": "display_data"
    },
    {
     "data": {
      "text/plain": [
       " 1.017057    120\n",
       "-0.589032     95\n",
       " 0.615535     92\n",
       "-0.187509     77\n",
       "-0.990554     54\n",
       " 1.418579     51\n",
       " 0.214013     42\n",
       "-1.793598     33\n",
       "-2.195120     23\n",
       "-1.392076     19\n",
       "Name: IDAOPI Decile, dtype: int64"
      ]
     },
     "metadata": {},
     "output_type": "display_data"
    },
    {
     "data": {
      "text/plain": [
       " 0.647459    427\n",
       "-1.544498    179\n",
       "Name: last_published_year, dtype: int64"
      ]
     },
     "metadata": {},
     "output_type": "display_data"
    },
    {
     "data": {
      "text/plain": [
       "-0.710851    290\n",
       "-0.482323    137\n",
       " 1.574432     77\n",
       " 1.802960     47\n",
       " 1.345904     36\n",
       " 1.117375     11\n",
       " 0.888847      6\n",
       " 0.431790      1\n",
       "-0.253795      1\n",
       "Name: last_published_month, dtype: int64"
      ]
     },
     "metadata": {},
     "output_type": "display_data"
    },
    {
     "data": {
      "text/plain": [
       "-0.576376    420\n",
       " 1.490392    178\n",
       "-2.643143      7\n",
       "-4.709910      1\n",
       "Name: first_published_year, dtype: int64"
      ]
     },
     "metadata": {},
     "output_type": "display_data"
    },
    {
     "data": {
      "text/plain": [
       "-1.439726    154\n",
       " 0.745100     97\n",
       " 0.987859     87\n",
       " 0.502342     77\n",
       " 1.230618     50\n",
       " 0.259583     45\n",
       " 0.016825     33\n",
       "-1.196968     28\n",
       "-0.225934     21\n",
       "-0.954209      6\n",
       "-0.711451      5\n",
       "-0.468692      3\n",
       "Name: first_published_month, dtype: int64"
      ]
     },
     "metadata": {},
     "output_type": "display_data"
    },
    {
     "data": {
      "text/plain": [
       "1.0    408\n",
       "0.0    198\n",
       "Name: post_town_Nuneaton, dtype: int64"
      ]
     },
     "metadata": {},
     "output_type": "display_data"
    },
    {
     "data": {
      "text/plain": [
       "0.0    417\n",
       "1.0    189\n",
       "Name: parish_Hinckley and Bosworth, unparished area, dtype: int64"
      ]
     },
     "metadata": {},
     "output_type": "display_data"
    },
    {
     "data": {
      "text/plain": [
       "1.0    394\n",
       "0.0    212\n",
       "Name: parish_Nuneaton and Bedworth, unparished area, dtype: int64"
      ]
     },
     "metadata": {},
     "output_type": "display_data"
    },
    {
     "data": {
      "text/plain": [
       "0.0    598\n",
       "1.0      8\n",
       "Name: parish_Other, dtype: int64"
      ]
     },
     "metadata": {},
     "output_type": "display_data"
    },
    {
     "data": {
      "text/plain": [
       "0.0    600\n",
       "1.0      6\n",
       "Name: parish_Stoke Golding, dtype: int64"
      ]
     },
     "metadata": {},
     "output_type": "display_data"
    },
    {
     "data": {
      "text/plain": [
       "0.0    564\n",
       "1.0     42\n",
       "Name: postcode_CV10 7, dtype: int64"
      ]
     },
     "metadata": {},
     "output_type": "display_data"
    },
    {
     "data": {
      "text/plain": [
       "0.0    561\n",
       "1.0     45\n",
       "Name: postcode_CV10 8, dtype: int64"
      ]
     },
     "metadata": {},
     "output_type": "display_data"
    },
    {
     "data": {
      "text/plain": [
       "0.0    534\n",
       "1.0     72\n",
       "Name: postcode_CV10 9, dtype: int64"
      ]
     },
     "metadata": {},
     "output_type": "display_data"
    },
    {
     "data": {
      "text/plain": [
       "0.0    561\n",
       "1.0     45\n",
       "Name: postcode_CV11 4, dtype: int64"
      ]
     },
     "metadata": {},
     "output_type": "display_data"
    },
    {
     "data": {
      "text/plain": [
       "0.0    582\n",
       "1.0     24\n",
       "Name: postcode_CV11 5, dtype: int64"
      ]
     },
     "metadata": {},
     "output_type": "display_data"
    },
    {
     "data": {
      "text/plain": [
       "0.0    514\n",
       "1.0     92\n",
       "Name: postcode_CV11 6, dtype: int64"
      ]
     },
     "metadata": {},
     "output_type": "display_data"
    },
    {
     "data": {
      "text/plain": [
       "0.0    592\n",
       "1.0     14\n",
       "Name: postcode_CV11 7, dtype: int64"
      ]
     },
     "metadata": {},
     "output_type": "display_data"
    },
    {
     "data": {
      "text/plain": [
       "0.0    605\n",
       "1.0      1\n",
       "Name: postcode_CV12 9, dtype: int64"
      ]
     },
     "metadata": {},
     "output_type": "display_data"
    },
    {
     "data": {
      "text/plain": [
       "0.0    603\n",
       "1.0      3\n",
       "Name: postcode_CV13 0, dtype: int64"
      ]
     },
     "metadata": {},
     "output_type": "display_data"
    },
    {
     "data": {
      "text/plain": [
       "0.0    597\n",
       "1.0      9\n",
       "Name: postcode_CV13 6, dtype: int64"
      ]
     },
     "metadata": {},
     "output_type": "display_data"
    },
    {
     "data": {
      "text/plain": [
       "0.0    605\n",
       "1.0      1\n",
       "Name: postcode_CV9 3, dtype: int64"
      ]
     },
     "metadata": {},
     "output_type": "display_data"
    },
    {
     "data": {
      "text/plain": [
       "0.0    485\n",
       "1.0    121\n",
       "Name: postcode_LE10 0, dtype: int64"
      ]
     },
     "metadata": {},
     "output_type": "display_data"
    },
    {
     "data": {
      "text/plain": [
       "0.0    542\n",
       "1.0     64\n",
       "Name: postcode_LE10 1, dtype: int64"
      ]
     },
     "metadata": {},
     "output_type": "display_data"
    },
    {
     "data": {
      "text/plain": [
       "0.0    599\n",
       "1.0      7\n",
       "Name: postcode_LE10 2, dtype: int64"
      ]
     },
     "metadata": {},
     "output_type": "display_data"
    },
    {
     "data": {
      "text/plain": [
       "0.0    600\n",
       "1.0      6\n",
       "Name: postcode_LE10 3, dtype: int64"
      ]
     },
     "metadata": {},
     "output_type": "display_data"
    },
    {
     "data": {
      "text/plain": [
       "0.0    605\n",
       "1.0      1\n",
       "Name: postcode_LE9 7, dtype: int64"
      ]
     },
     "metadata": {},
     "output_type": "display_data"
    },
    {
     "data": {
      "text/plain": [
       "0.0    601\n",
       "1.0      5\n",
       "Name: PROB_4BAND_Medium, dtype: int64"
      ]
     },
     "metadata": {},
     "output_type": "display_data"
    },
    {
     "data": {
      "text/plain": [
       "1.0    597\n",
       "0.0      9\n",
       "Name: PROB_4BAND_None, dtype: int64"
      ]
     },
     "metadata": {},
     "output_type": "display_data"
    },
    {
     "data": {
      "text/plain": [
       "0.0    406\n",
       "1.0    200\n",
       "Name: property_type_general_Detached house, dtype: int64"
      ]
     },
     "metadata": {},
     "output_type": "display_data"
    },
    {
     "data": {
      "text/plain": [
       "0.0    577\n",
       "1.0     29\n",
       "Name: property_type_general_End terrace house, dtype: int64"
      ]
     },
     "metadata": {},
     "output_type": "display_data"
    },
    {
     "data": {
      "text/plain": [
       "0.0    555\n",
       "1.0     51\n",
       "Name: property_type_general_Flat, dtype: int64"
      ]
     },
     "metadata": {},
     "output_type": "display_data"
    },
    {
     "data": {
      "text/plain": [
       "0.0    602\n",
       "1.0      4\n",
       "Name: property_type_general_Maisonette, dtype: int64"
      ]
     },
     "metadata": {},
     "output_type": "display_data"
    },
    {
     "data": {
      "text/plain": [
       "0.0    586\n",
       "1.0     20\n",
       "Name: property_type_general_Other/Unknown, dtype: int64"
      ]
     },
     "metadata": {},
     "output_type": "display_data"
    },
    {
     "data": {
      "text/plain": [
       "0.0    418\n",
       "1.0    188\n",
       "Name: property_type_general_Semi-detached house, dtype: int64"
      ]
     },
     "metadata": {},
     "output_type": "display_data"
    },
    {
     "data": {
      "text/plain": [
       "0.0    526\n",
       "1.0     80\n",
       "Name: property_type_general_Terraced house, dtype: int64"
      ]
     },
     "metadata": {},
     "output_type": "display_data"
    }
   ],
   "source": [
    "for colname in X_train.columns:\n",
    "    display(X_train[colname].value_counts(dropna=False))"
   ]
  },
  {
   "cell_type": "markdown",
   "metadata": {},
   "source": [
    "### Try fitting a simple linear regression model\n",
    "We will use cross-validation to try different regularisation pararameters"
   ]
  },
  {
   "cell_type": "code",
   "execution_count": 44,
   "metadata": {},
   "outputs": [
    {
     "name": "stdout",
     "output_type": "stream",
     "text": [
      "RSME = 0.2192546021978383\n"
     ]
    },
    {
     "data": {
      "text/plain": [
       "[<matplotlib.lines.Line2D at 0x7fce42c42310>]"
      ]
     },
     "execution_count": 44,
     "metadata": {},
     "output_type": "execute_result"
    },
    {
     "data": {
      "image/png": "[encoded data removed]",
      "text/plain": [
       "<Figure size 640x480 with 1 Axes>"
      ]
     },
     "metadata": {},
     "output_type": "display_data"
    }
   ],
   "source": [
    "simple_lin_model = LinearRegression()\n",
    "simple_lin_model.fit(X_train, y_train)\n",
    "y_preds = simple_lin_model.predict(X_train)\n",
    "\n",
    "print('RSME =', mean_squared_error(y_train, y_preds, squared=False))\n",
    "\n",
    "plt.plot(y_train, y_preds-y_train, 'b.')"
   ]
  },
  {
   "cell_type": "code",
   "execution_count": 46,
   "metadata": {},
   "outputs": [],
   "source": [
    "def RMSE(y_true, y_pred):\n",
    "    rmse = np.sqrt(mean_squared_error(y_true, y_pred))\n",
    "    print('RMSE: %2.3f', rmse)\n",
    "    return rmse\n",
    "\n",
    "#define your own mse and set greater_is_better=False\n",
    "rmse = make_scorer(RMSE, greater_is_better=False)"
   ]
  },
  {
   "cell_type": "code",
   "execution_count": 47,
   "metadata": {
    "scrolled": true
   },
   "outputs": [
    {
     "name": "stdout",
     "output_type": "stream",
     "text": [
      "Fitting 5 folds for each of 9 candidates, totalling 45 fits\n",
      "RMSE: %2.3f 1441260827615.1843\n",
      "[CV 1/5] END alpha=0, max_iter=200;, score=-1441260827615.184 total time=   0.0s\n",
      "RMSE: %2.3f 1318608102081.2808\n",
      "[CV 2/5] END alpha=0, max_iter=200;, score=-1318608102081.281 total time=   0.0s\n",
      "RMSE: %2.3f 4948907622762.905\n",
      "[CV 3/5] END alpha=0, max_iter=200;, score=-4948907622762.905 total time=   0.0s\n",
      "RMSE: %2.3f 0.21857636029739494\n",
      "[CV 4/5] END ............alpha=0, max_iter=200;, score=-0.219 total time=   0.0s\n",
      "RMSE: %2.3f 0.25639009741305235\n",
      "[CV 5/5] END ............alpha=0, max_iter=200;, score=-0.256 total time=   0.0s\n",
      "RMSE: %2.3f 0.27359580477948714\n",
      "[CV 1/5] END ........alpha=0.001, max_iter=200;, score=-0.274 total time=   0.0s\n",
      "RMSE: %2.3f 0.2786667876237368\n",
      "[CV 2/5] END ........alpha=0.001, max_iter=200;, score=-0.279 total time=   0.0s\n",
      "RMSE: %2.3f 0.26498530347226845\n",
      "[CV 3/5] END ........alpha=0.001, max_iter=200;, score=-0.265 total time=   0.0s\n",
      "RMSE: %2.3f 0.21816380907625355\n",
      "[CV 4/5] END ........alpha=0.001, max_iter=200;, score=-0.218 total time=   0.0s\n",
      "RMSE: %2.3f 0.24663422705702312\n",
      "[CV 5/5] END ........alpha=0.001, max_iter=200;, score=-0.247 total time=   0.0s\n",
      "RMSE: %2.3f 0.27321525650360234\n",
      "[CV 1/5] END .........alpha=0.01, max_iter=200;, score=-0.273 total time=   0.0s\n",
      "RMSE: %2.3f 0.2785655100050019\n",
      "[CV 2/5] END .........alpha=0.01, max_iter=200;, score=-0.279 total time=   0.0s\n",
      "RMSE: %2.3f 0.26384201300029914\n",
      "[CV 3/5] END .........alpha=0.01, max_iter=200;, score=-0.264 total time=   0.0s\n",
      "RMSE: %2.3f 0.2181997814821731\n",
      "[CV 4/5] END .........alpha=0.01, max_iter=200;, score=-0.218 total time=   0.0s\n",
      "RMSE: %2.3f 0.24651282737065522\n",
      "[CV 5/5] END .........alpha=0.01, max_iter=200;, score=-0.247 total time=   0.0s\n",
      "RMSE: %2.3f 0.27067984819110613\n",
      "[CV 1/5] END ..........alpha=0.1, max_iter=200;, score=-0.271 total time=   0.0s\n",
      "RMSE: %2.3f 0.27774404776573924\n",
      "[CV 2/5] END ..........alpha=0.1, max_iter=200;, score=-0.278 total time=   0.0s\n",
      "RMSE: %2.3f 0.2580084086191544\n",
      "[CV 3/5] END ..........alpha=0.1, max_iter=200;, score=-0.258 total time=   0.0s\n",
      "RMSE: %2.3f 0.2200930328577719\n",
      "[CV 4/5] END ..........alpha=0.1, max_iter=200;, score=-0.220 total time=   0.0s\n",
      "RMSE: %2.3f 0.24556891393982758\n",
      "[CV 5/5] END ..........alpha=0.1, max_iter=200;, score=-0.246 total time=   0.0s\n",
      "RMSE: %2.3f 0.267021367646518\n",
      "[CV 1/5] END ............alpha=1, max_iter=200;, score=-0.267 total time=   0.0s\n",
      "RMSE: %2.3f 0.27390077639692134\n",
      "[CV 2/5] END ............alpha=1, max_iter=200;, score=-0.274 total time=   0.0s\n",
      "RMSE: %2.3f 0.2510180657400953\n",
      "[CV 3/5] END ............alpha=1, max_iter=200;, score=-0.251 total time=   0.0s\n",
      "RMSE: %2.3f 0.2319009553014862\n",
      "[CV 4/5] END ............alpha=1, max_iter=200;, score=-0.232 total time=   0.0s\n",
      "RMSE: %2.3f 0.24537943913365035\n",
      "[CV 5/5] END ............alpha=1, max_iter=200;, score=-0.245 total time=   0.0s\n",
      "RMSE: %2.3f 0.26714020960625734\n",
      "[CV 1/5] END ............alpha=2, max_iter=200;, score=-0.267 total time=   0.0s\n",
      "RMSE: %2.3f 0.27247058686513476\n",
      "[CV 2/5] END ............alpha=2, max_iter=200;, score=-0.272 total time=   0.0s\n",
      "RMSE: %2.3f 0.25190312307863\n",
      "[CV 3/5] END ............alpha=2, max_iter=200;, score=-0.252 total time=   0.0s\n",
      "RMSE: %2.3f 0.23897396817353941\n",
      "[CV 4/5] END ............alpha=2, max_iter=200;, score=-0.239 total time=   0.0s\n",
      "RMSE: %2.3f 0.24828343668796826\n",
      "[CV 5/5] END ............alpha=2, max_iter=200;, score=-0.248 total time=   0.0s\n",
      "RMSE: %2.3f 0.2674053531124111\n",
      "[CV 1/5] END ............alpha=3, max_iter=200;, score=-0.267 total time=   0.0s\n",
      "RMSE: %2.3f 0.2719776026529433\n",
      "[CV 2/5] END ............alpha=3, max_iter=200;, score=-0.272 total time=   0.0s\n",
      "RMSE: %2.3f 0.2533555025479716\n",
      "[CV 3/5] END ............alpha=3, max_iter=200;, score=-0.253 total time=   0.0s\n",
      "RMSE: %2.3f 0.24378809110537747\n",
      "[CV 4/5] END ............alpha=3, max_iter=200;, score=-0.244 total time=   0.0s\n",
      "RMSE: %2.3f 0.2506538874198393\n",
      "[CV 5/5] END ............alpha=3, max_iter=200;, score=-0.251 total time=   0.0s\n",
      "RMSE: %2.3f 0.26773033098157256\n",
      "[CV 1/5] END ............alpha=5, max_iter=200;, score=-0.268 total time=   0.0s\n",
      "RMSE: %2.3f 0.27187486646207154\n",
      "[CV 2/5] END ............alpha=5, max_iter=200;, score=-0.272 total time=   0.0s\n",
      "RMSE: %2.3f 0.25577928305552283\n",
      "[CV 3/5] END ............alpha=5, max_iter=200;, score=-0.256 total time=   0.0s\n",
      "RMSE: %2.3f 0.2500330576840229\n",
      "[CV 4/5] END ............alpha=5, max_iter=200;, score=-0.250 total time=   0.0s\n",
      "RMSE: %2.3f 0.25383076227772694\n",
      "[CV 5/5] END ............alpha=5, max_iter=200;, score=-0.254 total time=   0.0s\n",
      "RMSE: %2.3f 0.26794145317330204\n",
      "[CV 1/5] END ...........alpha=10, max_iter=200;, score=-0.268 total time=   0.0s\n",
      "RMSE: %2.3f 0.27271309062376825\n",
      "[CV 2/5] END ...........alpha=10, max_iter=200;, score=-0.273 total time=   0.0s\n",
      "RMSE: %2.3f 0.2592051072808596\n",
      "[CV 3/5] END ...........alpha=10, max_iter=200;, score=-0.259 total time=   0.0s\n",
      "RMSE: %2.3f 0.25804363292436117\n",
      "[CV 4/5] END ...........alpha=10, max_iter=200;, score=-0.258 total time=   0.0s\n",
      "RMSE: %2.3f 0.257840322004276\n",
      "[CV 5/5] END ...........alpha=10, max_iter=200;, score=-0.258 total time=   0.0s\n",
      "Best value for C = {'alpha': 1, 'max_iter': 200}\n"
     ]
    }
   ],
   "source": [
    "# Smaller C = more regularisation\n",
    "lin_model_param_grid = {'alpha': [0, 0.001, 0.01, 0.1, 1, 2, 3, 5, 10], 'max_iter': [200]}\n",
    "\n",
    "# scan all values of C and pick the one that optimises recall\n",
    "grid_search_lin_model = GridSearchCV(Ridge(random_state=101), lin_model_param_grid, cv=5, verbose=3, scoring=rmse)\n",
    "grid_search_lin_model.fit(X_train, y_train)\n",
    "\n",
    "print(\"Best value for C =\", grid_search_lin_model.best_params_)\n"
   ]
  },
  {
   "cell_type": "code",
   "execution_count": 48,
   "metadata": {},
   "outputs": [
    {
     "name": "stdout",
     "output_type": "stream",
     "text": [
      "RSME = 0.22285465566072793\n"
     ]
    },
    {
     "data": {
      "text/plain": [
       "[<matplotlib.lines.Line2D at 0x7fce42c8d250>]"
      ]
     },
     "execution_count": 48,
     "metadata": {},
     "output_type": "execute_result"
    },
    {
     "data": {
      "image/png": "[encoded data removed]",
      "text/plain": [
       "<Figure size 640x480 with 1 Axes>"
      ]
     },
     "metadata": {},
     "output_type": "display_data"
    }
   ],
   "source": [
    "y_preds = grid_search_lin_model.best_estimator_.predict(X_train)\n",
    "\n",
    "print('RSME =', mean_squared_error(y_train, y_preds, squared=False))\n",
    "\n",
    "plt.plot(y_train, y_preds-y_train, 'b.')"
   ]
  },
  {
   "cell_type": "markdown",
   "metadata": {},
   "source": [
    "### Now try KNN Regressor"
   ]
  },
  {
   "cell_type": "code",
   "execution_count": 51,
   "metadata": {
    "scrolled": true
   },
   "outputs": [
    {
     "name": "stdout",
     "output_type": "stream",
     "text": [
      "Fitting 5 folds for each of 7 candidates, totalling 35 fits\n",
      "RMSE: %2.3f 0.38586137966446216\n",
      "[CV 1/5] END ....................n_neighbors=1;, score=-0.386 total time=   0.1s\n",
      "RMSE: %2.3f 0.42485555864368546\n",
      "[CV 2/5] END ....................n_neighbors=1;, score=-0.425 total time=   0.0s\n",
      "RMSE: %2.3f 0.4198085814173376\n",
      "[CV 3/5] END ....................n_neighbors=1;, score=-0.420 total time=   0.0s\n",
      "RMSE: %2.3f 0.4122312785614724\n",
      "[CV 4/5] END ....................n_neighbors=1;, score=-0.412 total time=   0.0s\n",
      "RMSE: %2.3f 0.376944099461183\n",
      "[CV 5/5] END ....................n_neighbors=1;, score=-0.377 total time=   0.0s\n",
      "RMSE: %2.3f 0.3305510087762619\n",
      "[CV 1/5] END ....................n_neighbors=2;, score=-0.331 total time=   0.0s\n",
      "RMSE: %2.3f 0.40313799315398985\n",
      "[CV 2/5] END ....................n_neighbors=2;, score=-0.403 total time=   0.0s\n",
      "RMSE: %2.3f 0.37054498835624144\n",
      "[CV 3/5] END ....................n_neighbors=2;, score=-0.371 total time=   0.0s\n",
      "RMSE: %2.3f 0.3442790543676485\n",
      "[CV 4/5] END ....................n_neighbors=2;, score=-0.344 total time=   0.0s\n",
      "RMSE: %2.3f 0.33884817838249526\n",
      "[CV 5/5] END ....................n_neighbors=2;, score=-0.339 total time=   0.0s\n",
      "RMSE: %2.3f 0.3060868294523519\n",
      "[CV 1/5] END ....................n_neighbors=4;, score=-0.306 total time=   0.0s\n",
      "RMSE: %2.3f 0.3667248389533355\n",
      "[CV 2/5] END ....................n_neighbors=4;, score=-0.367 total time=   0.0s\n",
      "RMSE: %2.3f 0.3402606794222132\n",
      "[CV 3/5] END ....................n_neighbors=4;, score=-0.340 total time=   0.0s\n",
      "RMSE: %2.3f 0.3108460002473847\n",
      "[CV 4/5] END ....................n_neighbors=4;, score=-0.311 total time=   0.0s\n",
      "RMSE: %2.3f 0.3113044759048034\n",
      "[CV 5/5] END ....................n_neighbors=4;, score=-0.311 total time=   0.0s\n",
      "RMSE: %2.3f 0.312949190350929\n",
      "[CV 1/5] END ....................n_neighbors=8;, score=-0.313 total time=   0.0s\n",
      "RMSE: %2.3f 0.36502746852543916\n",
      "[CV 2/5] END ....................n_neighbors=8;, score=-0.365 total time=   0.0s\n",
      "RMSE: %2.3f 0.3173558340744722\n",
      "[CV 3/5] END ....................n_neighbors=8;, score=-0.317 total time=   0.0s\n",
      "RMSE: %2.3f 0.33033363729224896\n",
      "[CV 4/5] END ....................n_neighbors=8;, score=-0.330 total time=   0.0s\n",
      "RMSE: %2.3f 0.31264487713875255\n",
      "[CV 5/5] END ....................n_neighbors=8;, score=-0.313 total time=   0.0s\n",
      "RMSE: %2.3f 0.3155655464659321\n",
      "[CV 1/5] END ...................n_neighbors=10;, score=-0.316 total time=   0.0s\n",
      "RMSE: %2.3f 0.36701074333604755\n",
      "[CV 2/5] END ...................n_neighbors=10;, score=-0.367 total time=   0.0s\n",
      "RMSE: %2.3f 0.3144068165550142\n",
      "[CV 3/5] END ...................n_neighbors=10;, score=-0.314 total time=   0.0s\n",
      "RMSE: %2.3f 0.33660205875327803\n",
      "[CV 4/5] END ...................n_neighbors=10;, score=-0.337 total time=   0.0s\n",
      "RMSE: %2.3f 0.31319511670001493\n",
      "[CV 5/5] END ...................n_neighbors=10;, score=-0.313 total time=   0.0s\n",
      "RMSE: %2.3f 0.3268791564614518\n",
      "[CV 1/5] END ...................n_neighbors=20;, score=-0.327 total time=   0.0s\n",
      "RMSE: %2.3f 0.37994678477498567\n",
      "[CV 2/5] END ...................n_neighbors=20;, score=-0.380 total time=   0.0s\n",
      "RMSE: %2.3f 0.313089130469742\n",
      "[CV 3/5] END ...................n_neighbors=20;, score=-0.313 total time=   0.0s\n",
      "RMSE: %2.3f 0.348581153299151\n",
      "[CV 4/5] END ...................n_neighbors=20;, score=-0.349 total time=   0.0s\n",
      "RMSE: %2.3f 0.33333918053325895\n",
      "[CV 5/5] END ...................n_neighbors=20;, score=-0.333 total time=   0.0s\n",
      "RMSE: %2.3f 0.35303822944680924\n",
      "[CV 1/5] END ...................n_neighbors=40;, score=-0.353 total time=   0.0s\n",
      "RMSE: %2.3f 0.3830720614479355\n",
      "[CV 2/5] END ...................n_neighbors=40;, score=-0.383 total time=   0.0s\n",
      "RMSE: %2.3f 0.3133431307157174\n",
      "[CV 3/5] END ...................n_neighbors=40;, score=-0.313 total time=   0.0s\n",
      "RMSE: %2.3f 0.3673323677787269\n",
      "[CV 4/5] END ...................n_neighbors=40;, score=-0.367 total time=   0.0s\n",
      "RMSE: %2.3f 0.34257699651886014\n",
      "[CV 5/5] END ...................n_neighbors=40;, score=-0.343 total time=   0.0s\n",
      "Best value for k = {'n_neighbors': 4}\n"
     ]
    }
   ],
   "source": [
    "# Smaller C = more regularisation\n",
    "knn_model_param_grid = {'n_neighbors': [1, 2, 4, 8, 10, 20, 40]}\n",
    "\n",
    "# scan all values of C and pick the one that optimises recall\n",
    "grid_search_knn_model = GridSearchCV(KNeighborsRegressor(), knn_model_param_grid, cv=5, verbose=3, scoring=rmse)\n",
    "grid_search_knn_model.fit(X_train, y_train)\n",
    "\n",
    "print(\"Best value for k =\", grid_search_knn_model.best_params_)\n"
   ]
  },
  {
   "cell_type": "code",
   "execution_count": 53,
   "metadata": {},
   "outputs": [
    {
     "name": "stdout",
     "output_type": "stream",
     "text": [
      "RSME = 0.24626547549179112\n"
     ]
    },
    {
     "data": {
      "text/plain": [
       "[<matplotlib.lines.Line2D at 0x7fce421f3e10>]"
      ]
     },
     "execution_count": 53,
     "metadata": {},
     "output_type": "execute_result"
    },
    {
     "data": {
      "image/png": "[encoded data removed]",
      "text/plain": [
       "<Figure size 640x480 with 1 Axes>"
      ]
     },
     "metadata": {},
     "output_type": "display_data"
    }
   ],
   "source": [
    "y_preds = grid_search_knn_model.best_estimator_.predict(X_train)\n",
    "\n",
    "print('RSME =', mean_squared_error(y_train, y_preds, squared=False))\n",
    "\n",
    "plt.plot(y_train, y_preds-y_train, 'b.')"
   ]
  },
  {
   "cell_type": "markdown",
   "metadata": {},
   "source": [
    "### Now try SVC classifier"
   ]
  },
  {
   "cell_type": "code",
   "execution_count": 13,
   "metadata": {},
   "outputs": [
    {
     "name": "stdout",
     "output_type": "stream",
     "text": [
      "Fitting 3 folds for each of 6 candidates, totalling 18 fits\n",
      "[CV 1/3] END svc_model__C=10, svc_model__gamma=1, svc_model__kernel=rbf;, score=0.664 total time= 2.1min\n",
      "[CV 2/3] END svc_model__C=10, svc_model__gamma=1, svc_model__kernel=rbf;, score=0.654 total time= 1.6min\n",
      "[CV 3/3] END svc_model__C=10, svc_model__gamma=1, svc_model__kernel=rbf;, score=0.657 total time= 1.3min\n",
      "[CV 1/3] END svc_model__C=0.1, svc_model__gamma=10, svc_model__kernel=rbf;, score=0.736 total time= 1.1min\n",
      "[CV 2/3] END svc_model__C=0.1, svc_model__gamma=10, svc_model__kernel=rbf;, score=0.729 total time= 1.1min\n",
      "[CV 3/3] END svc_model__C=0.1, svc_model__gamma=10, svc_model__kernel=rbf;, score=0.744 total time= 1.1min\n",
      "[CV 1/3] END svc_model__C=0.1, svc_model__gamma=0.1, svc_model__kernel=rbf;, score=0.677 total time= 1.0min\n",
      "[CV 2/3] END svc_model__C=0.1, svc_model__gamma=0.1, svc_model__kernel=rbf;, score=0.674 total time= 1.2min\n",
      "[CV 3/3] END svc_model__C=0.1, svc_model__gamma=0.1, svc_model__kernel=rbf;, score=0.672 total time= 1.2min\n",
      "[CV 1/3] END svc_model__C=1, svc_model__gamma=1, svc_model__kernel=rbf;, score=0.677 total time= 1.2min\n",
      "[CV 2/3] END svc_model__C=1, svc_model__gamma=1, svc_model__kernel=rbf;, score=0.671 total time= 1.3min\n",
      "[CV 3/3] END svc_model__C=1, svc_model__gamma=1, svc_model__kernel=rbf;, score=0.678 total time= 1.3min\n",
      "[CV 1/3] END svc_model__C=10, svc_model__gamma=10, svc_model__kernel=rbf;, score=0.561 total time= 3.2min\n",
      "[CV 2/3] END svc_model__C=10, svc_model__gamma=10, svc_model__kernel=rbf;, score=0.549 total time= 3.4min\n",
      "[CV 3/3] END svc_model__C=10, svc_model__gamma=10, svc_model__kernel=rbf;, score=0.584 total time= 4.0min\n",
      "[CV 1/3] END svc_model__C=1, svc_model__gamma=0.1, svc_model__kernel=rbf;, score=0.692 total time= 1.2min\n",
      "[CV 2/3] END svc_model__C=1, svc_model__gamma=0.1, svc_model__kernel=rbf;, score=0.694 total time= 1.2min\n",
      "[CV 3/3] END svc_model__C=1, svc_model__gamma=0.1, svc_model__kernel=rbf;, score=0.712 total time= 1.2min\n"
     ]
    },
    {
     "data": {
      "text/html": [
       "<style>#sk-container-id-1 {color: black;background-color: white;}#sk-container-id-1 pre{padding: 0;}#sk-container-id-1 div.sk-toggleable {background-color: white;}#sk-container-id-1 label.sk-toggleable__label {cursor: pointer;display: block;width: 100%;margin-bottom: 0;padding: 0.3em;box-sizing: border-box;text-align: center;}#sk-container-id-1 label.sk-toggleable__label-arrow:before {content: \"▸\";float: left;margin-right: 0.25em;color: #696969;}#sk-container-id-1 label.sk-toggleable__label-arrow:hover:before {color: black;}#sk-container-id-1 div.sk-estimator:hover label.sk-toggleable__label-arrow:before {color: black;}#sk-container-id-1 div.sk-toggleable__content {max-height: 0;max-width: 0;overflow: hidden;text-align: left;background-color: #f0f8ff;}#sk-container-id-1 div.sk-toggleable__content pre {margin: 0.2em;color: black;border-radius: 0.25em;background-color: #f0f8ff;}#sk-container-id-1 input.sk-toggleable__control:checked~div.sk-toggleable__content {max-height: 200px;max-width: 100%;overflow: auto;}#sk-container-id-1 input.sk-toggleable__control:checked~label.sk-toggleable__label-arrow:before {content: \"▾\";}#sk-container-id-1 div.sk-estimator input.sk-toggleable__control:checked~label.sk-toggleable__label {background-color: #d4ebff;}#sk-container-id-1 div.sk-label input.sk-toggleable__control:checked~label.sk-toggleable__label {background-color: #d4ebff;}#sk-container-id-1 input.sk-hidden--visually {border: 0;clip: rect(1px 1px 1px 1px);clip: rect(1px, 1px, 1px, 1px);height: 1px;margin: -1px;overflow: hidden;padding: 0;position: absolute;width: 1px;}#sk-container-id-1 div.sk-estimator {font-family: monospace;background-color: #f0f8ff;border: 1px dotted black;border-radius: 0.25em;box-sizing: border-box;margin-bottom: 0.5em;}#sk-container-id-1 div.sk-estimator:hover {background-color: #d4ebff;}#sk-container-id-1 div.sk-parallel-item::after {content: \"\";width: 100%;border-bottom: 1px solid gray;flex-grow: 1;}#sk-container-id-1 div.sk-label:hover label.sk-toggleable__label {background-color: #d4ebff;}#sk-container-id-1 div.sk-serial::before {content: \"\";position: absolute;border-left: 1px solid gray;box-sizing: border-box;top: 0;bottom: 0;left: 50%;z-index: 0;}#sk-container-id-1 div.sk-serial {display: flex;flex-direction: column;align-items: center;background-color: white;padding-right: 0.2em;padding-left: 0.2em;position: relative;}#sk-container-id-1 div.sk-item {position: relative;z-index: 1;}#sk-container-id-1 div.sk-parallel {display: flex;align-items: stretch;justify-content: center;background-color: white;position: relative;}#sk-container-id-1 div.sk-item::before, #sk-container-id-1 div.sk-parallel-item::before {content: \"\";position: absolute;border-left: 1px solid gray;box-sizing: border-box;top: 0;bottom: 0;left: 50%;z-index: -1;}#sk-container-id-1 div.sk-parallel-item {display: flex;flex-direction: column;z-index: 1;position: relative;background-color: white;}#sk-container-id-1 div.sk-parallel-item:first-child::after {align-self: flex-end;width: 50%;}#sk-container-id-1 div.sk-parallel-item:last-child::after {align-self: flex-start;width: 50%;}#sk-container-id-1 div.sk-parallel-item:only-child::after {width: 0;}#sk-container-id-1 div.sk-dashed-wrapped {border: 1px dashed gray;margin: 0 0.4em 0.5em 0.4em;box-sizing: border-box;padding-bottom: 0.4em;background-color: white;}#sk-container-id-1 div.sk-label label {font-family: monospace;font-weight: bold;display: inline-block;line-height: 1.2em;}#sk-container-id-1 div.sk-label-container {text-align: center;}#sk-container-id-1 div.sk-container {/* jupyter's `normalize.less` sets `[hidden] { display: none; }` but bootstrap.min.css set `[hidden] { display: none !important; }` so we also need the `!important` here to be able to override the default hidden behavior on the sphinx rendered scikit-learn.org. See: https://github.com/scikit-learn/scikit-learn/issues/21755 */display: inline-block !important;position: relative;}#sk-container-id-1 div.sk-text-repr-fallback {display: none;}</style><div id=\"sk-container-id-1\" class=\"sk-top-container\"><div class=\"sk-text-repr-fallback\"><pre>RandomizedSearchCV(cv=3,\n",
       "                   estimator=Pipeline(steps=[(&#x27;full_pipeline&#x27;,\n",
       "                                              ColumnTransformer(transformers=[(&#x27;numeric&#x27;,\n",
       "                                                                               Pipeline(steps=[(&#x27;num_imputer&#x27;,\n",
       "                                                                                                SimpleImputer(strategy=&#x27;median&#x27;)),\n",
       "                                                                                               (&#x27;num_std_scaler&#x27;,\n",
       "                                                                                                StandardScaler())]),\n",
       "                                                                               [&#x27;LOG_LIFETIME_VALUE_PER_YEAR&#x27;,\n",
       "                                                                                &#x27;LOG_LIFETIME_VALUE&#x27;,\n",
       "                                                                                &#x27;LOG_LIFETIME_TRANSACTION_COUNT&#x27;]),\n",
       "                                                                              (&#x27;discrete&#x27;,\n",
       "                                                                               Pipeline(steps=[(&#x27;dis_imputer&#x27;,\n",
       "                                                                                                SimpleI...\n",
       "                                                                                &#x27;RETAILER_MARKETING_OPT_IN&#x27;]),\n",
       "                                                                              (&#x27;categoric&#x27;,\n",
       "                                                                               Pipeline(steps=[(&#x27;cat_imputer&#x27;,\n",
       "                                                                                                SimpleImputer(strategy=&#x27;most_frequent&#x27;)),\n",
       "                                                                                               (&#x27;cat_oh_encoder&#x27;,\n",
       "                                                                                                OneHotEncoder(drop=&#x27;first&#x27;))]),\n",
       "                                                                               [&#x27;CUSTOMER_SEGMENT&#x27;])])),\n",
       "                                             (&#x27;svc_model&#x27;, SVC())]),\n",
       "                   n_iter=6,\n",
       "                   param_distributions={&#x27;svc_model__C&#x27;: [0.1, 1, 10],\n",
       "                                        &#x27;svc_model__gamma&#x27;: [0.1, 1, 10],\n",
       "                                        &#x27;svc_model__kernel&#x27;: [&#x27;rbf&#x27;]},\n",
       "                   scoring=&#x27;recall&#x27;, verbose=3)</pre><b>In a Jupyter environment, please rerun this cell to show the HTML representation or trust the notebook. <br />On GitHub, the HTML representation is unable to render, please try loading this page with nbviewer.org.</b></div><div class=\"sk-container\" hidden><div class=\"sk-item sk-dashed-wrapped\"><div class=\"sk-label-container\"><div class=\"sk-label sk-toggleable\"><input class=\"sk-toggleable__control sk-hidden--visually\" id=\"sk-estimator-id-1\" type=\"checkbox\" ><label for=\"sk-estimator-id-1\" class=\"sk-toggleable__label sk-toggleable__label-arrow\">RandomizedSearchCV</label><div class=\"sk-toggleable__content\"><pre>RandomizedSearchCV(cv=3,\n",
       "                   estimator=Pipeline(steps=[(&#x27;full_pipeline&#x27;,\n",
       "                                              ColumnTransformer(transformers=[(&#x27;numeric&#x27;,\n",
       "                                                                               Pipeline(steps=[(&#x27;num_imputer&#x27;,\n",
       "                                                                                                SimpleImputer(strategy=&#x27;median&#x27;)),\n",
       "                                                                                               (&#x27;num_std_scaler&#x27;,\n",
       "                                                                                                StandardScaler())]),\n",
       "                                                                               [&#x27;LOG_LIFETIME_VALUE_PER_YEAR&#x27;,\n",
       "                                                                                &#x27;LOG_LIFETIME_VALUE&#x27;,\n",
       "                                                                                &#x27;LOG_LIFETIME_TRANSACTION_COUNT&#x27;]),\n",
       "                                                                              (&#x27;discrete&#x27;,\n",
       "                                                                               Pipeline(steps=[(&#x27;dis_imputer&#x27;,\n",
       "                                                                                                SimpleI...\n",
       "                                                                                &#x27;RETAILER_MARKETING_OPT_IN&#x27;]),\n",
       "                                                                              (&#x27;categoric&#x27;,\n",
       "                                                                               Pipeline(steps=[(&#x27;cat_imputer&#x27;,\n",
       "                                                                                                SimpleImputer(strategy=&#x27;most_frequent&#x27;)),\n",
       "                                                                                               (&#x27;cat_oh_encoder&#x27;,\n",
       "                                                                                                OneHotEncoder(drop=&#x27;first&#x27;))]),\n",
       "                                                                               [&#x27;CUSTOMER_SEGMENT&#x27;])])),\n",
       "                                             (&#x27;svc_model&#x27;, SVC())]),\n",
       "                   n_iter=6,\n",
       "                   param_distributions={&#x27;svc_model__C&#x27;: [0.1, 1, 10],\n",
       "                                        &#x27;svc_model__gamma&#x27;: [0.1, 1, 10],\n",
       "                                        &#x27;svc_model__kernel&#x27;: [&#x27;rbf&#x27;]},\n",
       "                   scoring=&#x27;recall&#x27;, verbose=3)</pre></div></div></div><div class=\"sk-parallel\"><div class=\"sk-parallel-item\"><div class=\"sk-item\"><div class=\"sk-label-container\"><div class=\"sk-label sk-toggleable\"><input class=\"sk-toggleable__control sk-hidden--visually\" id=\"sk-estimator-id-2\" type=\"checkbox\" ><label for=\"sk-estimator-id-2\" class=\"sk-toggleable__label sk-toggleable__label-arrow\">estimator: Pipeline</label><div class=\"sk-toggleable__content\"><pre>Pipeline(steps=[(&#x27;full_pipeline&#x27;,\n",
       "                 ColumnTransformer(transformers=[(&#x27;numeric&#x27;,\n",
       "                                                  Pipeline(steps=[(&#x27;num_imputer&#x27;,\n",
       "                                                                   SimpleImputer(strategy=&#x27;median&#x27;)),\n",
       "                                                                  (&#x27;num_std_scaler&#x27;,\n",
       "                                                                   StandardScaler())]),\n",
       "                                                  [&#x27;LOG_LIFETIME_VALUE_PER_YEAR&#x27;,\n",
       "                                                   &#x27;LOG_LIFETIME_VALUE&#x27;,\n",
       "                                                   &#x27;LOG_LIFETIME_TRANSACTION_COUNT&#x27;]),\n",
       "                                                 (&#x27;discrete&#x27;,\n",
       "                                                  Pipeline(steps=[(&#x27;dis_imputer&#x27;,\n",
       "                                                                   SimpleImputer(strategy=&#x27;most_frequent&#x27;)),\n",
       "                                                                  (&#x27;dis_std_scaler&#x27;,\n",
       "                                                                   StandardScaler())]),\n",
       "                                                  [&#x27;REG_YEAR&#x27;, &#x27;WORLDWIDE_IND&#x27;,\n",
       "                                                   &#x27;RETAILER_MARKETING_OPT_IN&#x27;]),\n",
       "                                                 (&#x27;categoric&#x27;,\n",
       "                                                  Pipeline(steps=[(&#x27;cat_imputer&#x27;,\n",
       "                                                                   SimpleImputer(strategy=&#x27;most_frequent&#x27;)),\n",
       "                                                                  (&#x27;cat_oh_encoder&#x27;,\n",
       "                                                                   OneHotEncoder(drop=&#x27;first&#x27;))]),\n",
       "                                                  [&#x27;CUSTOMER_SEGMENT&#x27;])])),\n",
       "                (&#x27;svc_model&#x27;, SVC())])</pre></div></div></div><div class=\"sk-serial\"><div class=\"sk-item\"><div class=\"sk-serial\"><div class=\"sk-item sk-dashed-wrapped\"><div class=\"sk-label-container\"><div class=\"sk-label sk-toggleable\"><input class=\"sk-toggleable__control sk-hidden--visually\" id=\"sk-estimator-id-3\" type=\"checkbox\" ><label for=\"sk-estimator-id-3\" class=\"sk-toggleable__label sk-toggleable__label-arrow\">full_pipeline: ColumnTransformer</label><div class=\"sk-toggleable__content\"><pre>ColumnTransformer(transformers=[(&#x27;numeric&#x27;,\n",
       "                                 Pipeline(steps=[(&#x27;num_imputer&#x27;,\n",
       "                                                  SimpleImputer(strategy=&#x27;median&#x27;)),\n",
       "                                                 (&#x27;num_std_scaler&#x27;,\n",
       "                                                  StandardScaler())]),\n",
       "                                 [&#x27;LOG_LIFETIME_VALUE_PER_YEAR&#x27;,\n",
       "                                  &#x27;LOG_LIFETIME_VALUE&#x27;,\n",
       "                                  &#x27;LOG_LIFETIME_TRANSACTION_COUNT&#x27;]),\n",
       "                                (&#x27;discrete&#x27;,\n",
       "                                 Pipeline(steps=[(&#x27;dis_imputer&#x27;,\n",
       "                                                  SimpleImputer(strategy=&#x27;most_frequent&#x27;)),\n",
       "                                                 (&#x27;dis_std_scaler&#x27;,\n",
       "                                                  StandardScaler())]),\n",
       "                                 [&#x27;REG_YEAR&#x27;, &#x27;WORLDWIDE_IND&#x27;,\n",
       "                                  &#x27;RETAILER_MARKETING_OPT_IN&#x27;]),\n",
       "                                (&#x27;categoric&#x27;,\n",
       "                                 Pipeline(steps=[(&#x27;cat_imputer&#x27;,\n",
       "                                                  SimpleImputer(strategy=&#x27;most_frequent&#x27;)),\n",
       "                                                 (&#x27;cat_oh_encoder&#x27;,\n",
       "                                                  OneHotEncoder(drop=&#x27;first&#x27;))]),\n",
       "                                 [&#x27;CUSTOMER_SEGMENT&#x27;])])</pre></div></div></div><div class=\"sk-parallel\"><div class=\"sk-parallel-item\"><div class=\"sk-item\"><div class=\"sk-label-container\"><div class=\"sk-label sk-toggleable\"><input class=\"sk-toggleable__control sk-hidden--visually\" id=\"sk-estimator-id-4\" type=\"checkbox\" ><label for=\"sk-estimator-id-4\" class=\"sk-toggleable__label sk-toggleable__label-arrow\">numeric</label><div class=\"sk-toggleable__content\"><pre>[&#x27;LOG_LIFETIME_VALUE_PER_YEAR&#x27;, &#x27;LOG_LIFETIME_VALUE&#x27;, &#x27;LOG_LIFETIME_TRANSACTION_COUNT&#x27;]</pre></div></div></div><div class=\"sk-serial\"><div class=\"sk-item\"><div class=\"sk-serial\"><div class=\"sk-item\"><div class=\"sk-estimator sk-toggleable\"><input class=\"sk-toggleable__control sk-hidden--visually\" id=\"sk-estimator-id-5\" type=\"checkbox\" ><label for=\"sk-estimator-id-5\" class=\"sk-toggleable__label sk-toggleable__label-arrow\">SimpleImputer</label><div class=\"sk-toggleable__content\"><pre>SimpleImputer(strategy=&#x27;median&#x27;)</pre></div></div></div><div class=\"sk-item\"><div class=\"sk-estimator sk-toggleable\"><input class=\"sk-toggleable__control sk-hidden--visually\" id=\"sk-estimator-id-6\" type=\"checkbox\" ><label for=\"sk-estimator-id-6\" class=\"sk-toggleable__label sk-toggleable__label-arrow\">StandardScaler</label><div class=\"sk-toggleable__content\"><pre>StandardScaler()</pre></div></div></div></div></div></div></div></div><div class=\"sk-parallel-item\"><div class=\"sk-item\"><div class=\"sk-label-container\"><div class=\"sk-label sk-toggleable\"><input class=\"sk-toggleable__control sk-hidden--visually\" id=\"sk-estimator-id-7\" type=\"checkbox\" ><label for=\"sk-estimator-id-7\" class=\"sk-toggleable__label sk-toggleable__label-arrow\">discrete</label><div class=\"sk-toggleable__content\"><pre>[&#x27;REG_YEAR&#x27;, &#x27;WORLDWIDE_IND&#x27;, &#x27;RETAILER_MARKETING_OPT_IN&#x27;]</pre></div></div></div><div class=\"sk-serial\"><div class=\"sk-item\"><div class=\"sk-serial\"><div class=\"sk-item\"><div class=\"sk-estimator sk-toggleable\"><input class=\"sk-toggleable__control sk-hidden--visually\" id=\"sk-estimator-id-8\" type=\"checkbox\" ><label for=\"sk-estimator-id-8\" class=\"sk-toggleable__label sk-toggleable__label-arrow\">SimpleImputer</label><div class=\"sk-toggleable__content\"><pre>SimpleImputer(strategy=&#x27;most_frequent&#x27;)</pre></div></div></div><div class=\"sk-item\"><div class=\"sk-estimator sk-toggleable\"><input class=\"sk-toggleable__control sk-hidden--visually\" id=\"sk-estimator-id-9\" type=\"checkbox\" ><label for=\"sk-estimator-id-9\" class=\"sk-toggleable__label sk-toggleable__label-arrow\">StandardScaler</label><div class=\"sk-toggleable__content\"><pre>StandardScaler()</pre></div></div></div></div></div></div></div></div><div class=\"sk-parallel-item\"><div class=\"sk-item\"><div class=\"sk-label-container\"><div class=\"sk-label sk-toggleable\"><input class=\"sk-toggleable__control sk-hidden--visually\" id=\"sk-estimator-id-10\" type=\"checkbox\" ><label for=\"sk-estimator-id-10\" class=\"sk-toggleable__label sk-toggleable__label-arrow\">categoric</label><div class=\"sk-toggleable__content\"><pre>[&#x27;CUSTOMER_SEGMENT&#x27;]</pre></div></div></div><div class=\"sk-serial\"><div class=\"sk-item\"><div class=\"sk-serial\"><div class=\"sk-item\"><div class=\"sk-estimator sk-toggleable\"><input class=\"sk-toggleable__control sk-hidden--visually\" id=\"sk-estimator-id-11\" type=\"checkbox\" ><label for=\"sk-estimator-id-11\" class=\"sk-toggleable__label sk-toggleable__label-arrow\">SimpleImputer</label><div class=\"sk-toggleable__content\"><pre>SimpleImputer(strategy=&#x27;most_frequent&#x27;)</pre></div></div></div><div class=\"sk-item\"><div class=\"sk-estimator sk-toggleable\"><input class=\"sk-toggleable__control sk-hidden--visually\" id=\"sk-estimator-id-12\" type=\"checkbox\" ><label for=\"sk-estimator-id-12\" class=\"sk-toggleable__label sk-toggleable__label-arrow\">OneHotEncoder</label><div class=\"sk-toggleable__content\"><pre>OneHotEncoder(drop=&#x27;first&#x27;)</pre></div></div></div></div></div></div></div></div></div></div><div class=\"sk-item\"><div class=\"sk-estimator sk-toggleable\"><input class=\"sk-toggleable__control sk-hidden--visually\" id=\"sk-estimator-id-13\" type=\"checkbox\" ><label for=\"sk-estimator-id-13\" class=\"sk-toggleable__label sk-toggleable__label-arrow\">SVC</label><div class=\"sk-toggleable__content\"><pre>SVC()</pre></div></div></div></div></div></div></div></div></div></div></div></div>"
      ],
      "text/plain": [
       "RandomizedSearchCV(cv=3,\n",
       "                   estimator=Pipeline(steps=[('full_pipeline',\n",
       "                                              ColumnTransformer(transformers=[('numeric',\n",
       "                                                                               Pipeline(steps=[('num_imputer',\n",
       "                                                                                                SimpleImputer(strategy='median')),\n",
       "                                                                                               ('num_std_scaler',\n",
       "                                                                                                StandardScaler())]),\n",
       "                                                                               ['LOG_LIFETIME_VALUE_PER_YEAR',\n",
       "                                                                                'LOG_LIFETIME_VALUE',\n",
       "                                                                                'LOG_LIFETIME_TRANSACTION_COUNT']),\n",
       "                                                                              ('discrete',\n",
       "                                                                               Pipeline(steps=[('dis_imputer',\n",
       "                                                                                                SimpleI...\n",
       "                                                                                'RETAILER_MARKETING_OPT_IN']),\n",
       "                                                                              ('categoric',\n",
       "                                                                               Pipeline(steps=[('cat_imputer',\n",
       "                                                                                                SimpleImputer(strategy='most_frequent')),\n",
       "                                                                                               ('cat_oh_encoder',\n",
       "                                                                                                OneHotEncoder(drop='first'))]),\n",
       "                                                                               ['CUSTOMER_SEGMENT'])])),\n",
       "                                             ('svc_model', SVC())]),\n",
       "                   n_iter=6,\n",
       "                   param_distributions={'svc_model__C': [0.1, 1, 10],\n",
       "                                        'svc_model__gamma': [0.1, 1, 10],\n",
       "                                        'svc_model__kernel': ['rbf']},\n",
       "                   scoring='recall', verbose=3)"
      ]
     },
     "execution_count": 13,
     "metadata": {},
     "output_type": "execute_result"
    }
   ],
   "source": [
    "svc_model_pipeline = Pipeline([\n",
    "    ('full_pipeline', full_pipeline),\n",
    "    ('svc_model', SVC())\n",
    "])\n",
    "\n",
    "svc_param_search = {'svc_model__C': [0.1, 1, 10], 'svc_model__gamma': [0.1, 1, 10], 'svc_model__kernel': ['rbf']}\n",
    "\n",
    "# scan all values of the parameters and pick the ones that optimise recall\n",
    "random_search_svc_model = RandomizedSearchCV(svc_model_pipeline, svc_param_search, n_iter=6, cv=3, verbose=3, scoring='recall')\n",
    "random_search_svc_model.fit(X_train, y_train)"
   ]
  },
  {
   "cell_type": "markdown",
   "metadata": {},
   "source": [
    "### Now try Decision Tree classifier"
   ]
  },
  {
   "cell_type": "code",
   "execution_count": 14,
   "metadata": {
    "scrolled": true
   },
   "outputs": [
    {
     "name": "stdout",
     "output_type": "stream",
     "text": [
      "Fitting 5 folds for each of 10 candidates, totalling 50 fits\n",
      "[CV 1/5] END tree_model__max_depth=2, tree_model__min_samples_split=2;, score=0.468 total time=   0.1s\n",
      "[CV 2/5] END tree_model__max_depth=2, tree_model__min_samples_split=2;, score=0.540 total time=   0.1s\n",
      "[CV 3/5] END tree_model__max_depth=2, tree_model__min_samples_split=2;, score=0.532 total time=   0.1s\n",
      "[CV 4/5] END tree_model__max_depth=2, tree_model__min_samples_split=2;, score=0.701 total time=   0.1s\n",
      "[CV 5/5] END tree_model__max_depth=2, tree_model__min_samples_split=2;, score=0.593 total time=   0.1s\n",
      "[CV 1/5] END tree_model__max_depth=7, tree_model__min_samples_split=6;, score=0.645 total time=   0.1s\n",
      "[CV 2/5] END tree_model__max_depth=7, tree_model__min_samples_split=6;, score=0.623 total time=   0.1s\n",
      "[CV 3/5] END tree_model__max_depth=7, tree_model__min_samples_split=6;, score=0.727 total time=   0.1s\n",
      "[CV 4/5] END tree_model__max_depth=7, tree_model__min_samples_split=6;, score=0.677 total time=   0.1s\n",
      "[CV 5/5] END tree_model__max_depth=7, tree_model__min_samples_split=6;, score=0.655 total time=   0.1s\n",
      "[CV 1/5] END tree_model__max_depth=7, tree_model__min_samples_split=2;, score=0.645 total time=   0.2s\n",
      "[CV 2/5] END tree_model__max_depth=7, tree_model__min_samples_split=2;, score=0.623 total time=   0.1s\n",
      "[CV 3/5] END tree_model__max_depth=7, tree_model__min_samples_split=2;, score=0.727 total time=   0.1s\n",
      "[CV 4/5] END tree_model__max_depth=7, tree_model__min_samples_split=2;, score=0.677 total time=   0.1s\n",
      "[CV 5/5] END tree_model__max_depth=7, tree_model__min_samples_split=2;, score=0.655 total time=   0.2s\n",
      "[CV 1/5] END tree_model__max_depth=9, tree_model__min_samples_split=10;, score=0.678 total time=   0.1s\n",
      "[CV 2/5] END tree_model__max_depth=9, tree_model__min_samples_split=10;, score=0.645 total time=   0.1s\n",
      "[CV 3/5] END tree_model__max_depth=9, tree_model__min_samples_split=10;, score=0.704 total time=   0.2s\n",
      "[CV 4/5] END tree_model__max_depth=9, tree_model__min_samples_split=10;, score=0.666 total time=   0.1s\n",
      "[CV 5/5] END tree_model__max_depth=9, tree_model__min_samples_split=10;, score=0.670 total time=   0.1s\n",
      "[CV 1/5] END tree_model__max_depth=5, tree_model__min_samples_split=10;, score=0.647 total time=   0.1s\n",
      "[CV 2/5] END tree_model__max_depth=5, tree_model__min_samples_split=10;, score=0.656 total time=   0.1s\n",
      "[CV 3/5] END tree_model__max_depth=5, tree_model__min_samples_split=10;, score=0.690 total time=   0.1s\n",
      "[CV 4/5] END tree_model__max_depth=5, tree_model__min_samples_split=10;, score=0.747 total time=   0.1s\n",
      "[CV 5/5] END tree_model__max_depth=5, tree_model__min_samples_split=10;, score=0.723 total time=   0.1s\n",
      "[CV 1/5] END tree_model__max_depth=1, tree_model__min_samples_split=4;, score=0.855 total time=   0.1s\n",
      "[CV 2/5] END tree_model__max_depth=1, tree_model__min_samples_split=4;, score=0.862 total time=   0.1s\n",
      "[CV 3/5] END tree_model__max_depth=1, tree_model__min_samples_split=4;, score=0.842 total time=   0.1s\n",
      "[CV 4/5] END tree_model__max_depth=1, tree_model__min_samples_split=4;, score=0.901 total time=   0.1s\n",
      "[CV 5/5] END tree_model__max_depth=1, tree_model__min_samples_split=4;, score=0.896 total time=   0.1s\n",
      "[CV 1/5] END tree_model__max_depth=2, tree_model__min_samples_split=4;, score=0.468 total time=   0.1s\n",
      "[CV 2/5] END tree_model__max_depth=2, tree_model__min_samples_split=4;, score=0.540 total time=   0.1s\n",
      "[CV 3/5] END tree_model__max_depth=2, tree_model__min_samples_split=4;, score=0.532 total time=   0.1s\n",
      "[CV 4/5] END tree_model__max_depth=2, tree_model__min_samples_split=4;, score=0.701 total time=   0.1s\n",
      "[CV 5/5] END tree_model__max_depth=2, tree_model__min_samples_split=4;, score=0.593 total time=   0.1s\n",
      "[CV 1/5] END tree_model__max_depth=7, tree_model__min_samples_split=4;, score=0.645 total time=   0.1s\n",
      "[CV 2/5] END tree_model__max_depth=7, tree_model__min_samples_split=4;, score=0.623 total time=   0.1s\n",
      "[CV 3/5] END tree_model__max_depth=7, tree_model__min_samples_split=4;, score=0.727 total time=   0.1s\n",
      "[CV 4/5] END tree_model__max_depth=7, tree_model__min_samples_split=4;, score=0.677 total time=   0.1s\n",
      "[CV 5/5] END tree_model__max_depth=7, tree_model__min_samples_split=4;, score=0.655 total time=   0.1s\n",
      "[CV 1/5] END tree_model__max_depth=5, tree_model__min_samples_split=4;, score=0.647 total time=   0.1s\n",
      "[CV 2/5] END tree_model__max_depth=5, tree_model__min_samples_split=4;, score=0.656 total time=   0.1s\n",
      "[CV 3/5] END tree_model__max_depth=5, tree_model__min_samples_split=4;, score=0.690 total time=   0.1s\n",
      "[CV 4/5] END tree_model__max_depth=5, tree_model__min_samples_split=4;, score=0.747 total time=   0.1s\n",
      "[CV 5/5] END tree_model__max_depth=5, tree_model__min_samples_split=4;, score=0.723 total time=   0.1s\n",
      "[CV 1/5] END tree_model__max_depth=5, tree_model__min_samples_split=6;, score=0.647 total time=   0.1s\n",
      "[CV 2/5] END tree_model__max_depth=5, tree_model__min_samples_split=6;, score=0.656 total time=   0.1s\n",
      "[CV 3/5] END tree_model__max_depth=5, tree_model__min_samples_split=6;, score=0.690 total time=   0.1s\n",
      "[CV 4/5] END tree_model__max_depth=5, tree_model__min_samples_split=6;, score=0.747 total time=   0.1s\n",
      "[CV 5/5] END tree_model__max_depth=5, tree_model__min_samples_split=6;, score=0.723 total time=   0.1s\n",
      "Best params = {'tree_model__min_samples_split': 4, 'tree_model__max_depth': 1}\n"
     ]
    }
   ],
   "source": [
    "tree_model_pipeline = Pipeline([\n",
    "    ('full_pipeline', full_pipeline),\n",
    "    ('tree_model', DecisionTreeClassifier())\n",
    "])\n",
    "\n",
    "tree_param_search = {'tree_model__max_depth': [1, 2, 3, 5, 7, 9], 'tree_model__min_samples_split': [2, 4, 6, 10, 16]}\n",
    "\n",
    "# scan all values of the parameters and pick the ones that optimise recall\n",
    "random_search_tree_model = RandomizedSearchCV(tree_model_pipeline, tree_param_search, n_iter=10,  cv=5, verbose=3, scoring='recall')\n",
    "random_search_tree_model.fit(X_train, y_train)\n",
    "\n",
    "print(\"Best params =\", random_search_tree_model.best_params_)\n"
   ]
  },
  {
   "cell_type": "markdown",
   "metadata": {},
   "source": [
    "Let's look at the best tree. We will fit a decision tree with the best parameters (from the above cross-validation) on the training data and draw the tree"
   ]
  },
  {
   "cell_type": "code",
   "execution_count": 15,
   "metadata": {},
   "outputs": [
    {
     "data": {
      "image/png": "[encoded data removed]",
      "text/plain": [
       "<Figure size 640x480 with 1 Axes>"
      ]
     },
     "metadata": {},
     "output_type": "display_data"
    }
   ],
   "source": [
    "tree_model_best_pipeline = Pipeline([\n",
    "    ('full_pipeline', full_pipeline),\n",
    "    ('tree_model_best', DecisionTreeClassifier(max_depth=1, min_samples_split=2))\n",
    "])\n",
    "\n",
    "tree_model_best_pipeline.fit(X_train, y_train)\n",
    "tree_model_best_pipeline.predict(X_train)\n",
    "\n",
    "from sklearn.tree import plot_tree\n",
    "plot_t = plot_tree(tree_model_best_pipeline[1], feature_names=tree_model_best_pipeline[:-1].get_feature_names_out(), filled=True)"
   ]
  },
  {
   "cell_type": "markdown",
   "metadata": {},
   "source": [
    "### Trees look promising. Let's try a Random Forest"
   ]
  },
  {
   "cell_type": "code",
   "execution_count": 16,
   "metadata": {
    "scrolled": true
   },
   "outputs": [
    {
     "name": "stdout",
     "output_type": "stream",
     "text": [
      "Fitting 5 folds for each of 10 candidates, totalling 50 fits\n",
      "[CV 1/5] END forest_model__max_depth=5, forest_model__min_samples_split=2, forest_model__n_estimators=50;, score=0.682 total time=   1.0s\n",
      "[CV 2/5] END forest_model__max_depth=5, forest_model__min_samples_split=2, forest_model__n_estimators=50;, score=0.702 total time=   1.0s\n",
      "[CV 3/5] END forest_model__max_depth=5, forest_model__min_samples_split=2, forest_model__n_estimators=50;, score=0.694 total time=   1.0s\n",
      "[CV 4/5] END forest_model__max_depth=5, forest_model__min_samples_split=2, forest_model__n_estimators=50;, score=0.697 total time=   0.9s\n",
      "[CV 5/5] END forest_model__max_depth=5, forest_model__min_samples_split=2, forest_model__n_estimators=50;, score=0.723 total time=   0.9s\n",
      "[CV 1/5] END forest_model__max_depth=9, forest_model__min_samples_split=8, forest_model__n_estimators=300;, score=0.687 total time=   8.0s\n",
      "[CV 2/5] END forest_model__max_depth=9, forest_model__min_samples_split=8, forest_model__n_estimators=300;, score=0.692 total time=   8.1s\n",
      "[CV 3/5] END forest_model__max_depth=9, forest_model__min_samples_split=8, forest_model__n_estimators=300;, score=0.679 total time=   8.0s\n",
      "[CV 4/5] END forest_model__max_depth=9, forest_model__min_samples_split=8, forest_model__n_estimators=300;, score=0.674 total time=   8.1s\n",
      "[CV 5/5] END forest_model__max_depth=9, forest_model__min_samples_split=8, forest_model__n_estimators=300;, score=0.708 total time=   8.3s\n",
      "[CV 1/5] END forest_model__max_depth=2, forest_model__min_samples_split=16, forest_model__n_estimators=300;, score=0.719 total time=   3.3s\n",
      "[CV 2/5] END forest_model__max_depth=2, forest_model__min_samples_split=16, forest_model__n_estimators=300;, score=0.736 total time=   3.3s\n",
      "[CV 3/5] END forest_model__max_depth=2, forest_model__min_samples_split=16, forest_model__n_estimators=300;, score=0.709 total time=   3.4s\n",
      "[CV 4/5] END forest_model__max_depth=2, forest_model__min_samples_split=16, forest_model__n_estimators=300;, score=0.730 total time=   3.4s\n",
      "[CV 5/5] END forest_model__max_depth=2, forest_model__min_samples_split=16, forest_model__n_estimators=300;, score=0.738 total time=   3.4s\n",
      "[CV 1/5] END forest_model__max_depth=3, forest_model__min_samples_split=8, forest_model__n_estimators=500;, score=0.697 total time=   7.0s\n",
      "[CV 2/5] END forest_model__max_depth=3, forest_model__min_samples_split=8, forest_model__n_estimators=500;, score=0.705 total time=   6.2s\n",
      "[CV 3/5] END forest_model__max_depth=3, forest_model__min_samples_split=8, forest_model__n_estimators=500;, score=0.691 total time=   5.9s\n",
      "[CV 4/5] END forest_model__max_depth=3, forest_model__min_samples_split=8, forest_model__n_estimators=500;, score=0.684 total time=   7.1s\n",
      "[CV 5/5] END forest_model__max_depth=3, forest_model__min_samples_split=8, forest_model__n_estimators=500;, score=0.717 total time=   6.4s\n",
      "[CV 1/5] END forest_model__max_depth=3, forest_model__min_samples_split=2, forest_model__n_estimators=50;, score=0.691 total time=   0.7s\n",
      "[CV 2/5] END forest_model__max_depth=3, forest_model__min_samples_split=2, forest_model__n_estimators=50;, score=0.704 total time=   0.7s\n",
      "[CV 3/5] END forest_model__max_depth=3, forest_model__min_samples_split=2, forest_model__n_estimators=50;, score=0.713 total time=   0.7s\n",
      "[CV 4/5] END forest_model__max_depth=3, forest_model__min_samples_split=2, forest_model__n_estimators=50;, score=0.701 total time=   0.7s\n",
      "[CV 5/5] END forest_model__max_depth=3, forest_model__min_samples_split=2, forest_model__n_estimators=50;, score=0.724 total time=   0.7s\n",
      "[CV 1/5] END forest_model__max_depth=3, forest_model__min_samples_split=8, forest_model__n_estimators=300;, score=0.688 total time=   3.9s\n",
      "[CV 2/5] END forest_model__max_depth=3, forest_model__min_samples_split=8, forest_model__n_estimators=300;, score=0.708 total time=   3.7s\n",
      "[CV 3/5] END forest_model__max_depth=3, forest_model__min_samples_split=8, forest_model__n_estimators=300;, score=0.706 total time=   3.9s\n",
      "[CV 4/5] END forest_model__max_depth=3, forest_model__min_samples_split=8, forest_model__n_estimators=300;, score=0.697 total time=   3.8s\n",
      "[CV 5/5] END forest_model__max_depth=3, forest_model__min_samples_split=8, forest_model__n_estimators=300;, score=0.716 total time=   3.8s\n",
      "[CV 1/5] END forest_model__max_depth=2, forest_model__min_samples_split=2, forest_model__n_estimators=500;, score=0.727 total time=   5.0s\n",
      "[CV 2/5] END forest_model__max_depth=2, forest_model__min_samples_split=2, forest_model__n_estimators=500;, score=0.736 total time=   5.1s\n",
      "[CV 3/5] END forest_model__max_depth=2, forest_model__min_samples_split=2, forest_model__n_estimators=500;, score=0.715 total time=   5.2s\n",
      "[CV 4/5] END forest_model__max_depth=2, forest_model__min_samples_split=2, forest_model__n_estimators=500;, score=0.731 total time=   5.1s\n",
      "[CV 5/5] END forest_model__max_depth=2, forest_model__min_samples_split=2, forest_model__n_estimators=500;, score=0.732 total time=   5.1s\n",
      "[CV 1/5] END forest_model__max_depth=2, forest_model__min_samples_split=16, forest_model__n_estimators=500;, score=0.718 total time=   5.2s\n",
      "[CV 2/5] END forest_model__max_depth=2, forest_model__min_samples_split=16, forest_model__n_estimators=500;, score=0.737 total time=   5.2s\n",
      "[CV 3/5] END forest_model__max_depth=2, forest_model__min_samples_split=16, forest_model__n_estimators=500;, score=0.713 total time=   5.3s\n",
      "[CV 4/5] END forest_model__max_depth=2, forest_model__min_samples_split=16, forest_model__n_estimators=500;, score=0.740 total time=   5.5s\n",
      "[CV 5/5] END forest_model__max_depth=2, forest_model__min_samples_split=16, forest_model__n_estimators=500;, score=0.738 total time=   5.6s\n",
      "[CV 1/5] END forest_model__max_depth=2, forest_model__min_samples_split=4, forest_model__n_estimators=300;, score=0.726 total time=   3.5s\n",
      "[CV 2/5] END forest_model__max_depth=2, forest_model__min_samples_split=4, forest_model__n_estimators=300;, score=0.734 total time=   3.5s\n",
      "[CV 3/5] END forest_model__max_depth=2, forest_model__min_samples_split=4, forest_model__n_estimators=300;, score=0.714 total time=   3.5s\n",
      "[CV 4/5] END forest_model__max_depth=2, forest_model__min_samples_split=4, forest_model__n_estimators=300;, score=0.728 total time=   2.7s\n",
      "[CV 5/5] END forest_model__max_depth=2, forest_model__min_samples_split=4, forest_model__n_estimators=300;, score=0.731 total time=   2.7s\n",
      "[CV 1/5] END forest_model__max_depth=9, forest_model__min_samples_split=2, forest_model__n_estimators=50;, score=0.690 total time=   1.2s\n",
      "[CV 2/5] END forest_model__max_depth=9, forest_model__min_samples_split=2, forest_model__n_estimators=50;, score=0.696 total time=   1.2s\n",
      "[CV 3/5] END forest_model__max_depth=9, forest_model__min_samples_split=2, forest_model__n_estimators=50;, score=0.677 total time=   1.2s\n",
      "[CV 4/5] END forest_model__max_depth=9, forest_model__min_samples_split=2, forest_model__n_estimators=50;, score=0.683 total time=   1.4s\n",
      "[CV 5/5] END forest_model__max_depth=9, forest_model__min_samples_split=2, forest_model__n_estimators=50;, score=0.690 total time=   1.4s\n",
      "Best params = {'forest_model__n_estimators': 500, 'forest_model__min_samples_split': 16, 'forest_model__max_depth': 2}\n"
     ]
    }
   ],
   "source": [
    "forest_model_pipeline = Pipeline([\n",
    "    ('full_pipeline', full_pipeline),\n",
    "    ('forest_model', RandomForestClassifier())\n",
    "])\n",
    "\n",
    "forest_param_search = {'forest_model__n_estimators': [50, 100, 300, 500], \n",
    "                     'forest_model__max_depth': [1, 2, 3, 5, 7, 9], \n",
    "                     'forest_model__min_samples_split': [2, 4, 8, 16]}\n",
    "\n",
    "# scan all values of the parameters and pick the ones that optimise recall\n",
    "random_search_forest_model = RandomizedSearchCV(forest_model_pipeline, forest_param_search, cv=5, verbose=3, scoring='recall')\n",
    "random_search_forest_model.fit(X_train, y_train)\n",
    "\n",
    "print(\"Best params =\", random_search_forest_model.best_params_)"
   ]
  },
  {
   "cell_type": "markdown",
   "metadata": {},
   "source": [
    "Plot feature importances"
   ]
  },
  {
   "cell_type": "code",
   "execution_count": 17,
   "metadata": {},
   "outputs": [
    {
     "data": {
      "text/plain": [
       "array([1.84165078e-01, 4.96975370e-01, 5.23680004e-02, 2.56395169e-02,\n",
       "       1.92782134e-02, 2.20299069e-01, 8.87149363e-04, 2.83721024e-04,\n",
       "       1.03881600e-04])"
      ]
     },
     "execution_count": 17,
     "metadata": {},
     "output_type": "execute_result"
    }
   ],
   "source": [
    "random_search_forest_model.best_estimator_._final_estimator.feature_importances_"
   ]
  },
  {
   "cell_type": "code",
   "execution_count": 18,
   "metadata": {},
   "outputs": [],
   "source": [
    "importances = pd.Series(data=random_search_forest_model.best_estimator_._final_estimator.feature_importances_,\n",
    "                            index=random_search_forest_model.best_estimator_[:-1].get_feature_names_out())"
   ]
  },
  {
   "cell_type": "code",
   "execution_count": 19,
   "metadata": {},
   "outputs": [],
   "source": [
    "importances = importances.sort_values(ascending=True)"
   ]
  },
  {
   "cell_type": "code",
   "execution_count": 20,
   "metadata": {},
   "outputs": [
    {
     "data": {
      "image/png": "[encoded data removed]",
      "text/plain": [
       "<Figure size 1000x500 with 1 Axes>"
      ]
     },
     "metadata": {},
     "output_type": "display_data"
    }
   ],
   "source": [
    "plt.figure(figsize=(10, 5))\n",
    "plt.barh(range(len(importances)), importances.values)\n",
    "plt.yticks(range(len(importances)), importances.index);\n",
    "plt.xlabel('Feature imporance')\n",
    "plt.show()"
   ]
  },
  {
   "cell_type": "markdown",
   "metadata": {},
   "source": [
    "### Precision-recall plots on training data\n",
    "Using the best model from the taining above, we will choose a probability threshold that maximises precision"
   ]
  },
  {
   "cell_type": "code",
   "execution_count": 31,
   "metadata": {},
   "outputs": [],
   "source": [
    "best_model = random_search_forest_model"
   ]
  },
  {
   "cell_type": "code",
   "execution_count": 32,
   "metadata": {},
   "outputs": [],
   "source": [
    "y_train_preds = best_model.best_estimator_.predict(X_train)\n",
    "y_train_probas = best_model.best_estimator_.predict_proba(X_train)"
   ]
  },
  {
   "cell_type": "code",
   "execution_count": 38,
   "metadata": {},
   "outputs": [
    {
     "data": {
      "image/png": "[encoded data removed]",
      "text/plain": [
       "<Figure size 1400x700 with 2 Axes>"
      ]
     },
     "metadata": {},
     "output_type": "display_data"
    }
   ],
   "source": [
    "get_precision_recall_curves(y_train, y_train_probas)"
   ]
  },
  {
   "cell_type": "markdown",
   "metadata": {},
   "source": [
    "A probability of about 0.5 seems like a good trade-off"
   ]
  },
  {
   "cell_type": "markdown",
   "metadata": {},
   "source": [
    "### Try out best params on test set and evaulate it"
   ]
  },
  {
   "cell_type": "code",
   "execution_count": 62,
   "metadata": {},
   "outputs": [],
   "source": [
    "proba_threshold = 0.5"
   ]
  },
  {
   "cell_type": "code",
   "execution_count": 63,
   "metadata": {},
   "outputs": [],
   "source": [
    "y_test_probas = best_model.best_estimator_.predict_proba(X_test)\n",
    "y_test_preds = (best_model.best_estimator_.predict_proba(X_test)[:,1] >= proba_threshold).astype(bool)"
   ]
  },
  {
   "cell_type": "code",
   "execution_count": 64,
   "metadata": {},
   "outputs": [
    {
     "name": "stdout",
     "output_type": "stream",
     "text": [
      "              precision    recall  f1-score   support\n",
      "\n",
      "         0.0       0.60      0.43      0.50      5000\n",
      "         1.0       0.56      0.72      0.63      5000\n",
      "\n",
      "    accuracy                           0.57     10000\n",
      "   macro avg       0.58      0.57      0.56     10000\n",
      "weighted avg       0.58      0.57      0.56     10000\n",
      "\n"
     ]
    }
   ],
   "source": [
    "print(classification_report(y_test, y_test_preds))"
   ]
  },
  {
   "cell_type": "code",
   "execution_count": 65,
   "metadata": {},
   "outputs": [
    {
     "data": {
      "text/plain": [
       "<Axes: >"
      ]
     },
     "execution_count": 65,
     "metadata": {},
     "output_type": "execute_result"
    },
    {
     "data": {
      "image/png": "[encoded data removed]",
      "text/plain": [
       "<Figure size 640x480 with 2 Axes>"
      ]
     },
     "metadata": {},
     "output_type": "display_data"
    }
   ],
   "source": [
    "sns.heatmap(confusion_matrix(y_test, y_test_preds)/len(y_test), annot=True, cmap='coolwarm', fmt=\".1%\")"
   ]
  },
  {
   "cell_type": "code",
   "execution_count": 66,
   "metadata": {
    "scrolled": true
   },
   "outputs": [
    {
     "data": {
      "image/png": "[encoded data removed]",
      "text/plain": [
       "<Figure size 1400x700 with 2 Axes>"
      ]
     },
     "metadata": {},
     "output_type": "display_data"
    }
   ],
   "source": [
    "get_precision_recall_curves(y_test, y_test_probas)"
   ]
  },
  {
   "cell_type": "markdown",
   "metadata": {},
   "source": [
    "With this probability threshold, we reach a reasonable recall of 72% although do get many false positives"
   ]
  },
  {
   "cell_type": "code",
   "execution_count": null,
   "metadata": {},
   "outputs": [],
   "source": []
  }
 ],
 "metadata": {
  "kernelspec": {
   "display_name": "Python 3 (ipykernel)",
   "language": "python",
   "name": "python3"
  },
  "language_info": {
   "codemirror_mode": {
    "name": "ipython",
    "version": 3
   },
   "file_extension": ".py",
   "mimetype": "text/x-python",
   "name": "python",
   "nbconvert_exporter": "python",
   "pygments_lexer": "ipython3",
   "version": "3.11.0"
  }
 },
 "nbformat": 4,
 "nbformat_minor": 4
}
