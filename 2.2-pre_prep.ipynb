{
 "cells": [
  {
   "cell_type": "markdown",
   "metadata": {},
   "source": [
    "# 2.2 Pre-Prep\n",
    "Do some basic feature engineering based on the column values in that row and not any adjacent rows.\n",
    "Then split into train and test set. After this script, we will start exploring the variables, feature engineering (based on values in other rows) and modelling so we don't want any biases or data leakage from the test set making its way into the training set."
   ]
  },
  {
   "cell_type": "code",
   "execution_count": 1,
   "metadata": {},
   "outputs": [],
   "source": [
    "from datetime import date\n",
    "import os\n",
    "import math\n",
    "import numpy as np\n",
    "import pandas as pd\n",
    "pd.set_option('display.max_columns', 100)"
   ]
  },
  {
   "cell_type": "code",
   "execution_count": 2,
   "metadata": {},
   "outputs": [],
   "source": [
    "DATA_FOLDER = os.path.join('data', 'processed')\n",
    "SAVE_FOLDER = os.path.join('data', 'processed_2')"
   ]
  },
  {
   "cell_type": "markdown",
   "metadata": {},
   "source": [
    "Read in our dataset"
   ]
  },
  {
   "cell_type": "code",
   "execution_count": 3,
   "metadata": {},
   "outputs": [],
   "source": [
    "zoopla_df = pd.read_csv(os.path.join(DATA_FOLDER, \n",
    "    'zoopla_properties_with_postcode_epc_dep_flood.csv'), dtype=str)"
   ]
  },
  {
   "cell_type": "markdown",
   "metadata": {},
   "source": [
    "### Get a diff in months between last_published_date and first_published date\n",
    "The longer the diff, I expect the lower the price as the original estimation was likely too high."
   ]
  },
  {
   "cell_type": "code",
   "execution_count": 4,
   "metadata": {},
   "outputs": [
    {
     "data": {
      "text/html": [
       "<div>\n",
       "<style scoped>\n",
       "    .dataframe tbody tr th:only-of-type {\n",
       "        vertical-align: middle;\n",
       "    }\n",
       "\n",
       "    .dataframe tbody tr th {\n",
       "        vertical-align: top;\n",
       "    }\n",
       "\n",
       "    .dataframe thead th {\n",
       "        text-align: right;\n",
       "    }\n",
       "</style>\n",
       "<table border=\"1\" class=\"dataframe\">\n",
       "  <thead>\n",
       "    <tr style=\"text-align: right;\">\n",
       "      <th></th>\n",
       "      <th>last_published_date</th>\n",
       "      <th>first_published_date</th>\n",
       "      <th>diff_published_date</th>\n",
       "    </tr>\n",
       "  </thead>\n",
       "  <tbody>\n",
       "    <tr>\n",
       "      <th>875</th>\n",
       "      <td>2023-01-10 16:58:02</td>\n",
       "      <td>2022-02-02 15:21:03</td>\n",
       "      <td>11</td>\n",
       "    </tr>\n",
       "    <tr>\n",
       "      <th>876</th>\n",
       "      <td>2022-10-31 10:14:33</td>\n",
       "      <td>2022-01-10 17:35:52</td>\n",
       "      <td>9</td>\n",
       "    </tr>\n",
       "    <tr>\n",
       "      <th>877</th>\n",
       "      <td>2023-01-19 16:54:36</td>\n",
       "      <td>2022-01-07 09:08:00</td>\n",
       "      <td>12</td>\n",
       "    </tr>\n",
       "    <tr>\n",
       "      <th>878</th>\n",
       "      <td>2023-01-05 02:33:10</td>\n",
       "      <td>2021-12-26 06:08:04</td>\n",
       "      <td>12</td>\n",
       "    </tr>\n",
       "    <tr>\n",
       "      <th>879</th>\n",
       "      <td>2023-01-05 02:33:10</td>\n",
       "      <td>2021-12-26 06:07:38</td>\n",
       "      <td>12</td>\n",
       "    </tr>\n",
       "    <tr>\n",
       "      <th>880</th>\n",
       "      <td>2022-11-05 09:36:39</td>\n",
       "      <td>2021-11-10 08:27:04</td>\n",
       "      <td>11</td>\n",
       "    </tr>\n",
       "    <tr>\n",
       "      <th>881</th>\n",
       "      <td>2022-10-17 15:04:20</td>\n",
       "      <td>2021-10-27 16:10:50</td>\n",
       "      <td>11</td>\n",
       "    </tr>\n",
       "    <tr>\n",
       "      <th>882</th>\n",
       "      <td>2023-01-27 16:21:47</td>\n",
       "      <td>2021-07-09 11:01:13</td>\n",
       "      <td>18</td>\n",
       "    </tr>\n",
       "    <tr>\n",
       "      <th>883</th>\n",
       "      <td>2022-09-23 09:10:05</td>\n",
       "      <td>2021-06-30 13:06:57</td>\n",
       "      <td>14</td>\n",
       "    </tr>\n",
       "    <tr>\n",
       "      <th>884</th>\n",
       "      <td>2022-12-26 10:49:34</td>\n",
       "      <td>2020-08-27 13:09:17</td>\n",
       "      <td>27</td>\n",
       "    </tr>\n",
       "  </tbody>\n",
       "</table>\n",
       "</div>"
      ],
      "text/plain": [
       "    last_published_date first_published_date  diff_published_date\n",
       "875 2023-01-10 16:58:02  2022-02-02 15:21:03                   11\n",
       "876 2022-10-31 10:14:33  2022-01-10 17:35:52                    9\n",
       "877 2023-01-19 16:54:36  2022-01-07 09:08:00                   12\n",
       "878 2023-01-05 02:33:10  2021-12-26 06:08:04                   12\n",
       "879 2023-01-05 02:33:10  2021-12-26 06:07:38                   12\n",
       "880 2022-11-05 09:36:39  2021-11-10 08:27:04                   11\n",
       "881 2022-10-17 15:04:20  2021-10-27 16:10:50                   11\n",
       "882 2023-01-27 16:21:47  2021-07-09 11:01:13                   18\n",
       "883 2022-09-23 09:10:05  2021-06-30 13:06:57                   14\n",
       "884 2022-12-26 10:49:34  2020-08-27 13:09:17                   27"
      ]
     },
     "execution_count": 4,
     "metadata": {},
     "output_type": "execute_result"
    }
   ],
   "source": [
    "# first convert columns from strings into datetimes\n",
    "zoopla_df['last_published_date'] = pd.to_datetime(zoopla_df['last_published_date'], format='%Y-%m-%d %H:%M:%S')\n",
    "zoopla_df['first_published_date'] = pd.to_datetime(zoopla_df['first_published_date'], format='%Y-%m-%d %H:%M:%S')\n",
    "\n",
    "# calculate months diff\n",
    "zoopla_df['diff_published_date'] = zoopla_df[['last_published_date', 'first_published_date']].apply(\n",
    "    lambda x: math.floor((x[0] - x[1])/np.timedelta64(1, 'M')), axis=1)\n",
    "\n",
    "zoopla_df[['last_published_date', 'first_published_date', 'diff_published_date']].tail(10)"
   ]
  },
  {
   "cell_type": "markdown",
   "metadata": {},
   "source": [
    "### Split up last_published_date and first_published_date into year and month components\n",
    "This will reflect change in house prices with year and seasonal variation."
   ]
  },
  {
   "cell_type": "code",
   "execution_count": 5,
   "metadata": {},
   "outputs": [
    {
     "data": {
      "text/html": [
       "<div>\n",
       "<style scoped>\n",
       "    .dataframe tbody tr th:only-of-type {\n",
       "        vertical-align: middle;\n",
       "    }\n",
       "\n",
       "    .dataframe tbody tr th {\n",
       "        vertical-align: top;\n",
       "    }\n",
       "\n",
       "    .dataframe thead th {\n",
       "        text-align: right;\n",
       "    }\n",
       "</style>\n",
       "<table border=\"1\" class=\"dataframe\">\n",
       "  <thead>\n",
       "    <tr style=\"text-align: right;\">\n",
       "      <th></th>\n",
       "      <th>last_published_date</th>\n",
       "      <th>last_published_year</th>\n",
       "      <th>last_published_month</th>\n",
       "    </tr>\n",
       "  </thead>\n",
       "  <tbody>\n",
       "    <tr>\n",
       "      <th>880</th>\n",
       "      <td>2022-11-05 09:36:39</td>\n",
       "      <td>2022</td>\n",
       "      <td>11</td>\n",
       "    </tr>\n",
       "    <tr>\n",
       "      <th>881</th>\n",
       "      <td>2022-10-17 15:04:20</td>\n",
       "      <td>2022</td>\n",
       "      <td>10</td>\n",
       "    </tr>\n",
       "    <tr>\n",
       "      <th>882</th>\n",
       "      <td>2023-01-27 16:21:47</td>\n",
       "      <td>2023</td>\n",
       "      <td>1</td>\n",
       "    </tr>\n",
       "    <tr>\n",
       "      <th>883</th>\n",
       "      <td>2022-09-23 09:10:05</td>\n",
       "      <td>2022</td>\n",
       "      <td>9</td>\n",
       "    </tr>\n",
       "    <tr>\n",
       "      <th>884</th>\n",
       "      <td>2022-12-26 10:49:34</td>\n",
       "      <td>2022</td>\n",
       "      <td>12</td>\n",
       "    </tr>\n",
       "  </tbody>\n",
       "</table>\n",
       "</div>"
      ],
      "text/plain": [
       "    last_published_date  last_published_year  last_published_month\n",
       "880 2022-11-05 09:36:39                 2022                    11\n",
       "881 2022-10-17 15:04:20                 2022                    10\n",
       "882 2023-01-27 16:21:47                 2023                     1\n",
       "883 2022-09-23 09:10:05                 2022                     9\n",
       "884 2022-12-26 10:49:34                 2022                    12"
      ]
     },
     "metadata": {},
     "output_type": "display_data"
    },
    {
     "data": {
      "text/html": [
       "<div>\n",
       "<style scoped>\n",
       "    .dataframe tbody tr th:only-of-type {\n",
       "        vertical-align: middle;\n",
       "    }\n",
       "\n",
       "    .dataframe tbody tr th {\n",
       "        vertical-align: top;\n",
       "    }\n",
       "\n",
       "    .dataframe thead th {\n",
       "        text-align: right;\n",
       "    }\n",
       "</style>\n",
       "<table border=\"1\" class=\"dataframe\">\n",
       "  <thead>\n",
       "    <tr style=\"text-align: right;\">\n",
       "      <th></th>\n",
       "      <th>first_published_date</th>\n",
       "      <th>first_published_year</th>\n",
       "      <th>first_published_month</th>\n",
       "    </tr>\n",
       "  </thead>\n",
       "  <tbody>\n",
       "    <tr>\n",
       "      <th>880</th>\n",
       "      <td>2021-11-10 08:27:04</td>\n",
       "      <td>2021</td>\n",
       "      <td>11</td>\n",
       "    </tr>\n",
       "    <tr>\n",
       "      <th>881</th>\n",
       "      <td>2021-10-27 16:10:50</td>\n",
       "      <td>2021</td>\n",
       "      <td>10</td>\n",
       "    </tr>\n",
       "    <tr>\n",
       "      <th>882</th>\n",
       "      <td>2021-07-09 11:01:13</td>\n",
       "      <td>2021</td>\n",
       "      <td>7</td>\n",
       "    </tr>\n",
       "    <tr>\n",
       "      <th>883</th>\n",
       "      <td>2021-06-30 13:06:57</td>\n",
       "      <td>2021</td>\n",
       "      <td>6</td>\n",
       "    </tr>\n",
       "    <tr>\n",
       "      <th>884</th>\n",
       "      <td>2020-08-27 13:09:17</td>\n",
       "      <td>2020</td>\n",
       "      <td>8</td>\n",
       "    </tr>\n",
       "  </tbody>\n",
       "</table>\n",
       "</div>"
      ],
      "text/plain": [
       "    first_published_date  first_published_year  first_published_month\n",
       "880  2021-11-10 08:27:04                  2021                     11\n",
       "881  2021-10-27 16:10:50                  2021                     10\n",
       "882  2021-07-09 11:01:13                  2021                      7\n",
       "883  2021-06-30 13:06:57                  2021                      6\n",
       "884  2020-08-27 13:09:17                  2020                      8"
      ]
     },
     "metadata": {},
     "output_type": "display_data"
    }
   ],
   "source": [
    "zoopla_df['last_published_year'] = zoopla_df['last_published_date'].dt.year\n",
    "zoopla_df['last_published_month'] = zoopla_df['last_published_date'].dt.month\n",
    "display(zoopla_df[['last_published_date', 'last_published_year', 'last_published_month']].tail())\n",
    "\n",
    "zoopla_df['first_published_year'] = zoopla_df['first_published_date'].dt.year\n",
    "zoopla_df['first_published_month'] = zoopla_df['first_published_date'].dt.month\n",
    "display(zoopla_df[['first_published_date', 'first_published_year', 'first_published_month']].tail())\n",
    "\n",
    "# drop the original date variables\n",
    "zoopla_df.drop(['last_published_date', 'first_published_date'], axis=1, inplace=True)"
   ]
  },
  {
   "cell_type": "markdown",
   "metadata": {},
   "source": [
    "### Aggregate postcodes\n",
    "The number of distinct postcodes is too high compared with the total number of rows so will have limited predictive power. Instead keep the first part of the postcode before the space and the first number after the space."
   ]
  },
  {
   "cell_type": "code",
   "execution_count": 6,
   "metadata": {},
   "outputs": [
    {
     "data": {
      "text/plain": [
       "CV10    310\n",
       "LE10    295\n",
       "CV11    249\n",
       "CV13     18\n",
       "CV12     10\n",
       "CV9       2\n",
       "LE9       1\n",
       "Name: postcode_tmp, dtype: int64"
      ]
     },
     "metadata": {},
     "output_type": "display_data"
    },
    {
     "data": {
      "text/plain": [
       "LE10 0    172\n",
       "CV11 6    124\n",
       "LE10 1    103\n",
       "CV10 9     95\n",
       "CV10 0     85\n",
       "CV10 7     68\n",
       "CV11 4     66\n",
       "CV10 8     62\n",
       "CV11 5     41\n",
       "CV11 7     18\n",
       "CV13 6     15\n",
       "LE10 2     12\n",
       "CV12 9      9\n",
       "LE10 3      8\n",
       "CV13 0      3\n",
       "CV9 3       2\n",
       "LE9 7       1\n",
       "CV12 8      1\n",
       "Name: postcode_tmp, dtype: int64"
      ]
     },
     "metadata": {},
     "output_type": "display_data"
    }
   ],
   "source": [
    "# try all characters before space\n",
    "zoopla_df['postcode_tmp'] = zoopla_df['postcode'].str.extract(r'(^[A-Z]+[0-9]+)')\n",
    "display(zoopla_df['postcode_tmp'].value_counts())\n",
    "\n",
    "# try all characters before space and first character after space\n",
    "zoopla_df['postcode_tmp'] = zoopla_df['postcode'].str.extract(r'(^[A-Z]+[0-9]+\\s\\d)')\n",
    "display(zoopla_df['postcode_tmp'].value_counts())"
   ]
  },
  {
   "cell_type": "markdown",
   "metadata": {},
   "source": [
    "Try the second approach - we have a good mix of unique values and reasonable value counts for most"
   ]
  },
  {
   "cell_type": "code",
   "execution_count": 7,
   "metadata": {},
   "outputs": [],
   "source": [
    "zoopla_df['postcode'] = zoopla_df['postcode'].str.extract(r'(^[A-Z]+[0-9]+\\s\\d)')\n",
    "zoopla_df.drop('postcode_tmp', axis=1, inplace=True)"
   ]
  },
  {
   "cell_type": "markdown",
   "metadata": {},
   "source": [
    "Remove towns that are not Nuneaton or Hinckley"
   ]
  },
  {
   "cell_type": "code",
   "execution_count": 8,
   "metadata": {},
   "outputs": [
    {
     "data": {
      "text/plain": [
       "Nuneaton      580\n",
       "Hinckley      292\n",
       "Bedworth        7\n",
       "Atherstone      5\n",
       "Derby           1\n",
       "Name: post_town, dtype: int64"
      ]
     },
     "metadata": {},
     "output_type": "display_data"
    }
   ],
   "source": [
    "display(zoopla_df['post_town'].value_counts(dropna=False))"
   ]
  },
  {
   "cell_type": "code",
   "execution_count": 9,
   "metadata": {},
   "outputs": [],
   "source": [
    "zoopla_df = zoopla_df[zoopla_df['post_town'].isin(['Nuneaton', 'Hinckley'])]"
   ]
  },
  {
   "cell_type": "markdown",
   "metadata": {},
   "source": [
    "Aggregate parishes"
   ]
  },
  {
   "cell_type": "code",
   "execution_count": 10,
   "metadata": {},
   "outputs": [
    {
     "data": {
      "text/plain": [
       "Nuneaton and Bedworth, unparished area    558\n",
       "Hinckley and Bosworth, unparished area    280\n",
       "Burbage                                    14\n",
       "Stoke Golding                               9\n",
       "Higham on the Hill                          4\n",
       "Witherley                                   2\n",
       "Nailstone                                   1\n",
       "Earl Shilton                                1\n",
       "Market Bosworth                             1\n",
       "Barlestone                                  1\n",
       "Sheepy                                      1\n",
       "Name: parish, dtype: int64"
      ]
     },
     "metadata": {},
     "output_type": "display_data"
    }
   ],
   "source": [
    "display(zoopla_df['parish'].value_counts(dropna=False))"
   ]
  },
  {
   "cell_type": "code",
   "execution_count": 11,
   "metadata": {},
   "outputs": [],
   "source": [
    "def agg_parish(parish):\n",
    "    \n",
    "    if parish in ['Nuneaton and Bedworth, unparished area', 'Hinckley and Bosworth, unparished area', \n",
    "                  'Burbage', 'Stoke Golding']:\n",
    "        return parish\n",
    "    else:\n",
    "        return 'Other'\n",
    "                  \n",
    "zoopla_df['parish'] = zoopla_df['parish'].apply(agg_parish)"
   ]
  },
  {
   "cell_type": "markdown",
   "metadata": {},
   "source": [
    "### Split into train and test set and save"
   ]
  },
  {
   "cell_type": "code",
   "execution_count": 12,
   "metadata": {},
   "outputs": [
    {
     "name": "stdout",
     "output_type": "stream",
     "text": [
      "Length full dataset = 872\n",
      "Length train dataset = 610\n",
      "Length test dataset = 262\n"
     ]
    }
   ],
   "source": [
    "# shuffle and then split into 70:30 ratio\n",
    "zoopla_df = zoopla_df.sample(frac=1.0, replace=False, random_state=42)\n",
    "\n",
    "split_index = int(0.7*len(zoopla_df))\n",
    "\n",
    "zoopla_df_train = zoopla_df.iloc[:split_index]\n",
    "zoopla_df_test = zoopla_df.iloc[split_index:]\n",
    "\n",
    "print(f'Length full dataset = {len(zoopla_df)}')\n",
    "print(f'Length train dataset = {len(zoopla_df_train)}')\n",
    "print(f'Length test dataset = {len(zoopla_df_test)}')"
   ]
  },
  {
   "cell_type": "code",
   "execution_count": 13,
   "metadata": {},
   "outputs": [],
   "source": [
    "try:\n",
    "    os.mkdir(SAVE_FOLDER)\n",
    "except OSError:\n",
    "    pass\n",
    "\n",
    "save_file_train = os.path.join(SAVE_FOLDER, f'zoopla_train.csv')\n",
    "save_file_test = os.path.join(SAVE_FOLDER, f'zoopla_test.csv')\n",
    "\n",
    "zoopla_df_train.to_csv(save_file_train, index=False)\n",
    "zoopla_df_test.to_csv(save_file_test, index=False)"
   ]
  },
  {
   "cell_type": "code",
   "execution_count": null,
   "metadata": {},
   "outputs": [],
   "source": []
  }
 ],
 "metadata": {
  "kernelspec": {
   "display_name": "Python 3 (ipykernel)",
   "language": "python",
   "name": "python3"
  },
  "language_info": {
   "codemirror_mode": {
    "name": "ipython",
    "version": 3
   },
   "file_extension": ".py",
   "mimetype": "text/x-python",
   "name": "python",
   "nbconvert_exporter": "python",
   "pygments_lexer": "ipython3",
   "version": "3.11.0"
  }
 },
 "nbformat": 4,
 "nbformat_minor": 4
}
