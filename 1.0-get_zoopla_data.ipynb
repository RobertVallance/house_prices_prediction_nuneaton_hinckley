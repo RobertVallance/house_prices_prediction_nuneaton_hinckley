{
 "cells": [
  {
   "cell_type": "markdown",
   "metadata": {},
   "source": [
    "# 1.0 Get Zoopla Data\n",
    "Use the Zoopla API to pull current house listings"
   ]
  },
  {
   "cell_type": "code",
   "execution_count": 1,
   "metadata": {},
   "outputs": [
    {
     "name": "stderr",
     "output_type": "stream",
     "text": [
      "/home/robertv/anaconda3/envs/datascience2/lib/python3.11/site-packages/marshmallow/schema.py:200: ChangedInMarshmallow3Warning: The dateformat option is renamed to datetimeformat in marshmallow 3.\n",
      "  warnings.warn(\n"
     ]
    }
   ],
   "source": [
    "from datetime import date\n",
    "import os\n",
    "import math\n",
    "import pandas as pd\n",
    "pd.set_option('display.max_columns', 100)\n",
    "from zoopla import Zoopla"
   ]
  },
  {
   "cell_type": "code",
   "execution_count": 2,
   "metadata": {},
   "outputs": [],
   "source": [
    "# Call an instance of Zoopla with the secret API key\n",
    "zoopla_instance = Zoopla(api_key=os.environ['ZOOPLA_API_KEY'])"
   ]
  },
  {
   "cell_type": "markdown",
   "metadata": {},
   "source": [
    "### Download property data for Nuneaton or Hinckley, including recently sold properties"
   ]
  },
  {
   "cell_type": "markdown",
   "metadata": {},
   "source": [
    "First get total number of properties - we can only access a maximum of 100 results per call, so will need to call the API multiple times"
   ]
  },
  {
   "cell_type": "code",
   "execution_count": 3,
   "metadata": {},
   "outputs": [],
   "source": [
    "AREA = 'Nuneaton'\n",
    "SAVE_FOLDER = os.path.join('data', 'raw')\n",
    "PAGE_SIZE = 100"
   ]
  },
  {
   "cell_type": "code",
   "execution_count": 4,
   "metadata": {},
   "outputs": [
    {
     "name": "stdout",
     "output_type": "stream",
     "text": [
      "Number of Nuneaton properties = 728\n"
     ]
    }
   ],
   "source": [
    "properties = zoopla_instance.property_listings({\n",
    "    'area': AREA,\n",
    "    'order_by': 'age',\n",
    "    'listing_status': 'sale',\n",
    "    'include_sold': '1',\n",
    "    'summarised': 'yes',\n",
    "    'page_size': PAGE_SIZE\n",
    "})\n",
    "\n",
    "number_properties = properties['result_count']\n",
    "\n",
    "print(f'Number of {AREA} properties = {number_properties}')"
   ]
  },
  {
   "cell_type": "markdown",
   "metadata": {},
   "source": [
    "Now get all properties for the area and concatenate into a dataframe"
   ]
  },
  {
   "cell_type": "code",
   "execution_count": 5,
   "metadata": {},
   "outputs": [],
   "source": [
    "number_pages = math.ceil(number_properties/PAGE_SIZE)\n",
    "\n",
    "for i in range(number_pages):\n",
    "    properties = zoopla_instance.property_listings({\n",
    "        'area': AREA,\n",
    "        'order_by': 'age',\n",
    "        'listing_status': 'sale',\n",
    "        'include_sold': '1',\n",
    "        'summarised': 'yes',\n",
    "        'page_size': PAGE_SIZE,\n",
    "        'page_number': i+1\n",
    "    })\n",
    "    \n",
    "    zoopla_df_tmp = pd.DataFrame.from_records(properties.listing)\n",
    "    \n",
    "    # loop over pages and concatenate into a pandas dataframe\n",
    "    if i == 0:\n",
    "        zoopla_df = zoopla_df_tmp\n",
    "    else:\n",
    "        zoopla_df = pd.concat([zoopla_df, zoopla_df_tmp], axis=0)"
   ]
  },
  {
   "cell_type": "markdown",
   "metadata": {},
   "source": [
    "### Quick check of the data"
   ]
  },
  {
   "cell_type": "code",
   "execution_count": 6,
   "metadata": {
    "scrolled": true
   },
   "outputs": [
    {
     "data": {
      "text/html": [
       "<div>\n",
       "<style scoped>\n",
       "    .dataframe tbody tr th:only-of-type {\n",
       "        vertical-align: middle;\n",
       "    }\n",
       "\n",
       "    .dataframe tbody tr th {\n",
       "        vertical-align: top;\n",
       "    }\n",
       "\n",
       "    .dataframe thead th {\n",
       "        text-align: right;\n",
       "    }\n",
       "</style>\n",
       "<table border=\"1\" class=\"dataframe\">\n",
       "  <thead>\n",
       "    <tr style=\"text-align: right;\">\n",
       "      <th></th>\n",
       "      <th>category</th>\n",
       "      <th>agent_logo</th>\n",
       "      <th>country_code</th>\n",
       "      <th>property_type</th>\n",
       "      <th>num_bedrooms</th>\n",
       "      <th>num_bathrooms</th>\n",
       "      <th>agent_phone</th>\n",
       "      <th>county</th>\n",
       "      <th>street_name</th>\n",
       "      <th>post_town</th>\n",
       "      <th>listing_status</th>\n",
       "      <th>outcode</th>\n",
       "      <th>agent_address</th>\n",
       "      <th>details_url</th>\n",
       "      <th>num_recepts</th>\n",
       "      <th>listing_id</th>\n",
       "      <th>displayable_address</th>\n",
       "      <th>image_url</th>\n",
       "      <th>first_published_date</th>\n",
       "      <th>price_modifier</th>\n",
       "      <th>agent_name</th>\n",
       "      <th>longitude</th>\n",
       "      <th>price</th>\n",
       "      <th>description</th>\n",
       "      <th>floor_plan</th>\n",
       "      <th>country</th>\n",
       "      <th>latitude</th>\n",
       "      <th>last_published_date</th>\n",
       "    </tr>\n",
       "  </thead>\n",
       "  <tbody>\n",
       "    <tr>\n",
       "      <th>0</th>\n",
       "      <td>Residential</td>\n",
       "      <td>https://st.zoocdn.com/zoopla_static_agent_logo...</td>\n",
       "      <td>gb</td>\n",
       "      <td>Terraced house</td>\n",
       "      <td>2</td>\n",
       "      <td>2</td>\n",
       "      <td>024 7662 0227</td>\n",
       "      <td>Warwickshire</td>\n",
       "      <td>Tomkinson Road</td>\n",
       "      <td>Nuneaton</td>\n",
       "      <td>sale</td>\n",
       "      <td>CV10</td>\n",
       "      <td>Bond Gate Chambers, Bond Gate, Nuneaton</td>\n",
       "      <td>https://www.zoopla.co.uk/for-sale/details/6446...</td>\n",
       "      <td>2</td>\n",
       "      <td>64462156</td>\n",
       "      <td>Tomkinson Road, Nuneaton CV10</td>\n",
       "      <td>https://lid.zoocdn.com/354/255/260b0fbca9f9ea4...</td>\n",
       "      <td>2023-04-22 08:33:46</td>\n",
       "      <td>None</td>\n",
       "      <td>Pointons Estate Agents</td>\n",
       "      <td>-1.487903</td>\n",
       "      <td>165000.0</td>\n",
       "      <td>***buy to let investors only tenants in situ ...</td>\n",
       "      <td>None</td>\n",
       "      <td>England</td>\n",
       "      <td>52.521416</td>\n",
       "      <td>2023-04-22 08:50:53</td>\n",
       "    </tr>\n",
       "    <tr>\n",
       "      <th>1</th>\n",
       "      <td>Residential</td>\n",
       "      <td>https://st.zoocdn.com/zoopla_static_agent_logo...</td>\n",
       "      <td>gb</td>\n",
       "      <td>Detached house</td>\n",
       "      <td>4</td>\n",
       "      <td>3</td>\n",
       "      <td>024 7513 1114</td>\n",
       "      <td>Warwickshire</td>\n",
       "      <td>277 The Long Shoot</td>\n",
       "      <td>Nuneaton</td>\n",
       "      <td>sale</td>\n",
       "      <td>CV11</td>\n",
       "      <td>1a - 4a Bond Gate Chambers, Nuneaton</td>\n",
       "      <td>https://www.zoopla.co.uk/for-sale/details/6445...</td>\n",
       "      <td>4</td>\n",
       "      <td>64459560</td>\n",
       "      <td>The Long Shoot, Nuneaton CV11</td>\n",
       "      <td>https://lid.zoocdn.com/354/255/abfc27ca46df8d6...</td>\n",
       "      <td>2023-04-21 17:31:08</td>\n",
       "      <td>None</td>\n",
       "      <td>Tom Bates Estate Agents</td>\n",
       "      <td>-1.421078</td>\n",
       "      <td>525000.0</td>\n",
       "      <td>\" incedible detached home with cinema room \" W...</td>\n",
       "      <td>None</td>\n",
       "      <td>England</td>\n",
       "      <td>52.535797</td>\n",
       "      <td>2023-04-21 20:28:04</td>\n",
       "    </tr>\n",
       "    <tr>\n",
       "      <th>2</th>\n",
       "      <td>Residential</td>\n",
       "      <td>https://st.zoocdn.com/zoopla_static_agent_logo...</td>\n",
       "      <td>gb</td>\n",
       "      <td>Detached bungalow</td>\n",
       "      <td>3</td>\n",
       "      <td>1</td>\n",
       "      <td>024 7662 0227</td>\n",
       "      <td>Warwickshire</td>\n",
       "      <td>Crossing Gates</td>\n",
       "      <td>Nuneaton</td>\n",
       "      <td>sale</td>\n",
       "      <td>CV11</td>\n",
       "      <td>Bond Gate Chambers, Bond Gate, Nuneaton</td>\n",
       "      <td>https://www.zoopla.co.uk/for-sale/details/6445...</td>\n",
       "      <td>1</td>\n",
       "      <td>64458751</td>\n",
       "      <td>Crossing Gates, Nuneaton CV11</td>\n",
       "      <td>https://lid.zoocdn.com/354/255/c9d88b69e108d57...</td>\n",
       "      <td>2023-04-21 16:27:48</td>\n",
       "      <td>None</td>\n",
       "      <td>Pointons Estate Agents</td>\n",
       "      <td>-1.454462</td>\n",
       "      <td>340000.0</td>\n",
       "      <td>Pointons are delighted to offer for sale show...</td>\n",
       "      <td>None</td>\n",
       "      <td>England</td>\n",
       "      <td>52.525795</td>\n",
       "      <td>2023-04-21 16:39:38</td>\n",
       "    </tr>\n",
       "    <tr>\n",
       "      <th>3</th>\n",
       "      <td>Residential</td>\n",
       "      <td>https://st.zoocdn.com/zoopla_static_agent_logo...</td>\n",
       "      <td>gb</td>\n",
       "      <td>Detached house</td>\n",
       "      <td>4</td>\n",
       "      <td>2</td>\n",
       "      <td>024 7511 9743</td>\n",
       "      <td>Warwickshire</td>\n",
       "      <td>Cliveden Walk</td>\n",
       "      <td>Nuneaton</td>\n",
       "      <td>sale</td>\n",
       "      <td>CV11</td>\n",
       "      <td>4 Hearsall Lane, Earlsdon, Coventry</td>\n",
       "      <td>https://www.zoopla.co.uk/for-sale/details/6445...</td>\n",
       "      <td>1</td>\n",
       "      <td>64456960</td>\n",
       "      <td>Cliveden Walk, Maple Park, Nuneaton CV11</td>\n",
       "      <td>https://lid.zoocdn.com/354/255/2f9a207a5b6ece8...</td>\n",
       "      <td>2023-04-21 14:35:46</td>\n",
       "      <td>None</td>\n",
       "      <td>Maison Estates Ltd</td>\n",
       "      <td>-1.450420</td>\n",
       "      <td>420000.0</td>\n",
       "      <td>***grande &amp; imposing 4 bedroom detached house...</td>\n",
       "      <td>None</td>\n",
       "      <td>England</td>\n",
       "      <td>52.502000</td>\n",
       "      <td>2023-04-21 14:35:46</td>\n",
       "    </tr>\n",
       "    <tr>\n",
       "      <th>4</th>\n",
       "      <td>Residential</td>\n",
       "      <td>https://st.zoocdn.com/zoopla_static_agent_logo...</td>\n",
       "      <td>gb</td>\n",
       "      <td>Detached house</td>\n",
       "      <td>3</td>\n",
       "      <td>0</td>\n",
       "      <td>0333 016 5458</td>\n",
       "      <td>Warwickshire</td>\n",
       "      <td>Moor Road</td>\n",
       "      <td>Nuneaton</td>\n",
       "      <td>sale</td>\n",
       "      <td>CV10</td>\n",
       "      <td>St George's House, 56 Peter Street, Manchester</td>\n",
       "      <td>https://www.zoopla.co.uk/for-sale/details/6445...</td>\n",
       "      <td>0</td>\n",
       "      <td>64451326</td>\n",
       "      <td>Moor Road, Nuneaton CV10</td>\n",
       "      <td>https://lid.zoocdn.com/354/255/e44f87a4df01d35...</td>\n",
       "      <td>2023-04-21 04:24:39</td>\n",
       "      <td>None</td>\n",
       "      <td>Express Estate Agency</td>\n",
       "      <td>-1.524742</td>\n",
       "      <td>300000.0</td>\n",
       "      <td>We are proud to present this Three Bedroom Det...</td>\n",
       "      <td>None</td>\n",
       "      <td>England</td>\n",
       "      <td>52.540840</td>\n",
       "      <td>2023-04-21 04:24:39</td>\n",
       "    </tr>\n",
       "  </tbody>\n",
       "</table>\n",
       "</div>"
      ],
      "text/plain": [
       "      category                                         agent_logo  \\\n",
       "0  Residential  https://st.zoocdn.com/zoopla_static_agent_logo...   \n",
       "1  Residential  https://st.zoocdn.com/zoopla_static_agent_logo...   \n",
       "2  Residential  https://st.zoocdn.com/zoopla_static_agent_logo...   \n",
       "3  Residential  https://st.zoocdn.com/zoopla_static_agent_logo...   \n",
       "4  Residential  https://st.zoocdn.com/zoopla_static_agent_logo...   \n",
       "\n",
       "  country_code      property_type  num_bedrooms  num_bathrooms    agent_phone  \\\n",
       "0           gb     Terraced house             2              2  024 7662 0227   \n",
       "1           gb     Detached house             4              3  024 7513 1114   \n",
       "2           gb  Detached bungalow             3              1  024 7662 0227   \n",
       "3           gb     Detached house             4              2  024 7511 9743   \n",
       "4           gb     Detached house             3              0  0333 016 5458   \n",
       "\n",
       "         county         street_name post_town listing_status outcode  \\\n",
       "0  Warwickshire      Tomkinson Road  Nuneaton           sale    CV10   \n",
       "1  Warwickshire  277 The Long Shoot  Nuneaton           sale    CV11   \n",
       "2  Warwickshire      Crossing Gates  Nuneaton           sale    CV11   \n",
       "3  Warwickshire       Cliveden Walk  Nuneaton           sale    CV11   \n",
       "4  Warwickshire           Moor Road  Nuneaton           sale    CV10   \n",
       "\n",
       "                                    agent_address  \\\n",
       "0         Bond Gate Chambers, Bond Gate, Nuneaton   \n",
       "1            1a - 4a Bond Gate Chambers, Nuneaton   \n",
       "2         Bond Gate Chambers, Bond Gate, Nuneaton   \n",
       "3             4 Hearsall Lane, Earlsdon, Coventry   \n",
       "4  St George's House, 56 Peter Street, Manchester   \n",
       "\n",
       "                                         details_url  num_recepts listing_id  \\\n",
       "0  https://www.zoopla.co.uk/for-sale/details/6446...            2   64462156   \n",
       "1  https://www.zoopla.co.uk/for-sale/details/6445...            4   64459560   \n",
       "2  https://www.zoopla.co.uk/for-sale/details/6445...            1   64458751   \n",
       "3  https://www.zoopla.co.uk/for-sale/details/6445...            1   64456960   \n",
       "4  https://www.zoopla.co.uk/for-sale/details/6445...            0   64451326   \n",
       "\n",
       "                        displayable_address  \\\n",
       "0             Tomkinson Road, Nuneaton CV10   \n",
       "1             The Long Shoot, Nuneaton CV11   \n",
       "2             Crossing Gates, Nuneaton CV11   \n",
       "3  Cliveden Walk, Maple Park, Nuneaton CV11   \n",
       "4                  Moor Road, Nuneaton CV10   \n",
       "\n",
       "                                           image_url first_published_date  \\\n",
       "0  https://lid.zoocdn.com/354/255/260b0fbca9f9ea4...  2023-04-22 08:33:46   \n",
       "1  https://lid.zoocdn.com/354/255/abfc27ca46df8d6...  2023-04-21 17:31:08   \n",
       "2  https://lid.zoocdn.com/354/255/c9d88b69e108d57...  2023-04-21 16:27:48   \n",
       "3  https://lid.zoocdn.com/354/255/2f9a207a5b6ece8...  2023-04-21 14:35:46   \n",
       "4  https://lid.zoocdn.com/354/255/e44f87a4df01d35...  2023-04-21 04:24:39   \n",
       "\n",
       "  price_modifier               agent_name  longitude     price  \\\n",
       "0           None   Pointons Estate Agents  -1.487903  165000.0   \n",
       "1           None  Tom Bates Estate Agents  -1.421078  525000.0   \n",
       "2           None   Pointons Estate Agents  -1.454462  340000.0   \n",
       "3           None       Maison Estates Ltd  -1.450420  420000.0   \n",
       "4           None    Express Estate Agency  -1.524742  300000.0   \n",
       "\n",
       "                                         description floor_plan  country  \\\n",
       "0   ***buy to let investors only tenants in situ ...       None  England   \n",
       "1  \" incedible detached home with cinema room \" W...       None  England   \n",
       "2   Pointons are delighted to offer for sale show...       None  England   \n",
       "3   ***grande & imposing 4 bedroom detached house...       None  England   \n",
       "4  We are proud to present this Three Bedroom Det...       None  England   \n",
       "\n",
       "    latitude last_published_date  \n",
       "0  52.521416 2023-04-22 08:50:53  \n",
       "1  52.535797 2023-04-21 20:28:04  \n",
       "2  52.525795 2023-04-21 16:39:38  \n",
       "3  52.502000 2023-04-21 14:35:46  \n",
       "4  52.540840 2023-04-21 04:24:39  "
      ]
     },
     "execution_count": 6,
     "metadata": {},
     "output_type": "execute_result"
    }
   ],
   "source": [
    "zoopla_df.head()"
   ]
  },
  {
   "cell_type": "code",
   "execution_count": 7,
   "metadata": {},
   "outputs": [
    {
     "data": {
      "text/plain": [
       "(728, 28)"
      ]
     },
     "execution_count": 7,
     "metadata": {},
     "output_type": "execute_result"
    }
   ],
   "source": [
    "zoopla_df.shape"
   ]
  },
  {
   "cell_type": "markdown",
   "metadata": {},
   "source": [
    "### Save to csv file, appending current date"
   ]
  },
  {
   "cell_type": "code",
   "execution_count": 8,
   "metadata": {},
   "outputs": [],
   "source": [
    "today = date.today()\n",
    "\n",
    "date_stamp = today.strftime(\"%d%m%Y\")"
   ]
  },
  {
   "cell_type": "code",
   "execution_count": 9,
   "metadata": {},
   "outputs": [],
   "source": [
    "try:\n",
    "    os.mkdir(SAVE_FOLDER)\n",
    "except OSError:\n",
    "    pass\n",
    "\n",
    "save_file = os.path.join(SAVE_FOLDER, f'zoopla_properties_{AREA.lower()}_{date_stamp}.csv')\n",
    "\n",
    "zoopla_df.to_csv(save_file, index=False)"
   ]
  },
  {
   "cell_type": "code",
   "execution_count": null,
   "metadata": {},
   "outputs": [],
   "source": []
  }
 ],
 "metadata": {
  "kernelspec": {
   "display_name": "Python 3 (ipykernel)",
   "language": "python",
   "name": "python3"
  },
  "language_info": {
   "codemirror_mode": {
    "name": "ipython",
    "version": 3
   },
   "file_extension": ".py",
   "mimetype": "text/x-python",
   "name": "python",
   "nbconvert_exporter": "python",
   "pygments_lexer": "ipython3",
   "version": "3.11.0"
  }
 },
 "nbformat": 4,
 "nbformat_minor": 4
}
