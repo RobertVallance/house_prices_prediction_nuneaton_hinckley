{
 "cells": [
  {
   "cell_type": "code",
   "execution_count": null,
   "metadata": {},
   "outputs": [],
   "source": [
    "from sklearn.cluster import KMeans"
   ]
  },
  {
   "cell_type": "code",
   "execution_count": null,
   "metadata": {},
   "outputs": [],
   "source": [
    "# make inertia plot\n",
    "kmeans_info = {}\n",
    "inertia_array = []\n",
    "\n",
    "\n",
    "for k in range(2, 20):\n",
    "    kmeans_k = KMeans(k, random_state=101)\n",
    "    kmeans_k.fit(zoopla_df[['latitude', 'longitude']])\n",
    "    kmeans_info[k] = kmeans_k\n",
    "    inertia_array.append(kmeans_k.inertia_)\n",
    "    \n",
    "import matplotlib.pyplot as plt\n",
    "%matplotlib inline\n",
    "plt.figure(figsize=(10,7))\n",
    "plt.plot(range(2,20), inertia_array)\n",
    "plt.title('Elbow plot for K-Means using longitude and latitude variables')\n",
    "plt.xlabel('K')\n",
    "plt.ylabel('Inertia')\n",
    "plt.show()\n",
    "kmeans.labels_\n",
    "\n",
    "import seaborn as sns\n",
    "plt.figure(figsize=(10,10))\n",
    "sns.scatterplot(data=zoopla_df, x='latitude', y='longitude', hue=kmeans_info[10].labels_, \n",
    "                palette='rainbow', s=50, legend=None)\n",
    "sns.scatterplot(x=kmeans_info[10].cluster_centers_[:,0], y=kmeans_info[10].cluster_centers_[:,1], \n",
    "                color='k', s=100, label='Cluster Centre')\n",
    "plt.title('Co-ordinates of properties, put into K-Means clusters')\n",
    "plt.legend(fontsize=10)\n",
    "plt.show()\n"
   ]
  }
 ],
 "metadata": {
  "kernelspec": {
   "display_name": "Python 3",
   "language": "python",
   "name": "python3"
  },
  "language_info": {
   "codemirror_mode": {
    "name": "ipython",
    "version": 3
   },
   "file_extension": ".py",
   "mimetype": "text/x-python",
   "name": "python",
   "nbconvert_exporter": "python",
   "pygments_lexer": "ipython3",
   "version": "3.8.6"
  }
 },
 "nbformat": 4,
 "nbformat_minor": 4
}
