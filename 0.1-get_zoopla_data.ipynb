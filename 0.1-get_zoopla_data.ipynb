{
 "cells": [
  {
   "cell_type": "markdown",
   "metadata": {},
   "source": [
    "# Get Zoopla Data\n",
    "Use the Zoopla API to pull current house listings"
   ]
  },
  {
   "cell_type": "code",
   "execution_count": 1,
   "metadata": {},
   "outputs": [
    {
     "name": "stderr",
     "output_type": "stream",
     "text": [
      "/home/robertv/anaconda3/envs/datascience/lib/python3.8/site-packages/marshmallow/schema.py:200: ChangedInMarshmallow3Warning: The dateformat option is renamed to datetimeformat in marshmallow 3.\n",
      "  warnings.warn(\n"
     ]
    }
   ],
   "source": [
    "import os\n",
    "import math\n",
    "import pandas as pd\n",
    "pd.set_option('display.max_columns', 100)\n",
    "from zoopla import Zoopla"
   ]
  },
  {
   "cell_type": "code",
   "execution_count": 2,
   "metadata": {},
   "outputs": [],
   "source": [
    "# Call an instance of Zoopla with the secret API key\n",
    "zoopla_instance = Zoopla(api_key=os.environ['ZOOPLA_API_KEY'])"
   ]
  },
  {
   "cell_type": "markdown",
   "metadata": {},
   "source": [
    "### Download property data for Nuneaton or Hinckley, including recently sold properties"
   ]
  },
  {
   "cell_type": "markdown",
   "metadata": {},
   "source": [
    "First get total number of properties - we can only access a maximum of 100 results per call, so will need to call the API multiple times"
   ]
  },
  {
   "cell_type": "code",
   "execution_count": 3,
   "metadata": {},
   "outputs": [],
   "source": [
    "AREA = 'Hinckley'\n",
    "SAVE_FOLDER = os.path.join('data', 'raw')\n",
    "PAGE_SIZE = 100"
   ]
  },
  {
   "cell_type": "code",
   "execution_count": 4,
   "metadata": {},
   "outputs": [
    {
     "name": "stdout",
     "output_type": "stream",
     "text": [
      "Number of Hinckley properties = 292\n"
     ]
    }
   ],
   "source": [
    "properties = zoopla_instance.property_listings({\n",
    "    'area': AREA,\n",
    "    'order_by': 'age',\n",
    "    'listing_status': 'sale',\n",
    "    'include_sold': '1',\n",
    "    'summarised': 'yes',\n",
    "    'page_size': PAGE_SIZE\n",
    "})\n",
    "\n",
    "number_properties = properties['result_count']\n",
    "\n",
    "print(f'Number of {AREA} properties = {number_properties}')"
   ]
  },
  {
   "cell_type": "markdown",
   "metadata": {},
   "source": [
    "Now get all properties for the area and concatenate into a dataframe"
   ]
  },
  {
   "cell_type": "code",
   "execution_count": 5,
   "metadata": {},
   "outputs": [],
   "source": [
    "number_pages = math.ceil(number_properties/PAGE_SIZE)\n",
    "\n",
    "for i in range(number_pages):\n",
    "    properties = zoopla_instance.property_listings({\n",
    "        'area': AREA,\n",
    "        'order_by': 'age',\n",
    "        'listing_status': 'sale',\n",
    "        'include_sold': '1',\n",
    "        'summarised': 'yes',\n",
    "        'page_size': PAGE_SIZE,\n",
    "        'page_number': i+1\n",
    "    })\n",
    "    \n",
    "    zoopla_df_tmp = pd.DataFrame.from_records(properties.listing)\n",
    "    \n",
    "    # loop over pages and concatenate into a pandas dataframe\n",
    "    if i == 0:\n",
    "        zoopla_df = zoopla_df_tmp\n",
    "    else:\n",
    "        zoopla_df = pd.concat([zoopla_df, zoopla_df_tmp], axis=0)"
   ]
  },
  {
   "cell_type": "markdown",
   "metadata": {},
   "source": [
    "### Quick check of the data"
   ]
  },
  {
   "cell_type": "code",
   "execution_count": 6,
   "metadata": {
    "scrolled": true
   },
   "outputs": [
    {
     "data": {
      "text/html": [
       "<div>\n",
       "<style scoped>\n",
       "    .dataframe tbody tr th:only-of-type {\n",
       "        vertical-align: middle;\n",
       "    }\n",
       "\n",
       "    .dataframe tbody tr th {\n",
       "        vertical-align: top;\n",
       "    }\n",
       "\n",
       "    .dataframe thead th {\n",
       "        text-align: right;\n",
       "    }\n",
       "</style>\n",
       "<table border=\"1\" class=\"dataframe\">\n",
       "  <thead>\n",
       "    <tr style=\"text-align: right;\">\n",
       "      <th></th>\n",
       "      <th>details_url</th>\n",
       "      <th>agent_phone</th>\n",
       "      <th>description</th>\n",
       "      <th>agent_address</th>\n",
       "      <th>latitude</th>\n",
       "      <th>longitude</th>\n",
       "      <th>outcode</th>\n",
       "      <th>country_code</th>\n",
       "      <th>num_bathrooms</th>\n",
       "      <th>listing_status</th>\n",
       "      <th>property_type</th>\n",
       "      <th>listing_id</th>\n",
       "      <th>num_recepts</th>\n",
       "      <th>post_town</th>\n",
       "      <th>displayable_address</th>\n",
       "      <th>floor_plan</th>\n",
       "      <th>image_url</th>\n",
       "      <th>street_name</th>\n",
       "      <th>agent_name</th>\n",
       "      <th>county</th>\n",
       "      <th>price_modifier</th>\n",
       "      <th>first_published_date</th>\n",
       "      <th>country</th>\n",
       "      <th>last_published_date</th>\n",
       "      <th>price</th>\n",
       "      <th>category</th>\n",
       "      <th>num_bedrooms</th>\n",
       "      <th>agent_logo</th>\n",
       "    </tr>\n",
       "  </thead>\n",
       "  <tbody>\n",
       "    <tr>\n",
       "      <th>0</th>\n",
       "      <td>https://www.zoopla.co.uk/for-sale/details/6388...</td>\n",
       "      <td>01455 886081</td>\n",
       "      <td>Attractive extended traditional bay fronted s...</td>\n",
       "      <td>98 Castle Street, Hinckley</td>\n",
       "      <td>52.538830</td>\n",
       "      <td>-1.396291</td>\n",
       "      <td>LE10</td>\n",
       "      <td>gb</td>\n",
       "      <td>1</td>\n",
       "      <td>sale</td>\n",
       "      <td>Semi-detached house</td>\n",
       "      <td>63884099</td>\n",
       "      <td>2</td>\n",
       "      <td>Hinckley</td>\n",
       "      <td>Langdale Road, Hinckley LE10</td>\n",
       "      <td>None</td>\n",
       "      <td>https://lid.zoocdn.com/354/255/c9c518b9e9bd024...</td>\n",
       "      <td>Langdale Road</td>\n",
       "      <td>Scrivins &amp; Co Estate Agents &amp; Letting Agents</td>\n",
       "      <td>Leicestershire</td>\n",
       "      <td>None</td>\n",
       "      <td>2023-02-04 11:38:12</td>\n",
       "      <td>England</td>\n",
       "      <td>2023-02-04 11:39:32</td>\n",
       "      <td>260000.0</td>\n",
       "      <td>Residential</td>\n",
       "      <td>3</td>\n",
       "      <td>https://st.zoocdn.com/zoopla_static_agent_logo...</td>\n",
       "    </tr>\n",
       "    <tr>\n",
       "      <th>1</th>\n",
       "      <td>https://www.zoopla.co.uk/for-sale/details/6387...</td>\n",
       "      <td>01455 364814</td>\n",
       "      <td>** viewing essential ** A beautifully present...</td>\n",
       "      <td>112 Castle Street, Hinckley</td>\n",
       "      <td>52.548298</td>\n",
       "      <td>-1.353169</td>\n",
       "      <td>LE10</td>\n",
       "      <td>gb</td>\n",
       "      <td>4</td>\n",
       "      <td>sale</td>\n",
       "      <td>Detached house</td>\n",
       "      <td>63878342</td>\n",
       "      <td>2</td>\n",
       "      <td>Hinckley</td>\n",
       "      <td>Bradgate Gardens, Hinckley LE10</td>\n",
       "      <td>None</td>\n",
       "      <td>https://lid.zoocdn.com/354/255/e2c80f945cd69da...</td>\n",
       "      <td>Bradgate Gardens</td>\n",
       "      <td>Castle Estates</td>\n",
       "      <td>Leicestershire</td>\n",
       "      <td>offers_over</td>\n",
       "      <td>2023-02-03 15:54:45</td>\n",
       "      <td>England</td>\n",
       "      <td>2023-02-04 09:42:14</td>\n",
       "      <td>450000.0</td>\n",
       "      <td>Residential</td>\n",
       "      <td>5</td>\n",
       "      <td>https://st.zoocdn.com/zoopla_static_agent_logo...</td>\n",
       "    </tr>\n",
       "    <tr>\n",
       "      <th>2</th>\n",
       "      <td>https://www.zoopla.co.uk/for-sale/details/6387...</td>\n",
       "      <td>01455 364814</td>\n",
       "      <td>**viewing essential ** A well appointed semi ...</td>\n",
       "      <td>112 Castle Street, Hinckley</td>\n",
       "      <td>52.552856</td>\n",
       "      <td>-1.375555</td>\n",
       "      <td>LE10</td>\n",
       "      <td>gb</td>\n",
       "      <td>1</td>\n",
       "      <td>sale</td>\n",
       "      <td>Semi-detached house</td>\n",
       "      <td>63874929</td>\n",
       "      <td>2</td>\n",
       "      <td>Hinckley</td>\n",
       "      <td>York Road, Hinckley LE10</td>\n",
       "      <td>None</td>\n",
       "      <td>https://lid.zoocdn.com/354/255/4fd00c679828a04...</td>\n",
       "      <td>York Road</td>\n",
       "      <td>Castle Estates</td>\n",
       "      <td>Leicestershire</td>\n",
       "      <td>offers_over</td>\n",
       "      <td>2023-02-03 11:20:13</td>\n",
       "      <td>England</td>\n",
       "      <td>2023-02-03 13:17:45</td>\n",
       "      <td>280000.0</td>\n",
       "      <td>Residential</td>\n",
       "      <td>3</td>\n",
       "      <td>https://st.zoocdn.com/zoopla_static_agent_logo...</td>\n",
       "    </tr>\n",
       "    <tr>\n",
       "      <th>3</th>\n",
       "      <td>https://www.zoopla.co.uk/for-sale/details/6387...</td>\n",
       "      <td>01455 364026</td>\n",
       "      <td>An immaculately maintained tastefully decorat...</td>\n",
       "      <td>28-30 New Buildings, Hinckley</td>\n",
       "      <td>52.534348</td>\n",
       "      <td>-1.392864</td>\n",
       "      <td>LE10</td>\n",
       "      <td>gb</td>\n",
       "      <td>1</td>\n",
       "      <td>sale</td>\n",
       "      <td>Semi-detached house</td>\n",
       "      <td>63871971</td>\n",
       "      <td>1</td>\n",
       "      <td>Hinckley</td>\n",
       "      <td>Strathmore Road, Hinckley LE10</td>\n",
       "      <td>None</td>\n",
       "      <td>https://lid.zoocdn.com/354/255/31105260d73c332...</td>\n",
       "      <td>Strathmore Road</td>\n",
       "      <td>Profiles</td>\n",
       "      <td>Leicestershire</td>\n",
       "      <td>offers_in_region_of</td>\n",
       "      <td>2023-02-02 22:07:06</td>\n",
       "      <td>England</td>\n",
       "      <td>2023-02-02 22:07:06</td>\n",
       "      <td>260000.0</td>\n",
       "      <td>Residential</td>\n",
       "      <td>3</td>\n",
       "      <td>https://st.zoocdn.com/zoopla_static_agent_logo...</td>\n",
       "    </tr>\n",
       "    <tr>\n",
       "      <th>4</th>\n",
       "      <td>https://www.zoopla.co.uk/for-sale/details/6152...</td>\n",
       "      <td>01455 364871</td>\n",
       "      <td>You're sure to be impressed when you enter thi...</td>\n",
       "      <td>84 Castle Steet, Hinckley</td>\n",
       "      <td>52.546017</td>\n",
       "      <td>-1.386440</td>\n",
       "      <td>LE10</td>\n",
       "      <td>gb</td>\n",
       "      <td>1</td>\n",
       "      <td>sale</td>\n",
       "      <td>Bungalow</td>\n",
       "      <td>61524804</td>\n",
       "      <td>1</td>\n",
       "      <td>Hinckley</td>\n",
       "      <td>Aulton Way, Hinckley, Leicestershire LE10</td>\n",
       "      <td>None</td>\n",
       "      <td>https://lid.zoocdn.com/354/255/88ccf710c285162...</td>\n",
       "      <td>Aulton Way</td>\n",
       "      <td>Your Move - Hinckley</td>\n",
       "      <td>Leicestershire</td>\n",
       "      <td>None</td>\n",
       "      <td>2023-02-01 18:08:21</td>\n",
       "      <td>England</td>\n",
       "      <td>2023-02-01 18:08:21</td>\n",
       "      <td>315000.0</td>\n",
       "      <td>Residential</td>\n",
       "      <td>3</td>\n",
       "      <td>https://st.zoocdn.com/zoopla_static_agent_logo...</td>\n",
       "    </tr>\n",
       "  </tbody>\n",
       "</table>\n",
       "</div>"
      ],
      "text/plain": [
       "                                         details_url   agent_phone  \\\n",
       "0  https://www.zoopla.co.uk/for-sale/details/6388...  01455 886081   \n",
       "1  https://www.zoopla.co.uk/for-sale/details/6387...  01455 364814   \n",
       "2  https://www.zoopla.co.uk/for-sale/details/6387...  01455 364814   \n",
       "3  https://www.zoopla.co.uk/for-sale/details/6387...  01455 364026   \n",
       "4  https://www.zoopla.co.uk/for-sale/details/6152...  01455 364871   \n",
       "\n",
       "                                         description  \\\n",
       "0   Attractive extended traditional bay fronted s...   \n",
       "1   ** viewing essential ** A beautifully present...   \n",
       "2   **viewing essential ** A well appointed semi ...   \n",
       "3   An immaculately maintained tastefully decorat...   \n",
       "4  You're sure to be impressed when you enter thi...   \n",
       "\n",
       "                   agent_address   latitude  longitude outcode country_code  \\\n",
       "0     98 Castle Street, Hinckley  52.538830  -1.396291    LE10           gb   \n",
       "1    112 Castle Street, Hinckley  52.548298  -1.353169    LE10           gb   \n",
       "2    112 Castle Street, Hinckley  52.552856  -1.375555    LE10           gb   \n",
       "3  28-30 New Buildings, Hinckley  52.534348  -1.392864    LE10           gb   \n",
       "4      84 Castle Steet, Hinckley  52.546017  -1.386440    LE10           gb   \n",
       "\n",
       "   num_bathrooms listing_status        property_type listing_id  num_recepts  \\\n",
       "0              1           sale  Semi-detached house   63884099            2   \n",
       "1              4           sale       Detached house   63878342            2   \n",
       "2              1           sale  Semi-detached house   63874929            2   \n",
       "3              1           sale  Semi-detached house   63871971            1   \n",
       "4              1           sale             Bungalow   61524804            1   \n",
       "\n",
       "  post_town                        displayable_address floor_plan  \\\n",
       "0  Hinckley               Langdale Road, Hinckley LE10       None   \n",
       "1  Hinckley            Bradgate Gardens, Hinckley LE10       None   \n",
       "2  Hinckley                   York Road, Hinckley LE10       None   \n",
       "3  Hinckley             Strathmore Road, Hinckley LE10       None   \n",
       "4  Hinckley  Aulton Way, Hinckley, Leicestershire LE10       None   \n",
       "\n",
       "                                           image_url       street_name  \\\n",
       "0  https://lid.zoocdn.com/354/255/c9c518b9e9bd024...     Langdale Road   \n",
       "1  https://lid.zoocdn.com/354/255/e2c80f945cd69da...  Bradgate Gardens   \n",
       "2  https://lid.zoocdn.com/354/255/4fd00c679828a04...         York Road   \n",
       "3  https://lid.zoocdn.com/354/255/31105260d73c332...   Strathmore Road   \n",
       "4  https://lid.zoocdn.com/354/255/88ccf710c285162...        Aulton Way   \n",
       "\n",
       "                                     agent_name          county  \\\n",
       "0  Scrivins & Co Estate Agents & Letting Agents  Leicestershire   \n",
       "1                                Castle Estates  Leicestershire   \n",
       "2                                Castle Estates  Leicestershire   \n",
       "3                                      Profiles  Leicestershire   \n",
       "4                          Your Move - Hinckley  Leicestershire   \n",
       "\n",
       "        price_modifier first_published_date  country last_published_date  \\\n",
       "0                 None  2023-02-04 11:38:12  England 2023-02-04 11:39:32   \n",
       "1          offers_over  2023-02-03 15:54:45  England 2023-02-04 09:42:14   \n",
       "2          offers_over  2023-02-03 11:20:13  England 2023-02-03 13:17:45   \n",
       "3  offers_in_region_of  2023-02-02 22:07:06  England 2023-02-02 22:07:06   \n",
       "4                 None  2023-02-01 18:08:21  England 2023-02-01 18:08:21   \n",
       "\n",
       "      price     category  num_bedrooms  \\\n",
       "0  260000.0  Residential             3   \n",
       "1  450000.0  Residential             5   \n",
       "2  280000.0  Residential             3   \n",
       "3  260000.0  Residential             3   \n",
       "4  315000.0  Residential             3   \n",
       "\n",
       "                                          agent_logo  \n",
       "0  https://st.zoocdn.com/zoopla_static_agent_logo...  \n",
       "1  https://st.zoocdn.com/zoopla_static_agent_logo...  \n",
       "2  https://st.zoocdn.com/zoopla_static_agent_logo...  \n",
       "3  https://st.zoocdn.com/zoopla_static_agent_logo...  \n",
       "4  https://st.zoocdn.com/zoopla_static_agent_logo...  "
      ]
     },
     "execution_count": 6,
     "metadata": {},
     "output_type": "execute_result"
    }
   ],
   "source": [
    "zoopla_df.head()"
   ]
  },
  {
   "cell_type": "code",
   "execution_count": 7,
   "metadata": {},
   "outputs": [
    {
     "data": {
      "text/plain": [
       "(292, 28)"
      ]
     },
     "execution_count": 7,
     "metadata": {},
     "output_type": "execute_result"
    }
   ],
   "source": [
    "zoopla_df.shape"
   ]
  },
  {
   "cell_type": "markdown",
   "metadata": {},
   "source": [
    "### Save to csv file"
   ]
  },
  {
   "cell_type": "code",
   "execution_count": 8,
   "metadata": {},
   "outputs": [],
   "source": [
    "try:\n",
    "    os.mkdir(SAVE_FOLDER)\n",
    "except OSError:\n",
    "    pass\n",
    "\n",
    "save_file = os.path.join(SAVE_FOLDER, f'zoopla_properties_{AREA.lower()}.csv')\n",
    "    \n",
    "zoopla_df.to_csv(save_file, index=False)"
   ]
  },
  {
   "cell_type": "code",
   "execution_count": null,
   "metadata": {},
   "outputs": [],
   "source": []
  }
 ],
 "metadata": {
  "kernelspec": {
   "display_name": "Python 3",
   "language": "python",
   "name": "python3"
  },
  "language_info": {
   "codemirror_mode": {
    "name": "ipython",
    "version": 3
   },
   "file_extension": ".py",
   "mimetype": "text/x-python",
   "name": "python",
   "nbconvert_exporter": "python",
   "pygments_lexer": "ipython3",
   "version": "3.8.6"
  }
 },
 "nbformat": 4,
 "nbformat_minor": 4
}
